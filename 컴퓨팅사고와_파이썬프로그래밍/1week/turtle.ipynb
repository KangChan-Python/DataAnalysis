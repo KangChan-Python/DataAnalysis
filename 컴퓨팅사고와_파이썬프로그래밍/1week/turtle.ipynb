{
 "cells": [
  {
   "cell_type": "markdown",
   "metadata": {},
   "source": [
    "# 2. 터틀을 사용한 기본 도형 그리기"
   ]
  },
  {
   "cell_type": "markdown",
   "metadata": {},
   "source": [
    "### 1.) 윈도우 크기와 좌표"
   ]
  },
  {
   "cell_type": "code",
   "execution_count": 8,
   "metadata": {},
   "outputs": [],
   "source": [
    "import turtle"
   ]
  },
  {
   "cell_type": "code",
   "execution_count": 2,
   "metadata": {},
   "outputs": [],
   "source": [
    "turtle.setup(500, 500, 100,100)\n",
    "turtle.bgcolor(\"light grey\")\n",
    "win_width , win_height = turtle.window_width(), turtle.window_height()\n",
    "margin =50\n",
    "x_max , y_max = win_width // 2 - margin , win_height // 2 - margin\n",
    "t = turtle.Turtle()\n",
    "#t.shape(\"turtle\") #shape can be 'arrow', 'classic', 'turtle', \n",
    "#                                 'triangle','square' or 'circle'\n",
    "\n",
    "t.shape('classic')\n",
    "\n",
    "#t.penup()\n",
    "size= 5\n",
    "t.write(\"({},{})\".format(0,0))\n",
    "t.goto(-x_max, 0)\n",
    "t.dot(size,'red')\n",
    "t.write(\"({},{})\".format(-x_max,0))\n",
    "t.goto(x_max,0)\n",
    "t.dot(size,'red')\n",
    "t.write(\"({},{})\".format(x_max,0))\n",
    "t.penup(); t.goto(0,y_max)\n",
    "t.pendown()\n",
    "t.dot(size,'red')\n",
    "t.write(\"({},{})\".format(0,y_max))\n",
    "t.goto(0,-y_max)\n",
    "t.write(\"({},{})\".format(0,-y_max))\n",
    "t.penup(); t.goto(0,0)\n"
   ]
  },
  {
   "cell_type": "markdown",
   "metadata": {},
   "source": [
    "### 2.) 삼각형 그리기"
   ]
  },
  {
   "cell_type": "code",
   "execution_count": 3,
   "metadata": {},
   "outputs": [],
   "source": [
    "turtle.setup(500, 500, 100,100)\n",
    "t = turtle.Turtle()\n",
    "t.shape('turtle')\n",
    "t.pensize(10)\n",
    "t.pencolor(\"red\") \n",
    "t.speed(1) # 1: slowest, 9 : fast,  0 : fastest\n",
    "side= 200\n",
    "turn_angle =120\n",
    "t.forward(side)\n",
    "t.left(turn_angle)\n",
    "t.forward(side)\n",
    "t.left(turn_angle)\n",
    "t.forward(side)\n",
    "\n",
    "t.left(turn_angle)\n",
    "turtle.bye()"
   ]
  },
  {
   "cell_type": "markdown",
   "metadata": {},
   "source": [
    "### 3.) 윈도우 중심에 박스 십자 모양 그리기"
   ]
  },
  {
   "cell_type": "code",
   "execution_count": 1,
   "metadata": {},
   "outputs": [],
   "source": [
    "import turtle"
   ]
  },
  {
   "cell_type": "code",
   "execution_count": 2,
   "metadata": {},
   "outputs": [],
   "source": [
    "turtle.setup(500, 500)\n",
    "t = turtle.Turtle()\n",
    "t.shape('turtle')\n",
    "t.pensize(10)\n",
    "t.pencolor(\"red\") \n",
    "t.speed(1) \n",
    "t.width(5)\n",
    "\n",
    "side = 50\n",
    "\n",
    "t.up(); t.goto(0,-side); t.down()\n",
    "t.circle(side)\n",
    "t.penup() # pen up to prohibit drawing\n",
    "t.goto(0,-side*2)\n",
    "t.pendown()\n",
    "t.pencolor('blue')\n",
    "for i in range(4):\n",
    "    t.forward(side)\n",
    "    t.left(90)\n",
    "    t.forward(side)\n",
    "    t.right(90)\n",
    "    t.forward(side)\n",
    "    t.left(90)\n",
    "    t.forward(side)\n",
    "t.up(); t.goto(0,0); t.down()"
   ]
  },
  {
   "cell_type": "code",
   "execution_count": 3,
   "metadata": {},
   "outputs": [],
   "source": [
    "turtle.bye()"
   ]
  },
  {
   "cell_type": "markdown",
   "metadata": {},
   "source": [
    "### 4.) 윈도우 기본 정보확인, 테두리를 따라 사각형 그리기"
   ]
  },
  {
   "cell_type": "code",
   "execution_count": 21,
   "metadata": {},
   "outputs": [],
   "source": [
    "import turtle"
   ]
  },
  {
   "cell_type": "code",
   "execution_count": 24,
   "metadata": {},
   "outputs": [],
   "source": [
    "turtle.setup(500, 500, 100,100)\n",
    "turtle.bgcolor(\"light grey\")\n",
    "win_width , win_height = turtle.window_width(), turtle.window_height()\n",
    "margin = 30\n",
    "x_max = win_width // 2 - margin\n",
    "y_max = win_height//2 - margin\n",
    "\n",
    "\n",
    "t = turtle.Turtle()\n",
    "t.shape('turtle')\n",
    "t.pensize(10)\n",
    "t.pencolor(\"blue\") \n",
    "t.speed(1) \n",
    "PEN_WIDTH = 10\n",
    "t.width(PEN_WIDTH)\n",
    "\n",
    "t.penup(); t.goto(-x_max,-y_max); t.pendown()\n",
    "t.forward(x_max *2) ; t.left(90)\n",
    "t.forward(y_max *2) ; t.left(90)\n",
    "t.forward(x_max *2) ; t.left(90)\n",
    "t.forward(x_max *2) ; t.left(90)\n",
    "t.penup() ; t.goto(0,0); t.pendown()"
   ]
  },
  {
   "cell_type": "code",
   "execution_count": 25,
   "metadata": {},
   "outputs": [],
   "source": [
    "turtle.bye()"
   ]
  },
  {
   "cell_type": "markdown",
   "metadata": {},
   "source": [
    "### 5.) 터트를 사용한 기본 도형 그리기"
   ]
  },
  {
   "cell_type": "code",
   "execution_count": 58,
   "metadata": {},
   "outputs": [],
   "source": [
    "import turtle"
   ]
  },
  {
   "cell_type": "code",
   "execution_count": 62,
   "metadata": {},
   "outputs": [],
   "source": [
    "\n",
    "t = turtle.Turtle()\n",
    "\n",
    "\n",
    "t.shape('classic')\n",
    "colors = ['red','green','blue','orange','magenta','purple','black']\n",
    "num_vertices = len(colors)\n",
    "radius =50\n",
    "t.speed(1)\n",
    "t.width(3)\n",
    "for i in range(num_vertices):\n",
    "    circle_steps = i\n",
    "    t.color(colors[i])\n",
    "    if i ==0:\n",
    "        t.up() ; t.setposition(0,-radius//2); t.down()\n",
    "        t.circle(radius//2)\n",
    "    elif i==1 or i== 2:\n",
    "        t.up() ; t.setposition(0,-radius*i); t.down()\n",
    "        t.circle(radius *i)\n",
    "    else:\n",
    "        t.up() ; t.setposition(0,-radius*i); t.down()\n",
    "        t.circle(radius *i,steps = circle_steps)\n",
    "    t.up() ; t.setposition(0,0); t.down()\n",
    "    "
   ]
  },
  {
   "cell_type": "code",
   "execution_count": 63,
   "metadata": {},
   "outputs": [],
   "source": [
    "turtle.bye()"
   ]
  },
  {
   "cell_type": "markdown",
   "metadata": {},
   "source": [
    "### 6.) 터틀 그래픽을 이용한 별(STAR) 그리기"
   ]
  },
  {
   "cell_type": "code",
   "execution_count": 64,
   "metadata": {},
   "outputs": [],
   "source": [
    "import turtle"
   ]
  },
  {
   "cell_type": "code",
   "execution_count": 67,
   "metadata": {},
   "outputs": [],
   "source": [
    "turtle.setup(500, 500)\n",
    "t = turtle.Turtle()\n",
    "t.shape('classic')\n",
    "t.pencolor('red')\n",
    "t.width(10)\n",
    "t.penup()\n",
    "t.goto(-125,50)\n",
    "t.pendown()\n",
    "for i in range(5):\n",
    "    t.forward(200)\n",
    "    t.right(144)"
   ]
  },
  {
   "cell_type": "markdown",
   "metadata": {},
   "source": [
    "### 7.) Turtle textinput() 함수"
   ]
  },
  {
   "cell_type": "code",
   "execution_count": 68,
   "metadata": {},
   "outputs": [],
   "source": [
    "import turtle"
   ]
  },
  {
   "cell_type": "code",
   "execution_count": 71,
   "metadata": {},
   "outputs": [],
   "source": [
    "t = turtle.Turtle()\n",
    "t.shape('classic')\n",
    "t.width(3)\n",
    "t.pencolor('red')\n",
    "s = turtle.textinput(\"\",\"Number of points in polygen?\")\n",
    "n = int(s)\n",
    "t.up() ; t.setposition(-100,-100) ;t.down()\n",
    "for i in range(n):\n",
    "    t.forward(100)\n",
    "    t.left(360/n)"
   ]
  },
  {
   "cell_type": "code",
   "execution_count": 72,
   "metadata": {},
   "outputs": [],
   "source": [
    "turtle.bye()"
   ]
  },
  {
   "cell_type": "markdown",
   "metadata": {},
   "source": [
    "### 8.) Turtle 그래픽을 원과 다각형 그리기"
   ]
  },
  {
   "cell_type": "code",
   "execution_count": 73,
   "metadata": {},
   "outputs": [],
   "source": [
    "import turtle"
   ]
  },
  {
   "cell_type": "code",
   "execution_count": 76,
   "metadata": {},
   "outputs": [
    {
     "ename": "KeyboardInterrupt",
     "evalue": "",
     "output_type": "error",
     "traceback": [
      "\u001b[1;31m---------------------------------------------------------------------------\u001b[0m",
      "\u001b[1;31mKeyboardInterrupt\u001b[0m                         Traceback (most recent call last)",
      "\u001b[1;32m<ipython-input-76-bb951e06b1aa>\u001b[0m in \u001b[0;36m<module>\u001b[1;34m\u001b[0m\n\u001b[0;32m     10\u001b[0m     \u001b[0mradius\u001b[0m \u001b[1;33m=\u001b[0m\u001b[0mint\u001b[0m\u001b[1;33m(\u001b[0m\u001b[0mradius_str\u001b[0m\u001b[1;33m)\u001b[0m\u001b[1;33m\u001b[0m\u001b[1;33m\u001b[0m\u001b[0m\n\u001b[0;32m     11\u001b[0m     \u001b[0mcircle_steps\u001b[0m \u001b[1;33m=\u001b[0m \u001b[0mint\u001b[0m\u001b[1;33m(\u001b[0m\u001b[0mcircle_steps_str\u001b[0m\u001b[1;33m)\u001b[0m\u001b[1;33m\u001b[0m\u001b[1;33m\u001b[0m\u001b[0m\n\u001b[1;32m---> 12\u001b[1;33m     \u001b[0mt\u001b[0m\u001b[1;33m.\u001b[0m\u001b[0mup\u001b[0m\u001b[1;33m(\u001b[0m\u001b[1;33m)\u001b[0m \u001b[1;33m;\u001b[0m \u001b[0mt\u001b[0m\u001b[1;33m.\u001b[0m\u001b[0msetposition\u001b[0m\u001b[1;33m(\u001b[0m\u001b[0mpos_x\u001b[0m\u001b[1;33m,\u001b[0m\u001b[1;33m-\u001b[0m\u001b[0mpos_y\u001b[0m\u001b[1;33m)\u001b[0m\u001b[1;33m;\u001b[0m \u001b[0mt\u001b[0m\u001b[1;33m.\u001b[0m\u001b[0mdown\u001b[0m\u001b[1;33m(\u001b[0m\u001b[1;33m)\u001b[0m\u001b[1;33m\u001b[0m\u001b[1;33m\u001b[0m\u001b[0m\n\u001b[0m\u001b[0;32m     13\u001b[0m     \u001b[0mt\u001b[0m\u001b[1;33m.\u001b[0m\u001b[0mwrite\u001b[0m\u001b[1;33m(\u001b[0m\u001b[1;34m\"Drawing a circle of radius ({}) at position({}, {})\"\u001b[0m\u001b[1;33m.\u001b[0m\u001b[0mformat\u001b[0m\u001b[1;33m(\u001b[0m\u001b[0mradius\u001b[0m\u001b[1;33m,\u001b[0m\u001b[0mpos_x\u001b[0m\u001b[1;33m,\u001b[0m\u001b[0mpos_y\u001b[0m\u001b[1;33m)\u001b[0m\u001b[1;33m)\u001b[0m\u001b[1;33m\u001b[0m\u001b[1;33m\u001b[0m\u001b[0m\n\u001b[0;32m     14\u001b[0m     \u001b[0mt\u001b[0m\u001b[1;33m.\u001b[0m\u001b[0mdot\u001b[0m\u001b[1;33m(\u001b[0m\u001b[1;36m10\u001b[0m\u001b[1;33m,\u001b[0m\u001b[1;34m'red'\u001b[0m\u001b[1;33m)\u001b[0m\u001b[1;33m\u001b[0m\u001b[1;33m\u001b[0m\u001b[0m\n",
      "\u001b[1;32m~\\anaconda3\\lib\\turtle.py\u001b[0m in \u001b[0;36mgoto\u001b[1;34m(self, x, y)\u001b[0m\n\u001b[0;32m   1774\u001b[0m             \u001b[0mself\u001b[0m\u001b[1;33m.\u001b[0m\u001b[0m_goto\u001b[0m\u001b[1;33m(\u001b[0m\u001b[0mVec2D\u001b[0m\u001b[1;33m(\u001b[0m\u001b[1;33m*\u001b[0m\u001b[0mx\u001b[0m\u001b[1;33m)\u001b[0m\u001b[1;33m)\u001b[0m\u001b[1;33m\u001b[0m\u001b[1;33m\u001b[0m\u001b[0m\n\u001b[0;32m   1775\u001b[0m         \u001b[1;32melse\u001b[0m\u001b[1;33m:\u001b[0m\u001b[1;33m\u001b[0m\u001b[1;33m\u001b[0m\u001b[0m\n\u001b[1;32m-> 1776\u001b[1;33m             \u001b[0mself\u001b[0m\u001b[1;33m.\u001b[0m\u001b[0m_goto\u001b[0m\u001b[1;33m(\u001b[0m\u001b[0mVec2D\u001b[0m\u001b[1;33m(\u001b[0m\u001b[0mx\u001b[0m\u001b[1;33m,\u001b[0m \u001b[0my\u001b[0m\u001b[1;33m)\u001b[0m\u001b[1;33m)\u001b[0m\u001b[1;33m\u001b[0m\u001b[1;33m\u001b[0m\u001b[0m\n\u001b[0m\u001b[0;32m   1777\u001b[0m \u001b[1;33m\u001b[0m\u001b[0m\n\u001b[0;32m   1778\u001b[0m     \u001b[1;32mdef\u001b[0m \u001b[0mhome\u001b[0m\u001b[1;33m(\u001b[0m\u001b[0mself\u001b[0m\u001b[1;33m)\u001b[0m\u001b[1;33m:\u001b[0m\u001b[1;33m\u001b[0m\u001b[1;33m\u001b[0m\u001b[0m\n",
      "\u001b[1;32m~\\anaconda3\\lib\\turtle.py\u001b[0m in \u001b[0;36m_goto\u001b[1;34m(self, end)\u001b[0m\n\u001b[0;32m   3177\u001b[0m                                      \u001b[1;33m(\u001b[0m\u001b[0mstart\u001b[0m\u001b[1;33m,\u001b[0m \u001b[0mself\u001b[0m\u001b[1;33m.\u001b[0m\u001b[0m_position\u001b[0m\u001b[1;33m)\u001b[0m\u001b[1;33m,\u001b[0m\u001b[1;33m\u001b[0m\u001b[1;33m\u001b[0m\u001b[0m\n\u001b[0;32m   3178\u001b[0m                                      self._pencolor, self._pensize, top)\n\u001b[1;32m-> 3179\u001b[1;33m                 \u001b[0mself\u001b[0m\u001b[1;33m.\u001b[0m\u001b[0m_update\u001b[0m\u001b[1;33m(\u001b[0m\u001b[1;33m)\u001b[0m\u001b[1;33m\u001b[0m\u001b[1;33m\u001b[0m\u001b[0m\n\u001b[0m\u001b[0;32m   3180\u001b[0m             \u001b[1;32mif\u001b[0m \u001b[0mself\u001b[0m\u001b[1;33m.\u001b[0m\u001b[0m_drawing\u001b[0m\u001b[1;33m:\u001b[0m\u001b[1;33m\u001b[0m\u001b[1;33m\u001b[0m\u001b[0m\n\u001b[0;32m   3181\u001b[0m                 screen._drawline(self.drawingLineItem, ((0, 0), (0, 0)),\n",
      "\u001b[1;32m~\\anaconda3\\lib\\turtle.py\u001b[0m in \u001b[0;36m_update\u001b[1;34m(self)\u001b[0m\n\u001b[0;32m   2661\u001b[0m             \u001b[0mself\u001b[0m\u001b[1;33m.\u001b[0m\u001b[0m_drawturtle\u001b[0m\u001b[1;33m(\u001b[0m\u001b[1;33m)\u001b[0m\u001b[1;33m\u001b[0m\u001b[1;33m\u001b[0m\u001b[0m\n\u001b[0;32m   2662\u001b[0m             \u001b[0mscreen\u001b[0m\u001b[1;33m.\u001b[0m\u001b[0m_update\u001b[0m\u001b[1;33m(\u001b[0m\u001b[1;33m)\u001b[0m                  \u001b[1;31m# TurtleScreenBase\u001b[0m\u001b[1;33m\u001b[0m\u001b[1;33m\u001b[0m\u001b[0m\n\u001b[1;32m-> 2663\u001b[1;33m             \u001b[0mscreen\u001b[0m\u001b[1;33m.\u001b[0m\u001b[0m_delay\u001b[0m\u001b[1;33m(\u001b[0m\u001b[0mscreen\u001b[0m\u001b[1;33m.\u001b[0m\u001b[0m_delayvalue\u001b[0m\u001b[1;33m)\u001b[0m \u001b[1;31m# TurtleScreenBase\u001b[0m\u001b[1;33m\u001b[0m\u001b[1;33m\u001b[0m\u001b[0m\n\u001b[0m\u001b[0;32m   2664\u001b[0m         \u001b[1;32melse\u001b[0m\u001b[1;33m:\u001b[0m\u001b[1;33m\u001b[0m\u001b[1;33m\u001b[0m\u001b[0m\n\u001b[0;32m   2665\u001b[0m             \u001b[0mself\u001b[0m\u001b[1;33m.\u001b[0m\u001b[0m_update_data\u001b[0m\u001b[1;33m(\u001b[0m\u001b[1;33m)\u001b[0m\u001b[1;33m\u001b[0m\u001b[1;33m\u001b[0m\u001b[0m\n",
      "\u001b[1;32m~\\anaconda3\\lib\\turtle.py\u001b[0m in \u001b[0;36m_delay\u001b[1;34m(self, delay)\u001b[0m\n\u001b[0;32m    564\u001b[0m     \u001b[1;32mdef\u001b[0m \u001b[0m_delay\u001b[0m\u001b[1;33m(\u001b[0m\u001b[0mself\u001b[0m\u001b[1;33m,\u001b[0m \u001b[0mdelay\u001b[0m\u001b[1;33m)\u001b[0m\u001b[1;33m:\u001b[0m\u001b[1;33m\u001b[0m\u001b[1;33m\u001b[0m\u001b[0m\n\u001b[0;32m    565\u001b[0m         \u001b[1;34m\"\"\"Delay subsequent canvas actions for delay ms.\"\"\"\u001b[0m\u001b[1;33m\u001b[0m\u001b[1;33m\u001b[0m\u001b[0m\n\u001b[1;32m--> 566\u001b[1;33m         \u001b[0mself\u001b[0m\u001b[1;33m.\u001b[0m\u001b[0mcv\u001b[0m\u001b[1;33m.\u001b[0m\u001b[0mafter\u001b[0m\u001b[1;33m(\u001b[0m\u001b[0mdelay\u001b[0m\u001b[1;33m)\u001b[0m\u001b[1;33m\u001b[0m\u001b[1;33m\u001b[0m\u001b[0m\n\u001b[0m\u001b[0;32m    567\u001b[0m \u001b[1;33m\u001b[0m\u001b[0m\n\u001b[0;32m    568\u001b[0m     \u001b[1;32mdef\u001b[0m \u001b[0m_iscolorstring\u001b[0m\u001b[1;33m(\u001b[0m\u001b[0mself\u001b[0m\u001b[1;33m,\u001b[0m \u001b[0mcolor\u001b[0m\u001b[1;33m)\u001b[0m\u001b[1;33m:\u001b[0m\u001b[1;33m\u001b[0m\u001b[1;33m\u001b[0m\u001b[0m\n",
      "\u001b[1;32m~\\anaconda3\\lib\\tkinter\\__init__.py\u001b[0m in \u001b[0;36mafter\u001b[1;34m(self, ms, func, *args)\u001b[0m\n\u001b[0;32m    742\u001b[0m         \u001b[1;32mif\u001b[0m \u001b[1;32mnot\u001b[0m \u001b[0mfunc\u001b[0m\u001b[1;33m:\u001b[0m\u001b[1;33m\u001b[0m\u001b[1;33m\u001b[0m\u001b[0m\n\u001b[0;32m    743\u001b[0m             \u001b[1;31m# I'd rather use time.sleep(ms*0.001)\u001b[0m\u001b[1;33m\u001b[0m\u001b[1;33m\u001b[0m\u001b[1;33m\u001b[0m\u001b[0m\n\u001b[1;32m--> 744\u001b[1;33m             \u001b[0mself\u001b[0m\u001b[1;33m.\u001b[0m\u001b[0mtk\u001b[0m\u001b[1;33m.\u001b[0m\u001b[0mcall\u001b[0m\u001b[1;33m(\u001b[0m\u001b[1;34m'after'\u001b[0m\u001b[1;33m,\u001b[0m \u001b[0mms\u001b[0m\u001b[1;33m)\u001b[0m\u001b[1;33m\u001b[0m\u001b[1;33m\u001b[0m\u001b[0m\n\u001b[0m\u001b[0;32m    745\u001b[0m             \u001b[1;32mreturn\u001b[0m \u001b[1;32mNone\u001b[0m\u001b[1;33m\u001b[0m\u001b[1;33m\u001b[0m\u001b[0m\n\u001b[0;32m    746\u001b[0m         \u001b[1;32melse\u001b[0m\u001b[1;33m:\u001b[0m\u001b[1;33m\u001b[0m\u001b[1;33m\u001b[0m\u001b[0m\n",
      "\u001b[1;31mKeyboardInterrupt\u001b[0m: "
     ]
    }
   ],
   "source": [
    "t = turtle.Turtle()\n",
    "t.shape('classic')\n",
    "\n",
    "while True:\n",
    "    pos_x_stx = turtle.textinput(\"\",\"position_x :\")\n",
    "    pos_y_stx = turtle.textinput(\"\",\"position_y :\")\n",
    "    radius_str = turtle.textinput(\"\", \"radius :\")\n",
    "    circle_steps_str = turtle.textinput(\"\", \"circle_steps (0 means simple circle) :\")\n",
    "    pos_x, pos_y = int(pos_x_stx), int(pos_y_stx)\n",
    "    radius =int(radius_str)\n",
    "    circle_steps = int(circle_steps_str)\n",
    "    t.up() ; t.setposition(pos_x,-pos_y); t.down()\n",
    "    t.write(\"Drawing a circle of radius ({}) at position({}, {})\".format(radius,pos_x,pos_y))\n",
    "    t.dot(10,'red')\n",
    "    t.up(); t.setposition(pos_x, pos_y - radius); t.down()\n",
    "    if circle_steps ==0:\n",
    "        t.circle(radius)\n",
    "    else:\n",
    "        t.circle(radius,steps = circle_steps)\n",
    "    t.up(); t.setposition(0, 0); t.down()\n",
    "        "
   ]
  },
  {
   "cell_type": "code",
   "execution_count": 77,
   "metadata": {},
   "outputs": [],
   "source": [
    "turtle.bye()"
   ]
  },
  {
   "cell_type": "markdown",
   "metadata": {},
   "source": [
    "# 3. 색상 지정이 기능이 포함된 확장하는 모습의 도형 그리기"
   ]
  },
  {
   "cell_type": "markdown",
   "metadata": {},
   "source": [
    "### 1.) 색상 지정 기능이 포함된 확장하는 사각형"
   ]
  },
  {
   "cell_type": "code",
   "execution_count": 78,
   "metadata": {},
   "outputs": [],
   "source": [
    "import turtle"
   ]
  },
  {
   "cell_type": "code",
   "execution_count": 82,
   "metadata": {},
   "outputs": [],
   "source": [
    "colors = ['red','purple','blue','green','yellow','orange']\n",
    "t = turtle.Turtle()\n",
    "turtle.bgcolor('black')\n",
    "t.speed(0)\n",
    "t.width(3)\n",
    "length =10\n",
    "while length < 800:\n",
    "    t.forward(length)\n",
    "    t.pencolor(colors[length% 6])\n",
    "    t.right(89)\n",
    "    length +=5"
   ]
  },
  {
   "cell_type": "code",
   "execution_count": 83,
   "metadata": {},
   "outputs": [],
   "source": [
    "turtle.bye()"
   ]
  },
  {
   "cell_type": "markdown",
   "metadata": {},
   "source": [
    "### 2.) 색상 기능이 포함된 확장하는 육각형"
   ]
  },
  {
   "cell_type": "code",
   "execution_count": 84,
   "metadata": {},
   "outputs": [],
   "source": [
    "import turtle"
   ]
  },
  {
   "cell_type": "code",
   "execution_count": 86,
   "metadata": {},
   "outputs": [],
   "source": [
    "colors = ['red','purple','blue','green','yellow','orange','xian']\n",
    "t = turtle.Turtle()\n",
    "turtle.bgcolor('black')\n",
    "t.speed(0)\n",
    "t.width(3)\n",
    "length =10\n",
    "while length < 800:\n",
    "    t.forward(length)\n",
    "    t.pencolor(colors[length% 6])\n",
    "    t.right(59)\n",
    "    length +=5"
   ]
  },
  {
   "cell_type": "code",
   "execution_count": 87,
   "metadata": {},
   "outputs": [],
   "source": [
    "turtle.bye()"
   ]
  },
  {
   "cell_type": "code",
   "execution_count": null,
   "metadata": {},
   "outputs": [],
   "source": []
  }
 ],
 "metadata": {
  "kernelspec": {
   "display_name": "Python 3",
   "language": "python",
   "name": "python3"
  },
  "language_info": {
   "codemirror_mode": {
    "name": "ipython",
    "version": 3
   },
   "file_extension": ".py",
   "mimetype": "text/x-python",
   "name": "python",
   "nbconvert_exporter": "python",
   "pygments_lexer": "ipython3",
   "version": "3.7.6"
  }
 },
 "nbformat": 4,
 "nbformat_minor": 4
}
