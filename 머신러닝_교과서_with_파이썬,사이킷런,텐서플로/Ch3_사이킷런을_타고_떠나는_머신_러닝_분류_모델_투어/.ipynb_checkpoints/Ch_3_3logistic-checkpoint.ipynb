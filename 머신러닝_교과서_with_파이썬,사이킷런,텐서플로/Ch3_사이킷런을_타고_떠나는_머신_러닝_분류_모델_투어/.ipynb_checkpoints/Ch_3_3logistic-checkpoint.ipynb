{
 "cells": [
  {
   "cell_type": "markdown",
   "metadata": {},
   "source": [
    "### 3.3 로지스틱 회귀를 사용한 크래스 확률 모델링\n",
    "\n",
    "퍼셉트론 규칙은 머신 러닝 분류 알고리즘을 배우기에 간단하고 좋은 모델이지만 가장 큰 단점은 클래스가 선형적으로 구분되지 않을 때 수렴하지 않는 다는 것  \n",
    "이전 절의 작업이 그런 예입니다.  \n",
    "-> 여전히 간단하지만 선형 이진 분류에 강력한 다른 알고리즘인 로지스틱 회귀(logistic regression)를 살펴보는 것이 현명한 방법  \n",
    "-> 이름이 회귀이지만 로지스틱 회귀는 회귀가 아니라 분류 모델입니다.\n"
   ]
  },
  {
   "cell_type": "markdown",
   "metadata": {},
   "source": [
    "#### 3.3.1 로지스틱 회귀의 이해와 조건부 확률\n",
    "로지스틱 회귀는 구현하기 매우 쉽고 선형적으로 구분되는 클래스에 뛰어난 성능을 내는 분류 모델  \n",
    "-> 이진 분류에서 다중 분류로 확장 가능\n",
    "ex) OvR 방식을 사용  \n",
    "확률 모델로서 로지스틱 회귀 모델 이면에 있는 아이디어를 설명하기 위해 먼저 오즈비(odds Ratio)를 소개합니다.  \n",
    "오즈는 특정 이벤트가 발생할 확률입니다. 오즈비는 $\\frac{P}{(1-P)}$처럼 쓸 수 있습니다.  \n",
    "오즈비에 로그 함수를 취해 로짓(logit) 함수를 정의합니다.\n",
    "$$logit(P) = log\\frac{P}{(1-P)}$$\n",
    "여기서 log는 컴퓨터 과학에서 널리 사용되는 자연 로그입니다.  \n",
    "logit 함수는 0과 1사이의 입력값을 받아 실수 범위 값으로 변환합니다. 특성의 가중치 합과 로그 오즈 사이의 선형 관계를 다음과 같이 쓸 수 있습니다.\n",
    "$$logit(P(y=1|x)) = w_0x_0 + w_1x_1 + ... + w_mx_m  = w^Tx$$\n",
    "여기서 p(y=1|x)는 특성 x가 주어졌을 때 이 샘플이 클래스 1에 속할 조건부 확률입니다.\n",
    "\n",
    "어떤 샘플이 특정 클래스에 속할 확률을 예측하는 것이 관심 대상이므로 logit 함수를 거꾸로 뒤집습니다.  \n",
    "이 함수를 로지스틱 시그모이드 함수(logistic sigmoid function)라고 합니다.  \n",
    "$$log\\frac{P}{(1-P)} = logit(P(y=1|x)) = w_0x_0 + w_1x_1 + ... + w_mx_m  = w^Tx = z$$\n",
    "$$log\\frac{1-P}{P} = \\frac{1}{z}$$\n",
    "$$\\frac{1-P}{P} = e^{1/z}$$\n",
    "$$1-P = P*e^{1/z}$$\n",
    "$$1 = (1+e^{1/z}) * P$$\n",
    "$$\\frac{1}{(1+e^{1/z})} = P$$\n",
    "함수 모양이 S자 형태를 띠기 때문에 간단하게 줄여서 시그모이드 함수(sigmoid function)라고도 합니다.\n",
    "$$\\Phi(z) = \\frac{1}{1+e^{-z}} ,   z= w_0x_0 + w_1x_1 + ... + w_mx_m $$\n",
    "시그모이드 함수가 어떤 모습인지 -7에서 7까지 그려 보겠습니다."
   ]
  },
  {
   "cell_type": "code",
   "execution_count": 1,
   "metadata": {},
   "outputs": [
    {
     "data": {
      "image/png": "[encoded data removed]",
      "text/plain": [
       "<Figure size 432x288 with 1 Axes>"
      ]
     },
     "metadata": {
      "needs_background": "light"
     },
     "output_type": "display_data"
    }
   ],
   "source": [
    "import matplotlib.pyplot as plt\n",
    "import numpy as np\n",
    "def sigmoid(z):\n",
    "    return(1.0/(1.0 +np.exp(-z)))\n",
    "z = np.arange(-7,7,0.1)\n",
    "phi_z = sigmoid(z)\n",
    "plt.plot(z,phi_z)\n",
    "plt.axvline(0.0,color='k')\n",
    "plt.ylim(-0.1,1.1)\n",
    "plt.xlabel('z')\n",
    "plt.ylabel('$\\phi (z)$')\n",
    "# y축의 눈금과 격자선\n",
    "plt.yticks([0.0,0.5,1.0])\n",
    "ax =plt.gca()\n",
    "ax.yaxis.grid(True)\n",
    "plt.tight_layout()\n",
    "plt.show()"
   ]
  },
  {
   "cell_type": "markdown",
   "metadata": {},
   "source": [
    "z -> ∞ 가면 $\\Phi(Z)$는 1에 가까워지며 z-> -∞ 이면 $\\Phi(z)$는 0에 수렴  \n",
    "중간값 $\\Phi(0) = 0.5 $  \n",
    "로지스틱 회귀에서는 시그모이드 함수가 활성화 함수가 된다.  \n"
   ]
  },
  {
   "cell_type": "markdown",
   "metadata": {},
   "source": [
    "##### 아달린과 로지스틱 회귀의 차이\n",
    "아달린 : 최종 입력 변수 - 선형 활성화 함수 - 오차 업데이트 - 반복 - 임계 함수 - 예측 클래스 레이블  \n",
    "로지스틱 회귀 : 최종 입력 변수 - 시그모이드 활성화 함수 - 오차 업데이트 - 반복 - 임계함수 - 예측 클래스 레이블  \n",
    "\n",
    "로지스틱 회귀 함수는 특정 사건이 발생할 확률을 예측 ex)날씨 예보"
   ]
  },
  {
   "cell_type": "markdown",
   "metadata": {},
   "source": [
    "#### 3.3.2 로지스틱 비용 함수의 가중치 학습\n",
    "로지스틱 회귀의 비용 함수를 유도하는 방법을 설명하기 위해 먼저 로지스틱 회귀 모델을 만들 댸 최대화하려는 가능도(likelihood) L을 정의하겠습니다.  \n",
    "데이터셋에 있는 각 샘플이 독립적이라고 가정  \n",
    "$$L(w) = P(y|x;w) =  \\Pi^n_{i=1}P(y^{i}|x^{i};w) = \\Pi^n_{i=1}[(\\Phi(z^i)^{y^i}(1-\\Phi(z^i))^{1-y^i}]$$\n",
    "\n",
    "첫 째, 로그 함수를 적용하면 가능도가 매우 작을 때 일어나는 수치상의 언더플로를 미연에 방지  \n",
    "둘 째, 계수의 곱을 계수의 합으로 바꿀 수 있습니다 > 미분이 쉽다  \n",
    "\n",
    "경사 상승법 같은 최적화 알고리즘을 사용하여 이 로그 가능도 함수를 최대화할 수 있습니다. 또는 로그 가능도 함수를 다시 비용 함수 J로 표현하여 2장처럼 경사 하강법을 사용하여 최소화할 수 있습니다.\n",
    "$$J(w) = \\Sigma^n_{i=1}[-y^ilog(\\Phi(z^i)^{y^i}-(1-y^i)log(1-\\Phi(z^i))]$$\n",
    "\n",
    "간단한 코드로 샘플이 하나인 경우 $\\Phi(z)$ 값에 대한 분류 비용을 그려보겠습니다.\n"
   ]
  },
  {
   "cell_type": "code",
   "execution_count": 3,
   "metadata": {},
   "outputs": [
    {
     "data": {
      "image/png": "[encoded data removed]",
      "text/plain": [
       "<Figure size 432x288 with 1 Axes>"
      ]
     },
     "metadata": {
      "needs_background": "light"
     },
     "output_type": "display_data"
    }
   ],
   "source": [
    "def cost_1(z):\n",
    "    return -np.log(sigmoid(z))\n",
    "def cost_0(z):\n",
    "    return -np.log(1-sigmoid(z))\n",
    "z = np.arange(-10,10,0.1)\n",
    "phi_z = sigmoid(z)\n",
    "c1 = [cost_1(x) for x in z]\n",
    "plt.plot(phi_z , c1, label='J(w) if y = 1')\n",
    "c0 = [cost_0(x) for x in z]\n",
    "plt.plot(phi_z ,c0 , label='J(w) if y = 0')\n",
    "plt.ylim(0.0, 5.1)\n",
    "plt.xlim([0,1])\n",
    "plt.xlabel('$\\Phi$(z)')\n",
    "plt.ylabel('J(w)')\n",
    "plt.legend(loc='best')\n",
    "plt.tight_layout()\n",
    "plt.show()"
   ]
  },
  {
   "cell_type": "markdown",
   "metadata": {},
   "source": [
    "결과 그래프의 x 축은 0에서 1까지 범위의 시그모이드 활성화값잆니다.  \n",
    "y축은 해당 로지스틱 비용입니다.\n",
    "\n",
    "잘못된 예측에 점점 더 큰 비용을 부여한다는 점이 중요합니다.\n",
    "\n",
    "#### 3.3.3 아달린 구현을 로지스틱 회구 알고리즘으로 변경\n",
    "\n",
    "선형 활성화 함수를 시그모이드 활성화 함수로 바꾸고 임계 함수가 클래스 레이블 -1과 1이 아니고 0과 1을 반환하도록 변경합니다. "
   ]
  },
  {
   "cell_type": "code",
   "execution_count": null,
   "metadata": {},
   "outputs": [],
   "source": []
  }
 ],
 "metadata": {
  "kernelspec": {
   "display_name": "Python 3",
   "language": "python",
   "name": "python3"
  },
  "language_info": {
   "codemirror_mode": {
    "name": "ipython",
    "version": 3
   },
   "file_extension": ".py",
   "mimetype": "text/x-python",
   "name": "python",
   "nbconvert_exporter": "python",
   "pygments_lexer": "ipython3",
   "version": "3.7.6"
  }
 },
 "nbformat": 4,
 "nbformat_minor": 4
}
