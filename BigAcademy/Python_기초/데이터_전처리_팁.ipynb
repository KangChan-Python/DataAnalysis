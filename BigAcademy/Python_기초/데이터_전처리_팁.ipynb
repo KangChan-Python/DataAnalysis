{
 "cells": [
  {
   "cell_type": "code",
   "execution_count": 1,
   "metadata": {},
   "outputs": [],
   "source": [
    "import pandas as pd"
   ]
  },
  {
   "cell_type": "markdown",
   "metadata": {},
   "source": [
    "##### txt 파일을 csv파일로 불러오기\n",
    "- sep \n",
    "- names\n",
    "- header\n",
    "\n",
    "##### mapping\n",
    "- Series에만 적용 가능\n",
    "- lambda를 활용\n",
    "\n",
    "##### sort_values \n",
    "- by \n",
    "- inplace\n",
    "\n",
    "##### reset_index\n",
    "- drop\n",
    "- inplace"
   ]
  },
  {
   "cell_type": "code",
   "execution_count": 8,
   "metadata": {},
   "outputs": [
    {
     "data": {
      "text/html": [
       "<div>\n",
       "<style scoped>\n",
       "    .dataframe tbody tr th:only-of-type {\n",
       "        vertical-align: middle;\n",
       "    }\n",
       "\n",
       "    .dataframe tbody tr th {\n",
       "        vertical-align: top;\n",
       "    }\n",
       "\n",
       "    .dataframe thead th {\n",
       "        text-align: right;\n",
       "    }\n",
       "</style>\n",
       "<table border=\"1\" class=\"dataframe\">\n",
       "  <thead>\n",
       "    <tr style=\"text-align: right;\">\n",
       "      <th></th>\n",
       "      <th>원문</th>\n",
       "      <th>POS</th>\n",
       "      <th>Len</th>\n",
       "    </tr>\n",
       "  </thead>\n",
       "  <tbody>\n",
       "    <tr>\n",
       "      <th>0</th>\n",
       "      <td>첸</td>\n",
       "      <td>NNP</td>\n",
       "      <td>1</td>\n",
       "    </tr>\n",
       "    <tr>\n",
       "      <th>1</th>\n",
       "      <td>뭔</td>\n",
       "      <td>MM</td>\n",
       "      <td>1</td>\n",
       "    </tr>\n",
       "    <tr>\n",
       "      <th>2</th>\n",
       "      <td>뭍</td>\n",
       "      <td>NNG</td>\n",
       "      <td>1</td>\n",
       "    </tr>\n",
       "    <tr>\n",
       "      <th>3</th>\n",
       "      <td>묽</td>\n",
       "      <td>VA</td>\n",
       "      <td>1</td>\n",
       "    </tr>\n",
       "    <tr>\n",
       "      <th>4</th>\n",
       "      <td>묻</td>\n",
       "      <td>VV</td>\n",
       "      <td>1</td>\n",
       "    </tr>\n",
       "    <tr>\n",
       "      <th>...</th>\n",
       "      <td>...</td>\n",
       "      <td>...</td>\n",
       "      <td>...</td>\n",
       "    </tr>\n",
       "    <tr>\n",
       "      <th>154058</th>\n",
       "      <td>전국남녀중고등학교대항테니스대회</td>\n",
       "      <td>NNP</td>\n",
       "      <td>16</td>\n",
       "    </tr>\n",
       "    <tr>\n",
       "      <th>154059</th>\n",
       "      <td>동아시아오세아니아증권거래소연맹</td>\n",
       "      <td>NNP</td>\n",
       "      <td>16</td>\n",
       "    </tr>\n",
       "    <tr>\n",
       "      <th>154060</th>\n",
       "      <td>김일성사회주의청년동맹중앙위원회</td>\n",
       "      <td>NNP</td>\n",
       "      <td>16</td>\n",
       "    </tr>\n",
       "    <tr>\n",
       "      <th>154061</th>\n",
       "      <td>파라다이스여자인비테이셔널골프대회</td>\n",
       "      <td>NNP</td>\n",
       "      <td>17</td>\n",
       "    </tr>\n",
       "    <tr>\n",
       "      <th>154062</th>\n",
       "      <td>시작에들어가는가상글시작에들어가는가</td>\n",
       "      <td>NNP</td>\n",
       "      <td>18</td>\n",
       "    </tr>\n",
       "  </tbody>\n",
       "</table>\n",
       "<p>154063 rows × 3 columns</p>\n",
       "</div>"
      ],
      "text/plain": [
       "                        원문  POS  Len\n",
       "0                        첸  NNP    1\n",
       "1                        뭔   MM    1\n",
       "2                        뭍  NNG    1\n",
       "3                        묽   VA    1\n",
       "4                        묻   VV    1\n",
       "...                    ...  ...  ...\n",
       "154058    전국남녀중고등학교대항테니스대회  NNP   16\n",
       "154059    동아시아오세아니아증권거래소연맹  NNP   16\n",
       "154060    김일성사회주의청년동맹중앙위원회  NNP   16\n",
       "154061   파라다이스여자인비테이셔널골프대회  NNP   17\n",
       "154062  시작에들어가는가상글시작에들어가는가  NNP   18\n",
       "\n",
       "[154063 rows x 3 columns]"
      ]
     },
     "execution_count": 8,
     "metadata": {},
     "output_type": "execute_result"
    }
   ],
   "source": [
    "df2 = pd.read_csv('C:\\\\Users\\\\jye12\\\\anaconda\\\\Lib\\\\site-packages\\\\rhinoMorph\\\\resource/stem_MethodDeleted.txt',sep='\\t', header=None,names =['원문','POS'])\n",
    "df2.head()\n",
    "\n",
    "df2['POS'] = df2['POS'].map(lambda x : x.split('/')[1])\n",
    "\n",
    "df2['Len'] = df2['원문'].map(lambda x : len(x))\n",
    "df2.sort_values(by = 'Len', inplace =True)\n",
    "df2.reset_index(drop =True,inplace =True)\n",
    "df2"
   ]
  },
  {
   "cell_type": "code",
   "execution_count": 18,
   "metadata": {},
   "outputs": [],
   "source": [
    "f = open('./file/readline.txt', 'r',encoding= 'utf-8')\n",
    "\n",
    "data = [line.replace('\\n','') for line in f.readlines()]\n",
    "data\n",
    "f.close()"
   ]
  },
  {
   "cell_type": "code",
   "execution_count": 24,
   "metadata": {},
   "outputs": [
    {
     "data": {
      "text/plain": [
       "[['ㄹㅇㄴㅁㄹㄴㅁ'],\n",
       " ['ㄹㅇㄴㄹ'],\n",
       " ['ㄴㅁㅇㄹ'],\n",
       " ['ㄴㅇㄹ'],\n",
       " ['ㄴㅇ'],\n",
       " ['ㄹㄴㅇㅁ'],\n",
       " ['ㄹㅇㅁㅎ'],\n",
       " ['ㅇㄴㄹ'],\n",
       " ['ㄴㅇㄹ'],\n",
       " ['ㅁㄴㄹ'],\n",
       " ['ㅁㄴ'],\n",
       " ['ㄹ'],\n",
       " ['ㅁㄷㅈㄹ'],\n",
       " ['ㄴㅇ'],\n",
       " ['ㄹㅈㄷㅁ']]"
      ]
     },
     "execution_count": 24,
     "metadata": {},
     "output_type": "execute_result"
    }
   ],
   "source": [
    "f = open('./file/readline.txt', 'r',encoding= 'utf-8') \n",
    "data = [line.split('\\t') for line in f.read().splitlines()]\n",
    "data"
   ]
  },
  {
   "cell_type": "code",
   "execution_count": null,
   "metadata": {},
   "outputs": [],
   "source": []
  }
 ],
 "metadata": {
  "kernelspec": {
   "display_name": "Python 3",
   "language": "python",
   "name": "python3"
  },
  "language_info": {
   "codemirror_mode": {
    "name": "ipython",
    "version": 3
   },
   "file_extension": ".py",
   "mimetype": "text/x-python",
   "name": "python",
   "nbconvert_exporter": "python",
   "pygments_lexer": "ipython3",
   "version": "3.7.6"
  }
 },
 "nbformat": 4,
 "nbformat_minor": 4
}
