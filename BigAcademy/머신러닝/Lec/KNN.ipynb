{
 "cells": [
  {
   "cell_type": "code",
   "execution_count": 38,
   "metadata": {},
   "outputs": [],
   "source": [
    "from sklearn import neighbors, datasets\n",
    "\n",
    "import numpy as np\n",
    "import matplotlib.pyplot as plt\n",
    "from matplotlib.colors import ListedColormap"
   ]
  },
  {
   "cell_type": "markdown",
   "metadata": {},
   "source": [
    "#### 데이터를 불러오기 "
   ]
  },
  {
   "cell_type": "code",
   "execution_count": 39,
   "metadata": {},
   "outputs": [],
   "source": [
    "iris = datasets.load_iris()\n",
    "\n",
    "X = iris.data[:, :2]\n",
    "y = iris.target"
   ]
  },
  {
   "cell_type": "markdown",
   "metadata": {},
   "source": [
    "## sns 대신 plt를 써보자"
   ]
  },
  {
   "cell_type": "markdown",
   "metadata": {},
   "source": [
    "#### y label 값 확인하기"
   ]
  },
  {
   "cell_type": "code",
   "execution_count": 51,
   "metadata": {},
   "outputs": [
    {
     "data": {
      "text/plain": [
       "{0, 1, 2}"
      ]
     },
     "execution_count": 51,
     "metadata": {},
     "output_type": "execute_result"
    }
   ],
   "source": [
    "set(y.tolist())"
   ]
  },
  {
   "cell_type": "markdown",
   "metadata": {},
   "source": [
    "#### 라벨별 X,y 값을 구분하기"
   ]
  },
  {
   "cell_type": "code",
   "execution_count": 41,
   "metadata": {},
   "outputs": [],
   "source": [
    "X_1 , X_2 = X[0], X[1]\n",
    "y_1, y_2, y_3 = [y == 0] , [y==1] , [y==2]"
   ]
  },
  {
   "cell_type": "code",
   "execution_count": 42,
   "metadata": {},
   "outputs": [
    {
     "name": "stderr",
     "output_type": "stream",
     "text": [
      "C:\\Users\\jye12\\anaconda\\lib\\site-packages\\ipykernel_launcher.py:1: FutureWarning: Using a non-tuple sequence for multidimensional indexing is deprecated; use `arr[tuple(seq)]` instead of `arr[seq]`. In the future this will be interpreted as an array index, `arr[np.array(seq)]`, which will result either in an error or a different result.\n",
      "  \"\"\"Entry point for launching an IPython kernel.\n"
     ]
    }
   ],
   "source": [
    "X1,X2, X3 = X[y_1], X[y_2], X[y_3]"
   ]
  },
  {
   "cell_type": "code",
   "execution_count": 43,
   "metadata": {},
   "outputs": [],
   "source": [
    "x1,y1 =[x for x,y in X1], [y for x,y in X1]\n",
    "x2,y2 =[x for x,y in X2], [y for x,y in X2]\n",
    "x3,y3 =[x for x,y in X3], [y for x,y in X3]"
   ]
  },
  {
   "cell_type": "code",
   "execution_count": 44,
   "metadata": {},
   "outputs": [
    {
     "data": {
      "image/png": "[encoded data removed]",
      "text/plain": [
       "<Figure size 432x288 with 1 Axes>"
      ]
     },
     "metadata": {
      "needs_background": "light"
     },
     "output_type": "display_data"
    }
   ],
   "source": [
    "plt.scatter(x1,y1)\n",
    "plt.scatter(x2,y2)\n",
    "plt.scatter(x3,y3)\n",
    "plt.grid(b=True)"
   ]
  },
  {
   "cell_type": "markdown",
   "metadata": {},
   "source": [
    "####  KNN 클래스 불려오기"
   ]
  },
  {
   "cell_type": "code",
   "execution_count": 45,
   "metadata": {},
   "outputs": [
    {
     "data": {
      "text/plain": [
       "KNeighborsClassifier()"
      ]
     },
     "execution_count": 45,
     "metadata": {},
     "output_type": "execute_result"
    }
   ],
   "source": [
    "clf = neighbors.KNeighborsClassifier(5)\n",
    "clf.fit(X,y)"
   ]
  },
  {
   "cell_type": "code",
   "execution_count": 46,
   "metadata": {},
   "outputs": [
    {
     "name": "stdout",
     "output_type": "stream",
     "text": [
      "[0 0 0 0 0 0 0 0 0 0 0 0 0 0 0 0 0 0 0 0 0 0 0 0 0 0 0 0 0 0 0 0 0 0 0 0 0\n",
      " 0 0 0 0 1 0 0 0 0 0 0 0 0 2 2 2 1 2 1 2 1 1 1 1 1 1 1 1 1 1 2 1 1 1 1 2 1\n",
      " 2 2 1 1 1 1 1 1 2 1 1 2 1 1 1 1 1 1 1 1 1 1 1 2 1 1 2 2 2 2 2 2 1 2 1 2 2\n",
      " 2 2 1 1 2 2 2 2 1 2 1 2 2 2 2 1 1 2 2 2 2 2 2 1 2 2 2 2 2 1 2 2 2 2 1 2 2\n",
      " 2 1]\n"
     ]
    }
   ],
   "source": [
    "y_pred = clf.predict(X)\n",
    "print(y_pred)"
   ]
  },
  {
   "cell_type": "markdown",
   "metadata": {},
   "source": [
    "#### 성능 평가를 위한 모듈 불러오기"
   ]
  },
  {
   "cell_type": "code",
   "execution_count": 47,
   "metadata": {},
   "outputs": [],
   "source": [
    "from sklearn.metrics import confusion_matrix"
   ]
  },
  {
   "cell_type": "code",
   "execution_count": 48,
   "metadata": {},
   "outputs": [
    {
     "data": {
      "text/plain": [
       "array([[49,  1,  0],\n",
       "       [ 0, 38, 12],\n",
       "       [ 0, 12, 38]], dtype=int64)"
      ]
     },
     "execution_count": 48,
     "metadata": {},
     "output_type": "execute_result"
    }
   ],
   "source": [
    "confusion_matrix(y, y_pred)"
   ]
  },
  {
   "cell_type": "code",
   "execution_count": 49,
   "metadata": {},
   "outputs": [],
   "source": [
    "from sklearn.model_selection import cross_val_score"
   ]
  },
  {
   "cell_type": "code",
   "execution_count": 50,
   "metadata": {},
   "outputs": [],
   "source": [
    "k_range = range(1,100)\n",
    "k_scores = []\n",
    "\n",
    "for k in k_range:\n",
    "    knn = neighbors.KNeighborsClassifier(k)\n",
    "    scores = cross_val_score(knn, X, y, cv = 10, scoring = \"accuracy\")\n",
    "    k_scores.append(scores.mean())"
   ]
  },
  {
   "cell_type": "markdown",
   "metadata": {},
   "source": [
    "#### 인덱스값과 성능을 같이 확인하여 몇개가 더 좋은지 확인하기"
   ]
  },
  {
   "cell_type": "code",
   "execution_count": 13,
   "metadata": {},
   "outputs": [
    {
     "data": {
      "text/plain": [
       "[[1, 0.727],\n",
       " [2, 0.707],\n",
       " [3, 0.74],\n",
       " [4, 0.7],\n",
       " [5, 0.747],\n",
       " [6, 0.767],\n",
       " [7, 0.78],\n",
       " [8, 0.773],\n",
       " [9, 0.787],\n",
       " [10, 0.767],\n",
       " [11, 0.78],\n",
       " [12, 0.773],\n",
       " [13, 0.773],\n",
       " [14, 0.753],\n",
       " [15, 0.773],\n",
       " [16, 0.767],\n",
       " [17, 0.793],\n",
       " [18, 0.793],\n",
       " [19, 0.793],\n",
       " [20, 0.78],\n",
       " [21, 0.787],\n",
       " [22, 0.793],\n",
       " [23, 0.8],\n",
       " [24, 0.793],\n",
       " [25, 0.8],\n",
       " [26, 0.793],\n",
       " [27, 0.793],\n",
       " [28, 0.787],\n",
       " [29, 0.8],\n",
       " [30, 0.8],\n",
       " [31, 0.8],\n",
       " [32, 0.78],\n",
       " [33, 0.807],\n",
       " [34, 0.807],\n",
       " [35, 0.813],\n",
       " [36, 0.793],\n",
       " [37, 0.8],\n",
       " [38, 0.793],\n",
       " [39, 0.807],\n",
       " [40, 0.807],\n",
       " [41, 0.807],\n",
       " [42, 0.813],\n",
       " [43, 0.82],\n",
       " [44, 0.82],\n",
       " [45, 0.82],\n",
       " [46, 0.82],\n",
       " [47, 0.813],\n",
       " [48, 0.813],\n",
       " [49, 0.813],\n",
       " [50, 0.807],\n",
       " [51, 0.807],\n",
       " [52, 0.8],\n",
       " [53, 0.8],\n",
       " [54, 0.8],\n",
       " [55, 0.807],\n",
       " [56, 0.793],\n",
       " [57, 0.793],\n",
       " [58, 0.793],\n",
       " [59, 0.8],\n",
       " [60, 0.78],\n",
       " [61, 0.8],\n",
       " [62, 0.793],\n",
       " [63, 0.793],\n",
       " [64, 0.78],\n",
       " [65, 0.787],\n",
       " [66, 0.767],\n",
       " [67, 0.78],\n",
       " [68, 0.773],\n",
       " [69, 0.76],\n",
       " [70, 0.767],\n",
       " [71, 0.767],\n",
       " [72, 0.753],\n",
       " [73, 0.753],\n",
       " [74, 0.767],\n",
       " [75, 0.767],\n",
       " [76, 0.767],\n",
       " [77, 0.767],\n",
       " [78, 0.767],\n",
       " [79, 0.767],\n",
       " [80, 0.753],\n",
       " [81, 0.747],\n",
       " [82, 0.733],\n",
       " [83, 0.733],\n",
       " [84, 0.733],\n",
       " [85, 0.747],\n",
       " [86, 0.753],\n",
       " [87, 0.76],\n",
       " [88, 0.76],\n",
       " [89, 0.74],\n",
       " [90, 0.74],\n",
       " [91, 0.753],\n",
       " [92, 0.747],\n",
       " [93, 0.747],\n",
       " [94, 0.753],\n",
       " [95, 0.753],\n",
       " [96, 0.773],\n",
       " [97, 0.76],\n",
       " [98, 0.76],\n",
       " [99, 0.76]]"
      ]
     },
     "execution_count": 13,
     "metadata": {},
     "output_type": "execute_result"
    }
   ],
   "source": [
    "[[i+1,round(k,3) ] for i,k in enumerate(k_scores)]"
   ]
  },
  {
   "cell_type": "code",
   "execution_count": null,
   "metadata": {},
   "outputs": [],
   "source": []
  }
 ],
 "metadata": {
  "kernelspec": {
   "display_name": "Python 3",
   "language": "python",
   "name": "python3"
  },
  "language_info": {
   "codemirror_mode": {
    "name": "ipython",
    "version": 3
   },
   "file_extension": ".py",
   "mimetype": "text/x-python",
   "name": "python",
   "nbconvert_exporter": "python",
   "pygments_lexer": "ipython3",
   "version": "3.7.6"
  }
 },
 "nbformat": 4,
 "nbformat_minor": 4
}
