{
 "cells": [
  {
   "cell_type": "markdown",
   "metadata": {},
   "source": [
    "## 4.2 워드 클라우드\n",
    "\n",
    "수집한 데이터 중 해시태그 정보들을 워드 클라우드로 시각화  \n",
    "- 워드 클라우드 : 텍스트 내에서 출현하는 단어들의 출현 빈도수에 비례하는 크기로 표출한 그래프\n",
    "\n",
    "### 4.2.1 워드 클라우드 만드는 과정\n",
    "1. 인스타그램을 크롤링한 데이터 중 해시태그 데이터를 불러온 후, 해시태그 종류별로 빈도수를 집계\n",
    "2. 해시태그별 빈도수를 그래프를 통해 살펴본 후 분석에 불필요한 해시태그들은 제거하고 의미 있는 해시태그들로 워드 클라우드를 생성\n",
    "\n",
    "### 4.2.2 해시태그 데이터 불러오기\n",
    "크롤링한 데이터를 저장한 엑셀 파일을 엽니다."
   ]
  },
  {
   "cell_type": "code",
   "execution_count": 1,
   "metadata": {},
   "outputs": [
    {
     "name": "stdout",
     "output_type": "stream",
     "text": [
      " C 드라이브의 볼륨에는 이름이 없습니다.\n",
      " 볼륨 일련 번호: E623-376D\n",
      "\n",
      " C:\\Users\\jye12\\Python\\DataAnalysis\\직장인을_위한_데이터분석_실무_with_파이썬\\제주도_핫플레이스\\files 디렉터리\n",
      "\n",
      "2020-07-09  오후 04:03    <DIR>          .\n",
      "2020-07-09  오후 04:03    <DIR>          ..\n",
      "2020-07-09  오후 04:03            15,729 3_3_locations.xlsx\n",
      "2020-07-09  오후 04:03           190,206 crawling_raw.xlsx\n",
      "2020-07-09  오후 04:03            63,564 jejudoGwanGwang.xlsx\n",
      "2020-07-09  오후 04:03            78,035 jejudoMatJip.xlsx\n",
      "2020-07-09  오후 04:03            85,043 jejudoYeoHang.xlsx\n",
      "2020-07-09  오후 04:03           192,305 jeju_tag_wordcloud.png\n",
      "2020-07-09  오후 04:03            10,778 location_counts.xlsx\n",
      "2020-07-09  오후 04:03            10,459 location_inform.xlsx\n",
      "               8개 파일             646,119 바이트\n",
      "               2개 디렉터리  138,072,190,976 바이트 남음\n"
     ]
    }
   ],
   "source": [
    "import pandas as pd\n",
    "!dir files"
   ]
  },
  {
   "cell_type": "code",
   "execution_count": 2,
   "metadata": {},
   "outputs": [
    {
     "data": {
      "text/plain": [
       "0                                           ['#여기어디게']\n",
       "1                                                   []\n",
       "2    ['#제주도', '#제주도관광', '#제주도여행', '#서귀포가볼만한곳', '#제주...\n",
       "Name: tags, dtype: object"
      ]
     },
     "execution_count": 2,
     "metadata": {},
     "output_type": "execute_result"
    }
   ],
   "source": [
    "raw_total = pd.read_excel('./files/crawling_raw.xlsx')\n",
    "raw_total['tags'][:3]"
   ]
  },
  {
   "cell_type": "code",
   "execution_count": 3,
   "metadata": {},
   "outputs": [],
   "source": [
    "tags_total = []\n",
    "\n",
    "for tags in raw_total['tags']:\n",
    "    try:\n",
    "        tags_list = tags[2:-2].split(\"', '\")\n",
    "        for tag in tags_list:\n",
    "            tags_total.append(tag)\n",
    "    except:\n",
    "          pass"
   ]
  },
  {
   "cell_type": "code",
   "execution_count": 4,
   "metadata": {},
   "outputs": [
    {
     "data": {
      "text/plain": [
       "['#여기어디게', '', '#제주도', '#제주도관광', '#제주도여행']"
      ]
     },
     "execution_count": 4,
     "metadata": {},
     "output_type": "execute_result"
    }
   ],
   "source": [
    "tags_total[:5]"
   ]
  },
  {
   "cell_type": "code",
   "execution_count": 5,
   "metadata": {},
   "outputs": [],
   "source": [
    "from collections import Counter\n",
    "tags_counts = Counter(tags_total)"
   ]
  },
  {
   "cell_type": "code",
   "execution_count": 6,
   "metadata": {},
   "outputs": [
    {
     "data": {
      "text/plain": [
       "[('#제주도여행', 414),\n",
       " ('', 286),\n",
       " ('#제주도', 285),\n",
       " ('#제주도관광', 278),\n",
       " ('#제주도맛집', 267),\n",
       " ('#제주여행', 239),\n",
       " ('#제주맛집', 212),\n",
       " ('#제주', 172),\n",
       " ('#서귀포맛집', 129),\n",
       " ('#애월맛집', 116),\n",
       " ('#제주가볼만한곳', 110),\n",
       " ('#오설록맛집', 97),\n",
       " ('#제주도핫플레이스', 90),\n",
       " ('#협재맛집', 86),\n",
       " ('#제주카페', 84),\n",
       " ('#한림맛집', 83),\n",
       " ('#산방산맛집', 77),\n",
       " ('#제주공항근처맛집', 73),\n",
       " ('#정직한돈', 72),\n",
       " ('#제주중문맛집', 70),\n",
       " ('#제주도카페', 66),\n",
       " ('#jeju', 66),\n",
       " ('#제주도태교여행', 64),\n",
       " ('#산방산근처맛집', 64),\n",
       " ('#제주도민맛집', 63),\n",
       " ('#제주도맛집리스트', 63),\n",
       " ('#제주안덕면맛집', 63),\n",
       " ('#제주도현지인맛집', 63),\n",
       " ('#제주도중문맛집', 63),\n",
       " ('#제주중문단지맛집', 63),\n",
       " ('#둥이네식당', 63),\n",
       " ('#제주두루치기맛집', 63),\n",
       " ('#통문어두루치기', 63),\n",
       " ('#제주도두루치기맛집', 63),\n",
       " ('#제주모슬포맛집', 62),\n",
       " ('#제주도밤에가볼만한곳', 60),\n",
       " ('#제주애월맛집', 58),\n",
       " ('#여행스타그램', 57),\n",
       " ('#제주도가볼만한곳', 53),\n",
       " ('#제주핫플', 53),\n",
       " ('#제주핫플레이스', 51),\n",
       " ('#여행에미치다', 50),\n",
       " ('#제주협재맛집', 47),\n",
       " ('#제주맛집추천', 43),\n",
       " ('#일상', 43),\n",
       " ('#제주시맛집', 42),\n",
       " ('#서귀포카페', 41),\n",
       " ('#제주관광', 39),\n",
       " ('#협재해수욕장', 38),\n",
       " ('#수목원길야시장', 37)]"
      ]
     },
     "execution_count": 6,
     "metadata": {},
     "output_type": "execute_result"
    }
   ],
   "source": [
    "tags_counts.most_common(50)"
   ]
  },
  {
   "cell_type": "code",
   "execution_count": 7,
   "metadata": {},
   "outputs": [
    {
     "data": {
      "text/plain": [
       "[('#제주도여행', 414),\n",
       " ('#제주도관광', 278),\n",
       " ('#제주도맛집', 267),\n",
       " ('#제주여행', 239),\n",
       " ('#제주맛집', 212),\n",
       " ('#서귀포맛집', 129),\n",
       " ('#애월맛집', 116),\n",
       " ('#제주가볼만한곳', 110),\n",
       " ('#오설록맛집', 97),\n",
       " ('#제주도핫플레이스', 90),\n",
       " ('#협재맛집', 86),\n",
       " ('#제주카페', 84),\n",
       " ('#한림맛집', 83),\n",
       " ('#산방산맛집', 77),\n",
       " ('#제주공항근처맛집', 73),\n",
       " ('#정직한돈', 72),\n",
       " ('#제주중문맛집', 70),\n",
       " ('#제주도카페', 66),\n",
       " ('#제주도태교여행', 64),\n",
       " ('#산방산근처맛집', 64),\n",
       " ('#제주도민맛집', 63),\n",
       " ('#제주도맛집리스트', 63),\n",
       " ('#제주안덕면맛집', 63),\n",
       " ('#제주도현지인맛집', 63),\n",
       " ('#제주도중문맛집', 63),\n",
       " ('#제주중문단지맛집', 63),\n",
       " ('#둥이네식당', 63),\n",
       " ('#제주두루치기맛집', 63),\n",
       " ('#통문어두루치기', 63),\n",
       " ('#제주도두루치기맛집', 63),\n",
       " ('#제주모슬포맛집', 62),\n",
       " ('#제주도밤에가볼만한곳', 60),\n",
       " ('#제주애월맛집', 58),\n",
       " ('#제주도가볼만한곳', 53),\n",
       " ('#제주핫플', 53),\n",
       " ('#제주핫플레이스', 51),\n",
       " ('#제주협재맛집', 47),\n",
       " ('#제주맛집추천', 43),\n",
       " ('#제주시맛집', 42),\n",
       " ('#서귀포카페', 41),\n",
       " ('#제주관광', 39),\n",
       " ('#협재해수욕장', 38),\n",
       " ('#수목원길야시장', 37),\n",
       " ('#서귀포가볼만한곳', 36),\n",
       " ('#서귀포여행', 34),\n",
       " ('#제주공항맛집', 34),\n",
       " ('#곽지맛집', 34),\n",
       " ('#혜윰갤러리', 33),\n",
       " ('#요정드레스', 33),\n",
       " ('#할로윈파티', 33)]"
      ]
     },
     "execution_count": 7,
     "metadata": {},
     "output_type": "execute_result"
    }
   ],
   "source": [
    "#제주도 관광과 무관한 해시태그를 저장\n",
    "STOPWORDS = ['#일상','#여행에미치다','#여행스타그램','#소통','#맞팔','#제주도','#jeju','#제주','','#로빠꼬야','#공주드레스']\n",
    "\n",
    "tag_total_selected = []\n",
    "for tag in tags_total:\n",
    "    if  tag not in STOPWORDS:\n",
    "        tag_total_selected.append(tag)\n",
    "\n",
    "tag_counts_selected = Counter(tag_total_selected)\n",
    "tag_counts_selected.most_common(50)"
   ]
  },
  {
   "cell_type": "markdown",
   "metadata": {},
   "source": [
    "#### 4.2.4 막대차트로 해시태그 살펴보기\n"
   ]
  },
  {
   "cell_type": "code",
   "execution_count": 8,
   "metadata": {},
   "outputs": [],
   "source": [
    "import matplotlib.pyplot as plt\n",
    "import seaborn as sns\n",
    "\n",
    "plt.rc('font',family='NanumGothic')"
   ]
  },
  {
   "cell_type": "code",
   "execution_count": 9,
   "metadata": {},
   "outputs": [],
   "source": [
    "tag_counts_df = pd.DataFrame(tag_counts_selected.most_common(30))\n",
    "tag_counts_df.columns = ['tags','counts']"
   ]
  },
  {
   "cell_type": "code",
   "execution_count": 10,
   "metadata": {},
   "outputs": [
    {
     "data": {
      "text/plain": [
       "<matplotlib.axes._subplots.AxesSubplot at 0x1cd4f1d9d88>"
      ]
     },
     "execution_count": 10,
     "metadata": {},
     "output_type": "execute_result"
    },
    {
     "data": {
      "image/png": "[encoded data removed]",
      "text/plain": [
       "<Figure size 720x576 with 1 Axes>"
      ]
     },
     "metadata": {
      "needs_background": "light"
     },
     "output_type": "display_data"
    }
   ],
   "source": [
    "#차트 이밎의 크기를 조정하는 함수\n",
    "plt.figure(figsize =(10,8))\n",
    "#sns.barplot은 x,y,data 를 입력하여 막대그래프로 시각화\n",
    "sns.barplot(x='counts',y= 'tags', data= tag_counts_df)"
   ]
  },
  {
   "cell_type": "markdown",
   "metadata": {},
   "source": [
    "#### 4.2.5 워드 클라우드 그리기\n"
   ]
  },
  {
   "cell_type": "code",
   "execution_count": 11,
   "metadata": {},
   "outputs": [
    {
     "name": "stdout",
     "output_type": "stream",
     "text": [
      "Requirement already satisfied: wordcloud in c:\\users\\jye12\\anaconda\\lib\\site-packages (1.7.0)\n",
      "Requirement already satisfied: numpy>=1.6.1 in c:\\users\\jye12\\anaconda\\lib\\site-packages (from wordcloud) (1.19.0)\n",
      "Requirement already satisfied: matplotlib in c:\\users\\jye12\\anaconda\\lib\\site-packages (from wordcloud) (3.2.2)\n",
      "Requirement already satisfied: pillow in c:\\users\\jye12\\anaconda\\lib\\site-packages (from wordcloud) (7.1.2)\n",
      "Requirement already satisfied: pyparsing!=2.0.4,!=2.1.2,!=2.1.6,>=2.0.1 in c:\\users\\jye12\\anaconda\\lib\\site-packages (from matplotlib->wordcloud) (2.4.7)\n",
      "Requirement already satisfied: cycler>=0.10 in c:\\users\\jye12\\anaconda\\lib\\site-packages (from matplotlib->wordcloud) (0.10.0)\n",
      "Requirement already satisfied: kiwisolver>=1.0.1 in c:\\users\\jye12\\anaconda\\lib\\site-packages (from matplotlib->wordcloud) (1.2.0)\n",
      "Requirement already satisfied: python-dateutil>=2.1 in c:\\users\\jye12\\anaconda\\lib\\site-packages (from matplotlib->wordcloud) (2.8.1)\n",
      "Requirement already satisfied: six in c:\\users\\jye12\\anaconda\\lib\\site-packages (from cycler>=0.10->matplotlib->wordcloud) (1.15.0)\n"
     ]
    }
   ],
   "source": [
    "!pip install wordcloud"
   ]
  },
  {
   "cell_type": "code",
   "execution_count": 12,
   "metadata": {},
   "outputs": [],
   "source": [
    "from wordcloud import WordCloud\n",
    "import platform\n",
    "\n",
    "if platform.system() == 'Windows':\n",
    "    font_path ='c:/Windows/Fonts/NanumGothic.ttf'"
   ]
  },
  {
   "cell_type": "code",
   "execution_count": 18,
   "metadata": {},
   "outputs": [
    {
     "ename": "OSError",
     "evalue": "cannot open resource",
     "output_type": "error",
     "traceback": [
      "\u001b[1;31m---------------------------------------------------------------------------\u001b[0m",
      "\u001b[1;31mOSError\u001b[0m                                   Traceback (most recent call last)",
      "\u001b[1;32m<ipython-input-18-8dc71f383652>\u001b[0m in \u001b[0;36m<module>\u001b[1;34m\u001b[0m\n\u001b[0;32m      4\u001b[0m                      \u001b[0mrelative_scaling\u001b[0m\u001b[1;33m=\u001b[0m\u001b[1;36m0.3\u001b[0m\u001b[1;33m,\u001b[0m               \u001b[1;31m# 워드 클라우드 내 글자들의 상대적인 크기 (0: 빈도수의 순위 , 1:빈도수 자체)\u001b[0m\u001b[1;33m\u001b[0m\u001b[1;33m\u001b[0m\u001b[0m\n\u001b[0;32m      5\u001b[0m                      \u001b[0mwidth\u001b[0m \u001b[1;33m=\u001b[0m\u001b[1;36m800\u001b[0m\u001b[1;33m,\u001b[0m\u001b[1;33m\u001b[0m\u001b[1;33m\u001b[0m\u001b[0m\n\u001b[1;32m----> 6\u001b[1;33m                      height=400).generate_from_frequencies(tag_counts_selected)\n\u001b[0m\u001b[0;32m      7\u001b[0m \u001b[1;33m\u001b[0m\u001b[0m\n\u001b[0;32m      8\u001b[0m \u001b[0mplt\u001b[0m\u001b[1;33m.\u001b[0m\u001b[0mfigure\u001b[0m\u001b[1;33m(\u001b[0m\u001b[0mfigsize\u001b[0m\u001b[1;33m=\u001b[0m\u001b[1;33m(\u001b[0m\u001b[1;36m15\u001b[0m\u001b[1;33m,\u001b[0m\u001b[1;36m10\u001b[0m\u001b[1;33m)\u001b[0m\u001b[1;33m)\u001b[0m\u001b[1;33m\u001b[0m\u001b[1;33m\u001b[0m\u001b[0m\n",
      "\u001b[1;32m~\\anaconda\\lib\\site-packages\\wordcloud\\wordcloud.py\u001b[0m in \u001b[0;36mgenerate_from_frequencies\u001b[1;34m(self, frequencies, max_font_size)\u001b[0m\n\u001b[0;32m    445\u001b[0m             \u001b[1;32melse\u001b[0m\u001b[1;33m:\u001b[0m\u001b[1;33m\u001b[0m\u001b[1;33m\u001b[0m\u001b[0m\n\u001b[0;32m    446\u001b[0m                 self.generate_from_frequencies(dict(frequencies[:2]),\n\u001b[1;32m--> 447\u001b[1;33m                                                max_font_size=self.height)\n\u001b[0m\u001b[0;32m    448\u001b[0m                 \u001b[1;31m# find font sizes\u001b[0m\u001b[1;33m\u001b[0m\u001b[1;33m\u001b[0m\u001b[1;33m\u001b[0m\u001b[0m\n\u001b[0;32m    449\u001b[0m                 \u001b[0msizes\u001b[0m \u001b[1;33m=\u001b[0m \u001b[1;33m[\u001b[0m\u001b[0mx\u001b[0m\u001b[1;33m[\u001b[0m\u001b[1;36m1\u001b[0m\u001b[1;33m]\u001b[0m \u001b[1;32mfor\u001b[0m \u001b[0mx\u001b[0m \u001b[1;32min\u001b[0m \u001b[0mself\u001b[0m\u001b[1;33m.\u001b[0m\u001b[0mlayout_\u001b[0m\u001b[1;33m]\u001b[0m\u001b[1;33m\u001b[0m\u001b[1;33m\u001b[0m\u001b[0m\n",
      "\u001b[1;32m~\\anaconda\\lib\\site-packages\\wordcloud\\wordcloud.py\u001b[0m in \u001b[0;36mgenerate_from_frequencies\u001b[1;34m(self, frequencies, max_font_size)\u001b[0m\n\u001b[0;32m    494\u001b[0m             \u001b[1;32mwhile\u001b[0m \u001b[1;32mTrue\u001b[0m\u001b[1;33m:\u001b[0m\u001b[1;33m\u001b[0m\u001b[1;33m\u001b[0m\u001b[0m\n\u001b[0;32m    495\u001b[0m                 \u001b[1;31m# try to find a position\u001b[0m\u001b[1;33m\u001b[0m\u001b[1;33m\u001b[0m\u001b[1;33m\u001b[0m\u001b[0m\n\u001b[1;32m--> 496\u001b[1;33m                 \u001b[0mfont\u001b[0m \u001b[1;33m=\u001b[0m \u001b[0mImageFont\u001b[0m\u001b[1;33m.\u001b[0m\u001b[0mtruetype\u001b[0m\u001b[1;33m(\u001b[0m\u001b[0mself\u001b[0m\u001b[1;33m.\u001b[0m\u001b[0mfont_path\u001b[0m\u001b[1;33m,\u001b[0m \u001b[0mfont_size\u001b[0m\u001b[1;33m)\u001b[0m\u001b[1;33m\u001b[0m\u001b[1;33m\u001b[0m\u001b[0m\n\u001b[0m\u001b[0;32m    497\u001b[0m                 \u001b[1;31m# transpose font optionally\u001b[0m\u001b[1;33m\u001b[0m\u001b[1;33m\u001b[0m\u001b[1;33m\u001b[0m\u001b[0m\n\u001b[0;32m    498\u001b[0m                 transposed_font = ImageFont.TransposedFont(\n",
      "\u001b[1;32m~\\anaconda\\lib\\site-packages\\PIL\\ImageFont.py\u001b[0m in \u001b[0;36mtruetype\u001b[1;34m(font, size, index, encoding, layout_engine)\u001b[0m\n\u001b[0;32m    646\u001b[0m \u001b[1;33m\u001b[0m\u001b[0m\n\u001b[0;32m    647\u001b[0m     \u001b[1;32mtry\u001b[0m\u001b[1;33m:\u001b[0m\u001b[1;33m\u001b[0m\u001b[1;33m\u001b[0m\u001b[0m\n\u001b[1;32m--> 648\u001b[1;33m         \u001b[1;32mreturn\u001b[0m \u001b[0mfreetype\u001b[0m\u001b[1;33m(\u001b[0m\u001b[0mfont\u001b[0m\u001b[1;33m)\u001b[0m\u001b[1;33m\u001b[0m\u001b[1;33m\u001b[0m\u001b[0m\n\u001b[0m\u001b[0;32m    649\u001b[0m     \u001b[1;32mexcept\u001b[0m \u001b[0mOSError\u001b[0m\u001b[1;33m:\u001b[0m\u001b[1;33m\u001b[0m\u001b[1;33m\u001b[0m\u001b[0m\n\u001b[0;32m    650\u001b[0m         \u001b[1;32mif\u001b[0m \u001b[1;32mnot\u001b[0m \u001b[0misPath\u001b[0m\u001b[1;33m(\u001b[0m\u001b[0mfont\u001b[0m\u001b[1;33m)\u001b[0m\u001b[1;33m:\u001b[0m\u001b[1;33m\u001b[0m\u001b[1;33m\u001b[0m\u001b[0m\n",
      "\u001b[1;32m~\\anaconda\\lib\\site-packages\\PIL\\ImageFont.py\u001b[0m in \u001b[0;36mfreetype\u001b[1;34m(font)\u001b[0m\n\u001b[0;32m    643\u001b[0m \u001b[1;33m\u001b[0m\u001b[0m\n\u001b[0;32m    644\u001b[0m     \u001b[1;32mdef\u001b[0m \u001b[0mfreetype\u001b[0m\u001b[1;33m(\u001b[0m\u001b[0mfont\u001b[0m\u001b[1;33m)\u001b[0m\u001b[1;33m:\u001b[0m\u001b[1;33m\u001b[0m\u001b[1;33m\u001b[0m\u001b[0m\n\u001b[1;32m--> 645\u001b[1;33m         \u001b[1;32mreturn\u001b[0m \u001b[0mFreeTypeFont\u001b[0m\u001b[1;33m(\u001b[0m\u001b[0mfont\u001b[0m\u001b[1;33m,\u001b[0m \u001b[0msize\u001b[0m\u001b[1;33m,\u001b[0m \u001b[0mindex\u001b[0m\u001b[1;33m,\u001b[0m \u001b[0mencoding\u001b[0m\u001b[1;33m,\u001b[0m \u001b[0mlayout_engine\u001b[0m\u001b[1;33m)\u001b[0m\u001b[1;33m\u001b[0m\u001b[1;33m\u001b[0m\u001b[0m\n\u001b[0m\u001b[0;32m    646\u001b[0m \u001b[1;33m\u001b[0m\u001b[0m\n\u001b[0;32m    647\u001b[0m     \u001b[1;32mtry\u001b[0m\u001b[1;33m:\u001b[0m\u001b[1;33m\u001b[0m\u001b[1;33m\u001b[0m\u001b[0m\n",
      "\u001b[1;32m~\\anaconda\\lib\\site-packages\\PIL\\ImageFont.py\u001b[0m in \u001b[0;36m__init__\u001b[1;34m(self, font, size, index, encoding, layout_engine)\u001b[0m\n\u001b[0;32m    192\u001b[0m                     \u001b[1;32mreturn\u001b[0m\u001b[1;33m\u001b[0m\u001b[1;33m\u001b[0m\u001b[0m\n\u001b[0;32m    193\u001b[0m             self.font = core.getfont(\n\u001b[1;32m--> 194\u001b[1;33m                 \u001b[0mfont\u001b[0m\u001b[1;33m,\u001b[0m \u001b[0msize\u001b[0m\u001b[1;33m,\u001b[0m \u001b[0mindex\u001b[0m\u001b[1;33m,\u001b[0m \u001b[0mencoding\u001b[0m\u001b[1;33m,\u001b[0m \u001b[0mlayout_engine\u001b[0m\u001b[1;33m=\u001b[0m\u001b[0mlayout_engine\u001b[0m\u001b[1;33m\u001b[0m\u001b[1;33m\u001b[0m\u001b[0m\n\u001b[0m\u001b[0;32m    195\u001b[0m             )\n\u001b[0;32m    196\u001b[0m         \u001b[1;32melse\u001b[0m\u001b[1;33m:\u001b[0m\u001b[1;33m\u001b[0m\u001b[1;33m\u001b[0m\u001b[0m\n",
      "\u001b[1;31mOSError\u001b[0m: cannot open resource"
     ]
    }
   ],
   "source": [
    "wordcloud = WordCloud(font_path =font_name,          #글꼴\n",
    "                     background_color='white',           #배경색\n",
    "                     max_words=100,                      #최대 몇 개의 단어를 나타낼 것인지\n",
    "                     relative_scaling=0.3,               # 워드 클라우드 내 글자들의 상대적인 크기 (0: 빈도수의 순위 , 1:빈도수 자체)\n",
    "                     width =800,\n",
    "                     height=400).generate_from_frequencies(tag_counts_selected)\n",
    "\n",
    "plt.figure(figsize=(15,10))\n",
    "plt.imshow(wordcloud)\n",
    "plt.axis('off')\n",
    "plt.savefig('./files/jeju_tag_wordcloud.png')"
   ]
  },
  {
   "cell_type": "markdown",
   "metadata": {},
   "source": [
    "해시태그의 특성상 특정 지역에 대한 언급보다는 보편적인 표현이 많아 우리가 원하는 핫플레이스 파악이 여의치 않습니다.  \n",
    "다음 장에서는 위치 정보를 이용해 지도 시각화를 하며 핫플레이스가 어디인지 확인해 보겠습니다."
   ]
  },
  {
   "cell_type": "code",
   "execution_count": 20,
   "metadata": {},
   "outputs": [
    {
     "ename": "FileNotFoundError",
     "evalue": "[Errno 2] No such file or directory: 'c:/Windows/Fonts/NanumGothic.ttf'",
     "output_type": "error",
     "traceback": [
      "\u001b[1;31m---------------------------------------------------------------------------\u001b[0m",
      "\u001b[1;31mFileNotFoundError\u001b[0m                         Traceback (most recent call last)",
      "\u001b[1;32m<ipython-input-20-89bd44132bed>\u001b[0m in \u001b[0;36m<module>\u001b[1;34m\u001b[0m\n\u001b[0;32m      1\u001b[0m \u001b[1;32mfrom\u001b[0m \u001b[0mmatplotlib\u001b[0m \u001b[1;32mimport\u001b[0m \u001b[0mfont_manager\u001b[0m\u001b[1;33m,\u001b[0m \u001b[0mrc\u001b[0m\u001b[1;33m\u001b[0m\u001b[1;33m\u001b[0m\u001b[0m\n\u001b[1;32m----> 2\u001b[1;33m \u001b[0mfont_name\u001b[0m \u001b[1;33m=\u001b[0m \u001b[0mfont_manager\u001b[0m\u001b[1;33m.\u001b[0m\u001b[0mFontProperties\u001b[0m\u001b[1;33m(\u001b[0m\u001b[0mfname\u001b[0m\u001b[1;33m=\u001b[0m\u001b[1;34m\"c:/Windows/Fonts/NanumGothic.ttf\"\u001b[0m\u001b[1;33m)\u001b[0m\u001b[1;33m.\u001b[0m\u001b[0mget_name\u001b[0m\u001b[1;33m(\u001b[0m\u001b[1;33m)\u001b[0m\u001b[1;33m\u001b[0m\u001b[1;33m\u001b[0m\u001b[0m\n\u001b[0m\u001b[0;32m      3\u001b[0m \u001b[0mrc\u001b[0m\u001b[1;33m(\u001b[0m\u001b[1;34m'font'\u001b[0m\u001b[1;33m,\u001b[0m \u001b[0mfamily\u001b[0m\u001b[1;33m=\u001b[0m\u001b[0mfont_name\u001b[0m\u001b[1;33m)\u001b[0m\u001b[1;33m\u001b[0m\u001b[1;33m\u001b[0m\u001b[0m\n",
      "\u001b[1;32m~\\anaconda\\lib\\site-packages\\matplotlib\\font_manager.py\u001b[0m in \u001b[0;36mget_name\u001b[1;34m(self)\u001b[0m\n\u001b[0;32m    687\u001b[0m         \u001b[0mReturn\u001b[0m \u001b[0mthe\u001b[0m \u001b[0mname\u001b[0m \u001b[0mof\u001b[0m \u001b[0mthe\u001b[0m \u001b[0mfont\u001b[0m \u001b[0mthat\u001b[0m \u001b[0mbest\u001b[0m \u001b[0mmatches\u001b[0m \u001b[0mthe\u001b[0m \u001b[0mfont\u001b[0m \u001b[0mproperties\u001b[0m\u001b[1;33m.\u001b[0m\u001b[1;33m\u001b[0m\u001b[1;33m\u001b[0m\u001b[0m\n\u001b[0;32m    688\u001b[0m         \"\"\"\n\u001b[1;32m--> 689\u001b[1;33m         \u001b[1;32mreturn\u001b[0m \u001b[0mget_font\u001b[0m\u001b[1;33m(\u001b[0m\u001b[0mfindfont\u001b[0m\u001b[1;33m(\u001b[0m\u001b[0mself\u001b[0m\u001b[1;33m)\u001b[0m\u001b[1;33m)\u001b[0m\u001b[1;33m.\u001b[0m\u001b[0mfamily_name\u001b[0m\u001b[1;33m\u001b[0m\u001b[1;33m\u001b[0m\u001b[0m\n\u001b[0m\u001b[0;32m    690\u001b[0m \u001b[1;33m\u001b[0m\u001b[0m\n\u001b[0;32m    691\u001b[0m     \u001b[1;32mdef\u001b[0m \u001b[0mget_style\u001b[0m\u001b[1;33m(\u001b[0m\u001b[0mself\u001b[0m\u001b[1;33m)\u001b[0m\u001b[1;33m:\u001b[0m\u001b[1;33m\u001b[0m\u001b[1;33m\u001b[0m\u001b[0m\n",
      "\u001b[1;32m~\\anaconda\\lib\\site-packages\\matplotlib\\font_manager.py\u001b[0m in \u001b[0;36mget_font\u001b[1;34m(filename, hinting_factor)\u001b[0m\n\u001b[0;32m   1327\u001b[0m         \u001b[0mhinting_factor\u001b[0m \u001b[1;33m=\u001b[0m \u001b[0mrcParams\u001b[0m\u001b[1;33m[\u001b[0m\u001b[1;34m'text.hinting_factor'\u001b[0m\u001b[1;33m]\u001b[0m\u001b[1;33m\u001b[0m\u001b[1;33m\u001b[0m\u001b[0m\n\u001b[0;32m   1328\u001b[0m     return _get_font(os.fspath(filename), hinting_factor,\n\u001b[1;32m-> 1329\u001b[1;33m                      _kerning_factor=rcParams['text.kerning_factor'])\n\u001b[0m\u001b[0;32m   1330\u001b[0m \u001b[1;33m\u001b[0m\u001b[0m\n\u001b[0;32m   1331\u001b[0m \u001b[1;33m\u001b[0m\u001b[0m\n",
      "\u001b[1;31mFileNotFoundError\u001b[0m: [Errno 2] No such file or directory: 'c:/Windows/Fonts/NanumGothic.ttf'"
     ]
    }
   ],
   "source": [
    "from matplotlib import font_manager, rc\n",
    "font_name = font_manager.FontProperties(fname=\"c:/Windows//Fonts/나누.ttf\").get_name()\n",
    "rc('font', family=font_name)"
   ]
  },
  {
   "cell_type": "code",
   "execution_count": null,
   "metadata": {},
   "outputs": [],
   "source": []
  }
 ],
 "metadata": {
  "kernelspec": {
   "display_name": "Python 3",
   "language": "python",
   "name": "python3"
  },
  "language_info": {
   "codemirror_mode": {
    "name": "ipython",
    "version": 3
   },
   "file_extension": ".py",
   "mimetype": "text/x-python",
   "name": "python",
   "nbconvert_exporter": "python",
   "pygments_lexer": "ipython3",
   "version": "3.7.6"
  }
 },
 "nbformat": 4,
 "nbformat_minor": 4
}
