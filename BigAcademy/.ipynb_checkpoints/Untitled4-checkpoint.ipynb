{
 "cells": [
  {
   "cell_type": "code",
   "execution_count": 1,
   "metadata": {},
   "outputs": [
    {
     "data": {
      "text/plain": [
       "7"
      ]
     },
     "execution_count": 1,
     "metadata": {},
     "output_type": "execute_result"
    }
   ],
   "source": [
    "3+4"
   ]
  },
  {
   "cell_type": "code",
   "execution_count": 3,
   "metadata": {},
   "outputs": [
    {
     "name": "stdout",
     "output_type": "stream",
     "text": [
      "Collecting path\n",
      "  Downloading https://files.pythonhosted.org/packages/4d/24/5827e075036b5bb6b538f71bf39574d4a8024c5df51206cb9d6739e24d94/path-13.1.0-py3-none-any.whl\n",
      "Requirement already satisfied: importlib-metadata>=0.5; python_version < \"3.8\" in c:\\python3.5\\lib\\site-packages (from path)\n",
      "Requirement already satisfied: zipp>=0.5 in c:\\python3.5\\lib\\site-packages (from importlib-metadata>=0.5; python_version < \"3.8\"->path)\n",
      "Installing collected packages: path\n",
      "Successfully installed path-13.1.0\n"
     ]
    },
    {
     "name": "stderr",
     "output_type": "stream",
     "text": [
      "You are using pip version 9.0.1, however version 20.1.1 is available.\n",
      "You should consider upgrading via the 'python -m pip install --upgrade pip' command.\n"
     ]
    }
   ],
   "source": [
    "!pip install path"
   ]
  },
  {
   "cell_type": "code",
   "execution_count": 4,
   "metadata": {},
   "outputs": [],
   "source": [
    "import path,os"
   ]
  },
  {
   "cell_type": "code",
   "execution_count": 5,
   "metadata": {},
   "outputs": [],
   "source": [
    "import sys"
   ]
  },
  {
   "cell_type": "code",
   "execution_count": 6,
   "metadata": {},
   "outputs": [
    {
     "name": "stdout",
     "output_type": "stream",
     "text": [
      "1.이름을 입력하세요 : 강찬\n",
      "2.취미를 입력하세요 : 음악 감상\n",
      "강찬님의 취미는 음악 감상입니다.\n"
     ]
    }
   ],
   "source": [
    "name = input('1.이름을 입력하세요 : ')\n",
    "hab = input('2.취미를 입력하세요 : ')\n",
    "print('{}님의 취미는 {}입니다.'.format(name,hab))"
   ]
  },
  {
   "cell_type": "code",
   "execution_count": 8,
   "metadata": {},
   "outputs": [
    {
     "name": "stdout",
     "output_type": "stream",
     "text": [
      "1.서울    2.부산    3.제주    4.여수    5.남해\n",
      "\n",
      "1.위 지역중 여행하고 싶은 지역번호를 입력하세요 : 3\n",
      "2.여행하실 총 인원수를 입력하세요 : 4\n",
      "\n",
      "여행하실 지역의 번호는 3이고 총 인원수는 4 명입니다.\n"
     ]
    }
   ],
   "source": [
    "print('1.서울    2.부산    3.제주    4.여수    5.남해')\n",
    "print()\n",
    "loc = input(\"1.위 지역중 여행하고 싶은 지역번호를 입력하세요 : \")\n",
    "num = input(\"2.여행하실 총 인원수를 입력하세요 : \")\n",
    "print()\n",
    "print('여행하실 지역의 번호는 {}이고 총 인원수는 {} 명입니다.'.format(loc,num))"
   ]
  },
  {
   "cell_type": "code",
   "execution_count": null,
   "metadata": {},
   "outputs": [],
   "source": []
  }
 ],
 "metadata": {
  "kernelspec": {
   "display_name": "Python 3",
   "language": "python",
   "name": "python3"
  },
  "language_info": {
   "codemirror_mode": {
    "name": "ipython",
    "version": 3
   },
   "file_extension": ".py",
   "mimetype": "text/x-python",
   "name": "python",
   "nbconvert_exporter": "python",
   "pygments_lexer": "ipython3",
   "version": "3.5.4"
  }
 },
 "nbformat": 4,
 "nbformat_minor": 4
}
