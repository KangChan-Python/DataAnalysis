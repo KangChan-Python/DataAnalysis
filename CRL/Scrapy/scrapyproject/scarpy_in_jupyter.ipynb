{
 "cells": [
  {
   "cell_type": "code",
   "execution_count": 1,
   "metadata": {},
   "outputs": [
    {
     "name": "stdout",
     "output_type": "stream",
     "text": [
      "New Scrapy project 'naverBlog', using template directory 'C:\\Users\\jye12\\anaconda\\lib\\site-packages\\scrapy\\templates\\project', created in:\n",
      "    C:\\Users\\jye12\\Python\\DataAnalysis\\CRL\\Scrapy\\scrapyproject\\naverBlog\n",
      "\n",
      "You can start your first spider with:\n",
      "    cd naverBlog\n",
      "    scrapy genspider example example.com\n"
     ]
    }
   ],
   "source": [
    "!scrapy startproject naverBlog"
   ]
  },
  {
   "cell_type": "code",
   "execution_count": 32,
   "metadata": {},
   "outputs": [],
   "source": [
    "#numstr = input('시작 날짜와 마지막 날짜를 입력해주세요 : ')\n",
    "#fromdate , todate = numstr.split()[0], numstr.split()[1]\n",
    "#search = input('포함할 검색어를 입력해주세요 : ')\n",
    "#search_without =input('제외할 검색어를 입력해주세요 : ')\n",
    "#with1 =''\n",
    "\n",
    "#for index ,i in enumerate(search.strip().split()):\n",
    "#     with1 += i\n",
    "#     if not index == len(search.strip().split())-1:\n",
    "#         with1 += '+'\n",
    "# without = with1\n",
    "# for index, i in enumerate(search_without.strip().split()):\n",
    "#     without += '-' +i\n",
    "#print(fromdate, todate, with1, without)\n",
    "fromdate,todate,without,with1 =20200712 , 20200712, '통영+맛집-장례식장', '통영+맛집'\n",
    "url = 'search.naver.com/search.naver?date_from={}&date_option=8&date_to={}&dup_remove=1&nso=p%3Afrom{}to{}&post_blogurl=&post_blogurl_without={}&query={}&sm=tab_pge&srchby=all&st=sim&where=post&start=1'.format(fromdate,todate,fromdate,todate,without,with1)\n",
    "url = 'http://' + url\n",
    "from selenium import webdriver"
   ]
  },
  {
   "cell_type": "code",
   "execution_count": 14,
   "metadata": {},
   "outputs": [
    {
     "data": {
      "text/plain": [
       "'query=1&sm=tab_pge&srchby=all&st=sim&where=post&start=1'"
      ]
     },
     "execution_count": 14,
     "metadata": {},
     "output_type": "execute_result"
    }
   ],
   "source": [
    "'query={}&sm=tab_pge&srchby=all&st=sim&where=post&start=1'.format(with1)"
   ]
  },
  {
   "cell_type": "code",
   "execution_count": 34,
   "metadata": {},
   "outputs": [],
   "source": [
    "driver = webdriver.Chrome('./chromedriver.exe')"
   ]
  },
  {
   "cell_type": "code",
   "execution_count": 35,
   "metadata": {},
   "outputs": [],
   "source": [
    "\n",
    "driver.get(url)"
   ]
  },
  {
   "cell_type": "code",
   "execution_count": 36,
   "metadata": {},
   "outputs": [
    {
     "name": "stdout",
     "output_type": "stream",
     "text": [
      "1\n",
      "11\n",
      "21\n",
      "31\n",
      "41\n",
      "51\n",
      "61\n",
      "71\n",
      "81\n",
      "91\n",
      "101\n",
      "111\n",
      "121\n",
      "131\n",
      "141\n",
      "151\n"
     ]
    }
   ],
   "source": [
    "pagen = 16\n",
    "for i in range(1, pagen *10 + 1, 10):\n",
    "    print(i)"
   ]
  },
  {
   "cell_type": "code",
   "execution_count": null,
   "metadata": {},
   "outputs": [],
   "source": []
  }
 ],
 "metadata": {
  "kernelspec": {
   "display_name": "Python 3",
   "language": "python",
   "name": "python3"
  },
  "language_info": {
   "codemirror_mode": {
    "name": "ipython",
    "version": 3
   },
   "file_extension": ".py",
   "mimetype": "text/x-python",
   "name": "python",
   "nbconvert_exporter": "python",
   "pygments_lexer": "ipython3",
   "version": "3.7.6"
  }
 },
 "nbformat": 4,
 "nbformat_minor": 4
}
