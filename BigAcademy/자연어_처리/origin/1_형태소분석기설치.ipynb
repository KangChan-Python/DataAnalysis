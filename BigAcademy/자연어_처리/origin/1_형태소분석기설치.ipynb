{
 "cells": [
  {
   "cell_type": "code",
   "execution_count": 1,
   "metadata": {
    "colab": {},
    "colab_type": "code",
    "id": "EygDchL9tDk5"
   },
   "outputs": [
    {
     "name": "stdout",
     "output_type": "stream",
     "text": [
      "Python 3.7.6\n"
     ]
    }
   ],
   "source": [
    "!python --version"
   ]
  },
  {
   "cell_type": "code",
   "execution_count": 2,
   "metadata": {
    "colab": {
     "base_uri": "https://localhost:8080/",
     "height": 108
    },
    "colab_type": "code",
    "executionInfo": {
     "elapsed": 5306,
     "status": "ok",
     "timestamp": 1591859721119,
     "user": {
      "displayName": "최석재",
      "photoUrl": "https://lh3.googleusercontent.com/a-/AOh14GiiJRXT6vTRiy9987vo52Z1V7EPvNuOCvtYhBTiEw=s64",
      "userId": "09969236112114002539"
     },
     "user_tz": -540
    },
    "id": "UzztgBOltEw6",
    "outputId": "645f070f-4f25-49a2-988a-3ee21a26725f"
   },
   "outputs": [
    {
     "name": "stdout",
     "output_type": "stream",
     "text": [
      "Collecting JPype1==0.7.5\n",
      "  Downloading JPype1-0.7.5-cp37-cp37m-win_amd64.whl (1.4 MB)\n",
      "Installing collected packages: JPype1\n",
      "Successfully installed JPype1-0.7.5\n"
     ]
    }
   ],
   "source": [
    "# 2. JPype 설치\n",
    "!pip install JPype1==0.7.5"
   ]
  },
  {
   "cell_type": "code",
   "execution_count": 3,
   "metadata": {
    "colab": {
     "base_uri": "https://localhost:8080/",
     "height": 108
    },
    "colab_type": "code",
    "executionInfo": {
     "elapsed": 4343,
     "status": "ok",
     "timestamp": 1591859734356,
     "user": {
      "displayName": "최석재",
      "photoUrl": "https://lh3.googleusercontent.com/a-/AOh14GiiJRXT6vTRiy9987vo52Z1V7EPvNuOCvtYhBTiEw=s64",
      "userId": "09969236112114002539"
     },
     "user_tz": -540
    },
    "id": "GphdF1IUtH76",
    "outputId": "3bc5f6fd-23e0-41b1-8ca8-581268836d39"
   },
   "outputs": [
    {
     "name": "stdout",
     "output_type": "stream",
     "text": [
      "Collecting rhinoMorph\n",
      "  Downloading rhinoMorph-3.7.8.6-py3-none-any.whl (3.0 MB)\n",
      "Installing collected packages: rhinoMorph\n",
      "Successfully installed rhinoMorph-3.7.8.6\n"
     ]
    }
   ],
   "source": [
    "# 3. RHINO 설치\n",
    "!pip install rhinoMorph"
   ]
  },
  {
   "cell_type": "code",
   "execution_count": 1,
   "metadata": {
    "colab": {
     "base_uri": "https://localhost:8080/",
     "height": 71
    },
    "colab_type": "code",
    "executionInfo": {
     "elapsed": 3944,
     "status": "ok",
     "timestamp": 1591859759399,
     "user": {
      "displayName": "최석재",
      "photoUrl": "https://lh3.googleusercontent.com/a-/AOh14GiiJRXT6vTRiy9987vo52Z1V7EPvNuOCvtYhBTiEw=s64",
      "userId": "09969236112114002539"
     },
     "user_tz": -540
    },
    "id": "zGzf-j1LtI9z",
    "outputId": "44b05bcb-8c76-4751-a2d0-306967287ce4"
   },
   "outputs": [
    {
     "name": "stdout",
     "output_type": "stream",
     "text": [
      "filepath:  C:\\Users\\jye12\\anaconda\\lib\\site-packages\n",
      "classpath:  C:\\Users\\jye12\\anaconda\\lib\\site-packages\\rhinoMorph/lib/rhino.jar\n",
      "RHINO started!\n"
     ]
    }
   ],
   "source": [
    "# 4. RHINO 시작\n",
    "import rhinoMorph\n",
    "rn = rhinoMorph.startRhino()   # 사전을 메모리에 로딩. 처음 한 번만 필요. 형태소분석기 객체를 output으로 내놓습니다"
   ]
  },
  {
   "cell_type": "code",
   "execution_count": 2,
   "metadata": {
    "colab": {
     "base_uri": "https://localhost:8080/",
     "height": 35
    },
    "colab_type": "code",
    "executionInfo": {
     "elapsed": 643,
     "status": "ok",
     "timestamp": 1591859914388,
     "user": {
      "displayName": "최석재",
      "photoUrl": "https://lh3.googleusercontent.com/a-/AOh14GiiJRXT6vTRiy9987vo52Z1V7EPvNuOCvtYhBTiEw=s64",
      "userId": "09969236112114002539"
     },
     "user_tz": -540
    },
    "id": "jWgLygLWtLbY",
    "outputId": "a6da7a49-fa5b-4055-dec2-350ced233148"
   },
   "outputs": [
    {
     "name": "stdout",
     "output_type": "stream",
     "text": [
      "sample data: ['한글', '테스트', '글', '을', '남기', '어', '주', '시', '어요']\n"
     ]
    }
   ],
   "source": [
    "# 5. 예문 분석\n",
    "text = \"한글테스트 글을 남겨주세요\"\n",
    "sample_data = rhinoMorph.onlyMorph_list(rn, text)\n",
    "print('sample data:', sample_data)"
   ]
  },
  {
   "cell_type": "code",
   "execution_count": null,
   "metadata": {},
   "outputs": [],
   "source": []
  }
 ],
 "metadata": {
  "colab": {
   "authorship_tag": "ABX9TyOSByFYNsKVgmMJT5bgTwLQ",
   "collapsed_sections": [],
   "name": "1_형태소분석기설치.ipynb",
   "provenance": []
  },
  "kernelspec": {
   "display_name": "Python 3",
   "language": "python",
   "name": "python3"
  },
  "language_info": {
   "codemirror_mode": {
    "name": "ipython",
    "version": 3
   },
   "file_extension": ".py",
   "mimetype": "text/x-python",
   "name": "python",
   "nbconvert_exporter": "python",
   "pygments_lexer": "ipython3",
   "version": "3.7.6"
  }
 },
 "nbformat": 4,
 "nbformat_minor": 4
}
