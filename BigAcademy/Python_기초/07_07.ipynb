{
 "cells": [
  {
   "cell_type": "markdown",
   "metadata": {},
   "source": [
    "## Ch.3 다양한 데이터 유형과 주요 함수들 활용방법\n",
    "\n",
    "### 1. 숫자형 데이터\n",
    "\n",
    "###### 1.) 정수형 타입과 주요 연산자 사용 방법"
   ]
  },
  {
   "cell_type": "code",
   "execution_count": 2,
   "metadata": {},
   "outputs": [
    {
     "name": "stdout",
     "output_type": "stream",
     "text": [
      "7\n",
      "1\n",
      "12\n",
      "0.75\n",
      "1\n"
     ]
    }
   ],
   "source": [
    "print(3+4)\n",
    "print(4-3)\n",
    "print(3*4)\n",
    "print(3/4)\n",
    "print(123121 % 12)"
   ]
  },
  {
   "cell_type": "markdown",
   "metadata": {},
   "source": [
    "###### 2.) 정수형으로 변환하기"
   ]
  },
  {
   "cell_type": "code",
   "execution_count": 3,
   "metadata": {},
   "outputs": [
    {
     "name": "stdout",
     "output_type": "stream",
     "text": [
      "나이를 입력하세요 : 23\n"
     ]
    }
   ],
   "source": [
    "age = int(input('나이를 입력하세요 : '))"
   ]
  },
  {
   "cell_type": "markdown",
   "metadata": {},
   "source": [
    "###### 3.) 실수형 숫자 타입"
   ]
  },
  {
   "cell_type": "code",
   "execution_count": 4,
   "metadata": {},
   "outputs": [
    {
     "name": "stdout",
     "output_type": "stream",
     "text": [
      "1.0\n"
     ]
    }
   ],
   "source": [
    "print(float(1))"
   ]
  },
  {
   "cell_type": "markdown",
   "metadata": {},
   "source": [
    "###### 4.) 숫자 타입에서 많이 사용되는 주요 함수들\n",
    "\n",
    "- round() - 반올림 함수"
   ]
  },
  {
   "cell_type": "code",
   "execution_count": 6,
   "metadata": {},
   "outputs": [
    {
     "name": "stdout",
     "output_type": "stream",
     "text": [
      "2.67\n"
     ]
    }
   ],
   "source": [
    "print(round(8/3 ,2))"
   ]
  },
  {
   "cell_type": "markdown",
   "metadata": {},
   "source": [
    "- trunc() - 버림"
   ]
  },
  {
   "cell_type": "code",
   "execution_count": 7,
   "metadata": {},
   "outputs": [
    {
     "name": "stdout",
     "output_type": "stream",
     "text": [
      "1\n"
     ]
    }
   ],
   "source": [
    "import math\n",
    "print(math.trunc(8/6))"
   ]
  },
  {
   "cell_type": "markdown",
   "metadata": {},
   "source": [
    "- ceil() - 큰 정수 찾기 함수"
   ]
  },
  {
   "cell_type": "code",
   "execution_count": 8,
   "metadata": {},
   "outputs": [
    {
     "name": "stdout",
     "output_type": "stream",
     "text": [
      "2\n"
     ]
    }
   ],
   "source": [
    "print(math.ceil(8/6))"
   ]
  },
  {
   "cell_type": "markdown",
   "metadata": {},
   "source": [
    "- floor() - 작은 정수 찾기 함수"
   ]
  },
  {
   "cell_type": "code",
   "execution_count": 9,
   "metadata": {},
   "outputs": [
    {
     "name": "stdout",
     "output_type": "stream",
     "text": [
      "1\n"
     ]
    }
   ],
   "source": [
    "print(math.floor(8/6))"
   ]
  },
  {
   "cell_type": "markdown",
   "metadata": {},
   "source": [
    "### 2. 문자열 유형\n",
    "###### 1.) 문자열이란?\n",
    "- 한 글자씩 메모리에 저장된 문자들의 집합\n",
    "\n",
    "###### 2.) 인덱싱과 슬라이싱\n",
    "- 인덱싱 : 한번에 하나씩 호출\n",
    "- 슬라이싱 : 한번에 구간을 호출\n"
   ]
  },
  {
   "cell_type": "code",
   "execution_count": 10,
   "metadata": {},
   "outputs": [
    {
     "name": "stdout",
     "output_type": "stream",
     "text": [
      "파이썬완전쉽죠?\n",
      "파\n",
      "파이썬완\n"
     ]
    }
   ],
   "source": [
    "str1 = '파이썬완전쉽죠?'\n",
    "print(str1)\n",
    "# 인덱싱\n",
    "print(str1[0])\n",
    "# 슬라이싱\n",
    "print(str1[0:4])\n"
   ]
  },
  {
   "cell_type": "markdown",
   "metadata": {},
   "source": [
    "###### 3.) lower, upper 함수 - 입력된 문자를 소문자 / 대문자로 바꾸기\n"
   ]
  },
  {
   "cell_type": "code",
   "execution_count": 11,
   "metadata": {},
   "outputs": [
    {
     "name": "stdout",
     "output_type": "stream",
     "text": [
      "PYTHON\n",
      "python\n"
     ]
    }
   ],
   "source": [
    "str2= 'Python'\n",
    "print(str2.upper())\n",
    "print(str2.lower())\n"
   ]
  },
  {
   "cell_type": "markdown",
   "metadata": {},
   "source": [
    "###### 4.) strip, lstrip, rstrip 함수 - 문자열에서 좌 / 우 공백 제거하기"
   ]
  },
  {
   "cell_type": "code",
   "execution_count": 12,
   "metadata": {},
   "outputs": [
    {
     "name": "stdout",
     "output_type": "stream",
     "text": [
      "<- 공백\n",
      "공백 ->\n",
      "<- 공백 ->\n"
     ]
    }
   ],
   "source": [
    "str3 = '            <- 공백'\n",
    "str4 = '공백 ->        '\n",
    "str5 = '            <- 공백 ->         '\n",
    "\n",
    "print(str3.lstrip())\n",
    "print(str4.rstrip())\n",
    "print(str5.strip())"
   ]
  },
  {
   "cell_type": "markdown",
   "metadata": {},
   "source": [
    "###### 5.) replace 함수 - 문자열에서 내용 바꾸기"
   ]
  },
  {
   "cell_type": "code",
   "execution_count": 13,
   "metadata": {},
   "outputs": [
    {
     "name": "stdout",
     "output_type": "stream",
     "text": [
      "새우도 해산물인가?\n"
     ]
    }
   ],
   "source": [
    "str6 = '새우깡도 해산물인가?'\n",
    "print(str6.replace('새우깡','새우'))"
   ]
  },
  {
   "cell_type": "markdown",
   "metadata": {},
   "source": [
    "###### 6.) split 함수 - 문자열 나누기"
   ]
  },
  {
   "cell_type": "code",
   "execution_count": 14,
   "metadata": {},
   "outputs": [
    {
     "name": "stdout",
     "output_type": "stream",
     "text": [
      "['02', '1234', '5678']\n",
      "['02', '1234-5678']\n"
     ]
    }
   ],
   "source": [
    "tel = '02-1234-5678'\n",
    "# 모든 -로 split\n",
    "print(tel.split('-'))\n",
    "# 첫 번째 - 만 split\n",
    "print(tel.split('-',1))"
   ]
  },
  {
   "cell_type": "markdown",
   "metadata": {},
   "source": [
    "###### 7.) len 함수 - 단어나 문자열의 길이 확인하기"
   ]
  },
  {
   "cell_type": "code",
   "execution_count": 16,
   "metadata": {},
   "outputs": [
    {
     "name": "stdout",
     "output_type": "stream",
     "text": [
      "파이썬완전쉽죠? : 8\n",
      "Python : 6\n"
     ]
    }
   ],
   "source": [
    "print(str1,end = ' : ')\n",
    "print(len(str1))\n",
    "print(str2, end = ' : ')\n",
    "print(len(str2))"
   ]
  },
  {
   "cell_type": "markdown",
   "metadata": {},
   "source": [
    "###### 8.) 문자열로 연산하기"
   ]
  },
  {
   "cell_type": "code",
   "execution_count": 17,
   "metadata": {},
   "outputs": [
    {
     "name": "stdout",
     "output_type": "stream",
     "text": [
      "================================================================================\n",
      "문자열로 연산하기 실습\n",
      "++++++++++++++++++++++++++++++++++++++++++++++++++++++++++++++++++++++++++++++++\n"
     ]
    }
   ],
   "source": [
    "print('=' * 80)\n",
    "print('문자열로 연산하기 실습')\n",
    "print('+' * 80)"
   ]
  },
  {
   "cell_type": "markdown",
   "metadata": {},
   "source": [
    "##### 연습문제 "
   ]
  },
  {
   "cell_type": "code",
   "execution_count": 19,
   "metadata": {},
   "outputs": [
    {
     "name": "stdout",
     "output_type": "stream",
     "text": [
      "감자깡은 진짜 맛있어!\n"
     ]
    }
   ],
   "source": [
    "txt = '     새우깡은 진짜 맛있어!         '\n",
    "print(txt.replace('새우깡','감자깡').strip())"
   ]
  },
  {
   "cell_type": "code",
   "execution_count": 23,
   "metadata": {},
   "outputs": [
    {
     "name": "stdout",
     "output_type": "stream",
     "text": [
      "300\n"
     ]
    }
   ],
   "source": [
    "##### 변수 하나에 담을 수 있는 개수는 한 건!!!\n",
    "var1 = 1000\n",
    "var1 = 1\n",
    "var1= 300\n",
    "print(var1)\n",
    "\n",
    "#하나의 변수에 여러가지 값을 담을 필요가 생긴 경우 아래에서 배워보자"
   ]
  },
  {
   "cell_type": "markdown",
   "metadata": {},
   "source": [
    "#### 3. 리스트(list) - 여러 건의 데이터를 한꺼번에 저장하기\n",
    "###### 1.) 리스트 유형이란?\n",
    "- 여러 건의 데이터를 하나의 목록에 저장하는 것을 리스트라고 합니다."
   ]
  },
  {
   "cell_type": "code",
   "execution_count": 24,
   "metadata": {},
   "outputs": [
    {
     "name": "stdout",
     "output_type": "stream",
     "text": [
      "['1982-07-15', '홍길동', 30]\n"
     ]
    }
   ],
   "source": [
    "list1 = ['1982-07-15','홍길동',30]\n",
    "print(list1)"
   ]
  },
  {
   "cell_type": "markdown",
   "metadata": {},
   "source": [
    "###### 2.) 리스트로 데이터 관리하는 방법들\n",
    "\n",
    "(1) append, insert 함수 - 리스트에 새로운 데이터 추가하기"
   ]
  },
  {
   "cell_type": "code",
   "execution_count": 29,
   "metadata": {},
   "outputs": [
    {
     "name": "stdout",
     "output_type": "stream",
     "text": [
      "['첫 째', '둘 째', 'insert로 추가한 것', '셋 째', 'append로 추가한 것']\n"
     ]
    }
   ],
   "source": [
    "list2 = ['첫 째','둘 째','셋 째']\n",
    "\n",
    "list2.append('append로 추가한 것')\n",
    "list2.insert(2,'insert로 추가한 것')\n",
    "print(list2)"
   ]
  },
  {
   "cell_type": "markdown",
   "metadata": {},
   "source": [
    "(2) del, remove 함수 - 데이터 삭제하기"
   ]
  },
  {
   "cell_type": "code",
   "execution_count": 30,
   "metadata": {},
   "outputs": [
    {
     "name": "stdout",
     "output_type": "stream",
     "text": [
      "삭제 전 목록  ['첫 째', '둘 째', 'insert로 추가한 것', '셋 째', 'append로 추가한 것']\n",
      "del로 삭제 후 목록  ['첫 째', '둘 째', '셋 째', 'append로 추가한 것']\n",
      "remove로 삭제한 목록  ['첫 째', '둘 째', '셋 째']\n"
     ]
    }
   ],
   "source": [
    "print('삭제 전 목록 ', list2)\n",
    "\n",
    "del list2[2]\n",
    "print('del로 삭제 후 목록 ', list2)\n",
    "\n",
    "list2.remove('append로 추가한 것')\n",
    "print('remove로 삭제한 목록 ',list2)"
   ]
  },
  {
   "cell_type": "markdown",
   "metadata": {},
   "source": [
    "## Ch.4 조건문과 반복문 활용하기\n",
    "\n",
    "### 1. if 조건문 배우기\n",
    "\n",
    "##### 1.) 조건이 참일 경우에만 수행할 작업을 지정하기\n"
   ]
  },
  {
   "cell_type": "code",
   "execution_count": 35,
   "metadata": {},
   "outputs": [
    {
     "name": "stdout",
     "output_type": "stream",
     "text": [
      "조회할 사람의 이름을 입력하세요 : 홍길동\n",
      "\n",
      "홍길동입니다.\n",
      "남자입니다.\n",
      "활빈당 총수입니다.\n"
     ]
    }
   ],
   "source": [
    "name = input('조회할 사람의 이름을 입력하세요 : ')\n",
    "\n",
    "\n",
    "if name == '홍길동':\n",
    "    print('\\n홍길동입니다.')\n",
    "    print('남자입니다.')\n",
    "    print('활빈당 총수입니다.')"
   ]
  },
  {
   "cell_type": "markdown",
   "metadata": {},
   "source": [
    "- 조건이 참이면 실행되고 거짓이면 아무것도 실행되지 않는다.\n",
    "- 들여쓰기를 주의할 것\n",
    "\n",
    "##### 2.) 조건이 참일 경우와 거짓일 경우 모두 수행할 작업을 지정하기"
   ]
  },
  {
   "cell_type": "code",
   "execution_count": 36,
   "metadata": {},
   "outputs": [
    {
     "name": "stdout",
     "output_type": "stream",
     "text": [
      "조회할 사람의 이름을 입력하세요 : 강찬\n",
      "\n",
      " 강찬입니다.\n"
     ]
    }
   ],
   "source": [
    "name = input('조회할 사람의 이름을 입력하세요 : ')\n",
    "\n",
    "\n",
    "if name == '홍길동':\n",
    "    print('\\n홍길동입니다.')\n",
    "    print('남자입니다.')\n",
    "    print('활빈당 총수입니다.')\n",
    "else :\n",
    "    print('\\n%s입니다.'%name)\n"
   ]
  },
  {
   "cell_type": "markdown",
   "metadata": {},
   "source": [
    "##### 3.) 여러 개의 조건에 따라 다른 작업을 해야 하는 경우"
   ]
  },
  {
   "cell_type": "code",
   "execution_count": 37,
   "metadata": {},
   "outputs": [
    {
     "name": "stdout",
     "output_type": "stream",
     "text": [
      "점수를 입력하세요 : 78\n",
      "C등급입니다.\n"
     ]
    }
   ],
   "source": [
    "score = int(input('점수를 입력하세요 : '))\n",
    "\n",
    "if score >= 91:\n",
    "    print('A등급입니다.')\n",
    "elif score >=81 and score <= 90:\n",
    "    print('B등급입니다.')\n",
    "elif score >= 71 and score <= 80:\n",
    "    print('C등급입니다.')\n",
    "else:\n",
    "    print('F등급입니다.')"
   ]
  },
  {
   "cell_type": "markdown",
   "metadata": {},
   "source": [
    "#### 연습문제 "
   ]
  },
  {
   "cell_type": "code",
   "execution_count": 40,
   "metadata": {},
   "outputs": [
    {
     "name": "stdout",
     "output_type": "stream",
     "text": [
      "숫자를 입력해주세요 : 3\n",
      "9\n"
     ]
    }
   ],
   "source": [
    "#1 \n",
    "no1 = int(input('숫자를 입력해주세요 : '))\n",
    "if no1 % 3 == 0:\n",
    "    print(no1**2)\n",
    "else:\n",
    "    print(0)"
   ]
  },
  {
   "cell_type": "code",
   "execution_count": 41,
   "metadata": {},
   "outputs": [
    {
     "name": "stdout",
     "output_type": "stream",
     "text": [
      "목록 : 사과, 감, 귤 \n",
      "과일 이름을 입력해주세요 : 아\n",
      "목록에 있는 것을 입력하세요~~\n",
      "과일 이름을 입력해주세요 : 나\n",
      "목록에 있는 것을 입력하세요~~\n",
      "과일 이름을 입력해주세요 : 사과\n",
      "Good~\n"
     ]
    }
   ],
   "source": [
    "#2 \n",
    "print('목록 : 사과, 감, 귤 ')\n",
    "list1 = ['사과','감','귤']\n",
    "while 1:\n",
    "    fruits = input('과일 이름을 입력해주세요 : ')\n",
    "    if fruits == list1[0]:\n",
    "        print('Good~')\n",
    "        break\n",
    "    elif fruits == list1[1]:\n",
    "        print('Very Good~')\n",
    "        break\n",
    "    elif fruits == list1[2]:\n",
    "        print('So So...')\n",
    "        break\n",
    "    else:\n",
    "        print('목록에 있는 것을 입력하세요~~')\n"
   ]
  },
  {
   "cell_type": "code",
   "execution_count": 42,
   "metadata": {},
   "outputs": [
    {
     "name": "stdout",
     "output_type": "stream",
     "text": [
      "사과, 감, 귤, 복숭아 중에 어떤 과일 좋아하세요? :  가\n",
      "사과, 감, 귤, 복숭아 중에서 입력하세요~~~~\n",
      "사과, 감, 귤, 복숭아 중에 어떤 과일 좋아하세요? :  나\n",
      "사과, 감, 귤, 복숭아 중에서 입력하세요~~~~\n",
      "사과, 감, 귤, 복숭아 중에 어떤 과일 좋아하세요? :  다\n",
      "사과, 감, 귤, 복숭아 중에서 입력하세요~~~~\n",
      "사과, 감, 귤, 복숭아 중에 어떤 과일 좋아하세요? :  라\n",
      "사과, 감, 귤, 복숭아 중에서 입력하세요~~~~\n",
      "사과, 감, 귤, 복숭아 중에 어떤 과일 좋아하세요? :  감\n",
      "Very Good~\n"
     ]
    }
   ],
   "source": [
    "#3\n",
    "while 1:\n",
    "    fruits = input('사과, 감, 귤, 복숭아 중에 어떤 과일 좋아하세요? :  ')\n",
    "    if fruits == '사과' or fruits =='감':\n",
    "        print('Very Good~')\n",
    "        break\n",
    "    elif fruits == '귤' or fruits == '복숭아':\n",
    "        print('Good~')\n",
    "        break\n",
    "\n",
    "    else:\n",
    "        print('사과, 감, 귤, 복숭아 중에서 입력하세요~~~~')"
   ]
  },
  {
   "cell_type": "code",
   "execution_count": 50,
   "metadata": {
    "scrolled": true
   },
   "outputs": [
    {
     "name": "stdout",
     "output_type": "stream",
     "text": [
      "\n",
      "1. 짜장면 - 5,000원               2. 짬뽕 - 6,000원\n",
      "3. 군만두 - 8,000원               4. 탕수육 - 10,000원\n",
      "\n",
      "1. 위 메뉴 중 주문할 메뉴의 번호를 쓰세요 : 1\n",
      "2. 위 메뉴의 주문 수량을 쓰세요 : 3\n",
      "\n",
      "주문하신 메뉴는 짜장면이고 주문 수량은 3 그릇이며 주문한 금액은 15000입니다. \n"
     ]
    }
   ],
   "source": [
    "#4\n",
    "print('''\n",
    "1. 짜장면 - 5,000원               2. 짬뽕 - 6,000원\n",
    "3. 군만두 - 8,000원               4. 탕수육 - 10,000원\n",
    "''' )\n",
    "num = int(input('1. 위 메뉴 중 주문할 메뉴의 번호를 쓰세요 : '))\n",
    "sss = int(input('2. 위 메뉴의 주문 수량을 쓰세요 : '))\n",
    "\n",
    "list1 = ['짜장면',' 짬뽕', '군만두',' 탕수육']\n",
    "\n",
    "price  =[5000,6000,8000,10000]\n",
    "print('\\n주문하신 메뉴는 {}이고 주문 수량은 {} 그릇이며 주문한 금액은 {}입니다. '.format(list1[num-1], sss, sss *price[num-1]))"
   ]
  },
  {
   "cell_type": "markdown",
   "metadata": {},
   "source": [
    "### 2. for 반복문\n",
    "- 횟수로 반복 지정\n"
   ]
  },
  {
   "cell_type": "code",
   "execution_count": 53,
   "metadata": {},
   "outputs": [
    {
     "name": "stdout",
     "output_type": "stream",
     "text": [
      "1\n",
      "2\n",
      "3\n"
     ]
    }
   ],
   "source": [
    "# i 변수에 1,2,3이 담긴다\n",
    "for i in (1,2,3):\n",
    "    print(i)\n"
   ]
  },
  {
   "cell_type": "code",
   "execution_count": 55,
   "metadata": {},
   "outputs": [
    {
     "name": "stdout",
     "output_type": "stream",
     "text": [
      "0 1 2 3 4 5 6 7 8 9 10 11 12 13 14 15 16 17 18 19 20 21 22 23 24 25 26 27 28 29 30 31 32 33 34 35 36 37 38 39 40 41 42 43 44 45 46 47 48 49 50 51 52 53 54 55 56 57 58 59 60 61 62 63 64 65 66 67 68 69 70 71 72 73 74 75 76 77 78 79 80 81 82 83 84 85 86 87 88 89 90 91 92 93 94 95 96 97 98 99 100 101 102 103 104 105 106 107 108 109 110 111 112 113 114 115 116 117 118 119 120 121 122 123 124 125 126 127 128 129 130 131 132 133 134 135 136 137 138 139 140 141 142 143 144 145 146 147 148 149 150 151 152 153 154 155 156 157 158 159 160 161 162 163 164 165 166 167 168 169 170 171 172 173 174 175 176 177 178 179 180 181 182 183 184 185 186 187 188 189 190 191 192 193 194 195 196 197 198 199 200 201 202 203 204 205 206 207 208 209 210 211 212 213 214 215 216 217 218 219 220 221 222 223 224 225 226 227 228 229 230 231 232 233 234 235 236 237 238 239 240 241 242 243 244 245 246 247 248 249 250 251 252 253 254 255 256 257 258 259 260 261 262 263 264 265 266 267 268 269 270 271 272 273 274 275 276 277 278 279 280 281 282 283 284 285 286 287 288 289 290 291 292 293 294 295 296 297 298 299 300 301 302 303 304 305 306 307 308 309 310 311 312 313 314 315 316 317 318 319 320 321 322 323 324 325 326 327 328 329 330 331 332 333 334 335 336 337 338 339 340 341 342 343 344 345 346 347 348 349 350 351 352 353 354 355 356 357 358 359 360 361 362 363 364 365 366 367 368 369 370 371 372 373 374 375 376 377 378 379 380 381 382 383 384 385 386 387 388 389 390 391 392 393 394 395 396 397 398 399 400 401 402 403 404 405 406 407 408 409 410 411 412 413 414 415 416 417 418 419 420 421 422 423 424 425 426 427 428 429 430 431 432 433 434 435 436 437 438 439 440 441 442 443 444 445 446 447 448 449 450 451 452 453 454 455 456 457 458 459 460 461 462 463 464 465 466 467 468 469 470 471 472 473 474 475 476 477 478 479 480 481 482 483 484 485 486 487 488 489 490 491 492 493 494 495 496 497 498 499 500 501 502 503 504 505 506 507 508 509 510 511 512 513 514 515 516 517 518 519 520 521 522 523 524 525 526 527 528 529 530 531 532 533 534 535 536 537 538 539 540 541 542 543 544 545 546 547 548 549 550 551 552 553 554 555 556 557 558 559 560 561 562 563 564 565 566 567 568 569 570 571 572 573 574 575 576 577 578 579 580 581 582 583 584 585 586 587 588 589 590 591 592 593 594 595 596 597 598 599 600 601 602 603 604 605 606 607 608 609 610 611 612 613 614 615 616 617 618 619 620 621 622 623 624 625 626 627 628 629 630 631 632 633 634 635 636 637 638 639 640 641 642 643 644 645 646 647 648 649 650 651 652 653 654 655 656 657 658 659 660 661 662 663 664 665 666 667 668 669 670 671 672 673 674 675 676 677 678 679 680 681 682 683 684 685 686 687 688 689 690 691 692 693 694 695 696 697 698 699 700 701 702 703 704 705 706 707 708 709 710 711 712 713 714 715 716 717 718 719 720 721 722 723 724 725 726 727 728 729 730 731 732 733 734 735 736 737 738 739 740 741 742 743 744 745 746 747 748 749 750 751 752 753 754 755 756 757 758 759 760 761 762 763 764 765 766 767 768 769 770 771 772 773 774 775 776 777 778 779 780 781 782 783 784 785 786 787 788 789 790 791 792 793 794 795 796 797 798 799 800 801 802 803 804 805 806 807 808 809 810 811 812 813 814 815 816 817 818 819 820 821 822 823 824 825 826 827 828 829 830 831 832 833 834 835 836 837 838 839 840 841 842 843 844 845 846 847 848 849 850 851 852 853 854 855 856 857 858 859 860 861 862 863 864 865 866 867 868 869 870 871 872 873 874 875 876 877 878 879 880 881 882 883 884 885 886 887 888 889 890 891 892 893 894 895 896 897 898 899 900 901 902 903 904 905 906 907 908 909 910 911 912 913 914 915 916 917 918 919 920 921 922 923 924 925 926 927 928 929 930 931 932 933 934 935 936 937 938 939 940 941 942 943 944 945 946 947 948 949 950 951 952 953 954 955 956 957 958 959 960 961 962 963 964 965 966 967 968 969 970 971 972 973 974 975 976 977 978 979 980 981 982 983 984 985 986 987 988 989 990 991 992 993 994 995 996 997 998 999 "
     ]
    }
   ],
   "source": [
    "for i in range(1000):\n",
    "    print(i ,end=' ')"
   ]
  },
  {
   "cell_type": "code",
   "execution_count": 62,
   "metadata": {},
   "outputs": [
    {
     "name": "stdout",
     "output_type": "stream",
     "text": [
      "1단\n",
      "1 X 1 = 1\n",
      "1 X 2 = 2\n",
      "1 X 3 = 3\n",
      "1 X 4 = 4\n",
      "1 X 5 = 5\n",
      "1 X 6 = 6\n",
      "1 X 7 = 7\n",
      "1 X 8 = 8\n",
      "1 X 9 = 9\n",
      "\n",
      "2단\n",
      "2 X 1 = 2\n",
      "2 X 2 = 4\n",
      "2 X 3 = 6\n",
      "2 X 4 = 8\n",
      "2 X 5 = 10\n",
      "2 X 6 = 12\n",
      "2 X 7 = 14\n",
      "2 X 8 = 16\n",
      "2 X 9 = 18\n",
      "\n",
      "3단\n",
      "3 X 1 = 3\n",
      "3 X 2 = 6\n",
      "3 X 3 = 9\n",
      "3 X 4 = 12\n",
      "3 X 5 = 15\n",
      "3 X 6 = 18\n",
      "3 X 7 = 21\n",
      "3 X 8 = 24\n",
      "3 X 9 = 27\n",
      "\n",
      "4단\n",
      "4 X 1 = 4\n",
      "4 X 2 = 8\n",
      "4 X 3 = 12\n",
      "4 X 4 = 16\n",
      "4 X 5 = 20\n",
      "4 X 6 = 24\n",
      "4 X 7 = 28\n",
      "4 X 8 = 32\n",
      "4 X 9 = 36\n",
      "\n",
      "5단\n",
      "5 X 1 = 5\n",
      "5 X 2 = 10\n",
      "5 X 3 = 15\n",
      "5 X 4 = 20\n",
      "5 X 5 = 25\n",
      "5 X 6 = 30\n",
      "5 X 7 = 35\n",
      "5 X 8 = 40\n",
      "5 X 9 = 45\n",
      "\n",
      "6단\n",
      "6 X 1 = 6\n",
      "6 X 2 = 12\n",
      "6 X 3 = 18\n",
      "6 X 4 = 24\n",
      "6 X 5 = 30\n",
      "6 X 6 = 36\n",
      "6 X 7 = 42\n",
      "6 X 8 = 48\n",
      "6 X 9 = 54\n",
      "\n",
      "7단\n",
      "7 X 1 = 7\n",
      "7 X 2 = 14\n",
      "7 X 3 = 21\n",
      "7 X 4 = 28\n",
      "7 X 5 = 35\n",
      "7 X 6 = 42\n",
      "7 X 7 = 49\n",
      "7 X 8 = 56\n",
      "7 X 9 = 63\n",
      "\n",
      "8단\n",
      "8 X 1 = 8\n",
      "8 X 2 = 16\n",
      "8 X 3 = 24\n",
      "8 X 4 = 32\n",
      "8 X 5 = 40\n",
      "8 X 6 = 48\n",
      "8 X 7 = 56\n",
      "8 X 8 = 64\n",
      "8 X 9 = 72\n",
      "\n",
      "9단\n",
      "9 X 1 = 9\n",
      "9 X 2 = 18\n",
      "9 X 3 = 27\n",
      "9 X 4 = 36\n",
      "9 X 5 = 45\n",
      "9 X 6 = 54\n",
      "9 X 7 = 63\n",
      "9 X 8 = 72\n",
      "9 X 9 = 81\n",
      "\n"
     ]
    }
   ],
   "source": [
    "for i in range(1,10):\n",
    "    print('{}단'.format(i))\n",
    "    for j in range(1,10):\n",
    "        print('{} X {} = {}'.format(i,j , i*j))\n",
    "    print()   "
   ]
  },
  {
   "cell_type": "code",
   "execution_count": 65,
   "metadata": {},
   "outputs": [
    {
     "name": "stdout",
     "output_type": "stream",
     "text": [
      "숫자를 입력하세요 : 10\n",
      "2\n",
      "4\n",
      "6\n",
      "8\n",
      "10\n"
     ]
    }
   ],
   "source": [
    "num = int(input('숫자를 입력하세요 : '))\n",
    "if num % 2 == 0:\n",
    "    for i in range(2,num+1 ,2):\n",
    "        print(i)\n",
    "else:\n",
    "    for i in range(1,num+1 ,2):\n",
    "        print(i)"
   ]
  },
  {
   "cell_type": "markdown",
   "metadata": {},
   "source": [
    "www.cafe.naver.com/gachilabs\n"
   ]
  },
  {
   "cell_type": "code",
   "execution_count": 69,
   "metadata": {},
   "outputs": [
    {
     "name": "stdout",
     "output_type": "stream",
     "text": [
      "변경 전 이름을 입력하세요 : 홍길동\n",
      "변경 후 이름을 입력하세요 : 전우치\n",
      "요청하신 대로 홍길동을 전우치(으)로 변경하였습니다.\n",
      " ['전우치', '일지매', '유관순']\n"
     ]
    }
   ],
   "source": [
    "stu2 = ['홍길동','일지매','유관순']\n",
    "\n",
    "name =input('변경 전 이름을 입력하세요 : ')\n",
    "name2 = input('변경 후 이름을 입력하세요 : ')\n",
    "for i,na in enumerate(stu2):\n",
    "    if na == name:\n",
    "        stu2[i] = name2\n",
    "        \n",
    "print('요청하신 대로 {}을 {}(으)로 변경하였습니다.\\n'.format(name,name2), stu2)"
   ]
  },
  {
   "cell_type": "code",
   "execution_count": 71,
   "metadata": {},
   "outputs": [
    {
     "name": "stdout",
     "output_type": "stream",
     "text": [
      "1 페이지의 1의 번글입니다. ^^\n",
      "1 페이지의 2의 번글입니다. ^^\n",
      "1 페이지의 3의 번글입니다. ^^\n",
      "1 페이지의 4의 번글입니다. ^^\n",
      "1 페이지의 5의 번글입니다. ^^\n",
      "\n",
      "\n",
      "2 페이지의 1의 번글입니다. ^^\n",
      "2 페이지의 2의 번글입니다. ^^\n",
      "2 페이지의 3의 번글입니다. ^^\n",
      "2 페이지의 4의 번글입니다. ^^\n",
      "2 페이지의 5의 번글입니다. ^^\n",
      "\n",
      "\n",
      "3 페이지의 1의 번글입니다. ^^\n",
      "3 페이지의 2의 번글입니다. ^^\n",
      "3 페이지의 3의 번글입니다. ^^\n",
      "3 페이지의 4의 번글입니다. ^^\n",
      "3 페이지의 5의 번글입니다. ^^\n",
      "\n",
      "\n"
     ]
    }
   ],
   "source": [
    "page_no = [1,2,3]\n",
    "text_no = [1,2,3,4,5]\n",
    "for i in page_no:\n",
    "    for j in text_no:\n",
    "        print('{} 페이지의 {}의 번글입니다. ^^'.format(i,j))\n",
    "    print()\n",
    "    print()"
   ]
  },
  {
   "cell_type": "code",
   "execution_count": 83,
   "metadata": {},
   "outputs": [
    {
     "name": "stdout",
     "output_type": "stream",
     "text": [
      "1반 : 홍길동\n",
      "1반 : 일지매\n",
      "1반 : 전우치\n",
      "====================\n",
      "2반 : 유관순\n",
      "2반 :  신사임당\n",
      "2반 :  어우동\n",
      "====================\n",
      "3반 : 강감찬\n",
      "3반 : 광개토대왕\n",
      "3반 : 김구\n",
      "====================\n"
     ]
    }
   ],
   "source": [
    "class_name = ['1반','2반','3반']\n",
    "name1 = ['홍길동','일지매','전우치']\n",
    "name2 = ['유관순',' 신사임당',' 어우동']\n",
    "name3 = ['강감찬','광개토대왕','김구']\n",
    "\n",
    "list1 = [name1, name2 , name3]\n",
    "for n,i in enumerate(class_name):\n",
    "    for j in range(3):\n",
    "        print('{} : {}'.format(i,list1[n][j]))\n",
    "    print('='*20)"
   ]
  },
  {
   "cell_type": "code",
   "execution_count": 80,
   "metadata": {},
   "outputs": [
    {
     "name": "stdout",
     "output_type": "stream",
     "text": [
      "'전우치', '일지매', '유관순'\n"
     ]
    }
   ],
   "source": [
    "print(str(stu2).replace(\"[\",'').replace(\"]\",'').replace('\"',''))"
   ]
  },
  {
   "cell_type": "markdown",
   "metadata": {},
   "source": [
    "### 3. while 반복문"
   ]
  },
  {
   "cell_type": "code",
   "execution_count": 89,
   "metadata": {},
   "outputs": [
    {
     "name": "stdout",
     "output_type": "stream",
     "text": [
      "1\n",
      "3\n",
      "5\n",
      "7\n"
     ]
    }
   ],
   "source": [
    "no = 1\n",
    "while no < 9:\n",
    "    print(no)\n",
    "    no += 2"
   ]
  },
  {
   "cell_type": "markdown",
   "metadata": {},
   "source": [
    "### 4. 중간에 멈추기와 건너뛰기 - break문과 continue 문장\n",
    "- break : 특정 값이 나오면 멈춰라\n",
    "- continue : 특정 값이 나오면 건너뛰어라"
   ]
  },
  {
   "cell_type": "code",
   "execution_count": 93,
   "metadata": {},
   "outputs": [
    {
     "name": "stdout",
     "output_type": "stream",
     "text": [
      "새우깡\n",
      "감자깡\n"
     ]
    }
   ],
   "source": [
    "snack = ['새우깡','감자깡','고구마깡','맛동산','짱구']\n",
    "for i in snack:\n",
    "    if i =='고구마깡':\n",
    "        break\n",
    "    print(i)"
   ]
  },
  {
   "cell_type": "code",
   "execution_count": 95,
   "metadata": {},
   "outputs": [
    {
     "name": "stdout",
     "output_type": "stream",
     "text": [
      "\n",
      "    1. 짜장면 - 5,000원               2. 짬뽕 - 6,000원\n",
      "    3. 군만두 - 8,000원               4. 탕수육 - 10,000원\n",
      "    \n",
      "1. 위 메뉴 중 주문할 메뉴의 번호를 쓰세요 : 2\n",
      "2. 위 메뉴의 주문 수량을 쓰세요 : 3\n",
      "\n",
      "주문하신 메뉴는  짬뽕이고 주문 수량은 3 그릇이며 주문한 금액은 18000입니다. \n",
      "3. 추가 주문을 하시겠습니까? (Y/N)N\n",
      "\n",
      "    1. 짜장면 - 5,000원               2. 짬뽕 - 6,000원\n",
      "    3. 군만두 - 8,000원               4. 탕수육 - 10,000원\n",
      "    \n",
      "1. 위 메뉴 중 주문할 메뉴의 번호를 쓰세요 : 2\n",
      "2. 위 메뉴의 주문 수량을 쓰세요 : 3\n",
      "\n",
      "주문하신 메뉴는  짬뽕이고 주문 수량은 3 그릇이며 주문한 금액은 18000입니다. \n",
      "3. 추가 주문을 하시겠습니까? (Y/N)Y\n"
     ]
    }
   ],
   "source": [
    "\n",
    "plus = 'N'\n",
    "while plus =='N':\n",
    "    print('''\n",
    "    1. 짜장면 - 5,000원               2. 짬뽕 - 6,000원\n",
    "    3. 군만두 - 8,000원               4. 탕수육 - 10,000원\n",
    "    ''' )\n",
    "    num = int(input('1. 위 메뉴 중 주문할 메뉴의 번호를 쓰세요 : '))\n",
    "    sss = int(input('2. 위 메뉴의 주문 수량을 쓰세요 : '))\n",
    "\n",
    "    list1 = ['짜장면',' 짬뽕', '군만두',' 탕수육']\n",
    "\n",
    "    price  =[5000,6000,8000,10000]\n",
    "    print('\\n주문하신 메뉴는 {}이고 주문 수량은 {} 그릇이며 주문한 금액은 {}입니다. '.format(list1[num-1], sss, sss *price[num-1]))\n",
    "    plus = input('3. 추가 주문을 하시겠습니까? (Y/N)')"
   ]
  },
  {
   "cell_type": "code",
   "execution_count": 115,
   "metadata": {},
   "outputs": [
    {
     "name": "stdout",
     "output_type": "stream",
     "text": [
      "\n",
      "    1. 짜장면 - 5,000원               2. 짬뽕 - 6,000원\n",
      "    3. 군만두 - 8,000원               4. 탕수육 - 10,000원\n",
      "    \n",
      "1. 위 메뉴 중 주문할 메뉴의 번호를 쓰세요 : 2\n",
      "2. 위 메뉴의 주문 수량을 쓰세요 : 3\n",
      "\n",
      "주문하신 메뉴는  짬뽕이고 주문 수량은 3 그릇이며 주문한 금액은 18000입니다. \n",
      "2\n",
      "3. 추가 주문을 하시겠습니까? (Y/N)Y\n",
      "\n",
      "    1. 짜장면 - 5,000원               2. 짬뽕 - 6,000원\n",
      "    3. 군만두 - 8,000원               4. 탕수육 - 10,000원\n",
      "    \n",
      "1. 위 메뉴 중 주문할 메뉴의 번호를 쓰세요 : 2\n",
      "2. 위 메뉴의 주문 수량을 쓰세요 : 3\n",
      "\n",
      "주문하신 메뉴는  짬뽕이고 주문 수량은 3 그릇이며 주문한 금액은 18000입니다. \n",
      "2\n",
      "3. 추가 주문을 하시겠습니까? (Y/N)Y\n",
      "\n",
      "    1. 짜장면 - 5,000원               2. 짬뽕 - 6,000원\n",
      "    3. 군만두 - 8,000원               4. 탕수육 - 10,000원\n",
      "    \n",
      "1. 위 메뉴 중 주문할 메뉴의 번호를 쓰세요 : 2\n",
      "2. 위 메뉴의 주문 수량을 쓰세요 : 3\n",
      "\n",
      "주문하신 메뉴는  짬뽕이고 주문 수량은 3 그릇이며 주문한 금액은 18000입니다. \n",
      "2\n"
     ]
    }
   ],
   "source": [
    "plus = 'Y'\n",
    "num1 = 0\n",
    "while plus =='Y':\n",
    "    \n",
    "    print('''\n",
    "    1. 짜장면 - 5,000원               2. 짬뽕 - 6,000원\n",
    "    3. 군만두 - 8,000원               4. 탕수육 - 10,000원\n",
    "    ''' )\n",
    "    num = int(input('1. 위 메뉴 중 주문할 메뉴의 번호를 쓰세요 : '))\n",
    "    sss = int(input('2. 위 메뉴의 주문 수량을 쓰세요 : '))\n",
    "\n",
    "    list1 = ['짜장면',' 짬뽕', '군만두',' 탕수육']\n",
    "\n",
    "    price  =[5000,6000,8000,10000]\n",
    "    print('\\n주문하신 메뉴는 {}이고 주문 수량은 {} 그릇이며 주문한 금액은 {}입니다. '.format(list1[num-1], sss, sss *price[num-1]))\n",
    "    num1 +=1\n",
    "    if num1 == 3:\n",
    "        print('추가주문은 총 3회까지만 가능합니다. ㅠㅠ')\n",
    "         break\n",
    "    plus = input('3. 추가 주문을 하시겠습니까? (Y/N)')\n",
    "        "
   ]
  },
  {
   "cell_type": "markdown",
   "metadata": {},
   "source": [
    "### Ch.5 사용자 정의 함수와 모듈을 배웁니다.\n",
    "\n",
    "### 1. 직접 사용자 정의 함수 만들기 도전"
   ]
  },
  {
   "cell_type": "code",
   "execution_count": 104,
   "metadata": {},
   "outputs": [
    {
     "name": "stdout",
     "output_type": "stream",
     "text": [
      "2 과 3의 더한 값은 5입니다.\n"
     ]
    }
   ],
   "source": [
    "def p(x,y):\n",
    "    result = print('%s 과 %s의 더한 값은 %s입니다.'%(x,y,x+y))\n",
    "    return result\n",
    "p(2,3)"
   ]
  },
  {
   "cell_type": "markdown",
   "metadata": {},
   "source": [
    "- 여러 개의 변수를 받는 방법"
   ]
  },
  {
   "cell_type": "code",
   "execution_count": 105,
   "metadata": {},
   "outputs": [],
   "source": [
    "def p(*x):\n",
    "    hap = 0\n",
    "    for i in x :\n",
    "        hap += i\n",
    "    return('입력하신 숫자의 합은 %s입니다.'%hap)"
   ]
  },
  {
   "cell_type": "code",
   "execution_count": 106,
   "metadata": {},
   "outputs": [
    {
     "name": "stdout",
     "output_type": "stream",
     "text": [
      "입력하신 숫자의 합은 9입니다.\n"
     ]
    }
   ],
   "source": [
    "print(p(1,3,5))"
   ]
  },
  {
   "cell_type": "markdown",
   "metadata": {},
   "source": [
    "### 2. 모듈(module)"
   ]
  },
  {
   "cell_type": "markdown",
   "metadata": {},
   "source": [
    "- 다른 사람이 만든 .py 파일을 불러와서 쓸 수 있다.  \n",
    "ex)  \n",
    "import numpy"
   ]
  },
  {
   "cell_type": "markdown",
   "metadata": {},
   "source": [
    "## 숙제"
   ]
  },
  {
   "cell_type": "code",
   "execution_count": 116,
   "metadata": {},
   "outputs": [
    {
     "name": "stdout",
     "output_type": "stream",
     "text": [
      "1\n"
     ]
    }
   ],
   "source": [
    "#1\n",
    "def minus1(x,y):\n",
    "    if x >y :\n",
    "        print(x-y)\n",
    "    else:\n",
    "        print(y-x)\n",
    "minus1(3,2)"
   ]
  },
  {
   "cell_type": "code",
   "execution_count": 147,
   "metadata": {},
   "outputs": [
    {
     "name": "stdout",
     "output_type": "stream",
     "text": [
      "[2, 3, 4, 5, 6, 123, 4, 5]\n",
      "123\n"
     ]
    },
    {
     "data": {
      "text/plain": [
       "123"
      ]
     },
     "execution_count": 147,
     "metadata": {},
     "output_type": "execute_result"
    }
   ],
   "source": [
    "#2\n",
    "k= 0\n",
    "def max1(*x):\n",
    "    x = list(x)\n",
    "    mx = x[0]\n",
    "    for i in x[1:]:\n",
    "        if mx < i:\n",
    "            mx = i\n",
    "    return mx\n",
    "\n",
    "print([2,3,4,5,6,123,4,5])\n",
    "max1(2,3,4,5,6,123,4,5)\n",
    "                "
   ]
  },
  {
   "cell_type": "code",
   "execution_count": 160,
   "metadata": {},
   "outputs": [
    {
     "name": "stdout",
     "output_type": "stream",
     "text": [
      "2349758\n"
     ]
    }
   ],
   "source": [
    "def sum1(*x):\n",
    "    sumnum =0 \n",
    "    for i in x:\n",
    "        sumnum += i\n",
    "    return sumnum\n",
    "print(sum1(213123,2314,2134321))"
   ]
  },
  {
   "cell_type": "code",
   "execution_count": 161,
   "metadata": {},
   "outputs": [
    {
     "name": "stdout",
     "output_type": "stream",
     "text": [
      "340\n"
     ]
    }
   ],
   "source": [
    "#4\n",
    "def m_m(*x):\n",
    "    x = list(x)\n",
    "    max1 = x[0]\n",
    "    for i in x[1:]:\n",
    "        if max1 < i:\n",
    "            max1 = i\n",
    "    min1 = x[0]        \n",
    "    for i in x[1:]:\n",
    "        if min1 > i:\n",
    "            min1 =i\n",
    "    \n",
    "    return max1 - min1\n",
    "print(m_m(123,12,343,25,12,3))"
   ]
  },
  {
   "cell_type": "code",
   "execution_count": null,
   "metadata": {},
   "outputs": [],
   "source": []
  }
 ],
 "metadata": {
  "kernelspec": {
   "display_name": "Python 3",
   "language": "python",
   "name": "python3"
  },
  "language_info": {
   "codemirror_mode": {
    "name": "ipython",
    "version": 3
   },
   "file_extension": ".py",
   "mimetype": "text/x-python",
   "name": "python",
   "nbconvert_exporter": "python",
   "pygments_lexer": "ipython3",
   "version": "3.5.4"
  }
 },
 "nbformat": 4,
 "nbformat_minor": 4
}
