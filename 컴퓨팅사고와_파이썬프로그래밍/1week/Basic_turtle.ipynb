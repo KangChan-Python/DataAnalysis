{
 "cells": [
  {
   "cell_type": "code",
   "execution_count": 4,
   "metadata": {},
   "outputs": [],
   "source": [
    "import turtle"
   ]
  },
  {
   "cell_type": "code",
   "execution_count": 5,
   "metadata": {},
   "outputs": [],
   "source": [
    "t = turtle.Turtle()# create turtle.Pen()"
   ]
  },
  {
   "cell_type": "code",
   "execution_count": 6,
   "metadata": {},
   "outputs": [
    {
     "name": "stdout",
     "output_type": "stream",
     "text": [
      "turtle.mode() :  standard\n"
     ]
    }
   ],
   "source": [
    "print(\"turtle.mode() : \", turtle.mode())"
   ]
  },
  {
   "cell_type": "code",
   "execution_count": 8,
   "metadata": {},
   "outputs": [
    {
     "name": "stdout",
     "output_type": "stream",
     "text": [
      "initial window [width (960), height (810)]\n"
     ]
    }
   ],
   "source": [
    "turtle.title(\"My First Turtle Graphic\")\n",
    "width = turtle.window_width()\n",
    "height = turtle.window_height()\n",
    "print(\"initial window [width ({}), height ({})]\".format(width,height))"
   ]
  },
  {
   "cell_type": "code",
   "execution_count": 9,
   "metadata": {},
   "outputs": [
    {
     "name": "stdout",
     "output_type": "stream",
     "text": [
      "initial window [width (600), height (400)]\n"
     ]
    }
   ],
   "source": [
    "turtle.setup(600, 400, 100,100) # window width , height , startx , starty\n",
    "width = turtle.window_width()\n",
    "height = turtle.window_height()\n",
    "print(\"initial window [width ({}), height ({})]\".format(width,height))"
   ]
  },
  {
   "cell_type": "code",
   "execution_count": 15,
   "metadata": {},
   "outputs": [
    {
     "name": "stdout",
     "output_type": "stream",
     "text": [
      "screen size:  (400, 300)\n",
      "canvas [ width (400), height (300)]\n"
     ]
    }
   ],
   "source": [
    "screen = turtle.getscreen()\n",
    "scrn_size = turtle.screensize()\n",
    "canv_width = screen.canvwidth\n",
    "canv_height = screen.canvheight\n",
    "print(\"screen size: \", scrn_size)\n",
    "print(\"canvas [ width ({}), height ({})]\".format(canv_width,canv_height))"
   ]
  },
  {
   "cell_type": "code",
   "execution_count": null,
   "metadata": {},
   "outputs": [],
   "source": []
  }
 ],
 "metadata": {
  "kernelspec": {
   "display_name": "Python 3",
   "language": "python",
   "name": "python3"
  },
  "language_info": {
   "codemirror_mode": {
    "name": "ipython",
    "version": 3
   },
   "file_extension": ".py",
   "mimetype": "text/x-python",
   "name": "python",
   "nbconvert_exporter": "python",
   "pygments_lexer": "ipython3",
   "version": "3.7.6"
  }
 },
 "nbformat": 4,
 "nbformat_minor": 4
}
