{
 "cells": [
  {
   "cell_type": "code",
   "execution_count": 1,
   "metadata": {},
   "outputs": [
    {
     "name": "stdout",
     "output_type": "stream",
     "text": [
      "filepath:  C:\\Users\\jye12\\anaconda\\lib\\site-packages\n",
      "classpath:  C:\\Users\\jye12\\anaconda\\lib\\site-packages\\rhinoMorph/lib/rhino.jar\n",
      "RHINO started!\n"
     ]
    }
   ],
   "source": [
    "from tensorflow.keras.preprocessing.text import Tokenizer\n",
    "from tensorflow.keras.preprocessing.sequence import pad_sequences\n",
    "import numpy as np\n",
    "import math\n",
    "import rhinoMorph\n",
    "import os\n",
    "from tensorflow.keras.models import load_model\n",
    "from tensorflow.keras.models import Sequential\n",
    "from tensorflow.keras.layers import Dense\n",
    "\n",
    "rn = rhinoMorph.startRhino()\n",
    "\n",
    "def to_one_hot(sequences , dimension):\n",
    "    results = np.zeros((len(sequences), dimension))\n",
    "    for i , seq in enumerate(sequences):\n",
    "        results[i,seq] = 1\n",
    "    return results"
   ]
  },
  {
   "cell_type": "code",
   "execution_count": 1,
   "metadata": {},
   "outputs": [],
   "source": [
    "# 경로 설정\n",
    "imdb_dir = 'C:\\\\Users\\\\jye12\\\\Python\\\\file\\\\pytest_대용량\\\\aclImdb\\\\'"
   ]
  },
  {
   "cell_type": "code",
   "execution_count": 2,
   "metadata": {},
   "outputs": [],
   "source": [
    "# Train Data loading\n",
    "import os\n",
    "train_dir = os.path.join(imdb_dir,'train')"
   ]
  },
  {
   "cell_type": "code",
   "execution_count": 3,
   "metadata": {},
   "outputs": [],
   "source": [
    "labels =[] \n",
    "texts =[]\n",
    "\n",
    "for label_type in ['neg' , 'pos']:\n",
    "    dir_name = os.path.join(train_dir , label_type)\n",
    "    for fname in os.listdir(dir_name):\n",
    "        if fname[-4:] == '.txt':\n",
    "            f = open(os.path.join(dir_name, fname), encoding= 'utf8')\n",
    "            texts.append(f.read())\n",
    "            f.close()\n",
    "            if label_type =='neg':\n",
    "                labels.append(0)\n",
    "            else:\n",
    "                labels.append(1)\n",
    "                "
   ]
  },
  {
   "cell_type": "code",
   "execution_count": 4,
   "metadata": {},
   "outputs": [
    {
     "name": "stdout",
     "output_type": "stream",
     "text": [
      "texts0 : Story of a man who has unnatural feelings for a pig. Starts out with a opening scene that is a terrific example of absurd comedy. A formal orchestra audience is turned into an insane, violent mob by the crazy chantings of it's singers. Unfortunately it stays absurd the WHOLE time with no general narrative eventually making it just too off putting. Even those from the era should be turned off. The cryptic dialogue would make Shakespeare seem easy to a third grader. On a technical level it's better than you might think with some good cinematography by future great Vilmos Zsigmond. Future stars Sally Kirkland and Frederic Forrest can be seen briefly.\n",
      "texts len: 25000\n",
      "labels0 : 0\n",
      "lables len : 25000\n",
      " tests type : <class 'list'>\n"
     ]
    }
   ],
   "source": [
    "# 확인 작업\n",
    "print('texts0 : {}\\ntexts len: {}\\nlabels0 : {}\\nlables len : {}\\n tests type : {}'.format(texts[0], len(texts), labels[0], len(labels), type(texts)))"
   ]
  },
  {
   "cell_type": "code",
   "execution_count": 6,
   "metadata": {},
   "outputs": [
    {
     "name": "stdout",
     "output_type": "stream",
     "text": [
      "{'사과 감자 옥수수': 1, '딸기 감자 옥수수': 2, '양파 감자 옥수수': 3, '양파 부추 옥수수': 4}\n",
      "{'옥수수': 1, '감자': 2, '사과': 3, '너희': 4, '그들': 5, '양파': 6, '부추': 7}\n",
      "{'사과': 1, '감자': 2, '옥수수': 3, '너희': 4, '그들': 5, '양파': 6, '부추': 7}\n",
      "{'사과': 1, '감자': 2, '옥수수': 3, '너희': 4, '그들': 5, '양파': 6, '부추': 7}\n"
     ]
    }
   ],
   "source": [
    "max_words =10000\n",
    "\n",
    "sample1 =[['사과 감자 옥수수'], ['딸기 감자 옥수수'],\n",
    "         ['양파 감자 옥수수'] , ['양파 부추 옥수수']]\n",
    "sample2 = [['사과', '감자', '옥수수'],\n",
    "          ['너희','감자', '옥수수'], ['그들','감자','옥수수'],\n",
    "          ['양파','부추','옥수수']]\n",
    "sample3 = ['사과 감자 옥수수 너희 그들 양파 부추']\n",
    "sample4 = ['사과',' 감자' ,'옥수수', '너희', '그들', '양파', '부추']\n",
    "\n",
    "tokenizer =Tokenizer(num_words=max_words) # Tokenizer 객체 생성\n",
    "tokenizer.fit_on_texts(sample1)\n",
    "word_index = tokenizer.word_index\n",
    "print(word_index)\n",
    "\n",
    "tokenizer = Tokenizer(num_words= max_words)\n",
    "tokenizer.fit_on_texts(sample2)\n",
    "word_index = tokenizer.word_index\n",
    "print(word_index)\n",
    "\n",
    "tokenizer = Tokenizer(num_words= max_words)\n",
    "tokenizer.fit_on_texts(sample3)\n",
    "word_index = tokenizer.word_index\n",
    "print(word_index)\n",
    "\n",
    "tokenizer = Tokenizer(num_words= max_words)\n",
    "tokenizer.fit_on_texts(sample4)\n",
    "word_index = tokenizer.word_index\n",
    "print(word_index)\n"
   ]
  },
  {
   "cell_type": "code",
   "execution_count": 7,
   "metadata": {},
   "outputs": [],
   "source": [
    "#Data Tokenizing\n",
    "# 텍스트에 사용된 단어의 종류를 빈도 순으로 정렬하는 작업을 수정한다\n",
    "\n",
    "validation_ratio = math.floor(len(texts)*0.3) # 검증 샘플은 전체 30%로 설정\n",
    "max_words= 10000                           #데이터셋에서 가장 빈도 높은 9999개의 단어\n",
    "maxlen = 200                               #one-hot-encoding용 숫자\n",
    "\n",
    "tokenizer = Tokenizer(num_words = max_words) # 상위빈도 9999개의 단어만을 사용하는 tokenizer 객체 생성\n",
    "tokenizer.fit_on_texts(texts)                # 단어 인덱스를 구축\n",
    "word_index = tokenizer.word_index            #단어 인덱스만 할당"
   ]
  },
  {
   "cell_type": "code",
   "execution_count": null,
   "metadata": {},
   "outputs": [],
   "source": [
    "# Tokenizing 결과 학인\n",
    "print('전체에서 %s개의 고유한 토큰을 찾았습니다.' % len(word_index))\n",
    "print('word_index type :', type(word_index))\n",
    "#print('word_index : ', word_index)"
   ]
  },
  {
   "cell_type": "code",
   "execution_count": 9,
   "metadata": {},
   "outputs": [
    {
     "name": "stdout",
     "output_type": "stream",
     "text": [
      "data 0 : [62, 4, 3, 129, 34, 44, 7576, 1414, 15, 3, 4252, 514, 43, 16, 3, 633, 133, 12, 6, 3, 1301, 459, 4, 1751, 209, 3, 7693, 308, 6, 676, 80, 32, 2137, 1110, 3008, 31, 1, 929, 4, 42, 5120, 469, 9, 2665, 1751, 1, 223, 55, 16, 54, 828, 1318, 847, 228, 9, 40, 96, 122, 1484, 57, 145, 36, 1, 996, 141, 27, 676, 122, 1, 411, 59, 94, 2278, 303, 772, 5, 3, 837, 20, 3, 1755, 646, 42, 125, 71, 22, 235, 101, 16, 46, 49, 624, 31, 702, 84, 702, 378, 3493, 2, 8422, 67, 27, 107, 3348]\n",
      "texts 0 :  Story of a man who has unnatural feelings for a pig. Starts out with a opening scene that is a terrific example of absurd comedy. A formal orchestra audience is turned into an insane, violent mob by the crazy chantings of it's singers. Unfortunately it stays absurd the WHOLE time with no general narrative eventually making it just too off putting. Even those from the era should be turned off. The cryptic dialogue would make Shakespeare seem easy to a third grader. On a technical level it's better than you might think with some good cinematography by future great Vilmos Zsigmond. Future stars Sally Kirkland and Frederic Forrest can be seen briefly.\n"
     ]
    }
   ],
   "source": [
    "# Data Sequencing\n",
    "# 문자를 숫자로 변환하는 작업을 수행한다.\n",
    "# 상위 빈도 10000(max_words) 개의 단어만 추출하여 word_index의 숫자 리스트로 반환한다\n",
    "data =tokenizer.texts_to_sequences(texts) # tokenizer 결과가 여기서 반영\n",
    "\n",
    "print('data 0 :' ,data[0])\n",
    "print('texts 0 : ', texts[0])\n"
   ]
  },
  {
   "cell_type": "code",
   "execution_count": 10,
   "metadata": {},
   "outputs": [
    {
     "name": "stdout",
     "output_type": "stream",
     "text": [
      "[[3 4 5]\n",
      " [2 3 4]\n",
      " [0 0 1]]\n"
     ]
    }
   ],
   "source": [
    "#Data Padding 연습\n",
    "\n",
    "#nested list\n",
    "seqeunces = [[1,2,3,4,5],[1,2,3,4],[1]] \n",
    "padded = pad_sequences(seqeunces, maxlen =3)\n",
    "#2D tensor\n",
    "print(padded)"
   ]
  },
  {
   "cell_type": "code",
   "execution_count": null,
   "metadata": {},
   "outputs": [],
   "source": [
    "# Data Padding\n",
    "data =pad_sequences(data, maxlen= maxlen)\n",
    "print('data :', data)\n",
    "print('data 0: ', data[0])\n",
    "print(len(data[0]))\n",
    "#print(word_index)"
   ]
  },
  {
   "cell_type": "code",
   "execution_count": 12,
   "metadata": {},
   "outputs": [
    {
     "name": "stdout",
     "output_type": "stream",
     "text": [
      "<class 'list'>\n",
      "<class 'numpy.ndarray'>\n",
      "(25000, 200)\n"
     ]
    }
   ],
   "source": [
    "\n",
    "print(type(texts))\n",
    "print(type(data))\n",
    "print(data.shape)"
   ]
  },
  {
   "cell_type": "code",
   "execution_count": 13,
   "metadata": {},
   "outputs": [
    {
     "data": {
      "text/plain": [
       "array([[0., 0., 0., 0., 0., 1., 1., 1., 0., 0., 0.],\n",
       "       [0., 0., 0., 0., 0., 0., 0., 0., 1., 1., 1.]])"
      ]
     },
     "execution_count": 13,
     "metadata": {},
     "output_type": "execute_result"
    }
   ],
   "source": [
    "# One-Hot-Encoding\n",
    "sample = [[5,6,7], [8,9,10]]\n",
    "arr = np.zeros((len(sample), 10 + 1))\n",
    "for i, seq in enumerate(sample):\n",
    "    arr[i,seq] = 1\n",
    "arr"
   ]
  },
  {
   "cell_type": "code",
   "execution_count": 14,
   "metadata": {},
   "outputs": [],
   "source": [
    "def to_one_hot(sequences , dimension):\n",
    "    results = np.zeros((len(sequences), dimension))\n",
    "    for i , seq in enumerate(sequences):\n",
    "        results[i,seq] = 1\n",
    "    return results\n",
    "\n",
    "data = to_one_hot(data, dimension=max_words)\n",
    "labels = np.asarray(labels).astype('float32')"
   ]
  },
  {
   "cell_type": "code",
   "execution_count": null,
   "metadata": {},
   "outputs": [],
   "source": [
    "# One-Hot-Encoding 결과 확인\n",
    "\n",
    "print('data :', data)\n",
    "print(len(data[0]))\n",
    "print('data[0][0:100]', data[0][:100])\n",
    "\n",
    "#print(word_index)"
   ]
  },
  {
   "cell_type": "code",
   "execution_count": 16,
   "metadata": {},
   "outputs": [
    {
     "name": "stdout",
     "output_type": "stream",
     "text": [
      "<class 'list'>\n",
      "<class 'numpy.ndarray'>\n",
      "(25000, 10000)\n"
     ]
    }
   ],
   "source": [
    "print(type(texts))\n",
    "print(type(data))\n",
    "print(data.shape)\n"
   ]
  },
  {
   "cell_type": "code",
   "execution_count": 17,
   "metadata": {},
   "outputs": [
    {
     "data": {
      "text/plain": [
       "numpy.ndarray"
      ]
     },
     "execution_count": 17,
     "metadata": {},
     "output_type": "execute_result"
    }
   ],
   "source": [
    "type(data)"
   ]
  },
  {
   "cell_type": "code",
   "execution_count": 18,
   "metadata": {},
   "outputs": [
    {
     "name": "stdout",
     "output_type": "stream",
     "text": [
      "데이터 텐서의 크기 :  (25000, 10000)\n",
      "레이블 텐서의 크기 :  (25000,)\n",
      "[ 3526  3377 22231 ...  8543 20070   333]\n"
     ]
    }
   ],
   "source": [
    "# Train 데이터와 Validation 데이터 준비\n",
    "\n",
    "print('데이터 텐서의 크기 : ', data.shape) \n",
    "print('레이블 텐서의 크기 : ', labels.shape)\n",
    "\n",
    "indices = np.arange(data.shape[0])\n",
    "np.random.shuffle(indices)\n",
    "data = data[indices]\n",
    "labels = labels[indices]\n",
    "\n",
    "print(indices)"
   ]
  },
  {
   "cell_type": "code",
   "execution_count": 19,
   "metadata": {},
   "outputs": [],
   "source": [
    "# 훈련데이터와 검증데이터 분리\n",
    "# 훈련데이터는 전체 70%\n",
    "x_train = data[validation_ratio :]  \n",
    "y_train = labels[validation_ratio:] \n",
    "# 검증데이터는 전체 30%\n",
    "x_val = data[:validation_ratio ]\n",
    "y_val = labels[:validation_ratio]\n"
   ]
  },
  {
   "cell_type": "code",
   "execution_count": 20,
   "metadata": {},
   "outputs": [],
   "source": [
    "# 모델 정의하기\n",
    "\n",
    "model = Sequential()\n",
    "# 첫 번째 은닉층\n",
    "model.add(Dense(64, activation='relu', input_shape=(max_words,)))\n",
    "# 두 번째 은닉층\n",
    "model.add(Dense(32, activation= 'relu'))\n",
    "# 출력층\n",
    "model.add(Dense(1,activation = 'sigmoid'))\n"
   ]
  },
  {
   "cell_type": "code",
   "execution_count": 21,
   "metadata": {},
   "outputs": [
    {
     "name": "stdout",
     "output_type": "stream",
     "text": [
      "Model: \"sequential\"\n",
      "_________________________________________________________________\n",
      "Layer (type)                 Output Shape              Param #   \n",
      "=================================================================\n",
      "dense (Dense)                (None, 64)                640064    \n",
      "_________________________________________________________________\n",
      "dense_1 (Dense)              (None, 32)                2080      \n",
      "_________________________________________________________________\n",
      "dense_2 (Dense)              (None, 1)                 33        \n",
      "=================================================================\n",
      "Total params: 642,177\n",
      "Trainable params: 642,177\n",
      "Non-trainable params: 0\n",
      "_________________________________________________________________\n"
     ]
    }
   ],
   "source": [
    "# 모델 요약 출력\n",
    "\n",
    "model.summary()"
   ]
  },
  {
   "cell_type": "code",
   "execution_count": 22,
   "metadata": {},
   "outputs": [
    {
     "name": "stdout",
     "output_type": "stream",
     "text": [
      "Train on 17500 samples, validate on 7500 samples\n",
      "Epoch 1/10\n",
      "17500/17500 [==============================] - 8s 481us/sample - loss: 0.3455 - acc: 0.8503 - val_loss: 0.2974 - val_acc: 0.8756\n",
      "Epoch 2/10\n",
      "17500/17500 [==============================] - 8s 439us/sample - loss: 0.2150 - acc: 0.9173 - val_loss: 0.3059 - val_acc: 0.8749\n",
      "Epoch 3/10\n",
      "17500/17500 [==============================] - 8s 467us/sample - loss: 0.1646 - acc: 0.9382 - val_loss: 0.3565 - val_acc: 0.8749\n",
      "Epoch 4/10\n",
      "17500/17500 [==============================] - 8s 477us/sample - loss: 0.1277 - acc: 0.9547 - val_loss: 0.3773 - val_acc: 0.8763\n",
      "Epoch 5/10\n",
      "17500/17500 [==============================] - 7s 422us/sample - loss: 0.0945 - acc: 0.9692 - val_loss: 0.4237 - val_acc: 0.8728\n",
      "Epoch 6/10\n",
      "17500/17500 [==============================] - 8s 432us/sample - loss: 0.0699 - acc: 0.9780 - val_loss: 0.5070 - val_acc: 0.8689\n",
      "Epoch 7/10\n",
      "17500/17500 [==============================] - 8s 437us/sample - loss: 0.0500 - acc: 0.9852 - val_loss: 0.6378 - val_acc: 0.8671\n",
      "Epoch 8/10\n",
      "17500/17500 [==============================] - 9s 491us/sample - loss: 0.0350 - acc: 0.9901 - val_loss: 0.7716 - val_acc: 0.8663\n",
      "Epoch 9/10\n",
      "17500/17500 [==============================] - 8s 446us/sample - loss: 0.0253 - acc: 0.9948 - val_loss: 0.8502 - val_acc: 0.8608\n",
      "Epoch 10/10\n",
      "17500/17500 [==============================] - 7s 401us/sample - loss: 0.0181 - acc: 0.9963 - val_loss: 1.0285 - val_acc: 0.8472\n"
     ]
    }
   ],
   "source": [
    "# Compile & Train Model\n",
    "# 모델 컴파일\n",
    "model.compile(loss='binary_crossentropy', optimizer='rmsprop', metrics=['acc'])\n",
    "\n",
    "# 모델 훈련\n",
    "history = model.fit(x_train, y_train, epochs=10, batch_size=32, validation_data=(x_val, y_val))\n",
    "history_dict = history.history"
   ]
  },
  {
   "cell_type": "code",
   "execution_count": 23,
   "metadata": {},
   "outputs": [],
   "source": [
    "#Save Model\n",
    "# multidimensional numpy arrays를 저장할 수 있는 h5 file(HDF 하둡파일) 저장\n",
    "model.save('C:\\\\Users\\\\jye12\\\\Python\\\\file\\\\pytest_대용량\\\\aclImdb\\\\Utext_binary_model.h5')\n"
   ]
  },
  {
   "cell_type": "code",
   "execution_count": 24,
   "metadata": {},
   "outputs": [],
   "source": [
    "# 훈련 데이터에서 사용된 상위빈도 9999개 의 단어로 된 Tokenizer 저장\n",
    "# 새로 입력되는 문장에서도 같은 단어가 추출되게 한다\n",
    "import pickle\n",
    "with open('C:\\\\Users\\\\jye12\\\\Python\\\\file\\\\pytest_대용량\\\\aclImdb\\\\text_binary_tokenizer.pickle', 'wb') as handle:\n",
    "    pickle.dump(tokenizer, handle, protocol = pickle.HIGHEST_PROTOCOL)"
   ]
  },
  {
   "cell_type": "code",
   "execution_count": 25,
   "metadata": {},
   "outputs": [
    {
     "name": "stdout",
     "output_type": "stream",
     "text": [
      "Accuracy of each epoch : [0.85034287, 0.9173143, 0.93822855, 0.9546857, 0.9692, 0.978, 0.9852, 0.9901143, 0.9948, 0.99628574]\n"
     ]
    }
   ],
   "source": [
    "# Accuracy & Loss 확인\n",
    "# history 딕셔너리 안에 있는 정확도와 손실값을 가져와 본다\n",
    "\n",
    "acc =history.history['acc']\n",
    "val_acc = history.history['val_acc']\n",
    "loss = history.history['loss']\n",
    "val_loss = history.history['val_loss']\n",
    "\n",
    "\n",
    "print('Accuracy of each epoch :', acc)\n",
    "epochs = range(1,len (acc) +1) "
   ]
  },
  {
   "cell_type": "code",
   "execution_count": 26,
   "metadata": {},
   "outputs": [
    {
     "data": {
      "text/plain": [
       "<matplotlib.legend.Legend at 0x1556f5cf9c8>"
      ]
     },
     "execution_count": 26,
     "metadata": {},
     "output_type": "execute_result"
    },
    {
     "data": {
      "image/png": "[encoded data removed]",
      "text/plain": [
       "<Figure size 432x288 with 1 Axes>"
      ]
     },
     "metadata": {
      "needs_background": "light"
     },
     "output_type": "display_data"
    }
   ],
   "source": [
    "# Plotting Accuracy \n",
    "import matplotlib.pyplot as plt\n",
    "\n",
    "# 훈련 데이터의 정확도에 비해 검증데이터의 정확도는 낮게 나타난다.\n",
    "# epoch가 높아지면 모델은 훈련데이터에 매우 민감해져 오히려 새로운 데이터를 잘 못 맞춘다\n",
    "\n",
    "plt.plot(epochs , acc, 'bo' ,label ='Train ACC')\n",
    "plt.plot(epochs, val_acc , 'b' , label= 'Validation ACC')\n",
    "plt.title('Training and validation accuracy')\n",
    "plt.legend()"
   ]
  },
  {
   "cell_type": "code",
   "execution_count": 27,
   "metadata": {},
   "outputs": [
    {
     "data": {
      "image/png": "[encoded data removed]",
      "text/plain": [
       "<Figure size 432x288 with 1 Axes>"
      ]
     },
     "metadata": {
      "needs_background": "light"
     },
     "output_type": "display_data"
    }
   ],
   "source": [
    "# Plotting Loss\n",
    "plt.figure()    # 새로운 그림을 그린다\n",
    "\n",
    "# 훈련데이터의 손실값은 낮아지나, 검증데이터의 손실값은 높아진다\n",
    "# 손실값은 오류값을 말한다. 예측과 정답의 차이를 거리 계산으로 구한 값이다\n",
    "plt.plot(epochs, loss, 'bo', label='Training Loss')\n",
    "plt.plot(epochs, val_loss, 'b', label='Validation Loss')\n",
    "plt.title('Training and validation loss')\n",
    "plt.legend()\n",
    "\n",
    "plt.show()"
   ]
  },
  {
   "cell_type": "code",
   "execution_count": 28,
   "metadata": {},
   "outputs": [
    {
     "name": "stdout",
     "output_type": "stream",
     "text": [
      "Current Directory: C:\\Users\\jye12\\Python\\file\\pytest_대용량\\aclImdb\n"
     ]
    }
   ],
   "source": [
    "# Load Model\n",
    "\n",
    "\n",
    "filepath = 'C:\\\\Users\\\\jye12\\\\Python\\\\file\\\\pytest_대용량\\\\aclImdb\\\\'\n",
    "os.chdir(filepath)\n",
    "print(\"Current Directory:\", os.getcwd())"
   ]
  },
  {
   "cell_type": "code",
   "execution_count": 29,
   "metadata": {},
   "outputs": [
    {
     "name": "stdout",
     "output_type": "stream",
     "text": [
      "model loaded: <tensorflow.python.keras.engine.sequential.Sequential object at 0x0000015576476D08>\n"
     ]
    }
   ],
   "source": [
    "loaded_model = load_model('Utext_binary_model.h5')\n",
    "print(\"model loaded:\", loaded_model)\n",
    "\n",
    "with open('text_binary_tokenizer.pickle', 'rb') as handle:\n",
    "      loaded_tokenizer = pickle.load(handle)"
   ]
  },
  {
   "cell_type": "code",
   "execution_count": 30,
   "metadata": {},
   "outputs": [],
   "source": [
    "# Test Data Loading\n",
    "test_dir = os.path.join(imdb_dir, 'test')\n",
    "labels = [] ; texts = []\n",
    "\n",
    "for label_type in ['neg', 'pos']:\n",
    "    dir_name = os.path.join(test_dir, label_type)\n",
    "    for fname in os.listdir(dir_name):\n",
    "        if fname[-4:] == '.txt':\n",
    "            f = open(os.path.join(dir_name, fname), encoding='utf8')\n",
    "            texts.append(f.read())\n",
    "            f.close()\n",
    "            if label_type == 'neg':\n",
    "                labels.append(0)\n",
    "            else:\n",
    "                labels.append(1)"
   ]
  },
  {
   "cell_type": "code",
   "execution_count": 31,
   "metadata": {
    "colab": {},
    "colab_type": "code",
    "id": "bk8d2KpvqW8n"
   },
   "outputs": [
    {
     "name": "stdout",
     "output_type": "stream",
     "text": [
      "texts: Once again Mr. Costner has dragged out a movie for far longer than necessary. Aside from the terrific sea rescue sequences, of which there are very few I just did not care about any of the characters. Most of us have ghosts in the closet, and Costner's character are realized early on, and then forgotten until much later, by which time I did not care. The character we should really care about is a very cocky, overconfident Ashton Kutcher. The problem is he comes off as kid who thinks he's better than anyone else around him and shows no signs of a cluttered closet. His only obstacle appears to be winning over Costner. Finally when we are well past the half way point of this stinker, Costner tells us all about Kutcher's ghosts. We are told why Kutcher is driven to be the best with no prior inkling or foreshadowing. No magic here, it was all I could do to keep from turning it off an hour in.\n",
      "texts len: 25000\n"
     ]
    }
   ],
   "source": [
    "# Data 확인\n",
    "print('texts:', texts[0])\n",
    "print('texts len:', len(texts))"
   ]
  },
  {
   "cell_type": "code",
   "execution_count": 32,
   "metadata": {
    "colab": {},
    "colab_type": "code",
    "id": "6wsLSrmrqYUC"
   },
   "outputs": [],
   "source": [
    "# Data Sequencing\n",
    "# 문자열을 word_index의 숫자 리스트로 변환\n",
    "data = loaded_tokenizer.texts_to_sequences(texts)\n",
    "\n",
    "# padding으로 문자열의 길이를 고정시킨다\n",
    "data = pad_sequences(data, maxlen=maxlen) \n",
    "\n",
    "# test 데이터를 원-핫 인코딩한다\n",
    "x_test = to_one_hot(data, dimension=max_words)\n",
    "\n",
    "# label을 list에서 넘파이 배열로 변환. 결과가 0 또는 1만 나오므로 이와같이 int32로 저장해도 된다.\n",
    "y_test = np.asarray(labels)"
   ]
  },
  {
   "cell_type": "code",
   "execution_count": 33,
   "metadata": {
    "colab": {},
    "colab_type": "code",
    "id": "7ce6e6REqaFF"
   },
   "outputs": [
    {
     "name": "stdout",
     "output_type": "stream",
     "text": [
      "25000/25000 [==============================] - 4s 141us/sample - loss: 1.1222 - acc: 0.8318\n",
      "prediction model loss & acc: [1.122161081815809, 0.83184]\n"
     ]
    }
   ],
   "source": [
    "# Test Data Evaluation\n",
    "test_eval = loaded_model.evaluate(x_test, y_test)\t  # 모델에 분류할 데이터와 그 정답을 같이 넣어준다\n",
    "print('prediction model loss & acc:', test_eval)\t\t# 모델이 분류한 결과와 입력된 정답을 비교한 결과"
   ]
  },
  {
   "cell_type": "code",
   "execution_count": 34,
   "metadata": {
    "colab": {},
    "colab_type": "code",
    "id": "4MdJ_rXrqbgo"
   },
   "outputs": [
    {
     "name": "stdout",
     "output_type": "stream",
     "text": [
      "Result: [[0.7237506]]\n"
     ]
    }
   ],
   "source": [
    "# 1개 데이터 예측\n",
    "text = [\"Hi, this is a test sentence.\"]      # 데이터를 list 타입으로 만든다\n",
    "data = loaded_tokenizer.texts_to_sequences(text)\n",
    "data = pad_sequences(data, maxlen=maxlen)\n",
    "x_test = to_one_hot(data, dimension=max_words)\n",
    "\n",
    "prediction = loaded_model.predict(x_test)\n",
    "print(\"Result:\", prediction)\t\t\t\t\t       # [[0.53135556]]. 1이 될 확률이 53.1%"
   ]
  },
  {
   "cell_type": "markdown",
   "metadata": {},
   "source": [
    "## 4차원 데이터 만들기"
   ]
  },
  {
   "cell_type": "code",
   "execution_count": 35,
   "metadata": {},
   "outputs": [],
   "source": [
    "a =np.array([1]).reshape(1,1,1,1)"
   ]
  },
  {
   "cell_type": "code",
   "execution_count": 36,
   "metadata": {},
   "outputs": [
    {
     "data": {
      "text/plain": [
       "4"
      ]
     },
     "execution_count": 36,
     "metadata": {},
     "output_type": "execute_result"
    }
   ],
   "source": [
    "a.ndim"
   ]
  },
  {
   "cell_type": "markdown",
   "metadata": {},
   "source": [
    "## 네이버 영화 평가 사용하기"
   ]
  },
  {
   "cell_type": "code",
   "execution_count": 2,
   "metadata": {},
   "outputs": [],
   "source": [
    "import pandas as pd"
   ]
  },
  {
   "cell_type": "code",
   "execution_count": 3,
   "metadata": {},
   "outputs": [
    {
     "data": {
      "text/html": [
       "<div>\n",
       "<style scoped>\n",
       "    .dataframe tbody tr th:only-of-type {\n",
       "        vertical-align: middle;\n",
       "    }\n",
       "\n",
       "    .dataframe tbody tr th {\n",
       "        vertical-align: top;\n",
       "    }\n",
       "\n",
       "    .dataframe thead th {\n",
       "        text-align: right;\n",
       "    }\n",
       "</style>\n",
       "<table border=\"1\" class=\"dataframe\">\n",
       "  <thead>\n",
       "    <tr style=\"text-align: right;\">\n",
       "      <th></th>\n",
       "      <th>id</th>\n",
       "      <th>document</th>\n",
       "      <th>label</th>\n",
       "    </tr>\n",
       "  </thead>\n",
       "  <tbody>\n",
       "    <tr>\n",
       "      <th>0</th>\n",
       "      <td>8112052</td>\n",
       "      <td>어릴때보고 지금다시봐도 재밌어요ㅋㅋ</td>\n",
       "      <td>1</td>\n",
       "    </tr>\n",
       "    <tr>\n",
       "      <th>1</th>\n",
       "      <td>8132799</td>\n",
       "      <td>디자인을 배우는 학생으로, 외국디자이너와 그들이 일군 전통을 통해 발전해가는 문화산...</td>\n",
       "      <td>1</td>\n",
       "    </tr>\n",
       "    <tr>\n",
       "      <th>2</th>\n",
       "      <td>4655635</td>\n",
       "      <td>폴리스스토리 시리즈는 1부터 뉴까지 버릴께 하나도 없음.. 최고.</td>\n",
       "      <td>1</td>\n",
       "    </tr>\n",
       "    <tr>\n",
       "      <th>3</th>\n",
       "      <td>9251303</td>\n",
       "      <td>와.. 연기가 진짜 개쩔구나.. 지루할거라고 생각했는데 몰입해서 봤다.. 그래 이런...</td>\n",
       "      <td>1</td>\n",
       "    </tr>\n",
       "    <tr>\n",
       "      <th>4</th>\n",
       "      <td>10067386</td>\n",
       "      <td>안개 자욱한 밤하늘에 떠 있는 초승달 같은 영화.</td>\n",
       "      <td>1</td>\n",
       "    </tr>\n",
       "    <tr>\n",
       "      <th>...</th>\n",
       "      <td>...</td>\n",
       "      <td>...</td>\n",
       "      <td>...</td>\n",
       "    </tr>\n",
       "    <tr>\n",
       "      <th>199995</th>\n",
       "      <td>8963373</td>\n",
       "      <td>포켓 몬스터 짜가 ㅡㅡ;;</td>\n",
       "      <td>0</td>\n",
       "    </tr>\n",
       "    <tr>\n",
       "      <th>199996</th>\n",
       "      <td>3302770</td>\n",
       "      <td>쓰.레.기</td>\n",
       "      <td>0</td>\n",
       "    </tr>\n",
       "    <tr>\n",
       "      <th>199997</th>\n",
       "      <td>5458175</td>\n",
       "      <td>완전 사이코영화. 마지막은 더욱더 이 영화의질을 떨어트린다.</td>\n",
       "      <td>0</td>\n",
       "    </tr>\n",
       "    <tr>\n",
       "      <th>199998</th>\n",
       "      <td>6908648</td>\n",
       "      <td>왜난 재미없었지 ㅠㅠ 라따뚜이 보고나서 스머프 봐서 그런가 ㅋㅋ</td>\n",
       "      <td>0</td>\n",
       "    </tr>\n",
       "    <tr>\n",
       "      <th>199999</th>\n",
       "      <td>8548411</td>\n",
       "      <td>포풍저그가나가신다영차영차영차</td>\n",
       "      <td>0</td>\n",
       "    </tr>\n",
       "  </tbody>\n",
       "</table>\n",
       "<p>200000 rows × 3 columns</p>\n",
       "</div>"
      ],
      "text/plain": [
       "              id                                           document  label\n",
       "0        8112052                                어릴때보고 지금다시봐도 재밌어요ㅋㅋ      1\n",
       "1        8132799  디자인을 배우는 학생으로, 외국디자이너와 그들이 일군 전통을 통해 발전해가는 문화산...      1\n",
       "2        4655635               폴리스스토리 시리즈는 1부터 뉴까지 버릴께 하나도 없음.. 최고.      1\n",
       "3        9251303  와.. 연기가 진짜 개쩔구나.. 지루할거라고 생각했는데 몰입해서 봤다.. 그래 이런...      1\n",
       "4       10067386                        안개 자욱한 밤하늘에 떠 있는 초승달 같은 영화.      1\n",
       "...          ...                                                ...    ...\n",
       "199995   8963373                                     포켓 몬스터 짜가 ㅡㅡ;;      0\n",
       "199996   3302770                                              쓰.레.기      0\n",
       "199997   5458175                  완전 사이코영화. 마지막은 더욱더 이 영화의질을 떨어트린다.      0\n",
       "199998   6908648                왜난 재미없었지 ㅠㅠ 라따뚜이 보고나서 스머프 봐서 그런가 ㅋㅋ      0\n",
       "199999   8548411                                    포풍저그가나가신다영차영차영차      0\n",
       "\n",
       "[200000 rows x 3 columns]"
      ]
     },
     "execution_count": 3,
     "metadata": {},
     "output_type": "execute_result"
    }
   ],
   "source": [
    "df = pd.read_csv('C://Users//jye12//Python//file/pytest_대용량/ratings(네이버영화평).txt', sep= '\\t',encoding='cp949')\n",
    "df"
   ]
  },
  {
   "cell_type": "code",
   "execution_count": 4,
   "metadata": {},
   "outputs": [],
   "source": [
    "\n",
    "# 형태소 분석된 문장 샘플 보기\n",
    "roM= rhinoMorph.onlyMorph_list"
   ]
  },
  {
   "cell_type": "code",
   "execution_count": 5,
   "metadata": {
    "colab": {
     "base_uri": "https://localhost:8080/",
     "height": 71
    },
    "colab_type": "code",
    "executionInfo": {
     "elapsed": 1804,
     "status": "ok",
     "timestamp": 1591933413321,
     "user": {
      "displayName": "최석재",
      "photoUrl": "https://lh3.googleusercontent.com/a-/AOh14GiiJRXT6vTRiy9987vo52Z1V7EPvNuOCvtYhBTiEw=s64",
      "userId": "09969236112114002539"
     },
     "user_tz": -540
    },
    "id": "iVJR21gV-J7-",
    "outputId": "a765fa0c-bd6e-4fe8-d87d-36bbc31ebe3a"
   },
   "outputs": [],
   "source": [
    "# 형태소 분석된 데이터 로딩\n",
    "data = pd.read_csv('C:/Users/jye12/Python/file/pytest_대용량/ratings_morphed.txt', sep = '\\t',encoding='cp949', names =['id','context','label'])"
   ]
  },
  {
   "cell_type": "code",
   "execution_count": 6,
   "metadata": {},
   "outputs": [],
   "source": [
    "data_text = [line[1] for line in data.values]     # 데이터 본문\n",
    "data_senti = [line[2] for line in data.values] "
   ]
  },
  {
   "cell_type": "code",
   "execution_count": 7,
   "metadata": {},
   "outputs": [
    {
     "data": {
      "text/plain": [
       "['어리다 때 보다 지금 다시 보다 재미있다 ㅋㅋ',\n",
       " '디자인 배우다 학생 외국 디자이너 일구다 전통 통하다 발전 문화 산업 부럽다 사실 우리나라 그 어렵다 시절 끝 열정 지키다 노라노 같다 전통 있다 같다 사람 꿈 꾸다 이루다 나가다 있다 감사',\n",
       " '폴리스스토리 시리즈 뉴 없다 최고',\n",
       " '와 연기 진짜 쩔다 지루 생각하다 몰입 그래 이런 진짜 영화',\n",
       " '안개 자욱 하다 밤하늘 뜨다 초승달 같다 영화',\n",
       " '사랑 해보다 사람 처음 끝 웃다 있다 영화',\n",
       " '완전 감동 다시다 감동',\n",
       " '개들 전쟁 나오다 나오다 1빠 보다',\n",
       " '굿',\n",
       " '바보 병']"
      ]
     },
     "execution_count": 7,
     "metadata": {},
     "output_type": "execute_result"
    }
   ],
   "source": [
    "data_text[:10]"
   ]
  },
  {
   "cell_type": "code",
   "execution_count": 8,
   "metadata": {},
   "outputs": [],
   "source": [
    "rvalidation_ratio = math.floor(len(data_text)*0.3) # 검증 샘플은 전체 30%로 설정\n",
    "max_words= 10000                           #데이터셋에서 가장 빈도 높은 9999개의 단어\n",
    "maxlen = 200                               #one-hot-encoding용 숫자\n",
    "\n",
    "tokenizer = Tokenizer(num_words = max_words)\n",
    "\n",
    " # 상위빈도 9999개의 단어만을 사용하는 tokenizer 객체 생성\n",
    "tokenizer.fit_on_texts(data_text)                # 단어 인덱스를 구축\n",
    "word_index = tokenizer.word_index            #단어 인덱스만 할당"
   ]
  },
  {
   "cell_type": "code",
   "execution_count": 9,
   "metadata": {},
   "outputs": [
    {
     "name": "stdout",
     "output_type": "stream",
     "text": [
      "data 0 : [154, 32, 2, 72, 54, 2, 6, 5]\n",
      "texts 0 :  어리다 때 보다 지금 다시 보다 재미있다 ㅋㅋ\n"
     ]
    }
   ],
   "source": [
    "data =tokenizer.texts_to_sequences(data_text) # tokenizer 결과가 여기서 반영\n",
    "\n",
    "print('data 0 :' ,data[0])\n",
    "print('texts 0 : ', data_text[0])"
   ]
  },
  {
   "cell_type": "code",
   "execution_count": null,
   "metadata": {},
   "outputs": [],
   "source": [
    "# Data Padding\n",
    "data2 =pad_sequences(data, maxlen= maxlen)\n",
    "print('data :', data2)\n",
    "print('data 0: ', data2[0])\n",
    "print(len(data2[0]))\n",
    "#print(word_index)"
   ]
  },
  {
   "cell_type": "code",
   "execution_count": 11,
   "metadata": {},
   "outputs": [],
   "source": [
    "data3 = to_one_hot(data2, dimension=max_words)\n",
    "labels = np.asarray(data_senti).astype('float32')"
   ]
  },
  {
   "cell_type": "code",
   "execution_count": 12,
   "metadata": {},
   "outputs": [
    {
     "name": "stdout",
     "output_type": "stream",
     "text": [
      "데이터 텐서의 크기 :  (197515, 10000)\n",
      "레이블 텐서의 크기 :  (197515,)\n"
     ]
    }
   ],
   "source": [
    "# Train 데이터와 Validation 데이터 준비\n",
    "print('데이터 텐서의 크기 : ', data3.shape) \n",
    "print('레이블 텐서의 크기 : ', labels.shape)\n",
    "\n",
    "indices = np.arange(data3.shape[0])\n",
    "np.random.shuffle(indices)"
   ]
  },
  {
   "cell_type": "code",
   "execution_count": 13,
   "metadata": {},
   "outputs": [
    {
     "data": {
      "text/plain": [
       "((197515, 10000), numpy.ndarray)"
      ]
     },
     "execution_count": 13,
     "metadata": {},
     "output_type": "execute_result"
    }
   ],
   "source": [
    "\n",
    "data3.shape , type(data3)"
   ]
  },
  {
   "cell_type": "code",
   "execution_count": 14,
   "metadata": {},
   "outputs": [],
   "source": [
    "train_ratio1 = math.floor(len(data3)*0.25)\n",
    "train_ratio2 = math.floor(len(data3)*0.50)\n",
    "\n",
    "validation_ratio = math.floor(len(data3)*0.70)\n",
    "\n",
    "np.random.shuffle(indices)"
   ]
  },
  {
   "cell_type": "code",
   "execution_count": 15,
   "metadata": {},
   "outputs": [],
   "source": [
    "train_index1 = indices[:train_ratio1]\n",
    "train_index2 = indices[train_ratio1:train_ratio2]\n",
    "validation_index =indices[train_ratio2:validation_ratio]"
   ]
  },
  {
   "cell_type": "code",
   "execution_count": 16,
   "metadata": {},
   "outputs": [],
   "source": [
    "test_index = indices[validation_ratio:]"
   ]
  },
  {
   "cell_type": "code",
   "execution_count": 17,
   "metadata": {},
   "outputs": [],
   "source": [
    "X_train1 = data3[train_index1]"
   ]
  },
  {
   "cell_type": "code",
   "execution_count": 22,
   "metadata": {},
   "outputs": [],
   "source": [
    "X_train2 = data3[train_index2]\n",
    "#X_train2 =0"
   ]
  },
  {
   "cell_type": "code",
   "execution_count": 57,
   "metadata": {},
   "outputs": [
    {
     "ename": "MemoryError",
     "evalue": "Unable to allocate 2.94 GiB for an array with shape (39503, 10000) and data type float64",
     "output_type": "error",
     "traceback": [
      "\u001b[1;31m---------------------------------------------------------------------------\u001b[0m",
      "\u001b[1;31mMemoryError\u001b[0m                               Traceback (most recent call last)",
      "\u001b[1;32m<ipython-input-57-c5bc4e639980>\u001b[0m in \u001b[0;36m<module>\u001b[1;34m\u001b[0m\n\u001b[1;32m----> 1\u001b[1;33m \u001b[0mX_test\u001b[0m \u001b[1;33m=\u001b[0m\u001b[0mdata3\u001b[0m\u001b[1;33m[\u001b[0m\u001b[0mvalidation_index\u001b[0m\u001b[1;33m]\u001b[0m\u001b[1;33m\u001b[0m\u001b[1;33m\u001b[0m\u001b[0m\n\u001b[0m",
      "\u001b[1;31mMemoryError\u001b[0m: Unable to allocate 2.94 GiB for an array with shape (39503, 10000) and data type float64"
     ]
    }
   ],
   "source": [
    "X_test =data3[validation_index] # 컴퓨터 메모리 부족으로 실행 불가능"
   ]
  },
  {
   "cell_type": "markdown",
   "metadata": {},
   "source": [
    "## 컴퓨터 성능의 한계로 전체 흐름도 정리로 마무리"
   ]
  },
  {
   "cell_type": "markdown",
   "metadata": {},
   "source": [
    "자연어 처리 딥러닝 흐름도\n",
    "1. 라벨이 되어 있는 데이터셋 필요  \n",
    "2. data Tokenizing   \n",
    "\to from keras.preprocessing.text import Tokenizer\n",
    "\tfrom keras.preprocessing.sequence import pad_sequences\n",
    "\ttokenizer = Tokenizer(num_words = max_words)\n",
    "\ttokeninzer.fit_on_texts(texts)\n",
    "3. data sequencing   \n",
    "\to data = tokenizer.texts_to_sequence(texts)\n",
    "4. Data padding\n",
    "\to data = pad_sequences(data, maxlen =maxlen)\n",
    "5. One-Hot-Encoding   \n",
    "\n",
    "    o def to_one_hot(sequences, dimension):  \n",
    "            results = np.zeros((len(sequences), dimension))\n",
    "            for i , seq in enumerate(sequence):\n",
    "                results[i. seq] =1\n",
    "            return results\n",
    "\n",
    "6. 훈련데이터와 검증데이터 분리  \n",
    "7. 모델 정의하기 , compile & train model, save model  \n",
    "8. Test data evaluation  \n",
    "\n"
   ]
  },
  {
   "cell_type": "code",
   "execution_count": null,
   "metadata": {},
   "outputs": [],
   "source": []
  }
 ],
 "metadata": {
  "kernelspec": {
   "display_name": "Python 3",
   "language": "python",
   "name": "python3"
  },
  "language_info": {
   "codemirror_mode": {
    "name": "ipython",
    "version": 3
   },
   "file_extension": ".py",
   "mimetype": "text/x-python",
   "name": "python",
   "nbconvert_exporter": "python",
   "pygments_lexer": "ipython3",
   "version": "3.7.6"
  }
 },
 "nbformat": 4,
 "nbformat_minor": 4
}
