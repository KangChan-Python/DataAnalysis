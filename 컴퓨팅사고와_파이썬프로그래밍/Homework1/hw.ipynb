{
 "cells": [
  {
   "cell_type": "code",
   "execution_count": 10,
   "metadata": {},
   "outputs": [],
   "source": [
    "import turtle # turtle 모델을 불러옵니다..\n",
    "turtle.setup(500, 500) # window width, height 크기 설정을 합니다.\n",
    "t = turtle.Turtle()\n",
    "t.pencolor(\"red\") # 펜 색깔을 'red'(빨강)로 지정합니다\n",
    "t.speed(1) #펜으로 그리는 속도를 지정합니다. 1: 가장 느림 , 9: 빠름, 0: 가장 빠름 \n",
    "t.width(5) #펜의 굴기를 5로 설정합니다.\n",
    "side= 100 # 변의 길이를 설정합니다.\n",
    "turn_angle =72 # 정5각형은 내각이 모두 108도 이기때문에 72도로 꺽어줍니다.\n",
    "for i in range(5): # 한변을 그리고 72도 각도 틀기를 5번 반복해줍니다.\n",
    "    t.forward(side) \n",
    "    t.left(turn_angle)\n",
    "\n",
    "\n",
    "sumnum = 0 # 합계를 구하기 위한 변수를 할당합니다.\n",
    "for i in range(10):  #입력 값을 10번 받기 위한 10번의 반복문을 작성해줍니다.\n",
    "    num_str = input(\"Input number\"+str(i)+' :') # 입력 값을 변수에 할당해줍니다.\n",
    "    num = int(num_str) # 입력 받은 값을 정수값으로 변경해줍니다.\n",
    "    sumnum += num # 합계변수에 입력값을 더하여 줍니다.\n",
    "    if i ==0: # 첫 번째 입력값을 가장 큰 값과 가장 작은 값으로 지정하여 줍니다.\n",
    "        maxnum = num\n",
    "        minnum = num\n",
    "    if num > maxnum: # 첫 번째 입력값은 자기 자신과 비교대기 때문에 넘어가지만 \n",
    "        maxnum = num # 두 번째 입력값부터 maxnum과 비교하여 더 큰 값이 maxnum에 들어가있게 됩니다.\n",
    "    if num < minnum: # 첫 번째 입력값은 자기 자신과 비교대기 때문에 넘어가지만 \n",
    "        minnum = num # 두 번째 입력값부터 minnum과 비교하여 더 작은 값이 minnum에 들어가있게 됩니다.\n",
    "avgnum = sumnum/ 10 # 합계변수를 총 개수인 10으로 나누어 평균값을 구하여 할당합니다.\n",
    "print(maxnum, minnum,avgnum) # 가장 큰 값, 가장 작은 값, 평균 값 순으로 출력합니다.\n",
    "\n",
    "list1 = [123,435,12,365,7,5675,68,123,4321] # 순차탐색할 데이터\n",
    "len_num = len(list1) # 데이터의 길이를 구해줍니다.\n",
    "fin_num = 5675 # 찾을 값을 변수에 할당합니다.\n",
    "for i in range(len_num): #데이터의 길이만큼 반복해줍니다.  \n",
    "    if list1[i] == fin_num: # 찾을 값 변수 값이 인덱스의 해당값과 같으면 인덱스 넘버를 출력합니다.\n",
    "        print(i)\n",
    "\n",
    "list1 = [123,435,12,365,7,5675,68,12,123]\n",
    "len_num = len(list1)\n",
    "for i in range(len_num -1): # 전체 길이에서 1을 뺀 만큼 반복문을 만들어줍니다.\n",
    "    minnum = list1[i] # 값을 비교하기 위해 순서대로 비교기준 값을 변수에 할당해줍니다. \n",
    "    for j in range(i+1, len_num): #비교기준 값 이후의 값들과 비교하기 위한 반복문을 만들어줍니다.\n",
    "        if list1[j] < minnum: #비교 기준값보다 작은 값이 있을 시 비교기준값과 위치를 바꿔주는 조건문입니다.\n",
    "            minnum = list1[j]\n",
    "            list1[j] = list1[i]\n",
    "            list1[i] = minnum\n",
    "print(list1)# 결과를 출력합니다.       \n",
    "        "
   ]
  },
  {
   "cell_type": "code",
   "execution_count": null,
   "metadata": {},
   "outputs": [],
   "source": []
  }
 ],
 "metadata": {
  "kernelspec": {
   "display_name": "Python 3",
   "language": "python",
   "name": "python3"
  },
  "language_info": {
   "codemirror_mode": {
    "name": "ipython",
    "version": 3
   },
   "file_extension": ".py",
   "mimetype": "text/x-python",
   "name": "python",
   "nbconvert_exporter": "python",
   "pygments_lexer": "ipython3",
   "version": "3.7.6"
  }
 },
 "nbformat": 4,
 "nbformat_minor": 4
}
