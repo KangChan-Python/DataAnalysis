{
 "cells": [
  {
   "cell_type": "code",
   "execution_count": null,
   "metadata": {
    "colab": {},
    "colab_type": "code",
    "id": "kQ4EHtrLvrfV"
   },
   "outputs": [],
   "source": [
    "# 형태소분석기 관련 설치\n",
    "!apt-get update\n",
    "!apt-get install g++ openjdk-8-jdk\n",
    "!pip install JPype1==0.7.4\n",
    "!pip install rhinoMorph"
   ]
  },
  {
   "cell_type": "code",
   "execution_count": 1,
   "metadata": {
    "colab": {
     "base_uri": "https://localhost:8080/",
     "height": 108
    },
    "colab_type": "code",
    "executionInfo": {
     "elapsed": 3682,
     "status": "ok",
     "timestamp": 1591860149464,
     "user": {
      "displayName": "최석재",
      "photoUrl": "https://lh3.googleusercontent.com/a-/AOh14GiiJRXT6vTRiy9987vo52Z1V7EPvNuOCvtYhBTiEw=s64",
      "userId": "09969236112114002539"
     },
     "user_tz": -540
    },
    "id": "8OMmFaIavwoL",
    "outputId": "c67565a3-7cd4-4102-c2c3-f85f697af982"
   },
   "outputs": [
    {
     "name": "stdout",
     "output_type": "stream",
     "text": [
      "filepath:  C:\\Users\\jye12\\anaconda\\lib\\site-packages\n",
      "classpath:  C:\\Users\\jye12\\anaconda\\lib\\site-packages\\rhinoMorph/lib/rhino.jar\n",
      "RHINO started!\n",
      "\n",
      "1. 형태소 분석 결과:  ['한글', '로', '되', 'ㄴ', '한글', '텍스트', '를', '분석', '하', '는', '것', '은', '즐겁', '다', '.']\n"
     ]
    }
   ],
   "source": [
    "import rhinoMorph\n",
    "\n",
    "rn = rhinoMorph.startRhino()\n",
    "text = \"한글로 된 한글텍스트를 분석하는 것은 즐겁다.\"\n",
    "\n",
    "# 사용 1 : 모든 형태소 보이기\n",
    "text_analyzed = rhinoMorph.onlyMorph_list(rn, text)\n",
    "print('\\n1. 형태소 분석 결과: ', text_analyzed)"
   ]
  },
  {
   "cell_type": "code",
   "execution_count": 2,
   "metadata": {
    "colab": {
     "base_uri": "https://localhost:8080/",
     "height": 53
    },
    "colab_type": "code",
    "executionInfo": {
     "elapsed": 706,
     "status": "ok",
     "timestamp": 1591861231263,
     "user": {
      "displayName": "최석재",
      "photoUrl": "https://lh3.googleusercontent.com/a-/AOh14GiiJRXT6vTRiy9987vo52Z1V7EPvNuOCvtYhBTiEw=s64",
      "userId": "09969236112114002539"
     },
     "user_tz": -540
    },
    "id": "-dDY08W9vy46",
    "outputId": "cdffeeec-0dca-445d-f804-4cfa21dc48ef"
   },
   "outputs": [
    {
     "name": "stdout",
     "output_type": "stream",
     "text": [
      "\n",
      "2. 형태소 분석 결과:  ['한글', '되', '한글', '텍스트', '분석', '즐겁']\n"
     ]
    }
   ],
   "source": [
    "# 사용 2 : 실질형태소만, 동사의 어말어미 제외\n",
    "text_analyzed = rhinoMorph.onlyMorph_list(rn, text, pos=['NNG', 'NNP', 'NP', 'VV', 'VA', 'XR', 'IC', 'MM', 'MAG', 'MAJ'])\n",
    "print('\\n2. 형태소 분석 결과: ', text_analyzed)"
   ]
  },
  {
   "cell_type": "code",
   "execution_count": 9,
   "metadata": {
    "colab": {
     "base_uri": "https://localhost:8080/",
     "height": 53
    },
    "colab_type": "code",
    "executionInfo": {
     "elapsed": 672,
     "status": "ok",
     "timestamp": 1591861458504,
     "user": {
      "displayName": "최석재",
      "photoUrl": "https://lh3.googleusercontent.com/a-/AOh14GiiJRXT6vTRiy9987vo52Z1V7EPvNuOCvtYhBTiEw=s64",
      "userId": "09969236112114002539"
     },
     "user_tz": -540
    },
    "id": "dd0kmgsgv0WS",
    "outputId": "82b395da-d5bb-4487-8043-fefd3600ab57"
   },
   "outputs": [
    {
     "name": "stdout",
     "output_type": "stream",
     "text": [
      "\n",
      "3. 형태소 분석 결과:  ['한글', '되다', '한글', '텍스트', '분석', '즐겁다']\n"
     ]
    }
   ],
   "source": [
    "# 사용 3 : 실질형태소만, 동사의 어말어미 포함\n",
    "text_analyzed = rhinoMorph.onlyMorph_list(rn, text, pos=['NNG', 'NNP', 'NP', 'VV', 'VA',\n",
    "                                                         'XR', 'IC', 'MM', \n",
    "                                                         'MAG', 'MAJ'], eomi=True)\n",
    "print('\\n3. 형태소 분석 결과: ', text_analyzed)"
   ]
  },
  {
   "cell_type": "code",
   "execution_count": 8,
   "metadata": {
    "colab": {
     "base_uri": "https://localhost:8080/",
     "height": 89
    },
    "colab_type": "code",
    "executionInfo": {
     "elapsed": 668,
     "status": "ok",
     "timestamp": 1591862429610,
     "user": {
      "displayName": "최석재",
      "photoUrl": "https://lh3.googleusercontent.com/a-/AOh14GiiJRXT6vTRiy9987vo52Z1V7EPvNuOCvtYhBTiEw=s64",
      "userId": "09969236112114002539"
     },
     "user_tz": -540
    },
    "id": "8-nB3kofv1p8",
    "outputId": "593aef09-5497-49c6-e5e9-14e722f2558a"
   },
   "outputs": [
    {
     "name": "stdout",
     "output_type": "stream",
     "text": [
      "\n",
      "4. 형태소 분석 결과: \n",
      "morphs:  ['한글', '로', '되', 'ㄴ', '한글', '텍스트', '를', '분석', '하', '는', '것', '은', '즐겁', '다', '.']\n",
      "poses:  ['NNG', 'JKB', 'VV', 'ETM', 'NNG', 'NNG', 'JKO', 'XR', 'VX', 'ETM', 'NNB', 'JX', 'VA', 'EF', 'SF']\n"
     ]
    }
   ],
   "source": [
    "# 사용 4 : 전체형태소, 품사정보도 가져오기\n",
    "morphs, poses = rhinoMorph.wholeResult_list(rn, text)\n",
    "print('\\n4. 형태소 분석 결과: ')\n",
    "print('morphs: ', morphs)\n",
    "print('poses: ', poses)"
   ]
  },
  {
   "cell_type": "code",
   "execution_count": 5,
   "metadata": {
    "colab": {
     "base_uri": "https://localhost:8080/",
     "height": 198
    },
    "colab_type": "code",
    "executionInfo": {
     "elapsed": 675,
     "status": "ok",
     "timestamp": 1591862546240,
     "user": {
      "displayName": "최석재",
      "photoUrl": "https://lh3.googleusercontent.com/a-/AOh14GiiJRXT6vTRiy9987vo52Z1V7EPvNuOCvtYhBTiEw=s64",
      "userId": "09969236112114002539"
     },
     "user_tz": -540
    },
    "id": "eHypAEFBv2_O",
    "outputId": "512cce7f-8504-4c8d-f935-128fdf0ee5b8"
   },
   "outputs": [
    {
     "name": "stdout",
     "output_type": "stream",
     "text": [
      "\n",
      "5. 형태소 분석 결과:\n",
      " 한글로\t한글/NNG + 로/JKB\n",
      "된\t되/VV + ㄴ/ETM\n",
      "한글텍스트를\t한글/NNG + 텍스트/NNG + 를/JKO\n",
      "분석하는\t분석/XR + 하/VX + 는/ETM\n",
      "것은\t것/NNB + 은/JX\n",
      "즐겁다\t즐겁/VA + 다/EF\n",
      ".\t./SF\n",
      "\n"
     ]
    }
   ],
   "source": [
    "# 사용 5 : 원문의 어절 정보를 같이 가져오기\n",
    "text_analyzed = rhinoMorph.wholeResult_text(rn, text)\n",
    "print('\\n5. 형태소 분석 결과:\\n', text_analyzed)"
   ]
  },
  {
   "cell_type": "markdown",
   "metadata": {
    "colab_type": "text",
    "id": "GqCRjS0pv4N7"
   },
   "source": [
    "# 추가 옵션"
   ]
  },
  {
   "cell_type": "code",
   "execution_count": 6,
   "metadata": {
    "colab": {
     "base_uri": "https://localhost:8080/",
     "height": 144
    },
    "colab_type": "code",
    "executionInfo": {
     "elapsed": 647,
     "status": "ok",
     "timestamp": 1591862607573,
     "user": {
      "displayName": "최석재",
      "photoUrl": "https://lh3.googleusercontent.com/a-/AOh14GiiJRXT6vTRiy9987vo52Z1V7EPvNuOCvtYhBTiEw=s64",
      "userId": "09969236112114002539"
     },
     "user_tz": -540
    },
    "id": "m56Oai2Xv6Op",
    "outputId": "66312a37-d675-40a2-b767-339fc720ab2a"
   },
   "outputs": [
    {
     "name": "stdout",
     "output_type": "stream",
     "text": [
      "\n",
      "6. 형태소 분석 결과:\n",
      " ['한글', '되', '한글텍스트', '분석', '즐겁']\n",
      "\n",
      "7. 형태소 분석 결과: \n",
      "morphs:  ['한글', '로', '되', 'ㄴ', '한글텍스트', '를', '분석', '하', '는', '것', '은', '즐겁', '다', '.']\n",
      "poses:  ['NNG', 'JKB', 'VV', 'ETM', 'NNG', 'JKO', 'XR', 'VX', 'ETM', 'NNB', 'JX', 'VA', 'EF', 'SF']\n"
     ]
    }
   ],
   "source": [
    "# 사용 6,7 : 한 어절에서 연결된 명사를 하나의 명사로 결합하기\n",
    "# onlyMorph_list와 wholeResult_list에서 사용 가능하다\n",
    "\n",
    "text_analyzed = rhinoMorph.onlyMorph_list(rn, text, pos=['NNG', 'NNP', 'NP', 'VV', 'VA', 'XR', 'IC', 'MM', 'MAG', 'MAJ'], combineN=True)\n",
    "print('\\n6. 형태소 분석 결과:\\n', text_analyzed)\n",
    "\n",
    "morphs, poses = rhinoMorph.wholeResult_list(rn, text, combineN=True)\n",
    "print('\\n7. 형태소 분석 결과: ')\n",
    "print('morphs: ', morphs)\n",
    "print('poses: ', poses)"
   ]
  },
  {
   "cell_type": "code",
   "execution_count": 7,
   "metadata": {
    "colab": {
     "base_uri": "https://localhost:8080/",
     "height": 89
    },
    "colab_type": "code",
    "executionInfo": {
     "elapsed": 681,
     "status": "ok",
     "timestamp": 1591862839291,
     "user": {
      "displayName": "최석재",
      "photoUrl": "https://lh3.googleusercontent.com/a-/AOh14GiiJRXT6vTRiy9987vo52Z1V7EPvNuOCvtYhBTiEw=s64",
      "userId": "09969236112114002539"
     },
     "user_tz": -540
    },
    "id": "g59jkWQBv87S",
    "outputId": "a30e8b7f-bf8e-4e73-a928-44402c0c0368"
   },
   "outputs": [
    {
     "name": "stdout",
     "output_type": "stream",
     "text": [
      "\n",
      "8. 형태소 분석 결과:  (['사랑', '하', 'ㅂ니다'], ['XR', 'VX', 'EF'])\n",
      "\n",
      "9. 형태소 분석 결과:  (['사랑하', 'ㅂ니다'], ['VV', 'EF'])\n"
     ]
    }
   ],
   "source": [
    "# 사용 8, 9 : 어근 + 하 형태를 하나의 동사로 출력하기\n",
    "# xrVv 아규먼트가 담당하며, 기본값은 False로서 둘을 분리하여 출력한다\n",
    "# 분리된 어근이 명사인 경우, 명사로 출력된다\n",
    "# onlyMorph_list, wholeResult_list, wholeResult_text 등 모든 함수에서 사용 가능하다\n",
    "\n",
    "text_analyzed = rhinoMorph.wholeResult_list(rn, '사랑합니다')\n",
    "print('\\n8. 형태소 분석 결과: ', text_analyzed)\n",
    "\n",
    "text_analyzed = rhinoMorph.wholeResult_list(rn, '사랑합니다', xrVv=True)\n",
    "print('\\n9. 형태소 분석 결과: ', text_analyzed)"
   ]
  },
  {
   "cell_type": "code",
   "execution_count": null,
   "metadata": {},
   "outputs": [],
   "source": []
  }
 ],
 "metadata": {
  "colab": {
   "authorship_tag": "ABX9TyNf/52huKiGmmUqQgKdQnws",
   "collapsed_sections": [],
   "name": "2_형태소분석기.ipynb",
   "provenance": []
  },
  "kernelspec": {
   "display_name": "Python 3",
   "language": "python",
   "name": "python3"
  },
  "language_info": {
   "codemirror_mode": {
    "name": "ipython",
    "version": 3
   },
   "file_extension": ".py",
   "mimetype": "text/x-python",
   "name": "python",
   "nbconvert_exporter": "python",
   "pygments_lexer": "ipython3",
   "version": "3.7.6"
  }
 },
 "nbformat": 4,
 "nbformat_minor": 4
}
