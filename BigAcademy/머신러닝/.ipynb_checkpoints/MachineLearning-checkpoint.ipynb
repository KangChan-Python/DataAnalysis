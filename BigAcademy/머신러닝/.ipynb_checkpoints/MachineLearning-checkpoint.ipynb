{
 "cells": [
  {
   "cell_type": "markdown",
   "metadata": {},
   "source": [
    "## 머신러닝\n",
    "- 기계가 학습을 하는 기술을 개발하는 분야\n",
    "- 데이터 안에서 규칙을 발견하고 그 규칙을 새로운 데이터에 적용해서 새로운 결과를 도출 => 더욱 정교한 미래 예측이 가능해짐\n",
    "\n",
    "\n",
    "## 딥러닝\n",
    "- 많은 수의 신경층을 쌓아 입력된 데이터가 여러 단계의 특징 추룰 과정을 거쳐 자동으로 고수준의 추상적인 지식을 추출하는 방식\n",
    "- 특징 추출과 특징 분류를 학습의 문제로 통합(보다 자동화된 기술)\n",
    "- 딥러닝을 통해서 신경망에 대한 관심이 다시 늘어남에 따라 머신러닝 연구에 관심을 다시 갖기 시작함\n"
   ]
  },
  {
   "cell_type": "markdown",
   "metadata": {},
   "source": [
    "#### Scikit-learn\n",
    "<img src='./img/sklearn_sheet.PNG'>"
   ]
  },
  {
   "cell_type": "markdown",
   "metadata": {},
   "source": [
    "## 예측모델 성능평가\n",
    "***\n",
    "### o Python에서 데이터셋의 분리방법 관련 모듈 \n",
    "    - train_test_split : train ,test 으로 분리\n",
    "    - stratifiedKFold : cross_validation을 사용하기 위한 모듈 Kfold 모듈과 다르게 각 fold 내 데이터의 클래스를 일정하게 유지\n",
    "    - Cross_val_score : cross valdiation 결과의 정확도를 측정하기 위한 모듈\n",
    "    "
   ]
  },
  {
   "cell_type": "code",
   "execution_count": 1,
   "metadata": {},
   "outputs": [],
   "source": [
    "from sklearn.model_selection import train_test_split\n",
    "from sklearn.model_selection import StratifiedKFold\n",
    "from sklearn.model_selection import cross_val_score"
   ]
  },
  {
   "cell_type": "markdown",
   "metadata": {},
   "source": [
    "## 모델 성능평가 척도\n",
    "***\n",
    "***o Confusion matrix*** : 모델의 성능을 통계적인 수치로 시각화하는 방법  \n",
    "***o Accuracy***  : 모델이 정확하게 분류 또는 예측하는 데이터의 비율  **==** $\\frac{TP + TN}{TP + TN + FP + FN}$  \n",
    "***o Precision*** : 모델이 예측한 데이터 중 검출된 Positive 데이터의 비율 **==** $\\frac{TP}{TP+FP}$  (모델의 관점)  \n",
    "***o Recall*** : 실제 데이터 중 모델이 검출한 Positive 데이터의 비율  **==** $\\frac{TP}{TP+FN}$  , ***민감도(sensitive)***  (실제현실의 관점)    \n",
    "***o F-Measure***  : Precision과 recall을 통합해 나타내는 정확도  **==** $\\frac{2TP}{2TP+FN+FP}$  \n",
    "***o ROC Curve***  : 민감도와 특이도의 관계를 파악할 수 있는 그래프  \n",
    "***o RMSE*** : 모델 예측값의 오차 계산***"
   ]
  },
  {
   "cell_type": "code",
   "execution_count": 2,
   "metadata": {},
   "outputs": [],
   "source": [
    "# classificationclassification_report : recall, precision, f-meausre을 측정\n",
    "from sklearn.metrics import confusion_matrix, accuracy_score, classification_report, roc_auc_score, mean_squared_error\n"
   ]
  },
  {
   "cell_type": "markdown",
   "metadata": {},
   "source": [
    "### 모델 성능평가 실습\n",
    "##### 학습/테스트 데이터 셋 분리 - train_test_split()\n",
    "- 데이터셋을 분리하지 않고 학습시 예특 정확도가 1.0인 과적합이 발생한다."
   ]
  },
  {
   "cell_type": "code",
   "execution_count": 3,
   "metadata": {},
   "outputs": [],
   "source": [
    "from sklearn.datasets import load_iris\n",
    "from sklearn.tree import DecisionTreeClassifier\n",
    "from sklearn.metrics import accuracy_score"
   ]
  },
  {
   "cell_type": "code",
   "execution_count": 4,
   "metadata": {},
   "outputs": [
    {
     "name": "stdout",
     "output_type": "stream",
     "text": [
      "예측 정확도 : 1.0\n"
     ]
    }
   ],
   "source": [
    "iris = load_iris()\n",
    "dt_clf = DecisionTreeClassifier()\n",
    "train_data =iris.data\n",
    "train_label = iris.target\n",
    "dt_clf.fit(train_data, train_label)\n",
    "\n",
    "# 학습 데이터셋 예측 수행\n",
    "\n",
    "pred = dt_clf.predict(train_data)\n",
    "print('예측 정확도 :',accuracy_score(train_label, pred))"
   ]
  },
  {
   "cell_type": "markdown",
   "metadata": {},
   "source": [
    "- train_test_split을 통한 데이터 분리를 통한 모델 적합 및 평가"
   ]
  },
  {
   "cell_type": "code",
   "execution_count": 5,
   "metadata": {},
   "outputs": [],
   "source": [
    "from sklearn.model_selection import train_test_split"
   ]
  },
  {
   "cell_type": "code",
   "execution_count": 6,
   "metadata": {},
   "outputs": [
    {
     "name": "stdout",
     "output_type": "stream",
     "text": [
      "예측 정확도  0.956\n"
     ]
    }
   ],
   "source": [
    "dt_clf2 =DecisionTreeClassifier()\n",
    "X_train , X_test, y_train, y_test =train_test_split(train_data,train_label, test_size= 0.3 , random_state =121)\n",
    "\n",
    "dt_clf2.fit(X_train, y_train)\n",
    "pred = dt_clf2.predict(X_test)\n",
    "print('예측 정확도 {0: .3f}'.format(accuracy_score(y_test,pred)))"
   ]
  },
  {
   "cell_type": "code",
   "execution_count": 8,
   "metadata": {},
   "outputs": [],
   "source": [
    "from sklearn.model_selection import KFold\n",
    "import numpy as np"
   ]
  },
  {
   "cell_type": "markdown",
   "metadata": {},
   "source": [
    "- K Fold CV ( Cross Validation)  \n",
    "        o .split() 폴드별 학습용, 검증용 테스트의 로우 인덱스를 array 반환"
   ]
  },
  {
   "cell_type": "code",
   "execution_count": 9,
   "metadata": {},
   "outputs": [
    {
     "name": "stdout",
     "output_type": "stream",
     "text": [
      "붓꽃 데이터 세트 크기 : 150\n"
     ]
    }
   ],
   "source": [
    "features = iris.data\n",
    "label = iris.target\n",
    "dt_clf = DecisionTreeClassifier(random_state=  156)\n",
    "\n",
    "kfold =KFold(n_splits=5)\n",
    "cv_accuracy = [] # Cross Validation 폴드별 결과를 누적\n",
    "print('붓꽃 데이터 세트 크기 :', features.shape[0])"
   ]
  },
  {
   "cell_type": "code",
   "execution_count": 14,
   "metadata": {},
   "outputs": [
    {
     "name": "stdout",
     "output_type": "stream",
     "text": [
      "\n",
      "#1 교차 검증 정확도 : 1.0 , 학습 데이터의 크기 : 120, 검증 데이터 크기 : 30 \n",
      "#1 검증 세트 인덱스 : [ 0  1  2  3  4  5  6  7  8  9 10 11 12 13 14 15 16 17 18 19 20 21 22 23\n",
      " 24 25 26 27 28 29] \n",
      "\n",
      "#2 교차 검증 정확도 : 0.9667 , 학습 데이터의 크기 : 120, 검증 데이터 크기 : 30 \n",
      "#2 검증 세트 인덱스 : [30 31 32 33 34 35 36 37 38 39 40 41 42 43 44 45 46 47 48 49 50 51 52 53\n",
      " 54 55 56 57 58 59] \n",
      "\n",
      "#3 교차 검증 정확도 : 0.8667 , 학습 데이터의 크기 : 120, 검증 데이터 크기 : 30 \n",
      "#3 검증 세트 인덱스 : [60 61 62 63 64 65 66 67 68 69 70 71 72 73 74 75 76 77 78 79 80 81 82 83\n",
      " 84 85 86 87 88 89] \n",
      "\n",
      "#4 교차 검증 정확도 : 0.9333 , 학습 데이터의 크기 : 120, 검증 데이터 크기 : 30 \n",
      "#4 검증 세트 인덱스 : [ 90  91  92  93  94  95  96  97  98  99 100 101 102 103 104 105 106 107\n",
      " 108 109 110 111 112 113 114 115 116 117 118 119] \n",
      "\n",
      "#5 교차 검증 정확도 : 0.7333 , 학습 데이터의 크기 : 120, 검증 데이터 크기 : 30 \n",
      "#5 검증 세트 인덱스 : [120 121 122 123 124 125 126 127 128 129 130 131 132 133 134 135 136 137\n",
      " 138 139 140 141 142 143 144 145 146 147 148 149] \n",
      "\n",
      " ## 평균 검증 정확도 :  0.9\n"
     ]
    }
   ],
   "source": [
    "n_iter =0 \n",
    "for train_index , test_index, in kfold.split(features):\n",
    "    # Kfold.split()으로 반환된 인덱스를 이용하여 학습용 , 검증용 데이터 추출\n",
    "    X_train, X_test = features[train_index], features[test_index]\n",
    "    y_train, y_test = label[train_index] , label[test_index]\n",
    "    #학습 및 예측\n",
    "    dt_clf.fit(X_train, y_train) # .fit 을 사용시 누적이 되지 않는다.\n",
    "    pred = dt_clf.predict(X_test)\n",
    "    n_iter += 1\n",
    "    # 반복 시 마다 정확도 측정\n",
    "    accuracy = np.round(accuracy_score(y_test ,pred),4)\n",
    "    train_size = X_train.shape[0]\n",
    "    test_size = X_test.shape[0]\n",
    "    #개별 iteration별 정확도를 합하여 평균 정확도 계산\n",
    "    print('\\n#{} 교차 검증 정확도 : {} , 학습 데이터의 크기 : {}, 검증 데이터 크기 : {} '.format(n_iter, accuracy , train_size , test_size))\n",
    "    print('#{} 검증 세트 인덱스 : {} '.format(n_iter , test_index))\n",
    "    cv_accuracy.append(accuracy)\n",
    "\n",
    "print('\\n ## 평균 검증 정확도 : ', np.mean(cv_accuracy))"
   ]
  },
  {
   "cell_type": "code",
   "execution_count": null,
   "metadata": {},
   "outputs": [],
   "source": []
  }
 ],
 "metadata": {
  "kernelspec": {
   "display_name": "Python 3",
   "language": "python",
   "name": "python3"
  },
  "language_info": {
   "codemirror_mode": {
    "name": "ipython",
    "version": 3
   },
   "file_extension": ".py",
   "mimetype": "text/x-python",
   "name": "python",
   "nbconvert_exporter": "python",
   "pygments_lexer": "ipython3",
   "version": "3.7.6"
  }
 },
 "nbformat": 4,
 "nbformat_minor": 4
}
