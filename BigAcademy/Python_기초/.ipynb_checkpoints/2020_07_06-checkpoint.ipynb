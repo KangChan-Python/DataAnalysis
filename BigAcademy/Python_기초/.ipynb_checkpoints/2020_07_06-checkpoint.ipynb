{
 "cells": [
  {
   "cell_type": "markdown",
   "metadata": {},
   "source": [
    "# Python 기초수업 첫 째날\n",
    "- 기본적인 함수 print, str, input, round, trunc, ceil\n",
    "- 변수 할당\n",
    "\n",
    "#### print 출력문"
   ]
  },
  {
   "cell_type": "code",
   "execution_count": 5,
   "metadata": {},
   "outputs": [
    {
     "name": "stdout",
     "output_type": "stream",
     "text": [
      "a\n"
     ]
    }
   ],
   "source": [
    "print('a')"
   ]
  },
  {
   "cell_type": "code",
   "execution_count": 12,
   "metadata": {},
   "outputs": [
    {
     "name": "stdout",
     "output_type": "stream",
     "text": [
      "오늘도 굿모닝이지 말입니다~!\n"
     ]
    }
   ],
   "source": [
    "# 출력할 문장을 직접 쓰기\n",
    "print(\"오늘도 굿모닝이지 말입니다~!\")"
   ]
  },
  {
   "cell_type": "code",
   "execution_count": 13,
   "metadata": {},
   "outputs": [
    {
     "name": "stdout",
     "output_type": "stream",
     "text": [
      "늘 굿모닝이지 말입니다~!\n"
     ]
    }
   ],
   "source": [
    "# 출격할 문장을 변수에 넣고 변수를 활용하여 출력하기\n",
    "str='늘 굿모닝이지 말입니다~!'\n",
    "print(str)"
   ]
  },
  {
   "cell_type": "code",
   "execution_count": 15,
   "metadata": {},
   "outputs": [
    {
     "name": "stdout",
     "output_type": "stream",
     "text": [
      "이번 시험에서 영어점수는 20 점, 수학점수는 10 점 올랐음!\n"
     ]
    }
   ],
   "source": [
    "#print()함수 - 문자열 포매팅 활용하기-2\n",
    "eng=20\n",
    "math=10\n",
    "\n",
    "print('이번 시험에서 영어점수는 %s 점, 수학점수는 %s 점 올랐음!' %(eng,math))"
   ]
  },
  {
   "cell_type": "code",
   "execution_count": 16,
   "metadata": {},
   "outputs": [
    {
     "name": "stdout",
     "output_type": "stream",
     "text": [
      "짜장면\n"
     ]
    }
   ],
   "source": [
    "# input 함수로 정보 입력받기\n",
    "menu=input()"
   ]
  },
  {
   "cell_type": "markdown",
   "metadata": {},
   "source": [
    "### input 문"
   ]
  },
  {
   "cell_type": "code",
   "execution_count": 17,
   "metadata": {},
   "outputs": [
    {
     "name": "stdout",
     "output_type": "stream",
     "text": [
      "오늘 점심 뭐 먹을까요?짬뽕\n"
     ]
    }
   ],
   "source": [
    "# input 함수로 정보 입력받기\n",
    "menu=input('오늘 점심 뭐 먹을까요?')"
   ]
  },
  {
   "cell_type": "code",
   "execution_count": 1,
   "metadata": {},
   "outputs": [
    {
     "name": "stdout",
     "output_type": "stream",
     "text": [
      "이름을 입력하세요:서진수\n",
      "취미를 입력하세요:낚시\n",
      "서진수의 취미는 낚시입니다\n"
     ]
    }
   ],
   "source": [
    "x1=input('이름을 입력하세요:')\n",
    "x2=input('취미를 입력하세요:')\n",
    "\n",
    "print('%s의 취미는 %s입니다' %(x1,x2))"
   ]
  },
  {
   "cell_type": "code",
   "execution_count": 4,
   "metadata": {},
   "outputs": [
    {
     "name": "stdout",
     "output_type": "stream",
     "text": [
      "1.위 지역중 여행하고 싶은 지역번호를 입력하세요: 2\n",
      "2.여행하실 총 인원수를 입력하세요: 5\n"
     ]
    }
   ],
   "source": [
    "area_no=input('1.위 지역중 여행하고 싶은 지역번호를 입력하세요: ')\n",
    "\n",
    "x1=input('2.여행하실 총 인원수를 입력하세요: ')"
   ]
  },
  {
   "cell_type": "markdown",
   "metadata": {},
   "source": [
    "### math 모듈을 이용한 함수들\n",
    "#### round"
   ]
  },
  {
   "cell_type": "code",
   "execution_count": 3,
   "metadata": {},
   "outputs": [
    {
     "name": "stdout",
     "output_type": "stream",
     "text": [
      "3.5의 반올림 :  4\n",
      "2/3의 반올림 소수 첫자리까지 표시 :  0.7\n"
     ]
    }
   ],
   "source": [
    "import math\n",
    "#반올림 함수 round (not math)\n",
    "print('3.5의 반올림 : ', round(3.5))\n",
    "print('2/3의 반올림 소수 첫자리까지 표시 : ', round(2/3,1))"
   ]
  },
  {
   "cell_type": "markdown",
   "metadata": {},
   "source": [
    "#### trunc"
   ]
  },
  {
   "cell_type": "code",
   "execution_count": 7,
   "metadata": {},
   "outputs": [
    {
     "name": "stdout",
     "output_type": "stream",
     "text": [
      "3.5의 버림 :  3\n",
      "4/3의 버림 :  1\n"
     ]
    }
   ],
   "source": [
    "#버림 함수 trunc\n",
    "print('3.5의 버림 : ', math.trunc(3.5))\n",
    "print('4/3의 버림 : ', math.trunc(4/3))"
   ]
  },
  {
   "cell_type": "markdown",
   "metadata": {},
   "source": [
    "#### ceil"
   ]
  },
  {
   "cell_type": "code",
   "execution_count": 8,
   "metadata": {},
   "outputs": [
    {
     "name": "stdout",
     "output_type": "stream",
     "text": [
      "3.4의 올림 :  4\n"
     ]
    }
   ],
   "source": [
    "#올림 함수 ceil\n",
    "print('3.4의 올림 : ',math.ceil(3.4))"
   ]
  },
  {
   "cell_type": "code",
   "execution_count": null,
   "metadata": {},
   "outputs": [],
   "source": []
  }
 ],
 "metadata": {
  "kernelspec": {
   "display_name": "Python 3",
   "language": "python",
   "name": "python3"
  },
  "language_info": {
   "codemirror_mode": {
    "name": "ipython",
    "version": 3
   },
   "file_extension": ".py",
   "mimetype": "text/x-python",
   "name": "python",
   "nbconvert_exporter": "python",
   "pygments_lexer": "ipython3",
   "version": "3.5.4"
  }
 },
 "nbformat": 4,
 "nbformat_minor": 4
}
