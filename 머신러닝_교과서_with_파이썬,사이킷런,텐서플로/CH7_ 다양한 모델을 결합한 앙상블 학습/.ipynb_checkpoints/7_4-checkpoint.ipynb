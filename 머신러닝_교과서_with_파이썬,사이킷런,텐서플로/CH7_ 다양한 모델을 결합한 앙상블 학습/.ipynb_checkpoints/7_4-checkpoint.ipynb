{
 "cells": [
  {
   "cell_type": "markdown",
   "metadata": {},
   "source": [
    "## 7.4 약한 학습기를 이용한 에이다부스트\n",
    "\n",
    "        앙상블 메서드에 관한 마지막 절로 부스팅을 설명\n",
    "        가장 유명한 부스팅 구현인 에이타부스트(AdaBoost, Adaptive Boosting)에 초점\n",
    "                괴델 상을 수상한 논문\n",
    "                \n",
    "        부스팅에서 앙상블은 약한 학습기( weak learner)라고도 하는 매우 간단한 분류기로 구성됨\n",
    "        이 분류기는 랜덤 추측보다 조금 성능이 좋을 뿐\n",
    "\n",
    "#### 핵심 아이디어 : 분류하기 어려운 훈련 샘플에 초점\n",
    "        즉, 잘못 분류된 훈련 샘플을 그다음 약한 학습기가 학습하여 앙상블 성능을 향상\n",
    "\n",
    "\n",
    "### 부스팅 작동 원리\n",
    "        배깅과는 달리 부스팅의 초창기 방법은 중복을 허용하지 않고 훈련 세트에서 랜덤 샘플을 추출 \n",
    "        주요단계\n",
    "                1. 훈련 세트 D에서 중복을 허용 X, 랜덤한 부분 집합 d1을 뽑아 약한 학습 C1을 훈련\n",
    "                2. 훈련 세트에서 중복을 허용하지 않고 두 번째 랜덤한 훈련 부분 집합 d2를 뽑고 이전에 잘못 분류된 샘플의 50%를 더해서 약한 학습기 C2를 훈련\n",
    "                3. 훈련 세트 D에서 C1과 C2에서 잘못 분류한 훈련 샘플 d3를 찾아 세 번째 약한 학습기인 C3를 훈련합니다.\n",
    "                4. 약한 학습기 C1,C2,C3를 다수결 투표로 연결합니다.\n",
    "                \n",
    "#### 부스팅 알고리즘은 배깅 모델에 비해 분산은 물론 편향도 감소 가능\n",
    "        실제로는 에이다부스트 같은 부스팅 알고리즘이 분산이 높다고 알려짐\n",
    "        즉, 훈련 데이터에 과대적합되는 경향\n",
    "        \n",
    "        여기서는 언급한 원본 부스팅 방법과는 다르게 에이다부스트는 약한 학습기를 훈련할 때 세트 전체를 사용\n",
    "        \n",
    "<img src='../img_수식/에이다부스트.PNG'>\n",
    "\n",
    "        (a)는 단순한 비용함수를 최소화\n",
    "        (b)는 (a)에서 잘못 분류된 2개의 파란점에 가중치 부여 후 분류\n",
    "        (c)는 (b)에서 잘못 분류된 3개의 파란점에 가중치 부여 후 분류\n",
    "        (d) 다수결 투표 후 최종 분류 결졍\n",
    "        \n",
    "#### 소스 코드를 사용하여 자세한 알고리즘 확인\n",
    "        \n",
    "        1. 가중치 벡터 w를 동일한 가중치로 설정  Σ(W_i) =1\n",
    "        2. m번의 부스팅 반복의 j 번째에서 다음을 수행\n",
    "                a. 가중치가 부여된 약한 학습기를 훈련 C_j = train(X,y,w)\n",
    "                b. 클래스 레이블을 예측 y_hat = predict(C_j, X)\n",
    "                c. 가중치가 적용된 에러율을 계산 ε = w x (y_hat ≠ y ) # y_hat ≠ y ->  y_hat != y의 넘파이 값 생각\n",
    "                d. 학습기 가중치를 계산 α_j = 0.5 log ( 1-ε) / ε\n",
    "                e. 가중치를 업데이트 w := w x exp(-a_j x y_hat x y) \n",
    "                        y_hat x y 는\n",
    "                        y_hat 과 y가 동일한 값이면 양수 -> 가중치 감소\n",
    "                        y_hat 과 y가 다른 값이면 음수 -> 가중치 증가\n",
    "                f. 합이 1이 되도록 가중치를 정규화 w := w / Σw\n",
    "        3. 최종 에측을 계산 y_hat =  Σ(a_j x predict(C_j , X)) >0\n",
    "        \n",
    "        \n",
    "        \n",
    "### Scikit-learn에서 에이다 부스트 사용  \n",
    "        o 이전 절에서 사용한 데이터 불러오기"
   ]
  },
  {
   "cell_type": "code",
   "execution_count": 1,
   "metadata": {},
   "outputs": [],
   "source": [
    "import pandas as pd\n",
    "\n",
    "df_wine = pd.read_csv('https://archive.ics.uci.edu/ml/'\n",
    "                      'machine-learning-databases/wine/wine.data',\n",
    "                      header=None)\n",
    "\n",
    "df_wine.columns = ['Class label', 'Alcohol', 'Malic acid', 'Ash',\n",
    "                   'Alcalinity of ash', 'Magnesium', 'Total phenols',\n",
    "                   'Flavanoids', 'Nonflavanoid phenols', 'Proanthocyanins',\n",
    "                   'Color intensity', 'Hue', 'OD280/OD315 of diluted wines',\n",
    "                   'Proline']\n",
    "\n",
    "# 클래스 1 제외하기\n",
    "df_wine = df_wine[df_wine['Class label'] != 1]\n",
    "\n",
    "y = df_wine['Class label'].values\n",
    "X = df_wine[['Alcohol', 'OD280/OD315 of diluted wines']].values\n",
    "\n",
    "from sklearn.preprocessing import LabelEncoder\n",
    "from sklearn.model_selection import train_test_split\n",
    "\n",
    "\n",
    "le = LabelEncoder()\n",
    "y = le.fit_transform(y)\n",
    "\n",
    "X_train, X_test, y_train, y_test =\\\n",
    "            train_test_split(X, y, \n",
    "                             test_size=0.2, \n",
    "                             random_state=1,\n",
    "                             stratify=y)"
   ]
  },
  {
   "cell_type": "markdown",
   "metadata": {},
   "source": [
    "        o 여기서는 base_estimator 속성을 깊이가 1인 결정트리 500개로 구성된 AdaboostClassifier를 훈련"
   ]
  },
  {
   "cell_type": "code",
   "execution_count": 4,
   "metadata": {},
   "outputs": [],
   "source": [
    "from sklearn.ensemble import AdaBoostClassifier\n",
    "from sklearn.tree import DecisionTreeClassifier\n",
    "from sklearn.metrics import accuracy_score\n",
    "tree = DecisionTreeClassifier(criterion='entropy', \n",
    "                              max_depth=1,\n",
    "                              random_state=1)\n",
    "\n",
    "ada = AdaBoostClassifier(base_estimator=tree,\n",
    "                         n_estimators=500, \n",
    "                         learning_rate=0.1,\n",
    "                         random_state=1)"
   ]
  },
  {
   "cell_type": "code",
   "execution_count": 5,
   "metadata": {},
   "outputs": [
    {
     "name": "stdout",
     "output_type": "stream",
     "text": [
      "결정 트리의 훈련 정확도/테스트 정확도 0.916/0.875\n",
      "에이다부스트의 훈련 정확도/테스트 정확도 1.000/0.917\n"
     ]
    }
   ],
   "source": [
    "tree = tree.fit(X_train, y_train)\n",
    "y_train_pred = tree.predict(X_train)\n",
    "y_test_pred = tree.predict(X_test)\n",
    "\n",
    "tree_train = accuracy_score(y_train, y_train_pred)\n",
    "tree_test = accuracy_score(y_test, y_test_pred)\n",
    "print('결정 트리의 훈련 정확도/테스트 정확도 %.3f/%.3f'\n",
    "      % (tree_train, tree_test))\n",
    "\n",
    "ada = ada.fit(X_train, y_train)\n",
    "y_train_pred = ada.predict(X_train)\n",
    "y_test_pred = ada.predict(X_test)\n",
    "\n",
    "ada_train = accuracy_score(y_train, y_train_pred) \n",
    "ada_test = accuracy_score(y_test, y_test_pred) \n",
    "print('에이다부스트의 훈련 정확도/테스트 정확도 %.3f/%.3f'\n",
    "      % (ada_train, ada_test))"
   ]
  },
  {
   "cell_type": "markdown",
   "metadata": {},
   "source": [
    "※ 훈련 성능과 테스트 성능 사이에 간격이 크므로 모델의 편향을 줄임으롯써 추각적인 분산이 발생\n",
    "\n",
    "예시를 위해 간단한 예제를 사용 했지만 테스트 세트를 반복적으로 사용하여 모델을 선택하는 것은 나쁜 방법  \n",
    "-> 일반화 성능을 매우 낙관적으로 추정하게 됨\n",
    "\n",
    "마지막으로 결정 경계 확인"
   ]
  },
  {
   "cell_type": "code",
   "execution_count": 8,
   "metadata": {},
   "outputs": [
    {
     "data": {
      "image/png": "[encoded data removed]",
      "text/plain": [
       "<Figure size 1152x432 with 2 Axes>"
      ]
     },
     "metadata": {
      "needs_background": "light"
     },
     "output_type": "display_data"
    }
   ],
   "source": [
    "import numpy as np\n",
    "import matplotlib.pyplot as plt\n",
    "x_min, x_max = X_train[:, 0].min() - 1, X_train[:, 0].max() + 1\n",
    "y_min, y_max = X_train[:, 1].min() - 1, X_train[:, 1].max() + 1\n",
    "xx, yy = np.meshgrid(np.arange(x_min, x_max, 0.1),\n",
    "                     np.arange(y_min, y_max, 0.1))\n",
    "\n",
    "f, axarr = plt.subplots(1, 2, sharex='col', sharey='row', figsize=(16, 6))\n",
    "\n",
    "\n",
    "for idx, clf, tt in zip([0, 1],\n",
    "                        [tree, ada],\n",
    "                        ['Decision tree', 'AdaBoost']):\n",
    "    clf.fit(X_train, y_train)\n",
    "\n",
    "    Z = clf.predict(np.c_[xx.ravel(), yy.ravel()])\n",
    "    Z = Z.reshape(xx.shape)\n",
    "\n",
    "    axarr[idx].contourf(xx, yy, Z, alpha=0.3)\n",
    "    axarr[idx].scatter(X_train[y_train == 0, 0],\n",
    "                       X_train[y_train == 0, 1],\n",
    "                       c='blue', marker='^')\n",
    "    axarr[idx].scatter(X_train[y_train == 1, 0],\n",
    "                       X_train[y_train == 1, 1],\n",
    "                       c='green', marker='o')\n",
    "    axarr[idx].set_title(tt)\n",
    "\n",
    "axarr[0].set_ylabel('Alcohol', fontsize=12)\n",
    "plt.text(10.2, -0.5,\n",
    "         s='OD280/OD315 of diluted wines',\n",
    "         ha='center', va='center', fontsize=12)\n",
    "\n",
    "plt.tight_layout()\n",
    "plt.show()"
   ]
  },
  {
   "cell_type": "markdown",
   "metadata": {},
   "source": [
    "### 부스팅 알고리즘 중 인기 있는 다른 알고리즘은 그래디언트 부스팅\n",
    "        o 이전 학습기가 만든 잔차 오차에 대해 새로운 학습기를 추가함\n",
    "        o 현재 구조적인 데이터셋에서 가장 높은 성능을 내는 알고리즘 중 하나"
   ]
  },
  {
   "cell_type": "code",
   "execution_count": 12,
   "metadata": {},
   "outputs": [
    {
     "name": "stdout",
     "output_type": "stream",
     "text": [
      "앙상블에 사용한 트리 개수 20\n",
      "그래디언트 부스팅 train/test 정확도 1.000/0.917\n"
     ]
    }
   ],
   "source": [
    "from sklearn.ensemble import GradientBoostingClassifier\n",
    "\n",
    "gbrt = GradientBoostingClassifier(n_estimators=20, random_state=42)\n",
    "\n",
    "gbrt.fit(X_train, y_train)\n",
    "gbrt_train_score = gbrt.score(X_train, y_train)\n",
    "gbrt_test_score = gbrt.score(X_test, y_test)\n",
    "\n",
    "print('앙상블에 사용한 트리 개수 %d' % gbrt.n_estimators_)\n",
    "print('그래디언트 부스팅 train/test 정확도 %.3f/%.3f'\n",
    "      % (gbrt_train_score, gbrt_test_score))"
   ]
  },
  {
   "cell_type": "markdown",
   "metadata": {},
   "source": [
    "결정 경계"
   ]
  },
  {
   "cell_type": "code",
   "execution_count": 14,
   "metadata": {},
   "outputs": [
    {
     "data": {
      "image/png": "[encoded data removed]",
      "text/plain": [
       "<Figure size 1152x432 with 2 Axes>"
      ]
     },
     "metadata": {
      "needs_background": "light"
     },
     "output_type": "display_data"
    }
   ],
   "source": [
    "\n",
    "x_min, x_max = X_train[:, 0].min() - 1, X_train[:, 0].max() + 1\n",
    "y_min, y_max = X_train[:, 1].min() - 1, X_train[:, 1].max() + 1\n",
    "xx, yy = np.meshgrid(np.arange(x_min, x_max, 0.1),\n",
    "                     np.arange(y_min, y_max, 0.1))\n",
    "\n",
    "f, axarr = plt.subplots(1, 2, sharex='col', sharey='row', figsize=(16, 6))\n",
    "\n",
    "\n",
    "for idx, clf, tt in zip([0, 1],\n",
    "                        [tree, gbrt],\n",
    "                        ['Decision tree', 'GradientBoosting']):\n",
    "    clf.fit(X_train, y_train)\n",
    "\n",
    "    Z = clf.predict(np.c_[xx.ravel(), yy.ravel()])\n",
    "    Z = Z.reshape(xx.shape)\n",
    "\n",
    "    axarr[idx].contourf(xx, yy, Z, alpha=0.3)\n",
    "    axarr[idx].scatter(X_train[y_train == 0, 0],\n",
    "                       X_train[y_train == 0, 1],\n",
    "                       c='blue', marker='^')\n",
    "    axarr[idx].scatter(X_train[y_train == 1, 0],\n",
    "                       X_train[y_train == 1, 1],\n",
    "                       c='green', marker='o')\n",
    "    axarr[idx].set_title(tt)\n",
    "\n",
    "axarr[0].set_ylabel('Alcohol', fontsize=12)\n",
    "plt.text(10.2, -0.5,\n",
    "         s='OD280/OD315 of diluted wines',\n",
    "         ha='center', va='center', fontsize=12)\n",
    "\n",
    "plt.tight_layout()\n",
    "plt.show()"
   ]
  },
  {
   "cell_type": "code",
   "execution_count": null,
   "metadata": {},
   "outputs": [],
   "source": []
  }
 ],
 "metadata": {
  "kernelspec": {
   "display_name": "Python 3",
   "language": "python",
   "name": "python3"
  },
  "language_info": {
   "codemirror_mode": {
    "name": "ipython",
    "version": 3
   },
   "file_extension": ".py",
   "mimetype": "text/x-python",
   "name": "python",
   "nbconvert_exporter": "python",
   "pygments_lexer": "ipython3",
   "version": "3.7.6"
  }
 },
 "nbformat": 4,
 "nbformat_minor": 4
}
