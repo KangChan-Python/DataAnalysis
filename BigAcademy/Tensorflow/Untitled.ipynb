{
 "cells": [
  {
   "cell_type": "markdown",
   "metadata": {},
   "source": [
    "# 머신러닝 프로젝트의 일반적인 프로세스\n",
    "1. Data 수집\n",
    "2. Data EDA 및 분석\n",
    "3. Feautre Engineering -> 어려운 편\n",
    "4. Modeling( 모델 선정, 하이퍼 파라미터 튜닝, metric 선정 과정 포함) - > AUTOML , 라이브러리 존재 : 쉬운편\n",
    "5. Test set에 성능 개선되었는지 확인"
   ]
  },
  {
   "cell_type": "markdown",
   "metadata": {},
   "source": [
    "### 머신러닝 프로젝트 자동화\n",
    "***\n",
    "1. 실험 관리 자동화  -> KPI 매우 중요\n",
    "2. 하이퍼 파라미터 검색 자동화\n",
    "***\n",
    "3. 피쳐 엔지니어링 자동화\n",
    "4. 모델 검수 자동화\n",
    "5. 모델 배포 자동화\n",
    "***"
   ]
  },
  {
   "cell_type": "markdown",
   "metadata": {},
   "source": [
    "### Wandb\n",
    "- 자주 바뀌는 하이퍼 파라미터는 config로 관리하라 -> 일주일 후 다시보기에 좋다!"
   ]
  },
  {
   "cell_type": "code",
   "execution_count": null,
   "metadata": {},
   "outputs": [],
   "source": []
  }
 ],
 "metadata": {
  "kernelspec": {
   "display_name": "Python 3",
   "language": "python",
   "name": "python3"
  },
  "language_info": {
   "codemirror_mode": {
    "name": "ipython",
    "version": 3
   },
   "file_extension": ".py",
   "mimetype": "text/x-python",
   "name": "python",
   "nbconvert_exporter": "python",
   "pygments_lexer": "ipython3",
   "version": "3.7.6"
  }
 },
 "nbformat": 4,
 "nbformat_minor": 4
}
