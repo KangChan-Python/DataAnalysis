{
 "cells": [
  {
   "cell_type": "markdown",
   "metadata": {},
   "source": [
    "# CH2. 간단한 분류 알고리즘 훈련\n",
    "*초창기 알고리즘인 퍼셉트론과 적응형 선형 뉴런*  \n",
    "- 퍼셉트론 : 데이터셋을 훈련하여 클래스를 분류  \n",
    "- 적응형 선형 뉴런 : 최적화를 설명\n",
    "\n",
    "***이 장의 주제***\n",
    "- 머신 러닝 알고리즘을 직관적으로 이해하기\n",
    "- 판다스, 넘파이, 맷플롯립으로 데이터를 읽고 처리하고 시각화하기\n",
    "- 파이썬으로 선형 분류 알고리즘 구현하기\n",
    "\n"
   ]
  },
  {
   "cell_type": "markdown",
   "metadata": {},
   "source": [
    "## 2.1 인공 뉴런 : 초기 머신 러닝의 간단한 역사\n",
    "\n",
    "맥컬룩-피츠 뉴런 : AI를 설계하기 위해 생물학적 뇌가 동작하는 방식을 이해하려는 시도\n",
    "                   신경 세포를 이진 출력을 내는 간단한 논리 회로로 표시\n",
    "                   \n",
    "### 2.1.1 인공 뉴런의 수학적 정의\n",
    "인공 뉴런 아이디어 - 두 개의 클래스가 있는 이진 분류 작업(양성 클래스 :1 , 음성 클래스 :-1)  \n",
    "                    그 다음 입력 값 x와 이에 상응하는 가중치 벡터 w 의 선형 조합으로결정 함수 z를 정의합니다.\n",
    "                    이제 특정 샘플의 최종입력이 사전 정의된 임계 값 세타보다 크면 클래스 1로 예측하고 그렇지 않으면 -1로 예측합니다.\n",
    "                    \n",
    "### 2.1.2 퍼셉트론 학습 규칙\n",
    "- 뇌의 뉴런 하나가 작동하는 방식을 흉내 내려는 환원주의 접근방식을 사용 - 출력을 내거나 내지 않는 두가지 경우만 존재\n",
    "    1. 가중치를 0 또는 랜덤한 작은 값으로 초기화합니다.\n",
    "    2. 각 훈련 샘플 X(i)에서 다음 작업  \n",
    "        a. 출력 값 y(hat)를 계산합니다.  \n",
    "        b. 가중치를 업데이트 합니다.  \n",
    "        \n",
    "        \n",
    "- 정확히 예측 했을 때는 가중치가 변경되지 않는다.\n",
    "- 잘못 예측 했을 때는 양성 또는 음성 타깃 클래스 방향으로 이동시킵니다.  \n",
    "\n",
    "\n",
    "- 퍼셉트론은 두 클래스가 선형적으로 구분되고 학습률이 충분히 작을 때만 수렴이 보장됩니다.\n",
    "    -> 두 클랠스르 선형 결정 경계로 나눌 수 없다면 훈련 데이터셋을 반복할 최대 횟수(epoch 에포크)를 지정하고 분류 허용 오차를 지정할 수 있습니다.\n",
    "    -> 그렇지 않으면 가중치 업데이트를 멈추징 않습니다.\n",
    "    \n",
    "    ***요약***  \n",
    "    샘플 x를 입력으로 받아 가중치 w를 연결하여 최종 입력을 계산하는 방법  \n",
    "    그 다음 최종 입력은 임계 함수로 전달되어 샘플의 에측 클래스 레이블인 -1 또는 1의 이전 출력을 만듭니다.  \n",
    "    학습 단게에서 이 출력을 사용하여 에측 오차를 계산하고 가중치를 업데이트 합니다.  "
   ]
  },
  {
   "cell_type": "markdown",
   "metadata": {},
   "source": [
    "## 2.2 파이썬으로 퍼셉트론 학습 알고리즘 구현\n",
    "\n",
    "### 2.2.1 객체 지향 퍼셉트론 API\n",
    "    객체 지향 방식을 사용하여 퍼셉트론 인터페이스를 가진 파이썬 클래스를 정의 \n",
    "    Perceptron 객체를 초기화한 후 fit 메서드로 데이터에서 학습하고, 별도의 predict 메서드로 예측을 만듭니다.\n",
    "    \n",
    "    "
   ]
  },
  {
   "cell_type": "code",
   "execution_count": 21,
   "metadata": {},
   "outputs": [],
   "source": [
    "import numpy as np\n",
    "\n",
    "class Perceptron(object):\n",
    "    \"\"\" 퍼셉트론 분류하기\n",
    "    \n",
    "    매개변수 \n",
    "    -------------\n",
    "    eta : float \n",
    "        학습률 (0.0과 1.0 사이)\n",
    "    n_iter : int\n",
    "        훈련 데이터셋 반복 횟수\n",
    "    random_state : int\n",
    "        가중치 무작위 초기화를 위한 난수 생성 시드\n",
    "    \n",
    "    속성\n",
    "    ------------\n",
    "    w_: 1d-array\n",
    "        학습된 가중치\n",
    "    errors : list\n",
    "        에포크마다 누적된 분류 오류\n",
    "        \"\"\"\n",
    "    \n",
    "    def __init__(self, eta=0.01, n_iter= 50, random_state =1):\n",
    "        self.eta = eta\n",
    "        self.n_iter = n_iter\n",
    "        self.random_state  = random_state\n",
    "        \n",
    "    def fit(self,X,y):\n",
    "        \"\"\"훈련 데이터 학습\n",
    "        \n",
    "        매개변수 \n",
    "        -------------\n",
    "        X : {array-like}, shape = [n_samples, n_features]\n",
    "            n_samples개의 샘플과 n_features개의 특성으로 이루어진 훈련 데이터\n",
    "        y : array-like, shape = [n_samples]\n",
    "        \n",
    "        반환값\n",
    "        -------------\n",
    "        self : object\n",
    "        \n",
    "        \"\"\"\n",
    "        rgen = np.random.RandomState(self.random_state) # 시드로 랜덤 값을 고정\n",
    "        self.w_ = rgen.normal(loc = 0.0 , scale = 0.01, size =1 + X.shape[1]) # 표준편차가 0.01인 정규 분포에서 뽑은 랜덤한 작은 수 \n",
    "        self.errors_= []\n",
    "        \n",
    "        for _ in range(self.n_iter):\n",
    "            errors = 0\n",
    "            for xi , target in zip(X,y):\n",
    "                update = self.eta * (target - self.predict(xi))\n",
    "                self.w_[1:] += update * xi\n",
    "                self.w_[0]  += update                               #절편\n",
    "                errors += int(update != 0.0)\n",
    "            self.errors_.append(errors)\n",
    "        return self\n",
    "    \n",
    "    def net_input(self, X):\n",
    "        \"\"\"최종 입력 계산\"\"\"\n",
    "        return np.dot(X, self.w_[1:]) + self.w_[0]\n",
    "    \n",
    "    def predict(self, X):\n",
    "        \"\"\"단위 계산 함수를 사용하여 클래스 레이블을 반환합니다.\"\"\"\n",
    "        return np.where(self.net_input(X) >= 0.0,1 ,-1)\n",
    "    "
   ]
  },
  {
   "cell_type": "markdown",
   "metadata": {},
   "source": [
    "### 2.2.2 붓꽃 데이터셋에서 퍼셉트론 훈련\n",
    "- 시각화를 위해 두 클래스만 사용할 예정  \n",
    "    두 개의 꽃 Setosa와 Versicolor만 사용하여 예제를 만들지만 퍼셉트론 알고리즘은 다중 클래스 분류로 확장할 수 있습니다.  \n",
    "    ex) 일대다(One versus All) 전략 : 이진 분류기를 다중클래스 문제에 적용 가능\n",
    "                     OvA 사용시 클래스마 마다 하나의 분류기를 훈련 -> 각 클래스는 양성 클래스로 취급되고 다른 클래스의 샘플은 모두 음성 클래스로 생각\n",
    "                     새로운 데이터 샘플을 분류할 때는 클래스 레이블의 개수와 같은 n개의 분류기를 사용 \n",
    "                     신뢰도가 가장 높은 클래스 레이블을 샘플에 할당합니다. \n",
    "                     퍼셉트론은 OvA를 사용하여 최종 입력의 절댓값이 가장 큰 클래스를 레이블로 선택\n",
    "                     \n",
    "                     \n",
    "먼저 pandas 라이브러리를 사용하여 UCI 머신 러닝 장소에서 붗꽃 데이터셋을 DataFrame 객체로 직접 로드"
   ]
  },
  {
   "cell_type": "code",
   "execution_count": 7,
   "metadata": {},
   "outputs": [],
   "source": [
    "import pandas as pd\n",
    "df = pd.read_csv('./iris.data',header =None)\n"
   ]
  },
  {
   "cell_type": "code",
   "execution_count": 8,
   "metadata": {},
   "outputs": [
    {
     "data": {
      "text/html": [
       "<div>\n",
       "<style scoped>\n",
       "    .dataframe tbody tr th:only-of-type {\n",
       "        vertical-align: middle;\n",
       "    }\n",
       "\n",
       "    .dataframe tbody tr th {\n",
       "        vertical-align: top;\n",
       "    }\n",
       "\n",
       "    .dataframe thead th {\n",
       "        text-align: right;\n",
       "    }\n",
       "</style>\n",
       "<table border=\"1\" class=\"dataframe\">\n",
       "  <thead>\n",
       "    <tr style=\"text-align: right;\">\n",
       "      <th></th>\n",
       "      <th>0</th>\n",
       "      <th>1</th>\n",
       "      <th>2</th>\n",
       "      <th>3</th>\n",
       "      <th>4</th>\n",
       "    </tr>\n",
       "  </thead>\n",
       "  <tbody>\n",
       "    <tr>\n",
       "      <th>0</th>\n",
       "      <td>5.1</td>\n",
       "      <td>3.5</td>\n",
       "      <td>1.4</td>\n",
       "      <td>0.2</td>\n",
       "      <td>Iris-setosa</td>\n",
       "    </tr>\n",
       "    <tr>\n",
       "      <th>1</th>\n",
       "      <td>4.9</td>\n",
       "      <td>3.0</td>\n",
       "      <td>1.4</td>\n",
       "      <td>0.2</td>\n",
       "      <td>Iris-setosa</td>\n",
       "    </tr>\n",
       "    <tr>\n",
       "      <th>2</th>\n",
       "      <td>4.7</td>\n",
       "      <td>3.2</td>\n",
       "      <td>1.3</td>\n",
       "      <td>0.2</td>\n",
       "      <td>Iris-setosa</td>\n",
       "    </tr>\n",
       "    <tr>\n",
       "      <th>3</th>\n",
       "      <td>4.6</td>\n",
       "      <td>3.1</td>\n",
       "      <td>1.5</td>\n",
       "      <td>0.2</td>\n",
       "      <td>Iris-setosa</td>\n",
       "    </tr>\n",
       "    <tr>\n",
       "      <th>4</th>\n",
       "      <td>5.0</td>\n",
       "      <td>3.6</td>\n",
       "      <td>1.4</td>\n",
       "      <td>0.2</td>\n",
       "      <td>Iris-setosa</td>\n",
       "    </tr>\n",
       "  </tbody>\n",
       "</table>\n",
       "</div>"
      ],
      "text/plain": [
       "     0    1    2    3            4\n",
       "0  5.1  3.5  1.4  0.2  Iris-setosa\n",
       "1  4.9  3.0  1.4  0.2  Iris-setosa\n",
       "2  4.7  3.2  1.3  0.2  Iris-setosa\n",
       "3  4.6  3.1  1.5  0.2  Iris-setosa\n",
       "4  5.0  3.6  1.4  0.2  Iris-setosa"
      ]
     },
     "execution_count": 8,
     "metadata": {},
     "output_type": "execute_result"
    }
   ],
   "source": [
    "df.head()"
   ]
  },
  {
   "cell_type": "markdown",
   "metadata": {},
   "source": [
    "그 다음 Iris-setosa와 Iris-versicolor 꽃에 해당하는 처음 100개 클래스 레이블을 추출  \n",
    "setosa : -1 , versicolor :1 로 바꾼 후 벡터 y에 저장   \n",
    "X에 첫 번째 열특성(꽃받침 길이)과 세 번째 열 특성(꽃잎 길이)를 추출하여 저장   \n",
    "2차원 산점도로 시각화 "
   ]
  },
  {
   "cell_type": "code",
   "execution_count": 12,
   "metadata": {},
   "outputs": [
    {
     "data": {
      "image/png": "[encoded data removed]",
      "text/plain": [
       "<Figure size 432x288 with 1 Axes>"
      ]
     },
     "metadata": {
      "needs_background": "light"
     },
     "output_type": "display_data"
    }
   ],
   "source": [
    "import matplotlib.pyplot as plt\n",
    "import numpy as np\n",
    "\n",
    "#setosa 와 versicolor를 선택합니다.\n",
    "y = df.iloc[0:100, 4].values\n",
    "y = np.where(y=='Iris-setosa',-1,1)\n",
    "\n",
    "# 꽃받침 길이와 꽃잎의 길이를 추출합니다\n",
    "X = df.iloc[0:100,[0,2]].values\n",
    "\n",
    "#산점도를 그립니다\n",
    "plt.scatter(X[:50,0], X[:50,1], color ='red', marker='o', label = 'setosa')\n",
    "plt.scatter(X[50:,0], X[50:,1], color ='blue', marker='x', label = 'versicolor')\n",
    "plt.xlabel('sepal length [cm]')\n",
    "plt.ylabel('petal length [cm]')\n",
    "plt.legend(loc='upper left')\n",
    "plt.show()"
   ]
  },
  {
   "cell_type": "markdown",
   "metadata": {},
   "source": [
    "붓꽃 데이터셋에 있는 샘플들은 2처원 부분 강간에서 선형 결정 경게로 구분하기 충분할 것으로 예상 가능 ※ 이렇게 시각화는 많은 정보를 줍니다.\n",
    "\n",
    "\n",
    "이제 붓꽃 데이터셋에서 추출한 일부 데이터에서 퍼셉트론 알고리즘을 훈련  \n",
    "에포크 대비 잘못 분류된 오차를 그래프로 그려서, 알고리즘이 수렴하여 두 붓꽃 클래스를 구분하는 결정 경계를 찾는지 확인하겠습니다."
   ]
  },
  {
   "cell_type": "code",
   "execution_count": 24,
   "metadata": {},
   "outputs": [
    {
     "data": {
      "image/png": "[encoded data removed]",
      "text/plain": [
       "<Figure size 432x288 with 1 Axes>"
      ]
     },
     "metadata": {
      "needs_background": "light"
     },
     "output_type": "display_data"
    }
   ],
   "source": [
    "ppn = Perceptron(eta=0.1, n_iter =10)\n",
    "ppn.fit(X,y)\n",
    "plt.plot(range(1, len(ppn.errors_)+1), ppn.errors_ ,marker='o')\n",
    "plt.xlabel('Epoches')\n",
    "plt.ylabel('Number of errors')\n",
    "plt.show()"
   ]
  },
  {
   "cell_type": "markdown",
   "metadata": {},
   "source": [
    "여섯 번째 에포크 이후에 수렴했고 훈련 샘플을 완벽하게 분류\n",
    "\n",
    "\n",
    "간단한 함수를 만들어 2차원 데이터셋의 결정 경계를 시각화 해보겠습니다."
   ]
  },
  {
   "cell_type": "code",
   "execution_count": 33,
   "metadata": {},
   "outputs": [],
   "source": [
    "from matplotlib.colors import ListedColormap\n",
    "def plot_decsision_regions(X,y , classifier, resolution = 0.02):\n",
    "    # 마커와 컬러맵을 설정합니다.\n",
    "    markers = ('s','x','o','^','v')\n",
    "    colors = ('red','blue','lightgreen','gray','cyan')\n",
    "    cmap = ListedColormap(colors[:len(np.unique(y))])\n",
    "    \n",
    "    # 결정 결계를 그립니다.\n",
    "    x1_min , x1_max = X[:,0].min() -1 , X[:,0].max() +1\n",
    "    x2_min , x2_max = X[:,1].min() -1 , X[:,1].max() +1\n",
    "    xx1 , xx2 = np.meshgrid(np.arange(x1_min, x1_max, resolution),\n",
    "                           np.arange(x2_min, x2_max, resolution))\n",
    "    Z = classifier.predict(np.array([xx1.ravel(), xx2.ravel()]).T)\n",
    "    Z = Z.reshape(xx1.shape)\n",
    "    plt.contourf(xx1, xx2, Z,alpha =0.3, cmap = cmap)\n",
    "    plt.xlim(xx1.min(), xx1.max())\n",
    "    plt.ylim(xx2.min(), xx2.max())\n",
    "    \n",
    "    # 샘플의 산점도를 그립니다.\n",
    "    for idx, cl in enumerate(np.unique(y)):\n",
    "        plt.scatter(x= X[y ==cl, 0],\n",
    "                   y= X[y ==cl ,1],\n",
    "                   alpha = 0.8,\n",
    "                   c= colors[idx],\n",
    "                   marker =markers[idx],\n",
    "                   label=cl,\n",
    "                   edgecolor='black')"
   ]
  },
  {
   "cell_type": "code",
   "execution_count": 34,
   "metadata": {},
   "outputs": [
    {
     "data": {
      "image/png": "[encoded data removed]",
      "text/plain": [
       "<Figure size 432x288 with 1 Axes>"
      ]
     },
     "metadata": {
      "needs_background": "light"
     },
     "output_type": "display_data"
    }
   ],
   "source": [
    "plot_decsision_regions(X,y ,classifier=ppn)\n",
    "plt.xlabel('sepal length [cm]')\n",
    "plt.ylabel('petal length [cm]')\n",
    "plt.legend(loc ='upper left')\n",
    "plt.show()"
   ]
  },
  {
   "cell_type": "code",
   "execution_count": null,
   "metadata": {},
   "outputs": [],
   "source": []
  }
 ],
 "metadata": {
  "kernelspec": {
   "display_name": "Python 3",
   "language": "python",
   "name": "python3"
  },
  "language_info": {
   "codemirror_mode": {
    "name": "ipython",
    "version": 3
   },
   "file_extension": ".py",
   "mimetype": "text/x-python",
   "name": "python",
   "nbconvert_exporter": "python",
   "pygments_lexer": "ipython3",
   "version": "3.7.6"
  }
 },
 "nbformat": 4,
 "nbformat_minor": 4
}
