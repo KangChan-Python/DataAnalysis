{
 "cells": [
  {
   "cell_type": "markdown",
   "metadata": {},
   "source": [
    "# 4.1 인스타그램 크롤링\n",
    "\n",
    "### 4.1.1 크롤링 과정\n",
    "\n",
    "- www.instagram.com/explore/tags/{키워드} : {키워드} 부분을 변경해서 URL을 만들 수 있다.\n",
    "- 첫 번째 게시물 클릭시 장소,시간,태그,본문 내용 등을 확인할 수 있다.\n",
    "- 게시글 하나의 정보를 수집한 후 다음 게시물 클릭으로 넘어가 새로운 게시물의 내용들을 확인 할 수 있다.\n",
    "- 원하는 수만큼 게시글을 확인하는 반복문을 사용한다."
   ]
  },
  {
   "cell_type": "markdown",
   "metadata": {},
   "source": [
    "### 4.1.2 인사트그램 검색 결과 URL을 만들어서 접속하기\n",
    "- url 만드는 함수 작성해보기."
   ]
  },
  {
   "cell_type": "code",
   "execution_count": 1,
   "metadata": {},
   "outputs": [
    {
     "data": {
      "text/plain": [
       "'https://www.instagram.com/explore/tags/rad'"
      ]
     },
     "execution_count": 1,
     "metadata": {},
     "output_type": "execute_result"
    }
   ],
   "source": [
    "def insta_searching(word):\n",
    "    url = f'https://www.instagram.com/explore/tags/{word}'\n",
    "    return url\n",
    "insta_searching('rad')"
   ]
  },
  {
   "cell_type": "markdown",
   "metadata": {},
   "source": [
    "- 원하는 검색결과 페이의 url을 만든 뒤, 브라우저를 이용해 해당 주소로 접속한다."
   ]
  },
  {
   "cell_type": "markdown",
   "metadata": {},
   "source": [
    "### 4.1.3 첫 번째 게시글 열기\n",
    "- 개발자도구를 이용해 HTML 살펴보기"
   ]
  },
  {
   "cell_type": "code",
   "execution_count": 2,
   "metadata": {},
   "outputs": [],
   "source": [
    "import time\n",
    "\n",
    "def select_first(driver):\n",
    "    first = driver.find_element_by_css_selector('div._9AhH0')\n",
    "    first.click()\n",
    "    time.sleep(3) #로딩 시간을 고려해야한다."
   ]
  },
  {
   "cell_type": "markdown",
   "metadata": {},
   "source": [
    "### 4.1.4 게시글 정보 가져오기\n",
    "- 본문 내용, 작성 일시, 위치 정보를 가져오며, 이 가운데 본문 내용에서 해쉬태그(#)를 추출하겠습니다."
   ]
  },
  {
   "cell_type": "code",
   "execution_count": 7,
   "metadata": {},
   "outputs": [],
   "source": [
    "import re\n",
    "from bs4 import BeautifulSoup\n",
    "\n",
    "blacklist = ['east_soul_kk','rich_marketing_','db.ro.0804','hmjlove9584','spot.s582.a33333','nsocnjat','kakukinking','xiton32','x7dc208']\n",
    "def get_content(driver,blacklist):\n",
    "    # 현재 페이지의 HTML 정보 가져오기\n",
    "    html = driver.page_source\n",
    "    soup = BeautifulSoup(html,'lxml')\n",
    "    \n",
    "    # 본문 내용 가져오기\n",
    "    instaid =soup.select('div.e1e1d > a')[0].text\n",
    "    if instaid not in blacklist:\n",
    "        try:\n",
    "            content = soup.select('div.C4VMK > h1')[0].text # 태그명이 div 클래스명이 C4VMK인 태그 아래 h1 태그를 모두 선택/[0] 첫 번째 선택/ .text 해당태그의 텍스트 부분\n",
    "        except:\n",
    "            content = ''\n",
    "        # 본문 내용에서 해시태그 가져오기(정규표현식 활용)\n",
    "        tags = re.findall(r'#[^\\s#,\\\\]+',content)\n",
    "        # 작성 일자 정보 가져오기\n",
    "        date = soup.select('time._1o9PC.Nzb55')[0]['datetime'][:10]# 태그명이 time 클래스명이 _1o9PC Nzb55 인 태그를 모두 선택/[0] 첫 번째 선택/ ['datetime'] 속성값/ [:10] 처음부터 10자리 글자.\n",
    "        # 좋아요 수 가져오기\n",
    "        try: \n",
    "            like = soup.select('div.Nm9Fw > button')[0].text[4:-1]\n",
    "        except:\n",
    "            like = 0\n",
    "\n",
    "        # 위치 정보 가져오기\n",
    "        try:\n",
    "            place = soup.select('div.M30cS')[0].text\n",
    "        except:\n",
    "            place =''\n",
    "\n",
    "        # 수집한 정보 저장하기\n",
    "        data = [content,date,like,place,tags]\n",
    "    else:\n",
    "        data = ['','','','','']\n",
    "    return data"
   ]
  },
  {
   "cell_type": "markdown",
   "metadata": {},
   "source": [
    "### 4.1.5 다음 게시글 열기\n",
    "- 현재 게시물의 정보 수집이 완료되면 다음 게시글로 이동한다."
   ]
  },
  {
   "cell_type": "code",
   "execution_count": 4,
   "metadata": {},
   "outputs": [],
   "source": [
    "def move_next(driver):\n",
    "    right = driver.find_element_by_css_selector('a._65Bje,coreSpriteRightPaginationArrow') # 클래스명이 자주 바뀌므로 확인 필수\n",
    "    right.click()\n",
    "    time.sleep(3)"
   ]
  },
  {
   "cell_type": "markdown",
   "metadata": {},
   "source": [
    "### 4.1.6 여러 게시글 정부 수집하기\n",
    "1. 크롬 브라우저 열기\n",
    "2. 인스타그램 검색페이지 url 만들기  \n",
    "insta_searching()\n",
    "3. 검색페이지 접속하기\n",
    "4. 첫 번째 게시물 클릭하기\n",
    "5. 비어있는 변수(results) 만들기\n",
    "6. 게시글 정보 가져오기\n",
    "7. 게시글 정보 변수 변수(results)에 추가하기\n",
    "8. 다음 게시글 선택하기  \n",
    "move_next()\n",
    "9. 6~8을 일정 수 반복\n",
    "10. 게시글 정봇 수집 완료"
   ]
  },
  {
   "cell_type": "code",
   "execution_count": 8,
   "metadata": {},
   "outputs": [
    {
     "name": "stdout",
     "output_type": "stream",
     "text": [
      "[['', '2020-04-08', '299', '드라마2015리조트', []], ['', '2020-04-09', '203', 'Jeju', []]]\n"
     ]
    }
   ],
   "source": [
    "from selenium import webdriver\n",
    "# 크롬 브라우저 열기\n",
    "driver = webdriver.Chrome('../chromedriver.exe')\n",
    "\n",
    "# 인스타그램 검색페이지 URL 만들기\n",
    "word = '제주도관광'\n",
    "url = insta_searching(word)\n",
    "\n",
    "# 검색페이지 접속하기\n",
    "driver.get(url)\n",
    "time.sleep(3)\n",
    "\n",
    "# 첫 번째 게시글 열기\n",
    "select_first(driver)\n",
    "\n",
    "# 비어 있는 변수(results)만들기\n",
    "results = []\n",
    "\n",
    "# 여러 게시물 수집하기\n",
    "target =10\n",
    "for i in range(target):\n",
    "    try:\n",
    "        data =get_content(driver,blacklist)\n",
    "        results.append(data)\n",
    "        move_next(driver)\n",
    "    except:\n",
    "        move_next(driver)\n",
    "\n",
    "\n",
    "print(results[:2])"
   ]
  },
  {
   "cell_type": "markdown",
   "metadata": {},
   "source": [
    "### 4.1.7 수집 데이터 저장"
   ]
  },
  {
   "cell_type": "code",
   "execution_count": 6,
   "metadata": {},
   "outputs": [],
   "source": [
    "import pandas as pd"
   ]
  },
  {
   "cell_type": "code",
   "execution_count": 12,
   "metadata": {},
   "outputs": [],
   "source": [
    "df = pd.DataFrame(results,columns=['content','date','like','place','tags'])\n",
    "df.to_excel('./files/jejudoGwanGwang.xlsx')"
   ]
  },
  {
   "cell_type": "code",
   "execution_count": null,
   "metadata": {},
   "outputs": [],
   "source": []
  }
 ],
 "metadata": {
  "kernelspec": {
   "display_name": "Python 3",
   "language": "python",
   "name": "python3"
  },
  "language_info": {
   "codemirror_mode": {
    "name": "ipython",
    "version": 3
   },
   "file_extension": ".py",
   "mimetype": "text/x-python",
   "name": "python",
   "nbconvert_exporter": "python",
   "pygments_lexer": "ipython3",
   "version": "3.7.6"
  }
 },
 "nbformat": 4,
 "nbformat_minor": 4
}
