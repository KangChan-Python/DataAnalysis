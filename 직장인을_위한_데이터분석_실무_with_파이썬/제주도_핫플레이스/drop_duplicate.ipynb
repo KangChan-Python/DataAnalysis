{
 "cells": [
  {
   "cell_type": "markdown",
   "metadata": {},
   "source": [
    "### 4.1.8 여러 엑셀 파일의 중복을 제거한 후 통합 저장 "
   ]
  },
  {
   "cell_type": "code",
   "execution_count": 1,
   "metadata": {},
   "outputs": [],
   "source": [
    "import pandas as pd"
   ]
  },
  {
   "cell_type": "code",
   "execution_count": 2,
   "metadata": {},
   "outputs": [
    {
     "name": "stdout",
     "output_type": "stream",
     "text": [
      " C 드라이브의 볼륨에는 이름이 없습니다.\n",
      " 볼륨 일련 번호: FA01-204A\n",
      "\n",
      " C:\\Users\\Kang\\Data\\직장인을_위한_데이터분석_실무_with_파이썬\\제주도_핫플레이스\\files 디렉터리\n",
      "\n",
      "2020-04-12  오후 05:13    <DIR>          .\n",
      "2020-04-12  오후 05:13    <DIR>          ..\n",
      "2020-04-12  오후 06:24            63,564 jejudoGwanGwang.xlsx\n",
      "2020-03-30  오후 09:01            78,035 jejudoMatJip.xlsx\n",
      "2020-03-30  오후 10:07            85,043 jejudoYeoHang.xlsx\n",
      "               3개 파일             226,642 바이트\n",
      "               2개 디렉터리  139,437,785,088 바이트 남음\n"
     ]
    }
   ],
   "source": [
    "!dir files"
   ]
  },
  {
   "cell_type": "code",
   "execution_count": 13,
   "metadata": {},
   "outputs": [],
   "source": [
    "jeju_insta_df = pd.DataFrame([])\n",
    "\n",
    "folder = './files/'\n",
    "f_list = ['jejudoGwanGwang.xlsx','jejudoMatJip.xlsx','jejudoYeoHang.xlsx']\n",
    "for fname in f_list:\n",
    "    fpath =folder + fname\n",
    "    temp = pd.read_excel(fpath)\n",
    "    jeju_insta_df =jeju_insta_df.append(temp)\n",
    "\n"
   ]
  },
  {
   "cell_type": "code",
   "execution_count": 16,
   "metadata": {},
   "outputs": [],
   "source": [
    "del jeju_insta_df['Unnamed: 0']"
   ]
  },
  {
   "cell_type": "code",
   "execution_count": 17,
   "metadata": {},
   "outputs": [],
   "source": [
    "jeju_insta_df.drop_duplicates(subset = ['content'] , inplace= True)\n",
    "jeju_insta_df.to_excel('./files/crawling_raw.xlsx',index=False)"
   ]
  },
  {
   "cell_type": "code",
   "execution_count": null,
   "metadata": {},
   "outputs": [],
   "source": []
  }
 ],
 "metadata": {
  "kernelspec": {
   "display_name": "Python 3",
   "language": "python",
   "name": "python3"
  },
  "language_info": {
   "codemirror_mode": {
    "name": "ipython",
    "version": 3
   },
   "file_extension": ".py",
   "mimetype": "text/x-python",
   "name": "python",
   "nbconvert_exporter": "python",
   "pygments_lexer": "ipython3",
   "version": "3.7.6"
  }
 },
 "nbformat": 4,
 "nbformat_minor": 4
}
