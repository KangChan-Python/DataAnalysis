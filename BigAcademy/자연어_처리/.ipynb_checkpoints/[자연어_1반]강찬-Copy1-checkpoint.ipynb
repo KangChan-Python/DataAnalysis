{
 "cells": [
  {
   "cell_type": "markdown",
   "metadata": {
    "colab_type": "text",
    "id": "8stRR50M-TZl"
   },
   "source": [
    "\n",
    "# 머신러닝을 이용한 감성분석 "
   ]
  },
  {
   "cell_type": "code",
   "execution_count": 2,
   "metadata": {},
   "outputs": [
    {
     "name": "stdout",
     "output_type": "stream",
     "text": [
      "197514\n",
      "3\n",
      "[8132799\n",
      " '디자인 배우다 학생 외국 디자이너 일구다 전통 통하다 발전 문화 산업 부럽다 사실 우리나라 그 어렵다 시절 끝 열정 지키다 노라노 같다 전통 있다 같다 사람 꿈 꾸다 이루다 나가다 있다 감사'\n",
      " 1]\n"
     ]
    }
   ],
   "source": [
    "# 형태분석된 데이터 로딩\n",
    "import pandas as pd\n",
    "\n",
    "def write_data(data, filename, encoding='cp949'):        # 쓰기 함수\n",
    "  with open(filename, 'w', encoding=encoding) as f:\n",
    "    f.write(data)\n",
    "\n",
    "data = pd.read_csv('C:/Users/jye12/Python/file/pytest_대용량/ratings_morphed.txt',sep ='\\t', encoding='cp949')\n",
    "\n",
    "print(len(data))\n",
    "print(len(data.values[0])) \n",
    "print(data.values[0])"
   ]
  },
  {
   "cell_type": "code",
   "execution_count": 3,
   "metadata": {},
   "outputs": [
    {
     "name": "stdout",
     "output_type": "stream",
     "text": [
      "train_data_senti_freq : Counter({1: 74097, 0: 74038})\n",
      "test_data_senti_freq :  Counter({1: 24699, 0: 24680})\n"
     ]
    }
   ],
   "source": [
    "# 훈련 데이터와 테스트데이터 분리 (싸이킷런 모듈)\n",
    "data_text = [line[1] for line in data.values]\n",
    "data_senti = [line[2] for line in data.values]\n",
    "from sklearn.model_selection import train_test_split\n",
    "train_data_text , test_data_text, train_data_senti , test_data_senti = train_test_split(data_text , data_senti, stratify=data_senti)\n",
    "\n",
    "# Counter 를 이용해 잘 분류되었는지 확인하기\n",
    "from collections import Counter\n",
    "train_data_senti_freq = Counter(train_data_senti)\n",
    "print('train_data_senti_freq :' , train_data_senti_freq)\n",
    "\n",
    "test_data_senti_freq = Counter(test_data_senti)\n",
    "\n",
    "print('test_data_senti_freq : ' , test_data_senti_freq)"
   ]
  },
  {
   "cell_type": "code",
   "execution_count": 4,
   "metadata": {},
   "outputs": [
    {
     "name": "stdout",
     "output_type": "stream",
     "text": [
      "train data length :  138259\n",
      "test data length :  59255\n"
     ]
    }
   ],
   "source": [
    "# 훈련 데이터 테스트데이터 분리 (직접)\n",
    "import random\n",
    "random.shuffle(data.values)\n",
    "\n",
    "data_70 = int(len(data) *0.7)\n",
    "train_data = data[:data_70]\n",
    "test_data = data[data_70:]\n",
    "\n",
    "print('train data length : ', len(train_data))\n",
    "print('test data length : ' , len(test_data))\n",
    "\n",
    "\n",
    "# 학습데이터 요소 분리\n",
    "train_data_text = [line[1] for line in train_data.values]      # 훈련데이터 본문\n",
    "train_data_senti = [line[2] for line in train_data.values]     # 훈련데이터 긍부정 부분\n",
    "\n",
    "\n",
    "\n",
    "# 테스트데이터 요소 분리\n",
    "test_data_text = [line[1] for line in test_data.values]\n",
    "\n",
    "test_data_senti = [line[2] for line in test_data.values]"
   ]
  },
  {
   "cell_type": "code",
   "execution_count": 5,
   "metadata": {},
   "outputs": [
    {
     "name": "stdout",
     "output_type": "stream",
     "text": [
      "X_train:\n",
      " <138259x11416 sparse matrix of type '<class 'numpy.int64'>'\n",
      "\twith 933575 stored elements in Compressed Sparse Row format>\n"
     ]
    }
   ],
   "source": [
    "# 행렬 형태로 변환\n",
    "from sklearn.feature_extraction.text import CountVectorizer\n",
    "vect = CountVectorizer(min_df=5).fit(train_data_text)  # 문서 빈도 5이상의 단어만 대상\n",
    "X_train = vect.transform(train_data_text)          # 행렬 생성\n",
    "print(\"X_train:\\n\", repr(X_train))         #생성된 행렬 개요"
   ]
  },
  {
   "cell_type": "code",
   "execution_count": 6,
   "metadata": {},
   "outputs": [
    {
     "name": "stdout",
     "output_type": "stream",
     "text": [
      "특성 개수 :  11416\n",
      "처음 20개 특성 : \n",
      " ['10점', '1빠', 'cgv', 'ebs', 'jtbc', 'kbs', 'la', 'mb', 'mbc', 'naver', 'new', 'ok', 'sbs', 'sns', 'tv', 'ㄴㄴ', 'ㄷㄷ', 'ㅂㄷㅂㄷ', 'ㅂㅅ', 'ㅅㅂ']\n",
      "3000~5000까지의 특성 : \n",
      " ['립싱크', '링컨', '링크', '마가', '마가렛', '마감', '마고', '마구', '마구잡이', '마귀', '마나', '마냥', '마네', '마네킹', '마녀', '마녀사냥', '마누라', '마니아', '마당', '마더', '마돈나', '마동석', '마디', '마땅', '마력', '마련', '마루', '마르다', '마른', '마리', '마리아', '마리옹', '마린', '마마', '마모루', '마무리', '마미', '마법', '마법사', '마보', '마블', '마비', '마사', '마사미', '마샬', '마성', '마술', '마술사', '마스', '마스크', '마스터', '마시다', '마약', '마왕', '마우스', '마을', '마음', '마음껏', '마음대로', '마음속', '마음씨', '마의', '마이', '마이너', '마이너리티', '마이너스', '마이애미', '마이어스', '마이크', '마이클', '마인드', '마저', '마주', '마주치다', '마주하', '마중', '마지', '마지막', '마직', '마징가', '마차', '마찬가지', '마초', '마츠다', '마츠모토', '마츠야마', '마치', '마치다', '마침', '마침내', '마침표', '마카로니', '마케팅', '마켓', '마코', '마코토', '마크', '마키', '마테오', '마티', '마틴', '마틸다', '마피아', '막가다', '막가파', '막강', '막걸리', '막내', '막다', '막대', '막론', '막막', '막말', '막무가내', '막바지', '막상', '막스', '막심', '막연', '막연히', '막이', '막장', '막지', '막판', '막히다', '만감', '만개', '만그', '만끽', '만나', '만나다', '만날', '만남', '만내', '만년', '만능', '만담', '만델라', '만두', '만들다', '만들수다', '만듦새', '만땅', '만만', '만만세', '만명', '만물', '만발', '만보', '만사', '만세', '만약', '만인', '만점', '만족', '만족감', '만지다', '만찬', '만하다', '만해', '만행', '만화', '만화가', '만화영화', '만화책', '만회', '많다', '많이', '말기', '말길', '말년', '말다', '말로', '말론', '말리', '말리다', '말미', '말빨', '말살', '말세', '말씀', '말아먹다', '말없이', '말입', '말자', '말장난', '말종', '말초신경', '말코비치', '말콤', '말투', '말하기', '말하다', '말해', '맑다', '맘껏', '맘대로', '맘마', '맘마미아', '맘속', '맙소사', '맛깔', '맛나다', '맛보기', '맛보다', '맛없다', '맛있다', '맛집', '망가', '망가지다', '망각', '망상', '망설이다', '망설임', '망신', '망인', '망쳐놓다', '망치', '망치다', '망하다', '맞다', '맞대다', '맞먹다', '맞물리다', '맞서다', '맞이', '맞추다', '맞춤', '맡기다', '맡다', '매개체', '매국노', '매기다', '매끄럽다', '매너', '매년', '매니아', '매니저', '매다', '매달리다', '매도', '매드', '매들린', '매듭', '매력', '매력적', '매료', '매미', '매번', '매수', '매염방', '매우', '매일', '매일매일', '매장', '매주', '매직', '매진', '매체', '매치', '매튜', '매트', '매트릭스', '매혹', '매혹적', '매회', '맥가이버', '맥과이어', '맥그리거', '맥라이언', '맥락', '맥빠지다', '맥스', '맥아', '맥아더', '맥이다', '맥주', '맥퀸', '맥클레인', '맨날', '맨들다', '맨디', '맨몸', '맨발', '맨손', '맨인블랙', '맴돌다', '맴버', '맹목적', '맹물', '맹인', '맺다', '맺히다', '머금다', '머니', '머레이', '머리', '머리카락', '머리털', '머릿', '머릿속', '머물다', '머신', '머이', '머저리', '머피', '먹고살다', '먹다', '먹먹', '먹방', '먹이다', '먹칠', '먹히다', '먼저', '먼지', '멀다', '멀더', '멀리', '멀리서', '멀미', '멀쩡', '멀쩡히', '멈추다', '멋대로', '멋들어지다', '멋모르다', '멋있다', '멋지다', '멍청', '멍청이', '멍하니', '멍하다', '멎다', '메가', '메가박스', '메가폰', '메기다', '메니', '메다', '메디컬', '메르스', '메리', '메리트', '메릴', '메마르다', '메멘토', '메세', '메세지', '메소드', '메스', '메시지', '메어', '메오', '메우다', '메이', '메이다', '메이드', '메이슨', '메이저', '메이퀸', '메이크업', '메이킹', '메이트', '메인', '메일', '메카', '메카닉', '메타', '메타포', '멕시코', '멘스', '멘탈', '멘토', '멘트', '멜라니', '멜로', '멜로드라마', '멜로디', '멜로물', '멜리사', '멤버', '며느리', '며칠', '면도', '면모', '면상', '면하다', '멸망', '명감독', '명곡', '명과', '명관', '명대사', '명도', '명랑', '명량', '명료', '명목', '명민', '명배우', '명복', '명분', '명색', '명성', '명심', '명언', '명에', '명연', '명연기', '명예', '명작', '명장', '명장면', '명절', '명치', '명쾌', '명탐정', '명품', '명함', '명화', '명화극장', '명확', '명확히', '몇몇', '몇일', '모가지', '모건', '모녀', '모니', '모니카', '모니터', '모던', '모델', '모독', '모독이', '모두', '모드', '모든', '모라', '모래', '모래시계', '모레', '모로', '모르다', '모리', '모방', '모범', '모범적', '모성', '모성애', '모세', '모션', '모순', '모스', '모습', '모시다', '모야', '모양', '모양새', '모어', '모에', '모욕', '모욕감', '모욕적', '모으다', '모이다', '모임', '모자', '모자라다', '모자람', '모자르다', '모자이크', '모조리', '모지', '모짜르트', '모차르트', '모처럼', '모태', '모텔', '모토', '모티브', '모험', '모호', '모히칸', '목걸이', '목격', '목록', '목마르다', '목사', '목소리', '목숨', '목요일', '목욕', '목욕탕', '목적', '목표', '몬스터', '몰다', '몰두', '몰라보다', '몰락', '몰래', '몰려오다', '몰르다', '몰리다', '몰살', '몰상식', '몰아', '몰아가다', '몰아넣다', '몰아치다', '몰이', '몰입', '몰입감', '몰입도', '몸매', '몸부림', '몸부림치다', '몸소', '몸짓', '몹시', '못나다', '못난이', '못내', '못되다', '못살다', '못생기다', '못쓰다', '못지않다', '못하다', '몽골', '몽땅', '몽롱', '몽상가', '몽정기', '몽환', '몽환적', '묘미', '묘사', '묘하다', '무간', '무감각', '무개', '무겁다', '무게', '무게감', '무고', '무관', '무관심', '무교', '무기', '무기력', '무난', '무난히', '무너뜨리다', '무너지다', '무능', '무능력', '무단', '무당', '무대', '무덤', '무덤덤', '무덥다', '무도', '무디다', '무뚝뚝', '무라', '무라카미', '무려', '무력', '무례', '무료', '무릎', '무릎팍', '무리', '무리수', '무림', '무명', '무모', '무미건조', '무방', '무법자', '무분별', '무비', '무사', '무산', '무상', '무색', '무서다', '무서움', '무서워하다', '무섭다', '무성', '무성영화', '무소유', '무술', '무술인', '무스', '무슨', '무시', '무시무시', '무식', '무신론자', '무심', '무심코', '무언', '무얼', '무엇', '무용', '무의미', '무의식', '무의식적', '무인', '무인도', '무자', '무자비', '무작정', '무장', '무적', '무전', '무정', '무조', '무조건', '무조건적', '무죄', '무지', '무지개', '무지막지', '무지무지', '무진장', '무찌르다', '무차별', '무참히', '무책임', '무척', '무턱대고', '무표정', '무한', '무협', '무협물', '무협지', '묵다', '묵묵히', '묵시록', '묵직', '묶다', '묶이다', '문구', '문근영', '문득', '문득문득', '문란', '문명', '문법', '문성근', '문소리', '문식', '문어', '문외한', '문자', '문장', '문정희', '문제', '문제아', '문제없다', '문제의식', '문제작', '문제점', '문제지', '문채원', '문학', '문학관', '문학작품', '문학적', '문화', '문화적', '묻다', '묻어나다', '묻히다', '물건', '물결', '물고기', '물다', '물들다', '물량', '물려주다', '물론', '물리다', '물리치다', '물보', '물속', '물씬', '물어보다', '물음', '물음표', '물의', '물질', '물질적', '물체', '물타기', '뭉개다', '뭉치다', '뭉클', '뭍히다', '뭐야', '뭣하다', '뮤비', '뮤지션', '뮤지컬', '뮤직', '뮤직비디오', '뮬란', '미가', '미개', '미국', '미국인', '미국판', '미군', '미나', '미남', '미녀', '미니', '미달', '미덕', '미도', '미드', '미들', '미디어', '미라', '미란', '미란다', '미래', '미련', '미로', '미루다', '미리', '미만', '미모', '미묘', '미미', '미사', '미사일', '미생', '미성년자', '미성숙', '미세', '미세스', '미셀', '미션', '미션임파서블', '미셸', '미소', '미소녀', '미숙', '미술', '미술관', '미쉘', '미스', '미스터', '미스터리', '미스테리', '미신', '미쓰', '미아', '미안', '미야자키', '미어', '미어지다', '미에', '미용실', '미움', '미워하다', '미이라', '미인', '미자', '미장센', '미쟝센', '미저리', '미적', '미적지근', '미지', '미지근', '미진', '미처', '미쳐', '미취학', '미치광이', '미치다', '미친년', '미친놈', '미켈슨', '미키', '미필', '미학', '미학적', '미혼', '미화', '미흡', '믹스', '민간인', '민감', '민국', '민들레', '민망', '민비', '민아', '민영화', '민이', '민정', '민족', '민주', '민주주의', '민주화', '민중', '민폐', '민호', '믿기다', '믿다', '믿음', '밀다', '밀당', '밀도', '밀라', '밀러', '밀려오다', '밀리다', '밀양', '밀어내다', '밀어주다', '밀폐', '밉다', '밉상', '밋밋', '밍밍', '밑바닥', '바가지', '바꾸기', '바꾸다', '바꿔주다', '바뀌다', '바네사', '바늘', '바니', '바다', '바닥', '바닷속', '바둑', '바디', '바라다', '바라보다', '바라지', '바라지다', '바람', '바람나다', '바람둥이', '바람직', '바래다', '바램', '바로', '바로잡다', '바론', '바르', '바르다', '바르뎀', '바바라', '바바리', '바보', '바비', '바쁘다', '바스코', '바위', '바이', '바이러스', '바이블', '바이오', '바이올린', '바인', '바지', '바치다', '바퀴벌레', '바탕', '바티칸', '바흐', '박건', '박근형', '박근혜', '박기웅', '박다', '박력', '박명수', '박물관', '박민영', '박민우', '박보영', '박사', '박살', '박상민', '박상원', '박선영', '박성웅', '박세영', '박수', '박스', '박스오피스', '박신혜', '박영규', '박예진', '박용우', '박용하', '박유천', '박은혜', '박자', '박장대소', '박재범', '박재정', '박정민', '박정희', '박중훈', '박쥐', '박지성', '박지윤', '박진감', '박진영', '박진희', '박차다', '박찬욱', '박철민', '박철수', '박평식', '박하', '박하다', '박하사탕', '박한', '박해일', '박해진', '박현지', '박형식', '박희순', '박히다', '반감', '반갑다', '반고', '반공', '반담', '반대', '반대인', '반대편', '반대하다', '반데라스', '반도', '반드시', '반디', '반란', '반려', '반면', '반복', '반성', '반성하', '반성해', '반세기', '반열', '반영', '반영한', '반올림', '반응', '반응하', '반의', '반장', '반전', '반점', '반지', '반짝', '반짝반짝', '반짝이다', '반쪽', '반찬', '반하다', '반할', '반함', '반항', '받다', '받아들이다', '받치다', '발견', '발광', '발굴', '발끝', '발달', '발동', '발라', '발랄', '발레', '발로', '발리다', '발매', '발목', '발버둥', '발사', '발산', '발상', '발생', '발성', '발악', '발암', '발언', '발음', '발작', '발전', '발정', '발차기', '발칙', '발톱', '발판', '발표', '발하다', '발현', '발휘', '밝다', '밝히다', '밟다', '밤새', '밤새다', '밥맛', '밥상', '방가', '방구', '방구석', '방금', '방금보', '방대', '방도', '방문', '방법', '방사능', '방송', '방송국', '방송사', '방송인', '방식', '방심', '방어', '방영', '방영하', '방영한', '방영해', '방울', '방울방울', '방이', '방지', '방치', '방하', '방학', '방해', '방향', '방화', '방황', '배가', '배경', '배경음악', '배경지식', '배고프다', '배급', '배급사', '배기다', '배꼽', '배다', '배달', '배달부', '배두나', '배드', '배려', '배리', '배부르다', '배속', '배신', '배신감', '배아', '배역', '배역도', '배용준', '배우', '배우다', '배우자', '배우중', '배우진', '배제', '배제하', '배종옥', '배창호', '배출', '배치', '배타', '배트맨', '배틀', '배포', '배합', '백동수', '백미', '백발', '백배', '백번', '백설공주', '백성', '백성현', '백수', '백악관', '백야', '백윤식', '백인', '백인우', '백제', '백조', '백진희', '백투더', '밴드', '밸런스', '뱀파이어', '뱃속', '뱅상', '뱅크', '뱉다', '버겁다', '버그', '버그만', '버금가다', '버드', '버디', '버러지', '버릇', '버리다', '버림받다', '버마', '버무리다', '버블', '버스', '버전', '버지니아', '버킷', '버터', '버트', '버튼', '버틀러', '버티다', '버프', '버호벤', '벅스', '벅차다', '벅차오르다', '번개', '번도', '번뜩이다', '번역', '번외', '번지르르', '번쩍', '번하다', '벌다', '벌레', '벌리다', '벌써', '벌어다', '벌어지다', '벌이다', '범람', '범벅', '범수', '범위', '범인', '범접', '범죄', '범죄자', '범하다', '법대', '법사', '법인', '법적', '법정', '법칙', '벗기다', '벗다', '벗어나다', '벚꽃', '베끼다', '베네딕트', '베니', '베닝', '베다', '베드', '베드신', '베라', '베르', '베를린', '베리', '베리굿', '베송', '베스트', '베스트셀러', '베아', '베어', '베이', '베이더', '베이브', '베이비', '베이스', '베이커', '베이컨', '베인', '베일', '베테랑', '베토벤', '베트남', '베트남전', '베트남전쟁', '베티', '베풀다', '벡터', '벤더', '벤더스', '벤자민', '벤츠', '벤허', '벨라', '벼랑', '변경', '변기', '변덕', '변명', '변신', '변요한', '변주', '변질', '변태', '변태영', '변태적', '변하다', '변한', '변함없다', '변호사', '변호인', '변화', '변환', '별개', '별거', '별것', '별관', '별다르다', '별로', '별론', '별명', '별반', '별볼일', '별생각', '별은', '별이', '별점', '병기', '병동', '병들다', '병사', '병아리', '병원', '병자', '병장', '병헌', '보가트', '보강', '보고', '보고서', '보관', '보그', '보기', '보내기', '보내다', '보너스', '보다', '보도', '보드', '보듬다', '보디가드', '보라', '보라색', '보람', '보리', '보물', '보복', '보살피다', '보상', '보석', '보성', '보수', '보수적', '보스', '보신', '보심', '보여주다', '보완', '보이', '보이다', '보이스', '보인', '보일', '보잘것', '보장', '보정', '보존', '보지', '보충', '보컬', '보태다', '보통', '보통이', '보트', '보편적', '보합', '보호', '복고', '복귀', '복도', '복사', '복사기', '복선', '복수', '복습', '복싱', '복원', '복음', '복잡', '복장', '복제', '복지', '복합적', '볶다', '본거', '본거지', '본건', '본격', '본격적', '본기', '본능', '본능적', '본드', '본래', '본받다', '본방', '본분', '본사', '본상', '본성', '본시', '본연', '본영', '본의', '본인', '본전', '본질', '본질적', '본편', '볼거리', '볼륨', '볼만하다', '볼일', '볼타', '볼트', '볼프강', '봄날', '봉만대', '봉사', '봉준호', '봉지', '봉태', '봐주다', '뵈다', '뵙다', '부각', '부끄러움', '부끄럽다', '부녀', '부다페스트', '부담', '부담감', '부당', '부대', '부드럽다', '부들부들', '부디', '부딪치다', '부러', '부러움', '부러지다', '부럽다', '부류', '부르기', '부르다', '부리', '부리다', '부모', '부부', '부부들', '부분', '부산', '부상', '부서지다', '부성애', '부세미', '부셔', '부수다', '부스', '부시', '부시다', '부시맨', '부실', '부엉이', '부여', '부위', '부유', '부의', '부인', '부자', '부자연', '부자지간', '부작', '부작용', '부잣집', '부재', '부정', '부정적', '부제', '부조리', '부족', '부진', '부질없다', '부처', '부천', '부추기다', '부치다', '부탁', '부트', '부패', '부풀다', '부활', '북괴', '북극', '북미', '북받치다', '북유럽', '북한', '북한군', '북한인', '분간', '분노', '분단', '분단국가', '분량', '분류', '분리', '분만', '분명', '분명히', '분발', '분별', '분석', '분신', '분야', '분열', '분위', '분위기', '분장', '분전', '분출', '분투', '분하다', '분한', '분홍', '불가', '불가능', '불감증', '불공평', '불과', '불교', '불구', '불꽃', '불꽃놀이', '불다', '불량', '불러내다', '불러오다', '불러일으키다', '불륜', '불리다', '불리우다', '불만', '불면', '불면증', '불멸', '불문', '불법', '불변', '불사', '불사신', '불사조', '불상', '불신', '불쌍', '불안', '불안감', '불안정', '불완전', '불우', '불운', '불의', '불치병', '불친절', '불쾌', '불쾌감', '불타다', '불태우다', '불편', '불평', '불평등', '불필요', '불행', '불허', '불현듯', '불협화음', '불확실', '불후', '붉다', '붉어지다', '붉은', '붉히다', '붓다', '붕괴', '붕대', '붙다', '붙들다', '붙이다', '붙잡다', '뷰티', '뷰티풀', '브라더스', '브라보', '브라운', '브라운관', '브라이언', '브라질', '브란도', '브래드', '브랜드', '브레드', '브레이크', '브레인', '브렌든', '브로드웨이', '브로스넌', '브로큰', '브루스', '브룩', '브리', '브리지스', '브리짓', '브리트니', '브이', '블랑', '블랙', '블랙리스트', '블랙코미디', '블랙홀', '블러드', '블럭', '블레어', '블레이드', '블로그', '블록', '블록버스터', '블루', '비겁', '비견', '비교', '비교적', '비극', '비극적', '비기다', '비꼬다', '비난', '비노쉬', '비다', '비단', '비도', '비둘기', '비디', '비디오', '비디오방', '비디오테이프', '비로소', '비록', '비롯', '비루', '비리', '비리다', '비만', '비명', '비밀', '비밥', '비범', '비보', '비비다', '비비안리', '비서', '비슷', '비슷비슷', '비싸다', '비씨', '비애', '비약', '비열', '비용', '비우다', '비운', '비웃다', '비위', '비유', '비율', '비의', '비인간적', '비장', '비장미', '비전', '비정', '비정상', '비정상적', '비정상회담', '비주류', '비주얼', '비중', '비지', '비참', '비추', '비추다', '비추천', '비치', '비치다', '비키니', '비키다', '비토', '비트', '비틀다', '비틀즈', '비판', '비평', '비평가', '비포', '비하', '비하다', '비행', '비행기', '비현실적', '비호', '빅뱅', '빅토리아', '빈곤', '빈껍데기', '빈번', '빈부', '빈센트', '빈스', '빈약', '빈자리', '빈틈', '빈틈없다', '빈틈없이', '빌다', '빌딩', '빌리', '빌리다', '빌어먹을', '빗나가다', '빗다', '빗대다', '빗속', '빙빙', '빙의', '빙자', '빙하', '빚다', '빚어내다', '빚어지다', '빛깔', '빛나다', '빛내다', '빠가', '빠다', '빠돌이', '빠르다', '빠리', '빠삐용', '빠순이', '빠이', '빠져나다', '빠져나오다', '빠져들다', '빠지다', '빠지지', '빠짐없이', '빤히', '빨간', '빨강', '빨갱이', '빨다', '빨랑', '빨리', '빨리다', '빨리빨리', '빨아먹다', '빵빵', '빵점', '빼놓다', '빼다', '빼먹다', '빼앗기다', '빼앗다', '빼어나다', '뺏기다', '뺏다', '뺨치다', '뻔뻔', '뻔하다', '뻔히', '뻗다', '뻣뻣', '뻥튀기', '뼈저리다', '뽀뽀', '뽐내다', '뽑다', '뽑아내다', '뽑히다', '뽕짝', '뿌듯', '뿌리', '뿌리다', '뿜다', '뿜어내다', '삐다', '삐딱', '삐뚤어지다', '사가', '사건', '사계절', '사고', '사고방식', '사골', '사과', '사귀다', '사극', '사기', '사기극', '사나이', '사납다', '사냥', '사다', '사다리', '사단', '사담', '사도세자', '사드', '사라', '사라지다', '사람', '사랑', '사랑하다', '사례', '사로', '사로잡다', '사로잡히다', '사료', '사리다', '사마', '사막', '사망', '사면', '사명', '사명감', '사모', '사무라이', '사무실', '사무엘', '사무치다', '사물', '사뭇', '사발', '사보', '사부', '사사키', '사살', '사상', '사색', '사생활', '사세', '사소', '사수', '사스', '사슴', '사신', '사실', '사실감', '사실은', '사실적', '사심', '사십', '사악', '사업', '사연', '사용', '사운드', '사운드트랙', '사위', '사유', '사의', '사이', '사이다', '사이드', '사이렌', '사이먼', '사이버', '사이보그', '사이비', '사이코', '사이트', '사인', '사자', '사장', '사적', '사전', '사정', '사족', '사죄', '사주', '사진', '사채', '사촌', '사춘기', '사치', '사카모토', '사탄', '사탕', '사태', '사토', '사토시', '사투', '사투리', '사하다', '사항', '사형', '사회', '사회문제', '사회상', '사회생활', '사회악', '사회적', '사회주의', '사후', '삭다', '삭막', '삭제', '산거', '산드라', '산드라블록', '산뜻', '산만', '산물', '산악', '산업', '산자', '산전수전', '산책', '산타', '산트', '살기', '살다', '살리기', '살리다', '살림', '살벌', '살살', '살수', '살아가다', '살아나다', '살아남다', '살아오다', '살의', '살인', '살인마', '살인범', '살인자', '살지다', '살짝', '살찌다', '살찐', '살피다', '살해', '삶다', '삶이', '삼가', '삼가다', '삼각관계', '삼국', '삼국지', '삼다', '삼류', '삼박자', '삼성', '삼순', '삼시', '삼위일체', '삼천포', '삼촌', '삼총사', '삼키다', '삼형제', '삽입', '삽입곡', '상관', '상관없다', '상관없이', '상급', '상기', '상남', '상담', '상당', '상당히', '상대', '상대방', '상대적', '상도', '상류층', '상반', '상반기', '상사', '상상', '상상도', '상상력', '상세히', '상속자', '상쇄', '상술', '상승', '상식', '상식적', '상실', '상어', '상업', '상업적', '상영', '상영관', '상의', '상이', '상인', '상자', '상준', '상징', '상징적', '상책', '상처', '상쾌', '상큼', '상태', '상투적', '상품', '상하다', '상하이', '상호', '상황', '상황과', '새기다', '새끼', '새다', '새드다', '새로', '새로움', '새록새록', '새롭다', '새벽', '새삼', '새엄마', '새옹지마', '새우다', '색감', '색기', '색깔', '색다르다', '색안경', '색이다', '색즉시공', '색채', '색채감', '색체', '샌들러', '생각', '생각나다']\n"
     ]
    }
   ],
   "source": [
    "#행렬 내용 관찰\n",
    "feature_names = vect.get_feature_names()\n",
    "\n",
    "print('특성 개수 : ' , len(feature_names))\n",
    "print('처음 20개 특성 : \\n', feature_names[:20])\n",
    "print('3000~5000까지의 특성 : \\n', feature_names[3000:5000])"
   ]
  },
  {
   "cell_type": "code",
   "execution_count": 7,
   "metadata": {},
   "outputs": [
    {
     "name": "stdout",
     "output_type": "stream",
     "text": [
      "138259\n"
     ]
    }
   ],
   "source": [
    "# 머신러닝 알고리즘의 적용\n",
    "from sklearn.model_selection import cross_val_score\n",
    "from sklearn.linear_model import LogisticRegression\n",
    "\n",
    "y_train = pd.Series(train_data_senti)\n",
    "print(len(y_train))\n",
    "lr = LogisticRegression(solver=\"liblinear\")"
   ]
  },
  {
   "cell_type": "code",
   "execution_count": 8,
   "metadata": {},
   "outputs": [
    {
     "data": {
      "text/plain": [
       "LogisticRegression(solver='liblinear')"
      ]
     },
     "execution_count": 8,
     "metadata": {},
     "output_type": "execute_result"
    }
   ],
   "source": [
    "lr.fit(X_train, y_train)"
   ]
  },
  {
   "cell_type": "code",
   "execution_count": 9,
   "metadata": {},
   "outputs": [
    {
     "name": "stdout",
     "output_type": "stream",
     "text": [
      "테스트 데이터 점수 : 0.6366045059488651\n"
     ]
    }
   ],
   "source": [
    "# 테스트 데이터 입력\n",
    "\n",
    "X_test = vect.transform(test_data_text)\n",
    "y_test = pd.Series(test_data_senti)\n",
    "print('테스트 데이터 점수 :' , lr.score(X_test, y_test))"
   ]
  },
  {
   "cell_type": "code",
   "execution_count": 10,
   "metadata": {},
   "outputs": [
    {
     "name": "stdout",
     "output_type": "stream",
     "text": [
      "최고 교차 검증 점수: 0.848\n",
      "최적의 매개변수: {'C': 1}\n",
      "테스트 데이터 점수: 0.6366045059488651\n"
     ]
    }
   ],
   "source": [
    "# 그리드 서치를 통한 최적 매개변수 찾기\n",
    "\n",
    "from sklearn.model_selection import GridSearchCV\n",
    "param_grid = {'C': [0.01, 0.1, 1, 3, 5]}          # 적절한 C 값의 범위를 설정한다. C는 규제 -> 과대적합,과소적합을 조정가능\n",
    "grid = GridSearchCV(LogisticRegression(solver=\"liblinear\"), param_grid, cv=5)\n",
    "grid.fit(X_train, y_train)\n",
    "\n",
    "print(\"최고 교차 검증 점수:\", round(grid.best_score_, 3))\n",
    "print(\"최적의 매개변수:\", grid.best_params_)\n",
    "\n",
    "X_test = vect.transform(test_data_text)\n",
    "y_test = pd.Series(test_data_senti)\n",
    "\n",
    "print(\"테스트 데이터 점수:\", grid.score(X_test, y_test))\n"
   ]
  },
  {
   "cell_type": "markdown",
   "metadata": {
    "colab_type": "text",
    "id": "4mopAL-J-hha"
   },
   "source": [
    "# 1개 데이터 예측 "
   ]
  },
  {
   "cell_type": "code",
   "execution_count": 12,
   "metadata": {},
   "outputs": [
    {
     "name": "stdout",
     "output_type": "stream",
     "text": [
      "filepath:  C:\\Users\\jye12\\anaconda\\lib\\site-packages\n",
      "classpath:  C:\\Users\\jye12\\anaconda\\lib\\site-packages\\rhinoMorph/lib/rhino.jar\n",
      "JVM is already started~\n",
      "RHINO started!\n",
      "input_data :  ['오늘 정말 재미있 하루']\n"
     ]
    }
   ],
   "source": [
    "import rhinoMorph as rM\n",
    "rn = rM.startRhino()\n",
    "\n",
    "# 형태소 분석\n",
    "new_input = '오늘은 정말 재미있는 하루구나!'\n",
    "inputdata = []\n",
    "morphed_input = rM.onlyMorph_list(rn, new_input , pos =['NNG', 'NNP', 'VV', 'VA', 'XR', 'IC', 'MM', 'MAG', 'MAJ'])\n",
    "morphed_input = ' '.join(morphed_input) \n",
    "\n",
    "inputdata.append(morphed_input)\n",
    "print('input_data : ', inputdata)"
   ]
  },
  {
   "cell_type": "code",
   "execution_count": 13,
   "metadata": {},
   "outputs": [
    {
     "name": "stdout",
     "output_type": "stream",
     "text": [
      "긍정적인 글\n"
     ]
    },
    {
     "name": "stderr",
     "output_type": "stream",
     "text": [
      "C:\\Users\\jye12\\anaconda\\lib\\site-packages\\ipykernel_launcher.py:4: FutureWarning: elementwise comparison failed; returning scalar instead, but in the future will perform elementwise comparison\n",
      "  after removing the cwd from sys.path.\n"
     ]
    }
   ],
   "source": [
    "X_input = vect.transform(inputdata)\n",
    "result = lr.predict(X_input)\n",
    "\n",
    "if result== '0':\n",
    "    print('부정적인 글')\n",
    "else:\n",
    "    print('긍정적인 글')"
   ]
  },
  {
   "cell_type": "code",
   "execution_count": 14,
   "metadata": {},
   "outputs": [],
   "source": [
    "from sklearn.model_selection import cross_val_score"
   ]
  },
  {
   "cell_type": "code",
   "execution_count": 15,
   "metadata": {},
   "outputs": [],
   "source": [
    "vect.fit(data_text,data_senti)\n",
    "X_train_2 = vect.transform(data_text)\n"
   ]
  },
  {
   "cell_type": "code",
   "execution_count": 16,
   "metadata": {},
   "outputs": [
    {
     "data": {
      "text/plain": [
       "0.8259363925444484"
      ]
     },
     "execution_count": 16,
     "metadata": {},
     "output_type": "execute_result"
    }
   ],
   "source": [
    "import numpy as np\n",
    "np.mean(cross_val_score(lr ,cv=10 , X=X_train_2, y=data_senti ))"
   ]
  },
  {
   "cell_type": "code",
   "execution_count": 17,
   "metadata": {},
   "outputs": [
    {
     "name": "stdout",
     "output_type": "stream",
     "text": [
      "(60000, 28, 28)\n",
      "(10000, 28, 28)\n"
     ]
    }
   ],
   "source": [
    "from tensorflow.keras.datasets import mnist\n",
    "(train_images , train_labels ) ,( test_images , test_labels) = mnist.load_data()\n",
    "\n",
    "\n",
    "print(train_images.shape)\n",
    "print(test_images.shape)"
   ]
  },
  {
   "cell_type": "code",
   "execution_count": 18,
   "metadata": {},
   "outputs": [
    {
     "name": "stdout",
     "output_type": "stream",
     "text": [
      "[[  0   0   0   0   0   0   0   0   0   0   0   0   0   0   0   0   0   0\n",
      "    0   0   0   0   0   0   0   0   0   0]\n",
      " [  0   0   0   0   0   0   0   0   0   0   0   0   0   0   0   0   0   0\n",
      "    0   0   0   0   0   0   0   0   0   0]\n",
      " [  0   0   0   0   0   0   0   0   0   0   0   0   0   0   0   0   0   0\n",
      "    0   0   0   0   0   0   0   0   0   0]\n",
      " [  0   0   0   0   0   0   0   0   0   0 116 125 171 255 255 150  93   0\n",
      "    0   0   0   0   0   0   0   0   0   0]\n",
      " [  0   0   0   0   0   0   0   0   0 169 253 253 253 253 253 253 218  30\n",
      "    0   0   0   0   0   0   0   0   0   0]\n",
      " [  0   0   0   0   0   0   0   0 169 253 253 253 213 142 176 253 253 122\n",
      "    0   0   0   0   0   0   0   0   0   0]\n",
      " [  0   0   0   0   0   0   0  52 250 253 210  32  12   0   6 206 253 140\n",
      "    0   0   0   0   0   0   0   0   0   0]\n",
      " [  0   0   0   0   0   0   0  77 251 210  25   0   0   0 122 248 253  65\n",
      "    0   0   0   0   0   0   0   0   0   0]\n",
      " [  0   0   0   0   0   0   0   0  31  18   0   0   0   0 209 253 253  65\n",
      "    0   0   0   0   0   0   0   0   0   0]\n",
      " [  0   0   0   0   0   0   0   0   0   0   0   0   0 117 247 253 198  10\n",
      "    0   0   0   0   0   0   0   0   0   0]\n",
      " [  0   0   0   0   0   0   0   0   0   0   0   0  76 247 253 231  63   0\n",
      "    0   0   0   0   0   0   0   0   0   0]\n",
      " [  0   0   0   0   0   0   0   0   0   0   0   0 128 253 253 144   0   0\n",
      "    0   0   0   0   0   0   0   0   0   0]\n",
      " [  0   0   0   0   0   0   0   0   0   0   0 176 246 253 159  12   0   0\n",
      "    0   0   0   0   0   0   0   0   0   0]\n",
      " [  0   0   0   0   0   0   0   0   0   0  25 234 253 233  35   0   0   0\n",
      "    0   0   0   0   0   0   0   0   0   0]\n",
      " [  0   0   0   0   0   0   0   0   0   0 198 253 253 141   0   0   0   0\n",
      "    0   0   0   0   0   0   0   0   0   0]\n",
      " [  0   0   0   0   0   0   0   0   0  78 248 253 189  12   0   0   0   0\n",
      "    0   0   0   0   0   0   0   0   0   0]\n",
      " [  0   0   0   0   0   0   0   0  19 200 253 253 141   0   0   0   0   0\n",
      "    0   0   0   0   0   0   0   0   0   0]\n",
      " [  0   0   0   0   0   0   0   0 134 253 253 173  12   0   0   0   0   0\n",
      "    0   0   0   0   0   0   0   0   0   0]\n",
      " [  0   0   0   0   0   0   0   0 248 253 253  25   0   0   0   0   0   0\n",
      "    0   0   0   0   0   0   0   0   0   0]\n",
      " [  0   0   0   0   0   0   0   0 248 253 253  43  20  20  20  20   5   0\n",
      "    5  20  20  37 150 150 150 147  10   0]\n",
      " [  0   0   0   0   0   0   0   0 248 253 253 253 253 253 253 253 168 143\n",
      "  166 253 253 253 253 253 253 253 123   0]\n",
      " [  0   0   0   0   0   0   0   0 174 253 253 253 253 253 253 253 253 253\n",
      "  253 253 249 247 247 169 117 117  57   0]\n",
      " [  0   0   0   0   0   0   0   0   0 118 123 123 123 166 253 253 253 155\n",
      "  123 123  41   0   0   0   0   0   0   0]\n",
      " [  0   0   0   0   0   0   0   0   0   0   0   0   0   0   0   0   0   0\n",
      "    0   0   0   0   0   0   0   0   0   0]\n",
      " [  0   0   0   0   0   0   0   0   0   0   0   0   0   0   0   0   0   0\n",
      "    0   0   0   0   0   0   0   0   0   0]\n",
      " [  0   0   0   0   0   0   0   0   0   0   0   0   0   0   0   0   0   0\n",
      "    0   0   0   0   0   0   0   0   0   0]\n",
      " [  0   0   0   0   0   0   0   0   0   0   0   0   0   0   0   0   0   0\n",
      "    0   0   0   0   0   0   0   0   0   0]\n",
      " [  0   0   0   0   0   0   0   0   0   0   0   0   0   0   0   0   0   0\n",
      "    0   0   0   0   0   0   0   0   0   0]]\n"
     ]
    }
   ],
   "source": [
    "# 첫 번째 데이터를  본다\n",
    "print(test_images[1])"
   ]
  },
  {
   "cell_type": "code",
   "execution_count": 19,
   "metadata": {},
   "outputs": [
    {
     "name": "stdout",
     "output_type": "stream",
     "text": [
      "<class 'numpy.ndarray'>\n"
     ]
    }
   ],
   "source": [
    "#출력 설정 \n",
    "# 데이터의 타입을 확인한다\n",
    "print(type(test_images))\n",
    "\n",
    "# Numpy array 하나의 행을 한 줄에서 보도록 설정\n",
    "# linewidth : 한줄에 출력할 문자의 최대수  np.inf 는 무한\n",
    "np.set_printoptions(linewidth=np.inf)"
   ]
  },
  {
   "cell_type": "code",
   "execution_count": 20,
   "metadata": {},
   "outputs": [
    {
     "name": "stdout",
     "output_type": "stream",
     "text": [
      "[[  0   0   0   0   0   0   0   0   0   0   0   0   0   0   0   0   0   0   0   0   0   0   0   0   0   0   0   0]\n",
      " [  0   0   0   0   0   0   0   0   0   0   0   0   0   0   0   0   0   0   0   0   0   0   0   0   0   0   0   0]\n",
      " [  0   0   0   0   0   0   0   0   0   0   0   0   0   0   0   0   0   0   0   0   0   0   0   0   0   0   0   0]\n",
      " [  0   0   0   0   0   0   0   0   0   0 116 125 171 255 255 150  93   0   0   0   0   0   0   0   0   0   0   0]\n",
      " [  0   0   0   0   0   0   0   0   0 169 253 253 253 253 253 253 218  30   0   0   0   0   0   0   0   0   0   0]\n",
      " [  0   0   0   0   0   0   0   0 169 253 253 253 213 142 176 253 253 122   0   0   0   0   0   0   0   0   0   0]\n",
      " [  0   0   0   0   0   0   0  52 250 253 210  32  12   0   6 206 253 140   0   0   0   0   0   0   0   0   0   0]\n",
      " [  0   0   0   0   0   0   0  77 251 210  25   0   0   0 122 248 253  65   0   0   0   0   0   0   0   0   0   0]\n",
      " [  0   0   0   0   0   0   0   0  31  18   0   0   0   0 209 253 253  65   0   0   0   0   0   0   0   0   0   0]\n",
      " [  0   0   0   0   0   0   0   0   0   0   0   0   0 117 247 253 198  10   0   0   0   0   0   0   0   0   0   0]\n",
      " [  0   0   0   0   0   0   0   0   0   0   0   0  76 247 253 231  63   0   0   0   0   0   0   0   0   0   0   0]\n",
      " [  0   0   0   0   0   0   0   0   0   0   0   0 128 253 253 144   0   0   0   0   0   0   0   0   0   0   0   0]\n",
      " [  0   0   0   0   0   0   0   0   0   0   0 176 246 253 159  12   0   0   0   0   0   0   0   0   0   0   0   0]\n",
      " [  0   0   0   0   0   0   0   0   0   0  25 234 253 233  35   0   0   0   0   0   0   0   0   0   0   0   0   0]\n",
      " [  0   0   0   0   0   0   0   0   0   0 198 253 253 141   0   0   0   0   0   0   0   0   0   0   0   0   0   0]\n",
      " [  0   0   0   0   0   0   0   0   0  78 248 253 189  12   0   0   0   0   0   0   0   0   0   0   0   0   0   0]\n",
      " [  0   0   0   0   0   0   0   0  19 200 253 253 141   0   0   0   0   0   0   0   0   0   0   0   0   0   0   0]\n",
      " [  0   0   0   0   0   0   0   0 134 253 253 173  12   0   0   0   0   0   0   0   0   0   0   0   0   0   0   0]\n",
      " [  0   0   0   0   0   0   0   0 248 253 253  25   0   0   0   0   0   0   0   0   0   0   0   0   0   0   0   0]\n",
      " [  0   0   0   0   0   0   0   0 248 253 253  43  20  20  20  20   5   0   5  20  20  37 150 150 150 147  10   0]\n",
      " [  0   0   0   0   0   0   0   0 248 253 253 253 253 253 253 253 168 143 166 253 253 253 253 253 253 253 123   0]\n",
      " [  0   0   0   0   0   0   0   0 174 253 253 253 253 253 253 253 253 253 253 253 249 247 247 169 117 117  57   0]\n",
      " [  0   0   0   0   0   0   0   0   0 118 123 123 123 166 253 253 253 155 123 123  41   0   0   0   0   0   0   0]\n",
      " [  0   0   0   0   0   0   0   0   0   0   0   0   0   0   0   0   0   0   0   0   0   0   0   0   0   0   0   0]\n",
      " [  0   0   0   0   0   0   0   0   0   0   0   0   0   0   0   0   0   0   0   0   0   0   0   0   0   0   0   0]\n",
      " [  0   0   0   0   0   0   0   0   0   0   0   0   0   0   0   0   0   0   0   0   0   0   0   0   0   0   0   0]\n",
      " [  0   0   0   0   0   0   0   0   0   0   0   0   0   0   0   0   0   0   0   0   0   0   0   0   0   0   0   0]\n",
      " [  0   0   0   0   0   0   0   0   0   0   0   0   0   0   0   0   0   0   0   0   0   0   0   0   0   0   0   0]]\n"
     ]
    },
    {
     "data": {
      "text/plain": [
       "<matplotlib.image.AxesImage at 0x21fb1ace448>"
      ]
     },
     "execution_count": 20,
     "metadata": {},
     "output_type": "execute_result"
    },
    {
     "data": {
      "image/png": "[encoded data removed]",
      "text/plain": [
       "<Figure size 432x288 with 1 Axes>"
      ]
     },
     "metadata": {
      "needs_background": "light"
     },
     "output_type": "display_data"
    }
   ],
   "source": [
    "# 재출력\n",
    "print(test_images[1])\n",
    "\n",
    "\n",
    "# 각 셀의 숫자는 0~255의 색상값이다.\n",
    "# 컬러로 출력을 해본다\n",
    "import matplotlib.pyplot as plt\n",
    "plt.imshow(test_images[1])"
   ]
  },
  {
   "cell_type": "code",
   "execution_count": null,
   "metadata": {},
   "outputs": [],
   "source": []
  }
 ],
 "metadata": {
  "kernelspec": {
   "display_name": "Python 3",
   "language": "python",
   "name": "python3"
  },
  "language_info": {
   "codemirror_mode": {
    "name": "ipython",
    "version": 3
   },
   "file_extension": ".py",
   "mimetype": "text/x-python",
   "name": "python",
   "nbconvert_exporter": "python",
   "pygments_lexer": "ipython3",
   "version": "3.7.6"
  }
 },
 "nbformat": 4,
 "nbformat_minor": 4
}
