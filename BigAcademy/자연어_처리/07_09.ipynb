{
 "cells": [
  {
   "cell_type": "markdown",
   "metadata": {},
   "source": [
    "# 자연어 처리\n",
    "## rhinoMorph \n",
    "#### startRhino() : 형태소 분석기 객체 "
   ]
  },
  {
   "cell_type": "code",
   "execution_count": 1,
   "metadata": {},
   "outputs": [
    {
     "name": "stdout",
     "output_type": "stream",
     "text": [
      "filepath:  C:\\Users\\jye12\\anaconda\\lib\\site-packages\n",
      "classpath:  C:\\Users\\jye12\\anaconda\\lib\\site-packages\\rhinoMorph/lib/rhino.jar\n",
      "RHINO started!\n"
     ]
    }
   ],
   "source": [
    "import rhinoMorph as rm\n",
    "rn = rm.startRhino()"
   ]
  },
  {
   "cell_type": "markdown",
   "metadata": {},
   "source": [
    "##### rm.onlyMorph_list : 형태소 분석 결과를 Python의 리스트로 가지고 오되, 지정된 품사의 형태 부분만 가져온다\n",
    "- rn: RHINO 객체\n",
    "- input: 입력문\n",
    "- pos: 선택할 품사. 기본값은 모든 품사\n",
    "- eomi: 어말어미 부착 여부, 기본값은 부착없이 원형 사용\n",
    "- combineN: True시 하나의 어절 내에서 연속된 NNG, NNP를 하나의 NNG로 연결한 뒤, morphs, poses 결과를 출력\n",
    "- xrVv: XR+하 형태를 동사로 변환할 것인지 여부"
   ]
  },
  {
   "cell_type": "code",
   "execution_count": 2,
   "metadata": {},
   "outputs": [
    {
     "name": "stdout",
     "output_type": "stream",
     "text": [
      "Sample data :  ['한글', '테스트', '글', '을', '남기', '어', '주', '시', '어요']\n"
     ]
    }
   ],
   "source": [
    "text = '한글테스트 글을 남겨주세요'\n",
    "sample_data = rm.onlyMorph_list(rn,text)\n",
    "print('Sample data : ',sample_data)"
   ]
  },
  {
   "cell_type": "markdown",
   "metadata": {},
   "source": [
    "### 2"
   ]
  },
  {
   "cell_type": "code",
   "execution_count": 6,
   "metadata": {},
   "outputs": [
    {
     "name": "stdout",
     "output_type": "stream",
     "text": [
      "\n",
      "1. 형태소 분석결과 :  ['한글', '테스트', '글', '을', '남기', '어', '주', '시', '어요']\n"
     ]
    }
   ],
   "source": [
    "text2 = \"한글로 된 한글텍스트를 분석하는 것은 즐겁다.\"\n",
    "text_analyzed = rm.onlyMorph_list(rn,text)\n",
    "print('\\n1. 형태소 분석결과 : ', text_analyzed)"
   ]
  },
  {
   "cell_type": "code",
   "execution_count": 14,
   "metadata": {},
   "outputs": [
    {
     "name": "stdout",
     "output_type": "stream",
     "text": [
      "\n",
      "2. 형태소 분석결과 :  ['한글', '되', '한글', '텍스트', '분석', '즐겁']\n"
     ]
    }
   ],
   "source": [
    "text_analyzed = rm.onlyMorph_list(rn, text2, pos = ['NNG','NNP','NP','VV','VA','XR',\n",
    "                                                  'IC','MM','MAG','MAJ'])\n",
    "print('\\n2. 형태소 분석결과 : ',text_analyzed)"
   ]
  },
  {
   "cell_type": "code",
   "execution_count": 8,
   "metadata": {},
   "outputs": [],
   "source": [
    "ro = rm.onlyMorph_list"
   ]
  },
  {
   "cell_type": "code",
   "execution_count": 15,
   "metadata": {},
   "outputs": [
    {
     "name": "stdout",
     "output_type": "stream",
     "text": [
      "\n",
      "3. 형태소 분석 결과 :  ['한글', '되다', '한글', '텍스트', '분석', '즐겁다']\n"
     ]
    }
   ],
   "source": [
    "text_analyzed2 = ro(rn,text2, pos = ['NNG','NNP','NP','VV','VA','XR',\n",
    "                                                  'IC','MM','MAG','MAJ'],eomi = True)\n",
    "print('\\n3. 형태소 분석 결과 : ', text_analyzed2)"
   ]
  },
  {
   "cell_type": "markdown",
   "metadata": {},
   "source": [
    "### rm.wholeResult_list() : 형태소 분석 결과를 Python의 두 개 리스트(morph, pos)로 가지고 온다.\n",
    "- rn: RHINO 객체\n",
    "- input: 입력문\n",
    "- pos: 선택할 품사. 기본값은 모든 품사\n",
    "- eomi: 어말어미 부착 여부, 기본값은 부착없이 원형 사용\n",
    "- combineN: True시 하나의 어절 내에서 연속된 NNG, NNP를 하나의 NNG로 연결한 뒤, morphs, poses 결과를 출력\n",
    "- xrVv: XR+하 형태를 동사로 변환할 것인지 여부\n",
    "\n",
    "##### return\n",
    "- morphs : 형태소\n",
    "- poses : 품사\n"
   ]
  },
  {
   "cell_type": "code",
   "execution_count": 16,
   "metadata": {},
   "outputs": [
    {
     "name": "stdout",
     "output_type": "stream",
     "text": [
      "\n",
      "4. 형태소 분석 결과 : \n",
      "morphs :  ['한글', '로', '되', 'ㄴ', '한글', '텍스트', '를', '분석', '하', '는', '것', '은', '즐겁', '다', '.']\n",
      "poses :  ['NNG', 'JKB', 'VV', 'ETM', 'NNG', 'NNG', 'JKO', 'XR', 'VX', 'ETM', 'NNB', 'JX', 'VA', 'EF', 'SF']\n"
     ]
    }
   ],
   "source": [
    "morphs, poses = rm.wholeResult_list(rn,text2)\n",
    "print('\\n4. 형태소 분석 결과 : ')\n",
    "print('morphs : ', morphs)\n",
    "print('poses : ',poses)"
   ]
  },
  {
   "cell_type": "code",
   "execution_count": 17,
   "metadata": {},
   "outputs": [
    {
     "name": "stdout",
     "output_type": "stream",
     "text": [
      "\n",
      "5. 형태소 분석결과 : \n",
      " (['한글', '테스트', '글', '을', '남기', '어', '주', '시', '어요'], ['NNG', 'NNG', 'NNG', 'JKO', 'VV', 'EC', 'VX', 'EP', 'EF'])\n"
     ]
    }
   ],
   "source": [
    "text_analyzed3 = rm.wholeResult_list(rn,text)\n",
    "print('\\n5. 형태소 분석결과 : \\n', text_analyzed3)"
   ]
  },
  {
   "cell_type": "code",
   "execution_count": 20,
   "metadata": {},
   "outputs": [
    {
     "name": "stdout",
     "output_type": "stream",
     "text": [
      "\n",
      "6. 형태소 분석결과 :  ['한글', '되', '한글텍스트', '분석', '즐겁']\n",
      "\n",
      "7. 형태소 분석 결과 : \n",
      "morphs :  ['한글', '로', '되', 'ㄴ', '한글텍스트', '를', '분석', '하', '는', '것', '은', '즐겁', '다', '.']\n",
      "poses :  ['NNG', 'JKB', 'VV', 'ETM', 'NNG', 'NNG', 'JKO', 'XR', 'VX', 'ETM', 'NNB', 'JX', 'VA', 'EF', 'SF']\n"
     ]
    }
   ],
   "source": [
    "text_analyzed4 = ro(rn, text2, pos= ['NNG','NNP','NP','VV','VA','XR','IC','MM','MAG','MAJ'], combineN= True)\n",
    "print('\\n6. 형태소 분석결과 : ', text_analyzed4)\n",
    "\n",
    "\n",
    "morphs2 , poses2 = rm.wholeResult_list(rn,text2, combineN=True) #결합명사 그대로 출력\n",
    "print('\\n7. 형태소 분석 결과 : ')\n",
    "print('morphs : ',morphs2)\n",
    "print('poses : ', poses)"
   ]
  },
  {
   "cell_type": "code",
   "execution_count": 21,
   "metadata": {},
   "outputs": [
    {
     "name": "stdout",
     "output_type": "stream",
     "text": [
      "\n",
      "8. 형태소 분석결과 :  (['사랑', '하', 'ㅂ니다'], ['XR', 'VX', 'EF'])\n",
      "\n",
      "9. 형태소 분석결과 :  (['사랑하', 'ㅂ니다'], ['VV', 'EF'])\n"
     ]
    }
   ],
   "source": [
    "text_analyzed5 = rm.wholeResult_list(rn,'사랑합니다')\n",
    "print('\\n8. 형태소 분석결과 : ', text_analyzed5)\n",
    "\n",
    "text_analyzed6 = rm.wholeResult_list(rn,'사랑합니다',xrVv=True) #어근 + 하(VX)\n",
    "print('\\n9. 형태소 분석결과 : ', text_analyzed6)"
   ]
  },
  {
   "cell_type": "code",
   "execution_count": null,
   "metadata": {},
   "outputs": [],
   "source": []
  }
 ],
 "metadata": {
  "kernelspec": {
   "display_name": "Python 3",
   "language": "python",
   "name": "python3"
  },
  "language_info": {
   "codemirror_mode": {
    "name": "ipython",
    "version": 3
   },
   "file_extension": ".py",
   "mimetype": "text/x-python",
   "name": "python",
   "nbconvert_exporter": "python",
   "pygments_lexer": "ipython3",
   "version": "3.7.6"
  }
 },
 "nbformat": 4,
 "nbformat_minor": 4
}
