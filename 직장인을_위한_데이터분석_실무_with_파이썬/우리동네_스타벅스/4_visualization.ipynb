{
 "cells": [
  {
   "cell_type": "markdown",
   "metadata": {},
   "source": [
    "### 5.3 데이터 시각화\n",
    "스타벅스 매장 위치를 지도에 시각화해 서울시 내에서 스타벅스 매장이 어떻게 분포돼 있는지, 일반 매장과, 리저브, 드라이브스루 매장 분포에 어떤 차이가 있는지 확인  \n",
    "그리고 시군구 단위로 집계한 스타벅스 매장수/인구수/사업체수를 시각화해서 이번 장 서두에 세웠던 두 가지 가설에 대한 검증을 진행해 보겠습니다."
   ]
  },
  {
   "cell_type": "markdown",
   "metadata": {},
   "source": [
    "#### 5.3.1 스타벅스 매장분포 시각화\n",
    "스타벅스 매장 데이터 에는 513개의 스타벅스 매장이 포함돼 있습니다.  \n",
    "이번 절에서는 모든 스타벅스 매장을 지도에 표시해 서울 내 스타벅스 매장이 어떻게 분포돼 있는지 확인해 보겠습니다."
   ]
  },
  {
   "cell_type": "code",
   "execution_count": 1,
   "metadata": {},
   "outputs": [],
   "source": [
    "import pandas as pd\n",
    "import folium \n",
    "import json"
   ]
  },
  {
   "cell_type": "code",
   "execution_count": null,
   "metadata": {},
   "outputs": [],
   "source": []
  }
 ],
 "metadata": {
  "kernelspec": {
   "display_name": "Python 3",
   "language": "python",
   "name": "python3"
  },
  "language_info": {
   "codemirror_mode": {
    "name": "ipython",
    "version": 3
   },
   "file_extension": ".py",
   "mimetype": "text/x-python",
   "name": "python",
   "nbconvert_exporter": "python",
   "pygments_lexer": "ipython3",
   "version": "3.7.3"
  }
 },
 "nbformat": 4,
 "nbformat_minor": 4
}
