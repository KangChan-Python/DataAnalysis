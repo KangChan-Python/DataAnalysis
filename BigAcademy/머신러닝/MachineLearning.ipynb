{
 "cells": [
  {
   "cell_type": "markdown",
   "metadata": {},
   "source": [
    "## 머신러닝\n",
    "- 기계가 학습을 하는 기술을 개발하는 분야\n",
    "- 데이터 안에서 규칙을 발견하고 그 규칙을 새로운 데이터에 적용해서 새로운 결과를 도출 => 더욱 정교한 미래 예측이 가능해짐\n",
    "\n",
    "\n",
    "## 딥러닝\n",
    "- 많은 수의 신경층을 쌓아 입력된 데이터가 여러 단계의 특징 추룰 과정을 거쳐 자동으로 고수준의 추상적인 지식을 추출하는 방식\n",
    "- 특징 추출과 특징 분류를 학습의 문제로 통합(보다 자동화된 기술)\n",
    "- 딥러닝을 통해서 신경망에 대한 관심이 다시 늘어남에 따라 머신러닝 연구에 관심을 다시 갖기 시작함\n"
   ]
  },
  {
   "cell_type": "markdown",
   "metadata": {},
   "source": [
    "#### Scikit-learn\n",
    "<img src='./img/sklearn_sheet.PNG'>"
   ]
  },
  {
   "cell_type": "markdown",
   "metadata": {},
   "source": [
    "## 예측모델 성능평가\n",
    "***\n",
    "### o Python에서 데이터셋의 분리방법 관련 모듈 \n",
    "    - train_test_split : train ,test 으로 분리\n",
    "    - stratifiedKFold : cross_validation을 사용하기 위한 모듈 Kfold 모듈과 다르게 각 fold 내 데이터의 클래스를 일정하게 유지\n",
    "    - Cross_val_score : cross valdiation 결과의 정확도를 측정하기 위한 모듈\n",
    "    "
   ]
  },
  {
   "cell_type": "code",
   "execution_count": 1,
   "metadata": {},
   "outputs": [],
   "source": [
    "from sklearn.model_selection import train_test_split\n",
    "from sklearn.model_selection import StratifiedKFold\n",
    "from sklearn.model_selection import cross_val_score"
   ]
  },
  {
   "cell_type": "markdown",
   "metadata": {},
   "source": [
    "## 모델 성능평가 척도\n",
    "***\n",
    "***o Confusion matrix*** : 모델의 성능을 통계적인 수치로 시각화하는 방법  \n",
    "***o Accuracy***  : 모델이 정확하게 분류 또는 예측하는 데이터의 비율  **==** $\\frac{TP + TN}{TP + TN + FP + FN}$  \n",
    "***o Precision*** : 모델이 예측한 데이터 중 검출된 Positive 데이터의 비율 **==** $\\frac{TP}{TP+FP}$  (모델의 관점)  \n",
    "***o Recall*** : 실제 데이터 중 모델이 검출한 Positive 데이터의 비율  **==** $\\frac{TP}{TP+FN}$  , ***민감도(sensitive)***  (실제현실의 관점)    \n",
    "***o F-Measure***  : Precision과 recall을 통합해 나타내는 정확도  **==** $\\frac{2TP}{2TP+FN+FP}$  \n",
    "***o ROC Curve***  : 민감도와 특이도의 관계를 파악할 수 있는 그래프  \n",
    "***o RMSE*** : 모델 예측값의 오차 계산***"
   ]
  },
  {
   "cell_type": "code",
   "execution_count": 2,
   "metadata": {},
   "outputs": [],
   "source": [
    "# classificationclassification_report : recall, precision, f-meausre을 측정\n",
    "from sklearn.metrics import confusion_matrix, accuracy_score, classification_report, roc_auc_score, mean_squared_error\n"
   ]
  },
  {
   "cell_type": "markdown",
   "metadata": {},
   "source": [
    "### 모델 성능평가 실습\n",
    "##### 학습/테스트 데이터 셋 분리 - train_test_split()\n",
    "- 데이터셋을 분리하지 않고 학습시 예특 정확도가 1.0인 과적합이 발생한다."
   ]
  },
  {
   "cell_type": "code",
   "execution_count": 3,
   "metadata": {},
   "outputs": [],
   "source": [
    "from sklearn.datasets import load_iris\n",
    "from sklearn.tree import DecisionTreeClassifier\n",
    "from sklearn.metrics import accuracy_score"
   ]
  },
  {
   "cell_type": "code",
   "execution_count": 26,
   "metadata": {},
   "outputs": [
    {
     "name": "stdout",
     "output_type": "stream",
     "text": [
      "예측 정확도 : 1.0\n"
     ]
    }
   ],
   "source": [
    "iris = load_iris()\n",
    "dt_clf = DecisionTreeClassifier()\n",
    "train_data =iris.data\n",
    "train_label = iris.target\n",
    "dt_clf.fit(train_data, train_label)\n",
    "\n",
    "# 학습 데이터셋 예측 수행\n",
    "\n",
    "pred = dt_clf.predict(train_data)\n",
    "print('예측 정확도 :',accuracy_score(train_label, pred))"
   ]
  },
  {
   "cell_type": "markdown",
   "metadata": {},
   "source": [
    "- train_test_split을 통한 데이터 분리를 통한 모델 적합 및 평가"
   ]
  },
  {
   "cell_type": "code",
   "execution_count": 5,
   "metadata": {},
   "outputs": [],
   "source": [
    "from sklearn.model_selection import train_test_split"
   ]
  },
  {
   "cell_type": "code",
   "execution_count": 6,
   "metadata": {},
   "outputs": [
    {
     "name": "stdout",
     "output_type": "stream",
     "text": [
      "예측 정확도  0.956\n"
     ]
    }
   ],
   "source": [
    "dt_clf2 =DecisionTreeClassifier()\n",
    "X_train , X_test, y_train, y_test =train_test_split(train_data,train_label, test_size= 0.3 , random_state =121)\n",
    "\n",
    "dt_clf2.fit(X_train, y_train)\n",
    "pred = dt_clf2.predict(X_test)\n",
    "print('예측 정확도 {0: .3f}'.format(accuracy_score(y_test,pred)))"
   ]
  },
  {
   "cell_type": "code",
   "execution_count": 8,
   "metadata": {},
   "outputs": [],
   "source": [
    "from sklearn.model_selection import KFold\n",
    "import numpy as np"
   ]
  },
  {
   "cell_type": "markdown",
   "metadata": {},
   "source": [
    "- K Fold CV ( Cross Validation)  \n",
    "        o .split() 폴드별 학습용, 검증용 테스트의 로우 인덱스를 array 반환"
   ]
  },
  {
   "cell_type": "code",
   "execution_count": 28,
   "metadata": {},
   "outputs": [
    {
     "name": "stdout",
     "output_type": "stream",
     "text": [
      "붓꽃 데이터 세트 크기 : 150\n"
     ]
    }
   ],
   "source": [
    "features = iris.data\n",
    "label = iris.target\n",
    "dt_clf = DecisionTreeClassifier(random_state=  156)\n",
    "\n",
    "kfold =KFold(n_splits=5)\n",
    "cv_accuracy = [] # Cross Validation 폴드별 결과를 누적\n",
    "print('붓꽃 데이터 세트 크기 :', features.shape[0])"
   ]
  },
  {
   "cell_type": "code",
   "execution_count": 14,
   "metadata": {},
   "outputs": [
    {
     "name": "stdout",
     "output_type": "stream",
     "text": [
      "\n",
      "#1 교차 검증 정확도 : 1.0 , 학습 데이터의 크기 : 120, 검증 데이터 크기 : 30 \n",
      "#1 검증 세트 인덱스 : [ 0  1  2  3  4  5  6  7  8  9 10 11 12 13 14 15 16 17 18 19 20 21 22 23\n",
      " 24 25 26 27 28 29] \n",
      "\n",
      "#2 교차 검증 정확도 : 0.9667 , 학습 데이터의 크기 : 120, 검증 데이터 크기 : 30 \n",
      "#2 검증 세트 인덱스 : [30 31 32 33 34 35 36 37 38 39 40 41 42 43 44 45 46 47 48 49 50 51 52 53\n",
      " 54 55 56 57 58 59] \n",
      "\n",
      "#3 교차 검증 정확도 : 0.8667 , 학습 데이터의 크기 : 120, 검증 데이터 크기 : 30 \n",
      "#3 검증 세트 인덱스 : [60 61 62 63 64 65 66 67 68 69 70 71 72 73 74 75 76 77 78 79 80 81 82 83\n",
      " 84 85 86 87 88 89] \n",
      "\n",
      "#4 교차 검증 정확도 : 0.9333 , 학습 데이터의 크기 : 120, 검증 데이터 크기 : 30 \n",
      "#4 검증 세트 인덱스 : [ 90  91  92  93  94  95  96  97  98  99 100 101 102 103 104 105 106 107\n",
      " 108 109 110 111 112 113 114 115 116 117 118 119] \n",
      "\n",
      "#5 교차 검증 정확도 : 0.7333 , 학습 데이터의 크기 : 120, 검증 데이터 크기 : 30 \n",
      "#5 검증 세트 인덱스 : [120 121 122 123 124 125 126 127 128 129 130 131 132 133 134 135 136 137\n",
      " 138 139 140 141 142 143 144 145 146 147 148 149] \n",
      "\n",
      " ## 평균 검증 정확도 :  0.9\n"
     ]
    }
   ],
   "source": [
    "n_iter =0 \n",
    "# Kfold는 성능 평가를 보기위해 해보는 것 -> 그대로 모델을 적용하겠다 X\n",
    "for train_index , test_index, in kfold.split(features):\n",
    "    # Kfold.split()으로 반환된 인덱스를 이용하여 학습용 , 검증용 데이터 추출\n",
    "    X_train, X_test = features[train_index], features[test_index]\n",
    "    y_train, y_test = label[train_index] , label[test_index]\n",
    "    #학습 및 예측\n",
    "    dt_clf.fit(X_train, y_train) # .fit 을 사용시 누적이 되지 않는다.\n",
    "    pred = dt_clf.predict(X_test)\n",
    "    n_iter += 1\n",
    "    # 반복 시 마다 정확도 측정\n",
    "    accuracy = np.round(accuracy_score(y_test ,pred),4)\n",
    "    train_size = X_train.shape[0]\n",
    "    test_size = X_test.shape[0]\n",
    "    #개별 iteration별 정확도를 합하여 평균 정확도 계산\n",
    "    print('\\n#{} 교차 검증 정확도 : {} , 학습 데이터의 크기 : {}, 검증 데이터 크기 : {} '.format(n_iter, accuracy , train_size , test_size))\n",
    "    print('#{} 검증 세트 인덱스 : {} '.format(n_iter , test_index))\n",
    "    cv_accuracy.append(accuracy)\n",
    "\n",
    "print('\\n ## 평균 검증 정확도 : ', np.mean(cv_accuracy))"
   ]
  },
  {
   "cell_type": "markdown",
   "metadata": {},
   "source": [
    "#### Pandas를 이용한 테이블 "
   ]
  },
  {
   "cell_type": "code",
   "execution_count": 17,
   "metadata": {},
   "outputs": [
    {
     "data": {
      "text/plain": [
       "2    50\n",
       "1    50\n",
       "0    50\n",
       "Name: label, dtype: int64"
      ]
     },
     "execution_count": 17,
     "metadata": {},
     "output_type": "execute_result"
    }
   ],
   "source": [
    "import pandas as pd\n",
    "\n",
    "iris_df = pd.DataFrame(data= features , columns = iris.feature_names)\n",
    "iris_df['label'] = iris.target\n",
    "iris_df['label'].value_counts()"
   ]
  },
  {
   "cell_type": "code",
   "execution_count": 21,
   "metadata": {},
   "outputs": [
    {
     "name": "stdout",
     "output_type": "stream",
     "text": [
      "## 교차 검증 1\n",
      "학습 레이블 데이터 분포 : \n",
      " 2    50\n",
      "1    50\n",
      "Name: label, dtype: int64\n",
      "검증 레이블 데이터 분포 : \n",
      " 0    50\n",
      "Name: label, dtype: int64\n",
      "## 교차 검증 2\n",
      "학습 레이블 데이터 분포 : \n",
      " 2    50\n",
      "0    50\n",
      "Name: label, dtype: int64\n",
      "검증 레이블 데이터 분포 : \n",
      " 1    50\n",
      "Name: label, dtype: int64\n",
      "## 교차 검증 3\n",
      "학습 레이블 데이터 분포 : \n",
      " 1    50\n",
      "0    50\n",
      "Name: label, dtype: int64\n",
      "검증 레이블 데이터 분포 : \n",
      " 2    50\n",
      "Name: label, dtype: int64\n"
     ]
    }
   ],
   "source": [
    "kfold = KFold(n_splits= 3)\n",
    "\n",
    "n_iter =0\n",
    "for train_index, test_index in kfold.split(iris_df):\n",
    "    n_iter +=1\n",
    "    label_train = iris_df['label'].loc[train_index]\n",
    "    label_test = iris_df['label'].loc[test_index]\n",
    "    \n",
    "    print('## 교차 검증 {}'.format(n_iter))\n",
    "    print('학습 레이블 데이터 분포 : \\n' ,label_train.value_counts())\n",
    "    print('검증 레이블 데이터 분포 : \\n' ,label_test.value_counts())"
   ]
  },
  {
   "cell_type": "markdown",
   "metadata": {},
   "source": [
    "#### StratifiedKFold를 이용한 kFold 교차검증"
   ]
  },
  {
   "cell_type": "code",
   "execution_count": 22,
   "metadata": {},
   "outputs": [
    {
     "name": "stdout",
     "output_type": "stream",
     "text": [
      "## 교차 검증 : 1 \n",
      "학습 레이블 데이터 분포 : \n",
      " 2    34\n",
      "1    33\n",
      "0    33\n",
      "Name: label, dtype: int64\n",
      "검증 레이블 데이터 분포 : \n",
      " 1    17\n",
      "0    17\n",
      "2    16\n",
      "Name: label, dtype: int64\n",
      "## 교차 검증 : 2 \n",
      "학습 레이블 데이터 분포 : \n",
      " 1    34\n",
      "2    33\n",
      "0    33\n",
      "Name: label, dtype: int64\n",
      "검증 레이블 데이터 분포 : \n",
      " 2    17\n",
      "0    17\n",
      "1    16\n",
      "Name: label, dtype: int64\n",
      "## 교차 검증 : 3 \n",
      "학습 레이블 데이터 분포 : \n",
      " 0    34\n",
      "2    33\n",
      "1    33\n",
      "Name: label, dtype: int64\n",
      "검증 레이블 데이터 분포 : \n",
      " 2    17\n",
      "1    17\n",
      "0    16\n",
      "Name: label, dtype: int64\n"
     ]
    }
   ],
   "source": [
    "from sklearn.model_selection import StratifiedKFold\n",
    "\n",
    "skf = StratifiedKFold(n_splits=3)\n",
    "n_iter= 0\n",
    "\n",
    "for train_index, test_index in skf.split(iris_df, iris_df['label']):\n",
    "    n_iter +=1\n",
    "    label_train = iris_df['label'].loc[train_index]\n",
    "    label_test = iris_df['label'].loc[test_index]\n",
    "    print('## 교차 검증 : {} '.format(n_iter))\n",
    "    print('학습 레이블 데이터 분포 : \\n' , label_train.value_counts())\n",
    "    print('검증 레이블 데이터 분포 : \\n' , label_test.value_counts())"
   ]
  },
  {
   "cell_type": "code",
   "execution_count": 30,
   "metadata": {},
   "outputs": [
    {
     "name": "stdout",
     "output_type": "stream",
     "text": [
      "##1 교차 검증 정확도 : 0.98, 학습 데이터 크기 100, 검증 데이터 크기 : 50\n",
      "#1 검증 세트 인덱스 : [  0   1   2   3   4   5   6   7   8   9  10  11  12  13  14  15  16  50\n",
      "  51  52  53  54  55  56  57  58  59  60  61  62  63  64  65  66 100 101\n",
      " 102 103 104 105 106 107 108 109 110 111 112 113 114 115] \n",
      "##2 교차 검증 정확도 : 0.94, 학습 데이터 크기 100, 검증 데이터 크기 : 50\n",
      "#2 검증 세트 인덱스 : [ 17  18  19  20  21  22  23  24  25  26  27  28  29  30  31  32  33  67\n",
      "  68  69  70  71  72  73  74  75  76  77  78  79  80  81  82 116 117 118\n",
      " 119 120 121 122 123 124 125 126 127 128 129 130 131 132] \n",
      "##3 교차 검증 정확도 : 0.98, 학습 데이터 크기 100, 검증 데이터 크기 : 50\n",
      "#3 검증 세트 인덱스 : [ 34  35  36  37  38  39  40  41  42  43  44  45  46  47  48  49  83  84\n",
      "  85  86  87  88  89  90  91  92  93  94  95  96  97  98  99 133 134 135\n",
      " 136 137 138 139 140 141 142 143 144 145 146 147 148 149] \n",
      "\n",
      " ## 교차 검증 정확도 :  [0.98 0.94 0.98]\n",
      "## 평균 검증 정확도 : 0.967\n"
     ]
    }
   ],
   "source": [
    "dt_clf = DecisionTreeClassifier(random_state=156)\n",
    "\n",
    "skfold  = StratifiedKFold(n_splits= 3)\n",
    "n_iter =0\n",
    "cv_accuracy =[]\n",
    "\n",
    "for train_index, test_index in skfold.split(features, label):\n",
    "    X_train, X_test = features[train_index] , features[test_index]\n",
    "    y_train, y_test = label[train_index], label[test_index]\n",
    "    \n",
    "    dt_clf.fit(X_train, y_train)\n",
    "    pred = dt_clf.predict(X_test)\n",
    "    \n",
    "    n_iter +=1\n",
    "    accuracy = np.round(accuracy_score(y_test,pred),4)\n",
    "    train_size = X_train.shape[0]\n",
    "    test_size = X_test.shape[0]\n",
    "    \n",
    "    print('##{} 교차 검증 정확도 : {}, 학습 데이터 크기 {}, 검증 데이터 크기 : {}'.format(n_iter, accuracy, train_size, test_size))\n",
    "    print('#{} 검증 세트 인덱스 : {} '.format(n_iter, test_index))\n",
    "    \n",
    "    cv_accuracy.append(accuracy)\n",
    "    \n",
    "print('\\n ## 교차 검증 정확도 : ', np.round(cv_accuracy, 4))\n",
    "print('## 평균 검증 정확도 : %.3f'%np.mean(cv_accuracy))"
   ]
  },
  {
   "cell_type": "markdown",
   "metadata": {},
   "source": [
    "- cross_val_score()\n",
    "        o 앞서 반복문을 사용한 교차 검증을 cross_validate함수를 통해 가능 "
   ]
  },
  {
   "cell_type": "code",
   "execution_count": 33,
   "metadata": {},
   "outputs": [
    {
     "name": "stdout",
     "output_type": "stream",
     "text": [
      " 교차 검증별 정확도 : [0.98 0.94 0.98]\n",
      " 평균 검증 정확도 :  0.9667\n"
     ]
    }
   ],
   "source": [
    "from sklearn.model_selection import cross_validate\n",
    "\n",
    "scores = cross_val_score(dt_clf, features, label, scoring = 'accuracy', cv=3)\n",
    "print(' 교차 검증별 정확도 :' , np.round(scores,4))\n",
    "print(' 평균 검증 정확도 : ', np.round(np.mean(scores),4))"
   ]
  },
  {
   "cell_type": "markdown",
   "metadata": {},
   "source": [
    "#### GridSearchCV \n",
    "    -param_grid : param의 사전 타입\n",
    "    - refit : Refit an estimator using the best found parameters on the whole dataset."
   ]
  },
  {
   "cell_type": "code",
   "execution_count": 50,
   "metadata": {},
   "outputs": [
    {
     "data": {
      "text/html": [
       "<div>\n",
       "<style scoped>\n",
       "    .dataframe tbody tr th:only-of-type {\n",
       "        vertical-align: middle;\n",
       "    }\n",
       "\n",
       "    .dataframe tbody tr th {\n",
       "        vertical-align: top;\n",
       "    }\n",
       "\n",
       "    .dataframe thead th {\n",
       "        text-align: right;\n",
       "    }\n",
       "</style>\n",
       "<table border=\"1\" class=\"dataframe\">\n",
       "  <thead>\n",
       "    <tr style=\"text-align: right;\">\n",
       "      <th></th>\n",
       "      <th>params</th>\n",
       "      <th>mean_test_score</th>\n",
       "      <th>rank_test_score</th>\n",
       "      <th>split0_test_score</th>\n",
       "      <th>split1_test_score</th>\n",
       "      <th>split2_test_score</th>\n",
       "    </tr>\n",
       "  </thead>\n",
       "  <tbody>\n",
       "    <tr>\n",
       "      <th>0</th>\n",
       "      <td>{'max_depth': 1, 'min_samples_split': 10}</td>\n",
       "      <td>0.700000</td>\n",
       "      <td>21</td>\n",
       "      <td>0.700</td>\n",
       "      <td>0.7</td>\n",
       "      <td>0.70</td>\n",
       "    </tr>\n",
       "    <tr>\n",
       "      <th>1</th>\n",
       "      <td>{'max_depth': 1, 'min_samples_split': 11}</td>\n",
       "      <td>0.700000</td>\n",
       "      <td>21</td>\n",
       "      <td>0.700</td>\n",
       "      <td>0.7</td>\n",
       "      <td>0.70</td>\n",
       "    </tr>\n",
       "    <tr>\n",
       "      <th>2</th>\n",
       "      <td>{'max_depth': 1, 'min_samples_split': 12}</td>\n",
       "      <td>0.700000</td>\n",
       "      <td>21</td>\n",
       "      <td>0.700</td>\n",
       "      <td>0.7</td>\n",
       "      <td>0.70</td>\n",
       "    </tr>\n",
       "    <tr>\n",
       "      <th>3</th>\n",
       "      <td>{'max_depth': 1, 'min_samples_split': 13}</td>\n",
       "      <td>0.700000</td>\n",
       "      <td>21</td>\n",
       "      <td>0.700</td>\n",
       "      <td>0.7</td>\n",
       "      <td>0.70</td>\n",
       "    </tr>\n",
       "    <tr>\n",
       "      <th>4</th>\n",
       "      <td>{'max_depth': 1, 'min_samples_split': 14}</td>\n",
       "      <td>0.700000</td>\n",
       "      <td>21</td>\n",
       "      <td>0.700</td>\n",
       "      <td>0.7</td>\n",
       "      <td>0.70</td>\n",
       "    </tr>\n",
       "    <tr>\n",
       "      <th>5</th>\n",
       "      <td>{'max_depth': 1, 'min_samples_split': 15}</td>\n",
       "      <td>0.700000</td>\n",
       "      <td>21</td>\n",
       "      <td>0.700</td>\n",
       "      <td>0.7</td>\n",
       "      <td>0.70</td>\n",
       "    </tr>\n",
       "    <tr>\n",
       "      <th>6</th>\n",
       "      <td>{'max_depth': 1, 'min_samples_split': 16}</td>\n",
       "      <td>0.700000</td>\n",
       "      <td>21</td>\n",
       "      <td>0.700</td>\n",
       "      <td>0.7</td>\n",
       "      <td>0.70</td>\n",
       "    </tr>\n",
       "    <tr>\n",
       "      <th>7</th>\n",
       "      <td>{'max_depth': 1, 'min_samples_split': 17}</td>\n",
       "      <td>0.700000</td>\n",
       "      <td>21</td>\n",
       "      <td>0.700</td>\n",
       "      <td>0.7</td>\n",
       "      <td>0.70</td>\n",
       "    </tr>\n",
       "    <tr>\n",
       "      <th>8</th>\n",
       "      <td>{'max_depth': 1, 'min_samples_split': 18}</td>\n",
       "      <td>0.700000</td>\n",
       "      <td>21</td>\n",
       "      <td>0.700</td>\n",
       "      <td>0.7</td>\n",
       "      <td>0.70</td>\n",
       "    </tr>\n",
       "    <tr>\n",
       "      <th>9</th>\n",
       "      <td>{'max_depth': 1, 'min_samples_split': 19}</td>\n",
       "      <td>0.700000</td>\n",
       "      <td>21</td>\n",
       "      <td>0.700</td>\n",
       "      <td>0.7</td>\n",
       "      <td>0.70</td>\n",
       "    </tr>\n",
       "    <tr>\n",
       "      <th>10</th>\n",
       "      <td>{'max_depth': 2, 'min_samples_split': 10}</td>\n",
       "      <td>0.958333</td>\n",
       "      <td>11</td>\n",
       "      <td>0.925</td>\n",
       "      <td>1.0</td>\n",
       "      <td>0.95</td>\n",
       "    </tr>\n",
       "    <tr>\n",
       "      <th>11</th>\n",
       "      <td>{'max_depth': 2, 'min_samples_split': 11}</td>\n",
       "      <td>0.958333</td>\n",
       "      <td>11</td>\n",
       "      <td>0.925</td>\n",
       "      <td>1.0</td>\n",
       "      <td>0.95</td>\n",
       "    </tr>\n",
       "    <tr>\n",
       "      <th>12</th>\n",
       "      <td>{'max_depth': 2, 'min_samples_split': 12}</td>\n",
       "      <td>0.958333</td>\n",
       "      <td>11</td>\n",
       "      <td>0.925</td>\n",
       "      <td>1.0</td>\n",
       "      <td>0.95</td>\n",
       "    </tr>\n",
       "    <tr>\n",
       "      <th>13</th>\n",
       "      <td>{'max_depth': 2, 'min_samples_split': 13}</td>\n",
       "      <td>0.958333</td>\n",
       "      <td>11</td>\n",
       "      <td>0.925</td>\n",
       "      <td>1.0</td>\n",
       "      <td>0.95</td>\n",
       "    </tr>\n",
       "    <tr>\n",
       "      <th>14</th>\n",
       "      <td>{'max_depth': 2, 'min_samples_split': 14}</td>\n",
       "      <td>0.958333</td>\n",
       "      <td>11</td>\n",
       "      <td>0.925</td>\n",
       "      <td>1.0</td>\n",
       "      <td>0.95</td>\n",
       "    </tr>\n",
       "    <tr>\n",
       "      <th>15</th>\n",
       "      <td>{'max_depth': 2, 'min_samples_split': 15}</td>\n",
       "      <td>0.958333</td>\n",
       "      <td>11</td>\n",
       "      <td>0.925</td>\n",
       "      <td>1.0</td>\n",
       "      <td>0.95</td>\n",
       "    </tr>\n",
       "    <tr>\n",
       "      <th>16</th>\n",
       "      <td>{'max_depth': 2, 'min_samples_split': 16}</td>\n",
       "      <td>0.958333</td>\n",
       "      <td>11</td>\n",
       "      <td>0.925</td>\n",
       "      <td>1.0</td>\n",
       "      <td>0.95</td>\n",
       "    </tr>\n",
       "    <tr>\n",
       "      <th>17</th>\n",
       "      <td>{'max_depth': 2, 'min_samples_split': 17}</td>\n",
       "      <td>0.958333</td>\n",
       "      <td>11</td>\n",
       "      <td>0.925</td>\n",
       "      <td>1.0</td>\n",
       "      <td>0.95</td>\n",
       "    </tr>\n",
       "    <tr>\n",
       "      <th>18</th>\n",
       "      <td>{'max_depth': 2, 'min_samples_split': 18}</td>\n",
       "      <td>0.958333</td>\n",
       "      <td>11</td>\n",
       "      <td>0.925</td>\n",
       "      <td>1.0</td>\n",
       "      <td>0.95</td>\n",
       "    </tr>\n",
       "    <tr>\n",
       "      <th>19</th>\n",
       "      <td>{'max_depth': 2, 'min_samples_split': 19}</td>\n",
       "      <td>0.958333</td>\n",
       "      <td>11</td>\n",
       "      <td>0.925</td>\n",
       "      <td>1.0</td>\n",
       "      <td>0.95</td>\n",
       "    </tr>\n",
       "    <tr>\n",
       "      <th>20</th>\n",
       "      <td>{'max_depth': 3, 'min_samples_split': 10}</td>\n",
       "      <td>0.975000</td>\n",
       "      <td>1</td>\n",
       "      <td>0.975</td>\n",
       "      <td>1.0</td>\n",
       "      <td>0.95</td>\n",
       "    </tr>\n",
       "    <tr>\n",
       "      <th>21</th>\n",
       "      <td>{'max_depth': 3, 'min_samples_split': 11}</td>\n",
       "      <td>0.975000</td>\n",
       "      <td>1</td>\n",
       "      <td>0.975</td>\n",
       "      <td>1.0</td>\n",
       "      <td>0.95</td>\n",
       "    </tr>\n",
       "    <tr>\n",
       "      <th>22</th>\n",
       "      <td>{'max_depth': 3, 'min_samples_split': 12}</td>\n",
       "      <td>0.975000</td>\n",
       "      <td>1</td>\n",
       "      <td>0.975</td>\n",
       "      <td>1.0</td>\n",
       "      <td>0.95</td>\n",
       "    </tr>\n",
       "    <tr>\n",
       "      <th>23</th>\n",
       "      <td>{'max_depth': 3, 'min_samples_split': 13}</td>\n",
       "      <td>0.975000</td>\n",
       "      <td>1</td>\n",
       "      <td>0.975</td>\n",
       "      <td>1.0</td>\n",
       "      <td>0.95</td>\n",
       "    </tr>\n",
       "    <tr>\n",
       "      <th>24</th>\n",
       "      <td>{'max_depth': 3, 'min_samples_split': 14}</td>\n",
       "      <td>0.975000</td>\n",
       "      <td>1</td>\n",
       "      <td>0.975</td>\n",
       "      <td>1.0</td>\n",
       "      <td>0.95</td>\n",
       "    </tr>\n",
       "    <tr>\n",
       "      <th>25</th>\n",
       "      <td>{'max_depth': 3, 'min_samples_split': 15}</td>\n",
       "      <td>0.975000</td>\n",
       "      <td>1</td>\n",
       "      <td>0.975</td>\n",
       "      <td>1.0</td>\n",
       "      <td>0.95</td>\n",
       "    </tr>\n",
       "    <tr>\n",
       "      <th>26</th>\n",
       "      <td>{'max_depth': 3, 'min_samples_split': 16}</td>\n",
       "      <td>0.975000</td>\n",
       "      <td>1</td>\n",
       "      <td>0.975</td>\n",
       "      <td>1.0</td>\n",
       "      <td>0.95</td>\n",
       "    </tr>\n",
       "    <tr>\n",
       "      <th>27</th>\n",
       "      <td>{'max_depth': 3, 'min_samples_split': 17}</td>\n",
       "      <td>0.975000</td>\n",
       "      <td>1</td>\n",
       "      <td>0.975</td>\n",
       "      <td>1.0</td>\n",
       "      <td>0.95</td>\n",
       "    </tr>\n",
       "    <tr>\n",
       "      <th>28</th>\n",
       "      <td>{'max_depth': 3, 'min_samples_split': 18}</td>\n",
       "      <td>0.975000</td>\n",
       "      <td>1</td>\n",
       "      <td>0.975</td>\n",
       "      <td>1.0</td>\n",
       "      <td>0.95</td>\n",
       "    </tr>\n",
       "    <tr>\n",
       "      <th>29</th>\n",
       "      <td>{'max_depth': 3, 'min_samples_split': 19}</td>\n",
       "      <td>0.975000</td>\n",
       "      <td>1</td>\n",
       "      <td>0.975</td>\n",
       "      <td>1.0</td>\n",
       "      <td>0.95</td>\n",
       "    </tr>\n",
       "  </tbody>\n",
       "</table>\n",
       "</div>"
      ],
      "text/plain": [
       "                                       params  mean_test_score  \\\n",
       "0   {'max_depth': 1, 'min_samples_split': 10}         0.700000   \n",
       "1   {'max_depth': 1, 'min_samples_split': 11}         0.700000   \n",
       "2   {'max_depth': 1, 'min_samples_split': 12}         0.700000   \n",
       "3   {'max_depth': 1, 'min_samples_split': 13}         0.700000   \n",
       "4   {'max_depth': 1, 'min_samples_split': 14}         0.700000   \n",
       "5   {'max_depth': 1, 'min_samples_split': 15}         0.700000   \n",
       "6   {'max_depth': 1, 'min_samples_split': 16}         0.700000   \n",
       "7   {'max_depth': 1, 'min_samples_split': 17}         0.700000   \n",
       "8   {'max_depth': 1, 'min_samples_split': 18}         0.700000   \n",
       "9   {'max_depth': 1, 'min_samples_split': 19}         0.700000   \n",
       "10  {'max_depth': 2, 'min_samples_split': 10}         0.958333   \n",
       "11  {'max_depth': 2, 'min_samples_split': 11}         0.958333   \n",
       "12  {'max_depth': 2, 'min_samples_split': 12}         0.958333   \n",
       "13  {'max_depth': 2, 'min_samples_split': 13}         0.958333   \n",
       "14  {'max_depth': 2, 'min_samples_split': 14}         0.958333   \n",
       "15  {'max_depth': 2, 'min_samples_split': 15}         0.958333   \n",
       "16  {'max_depth': 2, 'min_samples_split': 16}         0.958333   \n",
       "17  {'max_depth': 2, 'min_samples_split': 17}         0.958333   \n",
       "18  {'max_depth': 2, 'min_samples_split': 18}         0.958333   \n",
       "19  {'max_depth': 2, 'min_samples_split': 19}         0.958333   \n",
       "20  {'max_depth': 3, 'min_samples_split': 10}         0.975000   \n",
       "21  {'max_depth': 3, 'min_samples_split': 11}         0.975000   \n",
       "22  {'max_depth': 3, 'min_samples_split': 12}         0.975000   \n",
       "23  {'max_depth': 3, 'min_samples_split': 13}         0.975000   \n",
       "24  {'max_depth': 3, 'min_samples_split': 14}         0.975000   \n",
       "25  {'max_depth': 3, 'min_samples_split': 15}         0.975000   \n",
       "26  {'max_depth': 3, 'min_samples_split': 16}         0.975000   \n",
       "27  {'max_depth': 3, 'min_samples_split': 17}         0.975000   \n",
       "28  {'max_depth': 3, 'min_samples_split': 18}         0.975000   \n",
       "29  {'max_depth': 3, 'min_samples_split': 19}         0.975000   \n",
       "\n",
       "    rank_test_score  split0_test_score  split1_test_score  split2_test_score  \n",
       "0                21              0.700                0.7               0.70  \n",
       "1                21              0.700                0.7               0.70  \n",
       "2                21              0.700                0.7               0.70  \n",
       "3                21              0.700                0.7               0.70  \n",
       "4                21              0.700                0.7               0.70  \n",
       "5                21              0.700                0.7               0.70  \n",
       "6                21              0.700                0.7               0.70  \n",
       "7                21              0.700                0.7               0.70  \n",
       "8                21              0.700                0.7               0.70  \n",
       "9                21              0.700                0.7               0.70  \n",
       "10               11              0.925                1.0               0.95  \n",
       "11               11              0.925                1.0               0.95  \n",
       "12               11              0.925                1.0               0.95  \n",
       "13               11              0.925                1.0               0.95  \n",
       "14               11              0.925                1.0               0.95  \n",
       "15               11              0.925                1.0               0.95  \n",
       "16               11              0.925                1.0               0.95  \n",
       "17               11              0.925                1.0               0.95  \n",
       "18               11              0.925                1.0               0.95  \n",
       "19               11              0.925                1.0               0.95  \n",
       "20                1              0.975                1.0               0.95  \n",
       "21                1              0.975                1.0               0.95  \n",
       "22                1              0.975                1.0               0.95  \n",
       "23                1              0.975                1.0               0.95  \n",
       "24                1              0.975                1.0               0.95  \n",
       "25                1              0.975                1.0               0.95  \n",
       "26                1              0.975                1.0               0.95  \n",
       "27                1              0.975                1.0               0.95  \n",
       "28                1              0.975                1.0               0.95  \n",
       "29                1              0.975                1.0               0.95  "
      ]
     },
     "execution_count": 50,
     "metadata": {},
     "output_type": "execute_result"
    }
   ],
   "source": [
    "from sklearn.model_selection import GridSearchCV\n",
    "\n",
    "para_meter = {'max_depth': [1,2,3] , 'min_samples_split':[i for i in range(10,20)]} # 조합해보고 싶은 parameter를 모두 넣는다. 단, Dictionary 타입으로\n",
    "\n",
    "grid_dtree = GridSearchCV(dt_clf, param_grid=para_meter , cv= 3, refit =True)\n",
    "iris = load_iris()\n",
    "X_train, X_test, y_train, y_test = train_test_split(iris.data , iris.target , test_size=0.2, random_state =121)\n",
    "\n",
    "grid_dtree.fit(X_train, y_train)\n",
    "\n",
    "score_df = pd.DataFrame(grid_dtree.cv_results_)\n",
    "score_df[['params', 'mean_test_score','rank_test_score','split0_test_score', 'split1_test_score','split2_test_score']]"
   ]
  },
  {
   "cell_type": "code",
   "execution_count": 43,
   "metadata": {},
   "outputs": [
    {
     "data": {
      "text/plain": [
       "{'max_depth': 3, 'min_samples_split': 2}"
      ]
     },
     "execution_count": 43,
     "metadata": {},
     "output_type": "execute_result"
    }
   ],
   "source": [
    "grid_dtree.best_params_"
   ]
  },
  {
   "cell_type": "markdown",
   "metadata": {},
   "source": [
    "- refit으로 인해 최고 성능의 모델이 반환된 상태\n",
    "        o model.best_estimator_"
   ]
  },
  {
   "cell_type": "code",
   "execution_count": 49,
   "metadata": {},
   "outputs": [
    {
     "name": "stdout",
     "output_type": "stream",
     "text": [
      "테스트 데이터 세트 정확도 : 0.9667 \n"
     ]
    }
   ],
   "source": [
    "estimator = grid_dtree.best_estimator_\n",
    "\n",
    "pred = estimator.predict(X_test)\n",
    "print('테스트 데이터 세트 정확도 : {0:.4f} '.format(accuracy_score(pred,y_test)))"
   ]
  },
  {
   "cell_type": "markdown",
   "metadata": {},
   "source": [
    "- DecisionTreeClassifier() 파라미터\n",
    "        o mat_depth : 과적합을 방지하기 위한 최대 깊이를 규제하기 위한 파라미터\n",
    "        o min_samples_split : 각 분할에 대한 최소 표본 수"
   ]
  },
  {
   "cell_type": "code",
   "execution_count": null,
   "metadata": {},
   "outputs": [],
   "source": []
  }
 ],
 "metadata": {
  "kernelspec": {
   "display_name": "Python 3",
   "language": "python",
   "name": "python3"
  },
  "language_info": {
   "codemirror_mode": {
    "name": "ipython",
    "version": 3
   },
   "file_extension": ".py",
   "mimetype": "text/x-python",
   "name": "python",
   "nbconvert_exporter": "python",
   "pygments_lexer": "ipython3",
   "version": "3.7.6"
  }
 },
 "nbformat": 4,
 "nbformat_minor": 4
}
