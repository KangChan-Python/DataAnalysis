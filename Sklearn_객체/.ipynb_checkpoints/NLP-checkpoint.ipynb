{
 "cells": [
  {
   "cell_type": "markdown",
   "metadata": {},
   "source": [
    "# 감정분석\n",
    "\n",
    "## from sklearn.feature_extraction.text import TfidfTransformer\n",
    "\n",
    "### ★ TfidfTransformer\n",
    "\n",
    "- norm : {'l1', 'l2'}, default='l2'  \n",
    "        Each output row will have unit norm, either:  \n",
    "        * 'l2': 벡터 원소의 제곱합은 1이다. (단위 벡터)\n",
    "        norm이 l2 일때, 두개의 벡터의 코사인 유사도는 두 벡터의 내적이다\n",
    "        (The cosine similarity between two vectors is their dot product when l2 norm has been applied.)\n",
    "            코사인 유사도(cosine similarity)는 내적공간의 두 벡터간 각도의 코사인값을 이용하여 측정된 벡터간의 유사한 정도를 의미한다. \n",
    "        \n",
    "        * 'l1' : 벡터 원소의 절대값의 합은 1이다.\n",
    "        See :func:`preprocessing.normalize`  \n",
    "\n",
    "- use_idf : bool, default=True  \n",
    "        역-문서-주파수 재가중 사용.\n",
    "        (Enable inverse-document-frequency reweighting.)  \n",
    "\n",
    "- smooth_idf : bool, default=True  \n",
    "        df 값에 1을 더해 DividebyZero를 방지 \n",
    "        (Smooth idf weights by adding one to document frequencies, as if an  \n",
    "        extra document was seen containing every term in the collection  \n",
    "        exactly once. Prevents zero divisions.)\n",
    "\n",
    "- sublinear_tf : bool, default=False\n",
    "        스케일 조정 적용 ex) tf -> 1 + log(tf)\n",
    "        Apply sublinear tf scaling, i.e. replace tf with 1 + log(tf).\n",
    "\n",
    "#### Attributes\n",
    "- idf_ : array of shape (n_features)\n",
    "        The inverse document frequency (IDF) vector; only defined\n",
    "        if  ``use_idf`` is True."
   ]
  },
  {
   "cell_type": "code",
   "execution_count": null,
   "metadata": {},
   "outputs": [],
   "source": []
  },
  {
   "cell_type": "code",
   "execution_count": null,
   "metadata": {},
   "outputs": [],
   "source": []
  }
 ],
 "metadata": {
  "kernelspec": {
   "display_name": "Python 3",
   "language": "python",
   "name": "python3"
  },
  "language_info": {
   "codemirror_mode": {
    "name": "ipython",
    "version": 3
   },
   "file_extension": ".py",
   "mimetype": "text/x-python",
   "name": "python",
   "nbconvert_exporter": "python",
   "pygments_lexer": "ipython3",
   "version": "3.7.6"
  }
 },
 "nbformat": 4,
 "nbformat_minor": 4
}
