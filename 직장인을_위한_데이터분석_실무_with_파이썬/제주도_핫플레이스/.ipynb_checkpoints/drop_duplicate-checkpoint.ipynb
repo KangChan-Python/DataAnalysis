{
 "cells": [
  {
   "cell_type": "markdown",
   "metadata": {},
   "source": [
    "### 4.1.8 여러 엑셀 파일의 중복을 제거한 후 통합 저장 "
   ]
  },
  {
   "cell_type": "code",
   "execution_count": 2,
   "metadata": {},
   "outputs": [],
   "source": [
    "import pandas as pd"
   ]
  },
  {
   "cell_type": "code",
   "execution_count": 5,
   "metadata": {},
   "outputs": [
    {
     "name": "stdout",
     "output_type": "stream",
     "text": [
      " C 드라이브의 볼륨에는 이름이 없습니다.\n",
      " 볼륨 일련 번호: FA01-204A\n",
      "\n",
      " C:\\Users\\Kang\\Data\\직장인을_위한_데이터분석_실무_with_파이썬\\제주도_핫플레이스\\files 디렉터리\n",
      "\n",
      "2020-03-30  오후 10:41    <DIR>          .\n",
      "2020-03-30  오후 10:41    <DIR>          ..\n",
      "2020-03-30  오후 10:41            18,025 jejudoGwanGwang.xlsx\n",
      "2020-03-30  오후 09:01            78,035 jejudoMatJip.xlsx\n",
      "2020-03-30  오후 10:07            85,043 jejudoYeoHang.xlsx\n",
      "               3개 파일             181,103 바이트\n",
      "               2개 디렉터리  139,693,948,928 바이트 남음\n"
     ]
    }
   ],
   "source": [
    "!dir files"
   ]
  },
  {
   "cell_type": "code",
   "execution_count": 11,
   "metadata": {},
   "outputs": [
    {
     "name": "stdout",
     "output_type": "stream",
     "text": [
      "     Unnamed: 0  content        date like              place tags\n",
      "0             0      NaN  2020-03-27  222                NaN   []\n",
      "1             1      NaN  2020-01-10  484             카멜리아 힐   []\n",
      "2             2      NaN  2020-01-29  459             윈드1947   []\n",
      "3             3      NaN  2019-08-16  325         휴애리 자연생활공원   []\n",
      "4             4      NaN  2019-07-18  391                NaN   []\n",
      "..          ...      ...         ...  ...                ...  ...\n",
      "474         474      NaN  2020-02-10  602              유우스테이   []\n",
      "475         475      NaN  2020-02-09  125   Jeju Aqua Planet   []\n",
      "476         476      NaN  2020-02-09    2                NaN   []\n",
      "477         477      NaN  2020-02-09   24  환상의 섬 Jeju Island   []\n",
      "478         478      NaN  2020-02-09   16                닭머르   []\n",
      "\n",
      "[479 rows x 6 columns]\n",
      "     Unnamed: 0                                            content  \\\n",
      "0             0  ☆☆☆애월하미 오픈특가 이벤트☆☆☆맛있는 광어회를 저렴한 가격으로 즐길수 있는 기회...   \n",
      "1             1                                 이 집 햇살 잘하네 ✨ #햇살맛집   \n",
      "2             2  2인분 남았습니다🤗오늘은 저희가 2인분 먹어야겠네요🤗이것이 제주도 음식입니다제주에 ...   \n",
      "3             3  이렇게 파도 소리 들으며 가만히 누워만 있어도  큰 힐링인데 맛있는 음료나 음식이 ...   \n",
      "4             4  음식 뒤로 #성산일출봉 보이시나요?거기에 바다뷰까지 환상적인 뷰맛집제주에서 성산일출...   \n",
      "..          ...                                                ...   \n",
      "476         476  소고기드시러 오세요오~~..연동1906-3..064)747-0092..#숙성한우 #...   \n",
      "477         477  제주도 와서 첫날 제대로 먹방. 지인추천으로 기대 잔득 하고 갔는데 너무 맛있음.....   \n",
      "478         478  흑돼지+딱새우.....♥.너무 맛있어서 둘이서 1Kg 잡수고옴.. #정직한돈 사랑합...   \n",
      "479         479  브레이크타임 없대서 달려옴 귀여운 간판이 우릴 반겼던곳 #jmtgr#좋아요#인스타그...   \n",
      "480         480  주방이 오픈되어 있어서 메뉴 기다리면서 음식하는거 구경하다보니 요리가 나와버렸넹ㅎㅎ...   \n",
      "\n",
      "           date   like    place  \\\n",
      "0    2020-03-30    112     애월하미   \n",
      "1    2020-03-29  5,280     영국찻집   \n",
      "2    2020-03-30    318     Jeju   \n",
      "3    2020-03-30    192  마가리따은혜씨   \n",
      "4    2020-03-29    293  마가리따은혜씨   \n",
      "..          ...    ...      ...   \n",
      "476  2020-03-30      7    제주육대표   \n",
      "477  2020-03-30      1      NaN   \n",
      "478  2020-03-30      1      NaN   \n",
      "479  2020-03-30      9      NaN   \n",
      "480  2020-03-30      1      NaN   \n",
      "\n",
      "                                                  tags  \n",
      "0    ['#제주통갈치조림', '#제주통갈치구이', '#제주갈치조림', '#제주갈치조림맛집...  \n",
      "1                                            ['#햇살맛집']  \n",
      "2    ['#애월제주다📍제주시', '#애월맛집', '#애월맛집인정', '#애월해안도로맛집'...  \n",
      "3    ['#마가리따은혜씨수제버거ㆍ감바스ㆍ빠에야ㆍ엔칠라다', '#성산맛집', '#성산카페'...  \n",
      "4    ['#성산일출봉', '#마가리따은혜씨Happy', '#제주도여행', '#성산일출봉맛...  \n",
      "..                                                 ...  \n",
      "476  ['#숙성한우', '#흑돼지맛집', '#제주맛집', '#연동흑돼지', '#연동한우'...  \n",
      "477  ['#인생맛집', '#정징한돈......', '#제주애월맛집', '#협재맛집', '...  \n",
      "478  ['#정직한돈', '#협재맛집', '#인스타푸드', '#애월맛집', '#애월맛집추천...  \n",
      "479  ['#jmtgr', '#좋아요', '#인스타그램', '#like4likes', '#...  \n",
      "480                                                 []  \n",
      "\n",
      "[481 rows x 6 columns]\n",
      "     Unnamed: 0                                            content  \\\n",
      "0             0  #malgm_film.눈부시게 빛나던 날🌸...비가 온다던 일기예보가,'한때흐림'으...   \n",
      "1             1                       #그날의기억방법 제주가 주는 아름다운 봄날의 선물🌸   \n",
      "2             2  .🌅해 뜨기 전 집을 나서면 만날 수 있는 다채로운 색들을 사랑해🥰 보고있으면 행복...   \n",
      "3             3  가시리 녹산로 유채꽃프라자#제주올레스타그램 #제주도 #제주도여행 #제주도트레킹 #제...   \n",
      "4             4                           맘편히 꽃놀이 갈 수 있는 그날을 기다리며🌸   \n",
      "..          ...                                                ...   \n",
      "478         478  *지난 가을 제주도Last autumn Jeju island -요즘따라 많이 생각나...   \n",
      "479         479                                   케이스주문은 프로필링크 클릭!   \n",
      "480         480                                           이게 행복일까❔   \n",
      "481         481                    🌱🌱🌱나는 바다보다 들판을선호하는편🙋‍♀️..#제주도여행   \n",
      "482         482                                   케이스주문은 프로필링크 클릭!   \n",
      "\n",
      "           date   like                             place  \\\n",
      "0    2020-03-29  1,497                               삼성혈   \n",
      "1    2020-03-29  3,415                           Jeju-do   \n",
      "2    2020-03-29  2,352  성산일출봉 城山日出峰  Seongsan Ilchulbong   \n",
      "3    2020-03-29    429                            가시리 꽃길   \n",
      "4    2020-03-29    278                           Jeju-do   \n",
      "..          ...    ...                               ...   \n",
      "478  2020-03-30     48                              Jeju   \n",
      "479  2020-03-30      2                               NaN   \n",
      "480  2020-03-30    213                              Jeju   \n",
      "481  2020-03-30     15                               NaN   \n",
      "482  2020-03-30      2                               NaN   \n",
      "\n",
      "                                                  tags  \n",
      "0    ['#malgm_film.눈부시게', '#제주도', '#제주', '#jeju', '...  \n",
      "1                                         ['#그날의기억방법']  \n",
      "2                   ['#여행하는달콤양', '#셀프샷', '#사진으로떠나는여행']  \n",
      "3    ['#제주올레스타그램', '#제주도', '#제주도여행', '#제주도트레킹', '#제...  \n",
      "4                                                   []  \n",
      "..                                                 ...  \n",
      "478  ['#꽃', '#flower', '#花', '#flores', '#fleur', '...  \n",
      "479                                                 []  \n",
      "480                                                 []  \n",
      "481                                         ['#제주도여행']  \n",
      "482                                                 []  \n",
      "\n",
      "[483 rows x 6 columns]\n"
     ]
    },
    {
     "data": {
      "text/html": [
       "<div>\n",
       "<style scoped>\n",
       "    .dataframe tbody tr th:only-of-type {\n",
       "        vertical-align: middle;\n",
       "    }\n",
       "\n",
       "    .dataframe tbody tr th {\n",
       "        vertical-align: top;\n",
       "    }\n",
       "\n",
       "    .dataframe thead th {\n",
       "        text-align: right;\n",
       "    }\n",
       "</style>\n",
       "<table border=\"1\" class=\"dataframe\">\n",
       "  <thead>\n",
       "    <tr style=\"text-align: right;\">\n",
       "      <th></th>\n",
       "    </tr>\n",
       "  </thead>\n",
       "  <tbody>\n",
       "  </tbody>\n",
       "</table>\n",
       "</div>"
      ],
      "text/plain": [
       "Empty DataFrame\n",
       "Columns: []\n",
       "Index: []"
      ]
     },
     "execution_count": 11,
     "metadata": {},
     "output_type": "execute_result"
    }
   ],
   "source": [
    "jeju_insta_df = pd.DataFrame([])\n",
    "\n",
    "folder = './files/'\n",
    "f_list = ['jejudoGwanGwang.xlsx','jejudoMatJip.xlsx','jejudoYeoHang.xlsx']\n",
    "for fname in f_list:\n",
    "    fpath =folder + fname\n",
    "    temp = pd.read_excel(fpath)\n",
    "    print(temp)\n",
    "    jeju_insta_df.append(temp)\n",
    "\n",
    "jeju_insta_df\n"
   ]
  },
  {
   "cell_type": "code",
   "execution_count": null,
   "metadata": {},
   "outputs": [],
   "source": []
  }
 ],
 "metadata": {
  "kernelspec": {
   "display_name": "Python 3",
   "language": "python",
   "name": "python3"
  },
  "language_info": {
   "codemirror_mode": {
    "name": "ipython",
    "version": 3
   },
   "file_extension": ".py",
   "mimetype": "text/x-python",
   "name": "python",
   "nbconvert_exporter": "python",
   "pygments_lexer": "ipython3",
   "version": "3.7.6"
  }
 },
 "nbformat": 4,
 "nbformat_minor": 4
}
