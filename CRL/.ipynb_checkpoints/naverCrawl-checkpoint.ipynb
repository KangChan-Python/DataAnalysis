{
 "cells": [
  {
   "cell_type": "markdown",
   "metadata": {},
   "source": [
    "# 네이버 블로그 크롤링 \n",
    "\n",
    "    o 네이버 블로그는 한번에 1000건이 제한됨\n",
    "    o 기간 설정을 한 후 512건 검색 후에도 451건 후부터 반복 시작\n",
    "    o 기간을 하루만 설정해보자\n",
    "        마지막 페이지는 볼수 없음\n",
    "        대략 한자리수의 데이터 로스 -> 최선이라고 판단\n",
    "    https://search.naver.com/search.naver?date_from={시작 날짜}&date_option=8&date_to={마지막 날짜 }&post_blogurl=&post_blogurl_without=&query={검색어}&sm=tab_pge&srchby=all&st=date&where=post&start=1\n",
    "    \n",
    "    "
   ]
  },
  {
   "cell_type": "code",
   "execution_count": 1,
   "metadata": {},
   "outputs": [],
   "source": [
    "from bs4 import BeautifulSoup"
   ]
  },
  {
   "cell_type": "code",
   "execution_count": 11,
   "metadata": {},
   "outputs": [],
   "source": [
    "import scrapy"
   ]
  },
  {
   "cell_type": "code",
   "execution_count": 2,
   "metadata": {},
   "outputs": [],
   "source": [
    "import pandas as pd"
   ]
  },
  {
   "cell_type": "code",
   "execution_count": 15,
   "metadata": {},
   "outputs": [],
   "source": [
    "df =pd.read_csv('C:\\\\Users\\\\jye12\\\\Python\\\\DataAnalysis\\\\CRL\\\\Scrapy\\\\scrapyproject\\\\naverBlog\\\\naverBlog/naverBlog.csv')"
   ]
  },
  {
   "cell_type": "code",
   "execution_count": 16,
   "metadata": {},
   "outputs": [],
   "source": [
    "df['context'] = df['context'].map(lambda x : x.strip())"
   ]
  },
  {
   "cell_type": "code",
   "execution_count": 17,
   "metadata": {},
   "outputs": [
    {
     "name": "stdout",
     "output_type": "stream",
     "text": [
      "통영에 놀러가면 꼭 가야하는곳 통영맛집 통영해물가 \n",
      "\n",
      "통영에 놀러가면 꼭 가야하는곳 통영맛집 통영해물가  안녕하세요  오늘처럼 비가 오는 날에 따뜻한 국물이 먹고 싶네요 저희 집이 고층이라서 문을 열면   많이 추워요 그래서 따뜻 한 국물이 생각나는데  저번에 통영 나들이 갈때 먹은 음식이 생각이 나서 포스팅 할까 합니다 통영  해물가  자리가 생각보다 마니없어서 코로나 때문에 조심할수 있어서 좋은거 같아요 해물탕이에요  해물이 한가득 들어가서 너무 좋았어요  그럼 국물도 시원하고  술안주로  좋은데 술은 패스 했죠  석화랑 회도 먹었어요  알고 봤는데 티비에도 나오고 연예인들이 많이 와서 먹고 갔어요 튀김도 바삭바삭하고 간장소스도 맛난고  밑반찬도 맛있어서 좋아요 ~~^^ 경남 통영시 통영해안로 377 ​ 여러분도 통영 나들이가셔서 해물가. 가보세요 ~~^^\n",
      "https://blog.naver.com/PostView.nhn?blogId=soulhsm&logNo=222028592502&from=search&redirect=Log&widgetTypeCall=true&topReferer=https%3A%2F%2Fsearch.naver.com%2Fsearch.naver%3Fwhere%3Dpost%26query%3D%25ED%2586%25B5%25EC%2598%2581%2520%25EB%25A7%259B%25EC%25A7%2591%2520-%25EC%259E%25A5%25EB%25A1%2580%25EC%258B%259D%25EC%259E%25A5%2520-%25EA%25B2%25BD%25EC%25A3%25BC%2520-%25EB%25B6%2580%25EC%2582%25B0%2520-%25EC%25B0%25BD%25EC%259B%2590%25EC%25B9%2598%25ED%2582%25A8%2520-%25EC%25A3%25BC%25EB%25AC%25B8%25EB%25AC%25B8%25EC%259D%2598%2520-%25EA%25B0%2595%25EC%259B%2590%25EB%258F%2584%26st%3Dsim%26sm%3Dtab_opt%26date_from%3D20200712%26date_to%3D20200712%26date_option%3D8%26srchby%3Dall%26dup_remove%3D1%26post_blogurl%3D%26post_blogurl_without%3D%26nso%3Dso%253Ar%252Ca%253Aall%252Cp%253Afrom20200712to20200712%26where%3Dpost%26start%3D81&directAccess=True\n",
      "\n",
      "https://search.naver.com/search.naver?where=post&query=%ED%86%B5%EC%98%81%20%EB%A7%9B%EC%A7%91%20-%EC%9E%A5%EB%A1%80%EC%8B%9D%EC%9E%A5%20-%EA%B2%BD%EC%A3%BC%20-%EB%B6%80%EC%82%B0%20-%EC%B0%BD%EC%9B%90%EC%B9%98%ED%82%A8%20-%EC%A3%BC%EB%AC%B8%EB%AC%B8%EC%9D%98%20-%EA%B0%95%EC%9B%90%EB%8F%84&st=sim&sm=tab_opt&date_from=20200712&date_to=20200712&date_option=8&srchby=all&dup_remove=1&post_blogurl=&post_blogurl_without=&nso=so%3Ar%2Ca%3Aall%2Cp%3Afrom20200712to20200712&where=post&start=81\n",
      "\n",
      "7\n",
      "----------------------------------------------------------------------------------------------------\n",
      "\n",
      "                            \n",
      "\n",
      "이 건물에 횟집은 2군데 있고 3층은 한정식이네?? 궁금하네?? 통영맛집 허경환도 왔다 갔네요 해원횟집 골뱅이하고 맛이 비슷해서 술이 절로 생각나게 하는 일행은 징그럽다며 혀를 내두르는데 저는 없어서 못 먹죠. ㅠㅠ 통영맛집 느꼈어요. 야들야들하면서 기분 나쁘게 해원횟집 들기도 하는데 너무 맛있어서 먹는 것을 멈출 수가 없어요. 통영맛집 비가 왔던 어제 날씨가 무색하게 너무나도 쨍쩅하고 맑은 하늘 ~ 해원횟집 다음에 또 만나요.\n",
      "https://blog.naver.com/PostView.nhn?blogId=chauncy_federicogas&logNo=222028242796&from=search&redirect=Log&widgetTypeCall=true&topReferer=https%3A%2F%2Fsearch.naver.com%2Fsearch.naver%3Fwhere%3Dpost%26query%3D%25ED%2586%25B5%25EC%2598%2581%2520%25EB%25A7%259B%25EC%25A7%2591%2520-%25EC%259E%25A5%25EB%25A1%2580%25EC%258B%259D%25EC%259E%25A5%2520-%25EA%25B2%25BD%25EC%25A3%25BC%2520-%25EB%25B6%2580%25EC%2582%25B0%2520-%25EC%25B0%25BD%25EC%259B%2590%25EC%25B9%2598%25ED%2582%25A8%2520-%25EC%25A3%25BC%25EB%25AC%25B8%25EB%25AC%25B8%25EC%259D%2598%2520-%25EA%25B0%2595%25EC%259B%2590%25EB%258F%2584%26st%3Dsim%26sm%3Dtab_opt%26date_from%3D20200712%26date_to%3D20200712%26date_option%3D8%26srchby%3Dall%26dup_remove%3D1%26post_blogurl%3D%26post_blogurl_without%3D%26nso%3Dso%253Ar%252Ca%253Aall%252Cp%253Afrom20200712to20200712%26where%3Dpost%26start%3D81&directAccess=True\n",
      "\n",
      "https://search.naver.com/search.naver?where=post&query=%ED%86%B5%EC%98%81%20%EB%A7%9B%EC%A7%91%20-%EC%9E%A5%EB%A1%80%EC%8B%9D%EC%9E%A5%20-%EA%B2%BD%EC%A3%BC%20-%EB%B6%80%EC%82%B0%20-%EC%B0%BD%EC%9B%90%EC%B9%98%ED%82%A8%20-%EC%A3%BC%EB%AC%B8%EB%AC%B8%EC%9D%98%20-%EA%B0%95%EC%9B%90%EB%8F%84&st=sim&sm=tab_opt&date_from=20200712&date_to=20200712&date_option=8&srchby=all&dup_remove=1&post_blogurl=&post_blogurl_without=&nso=so%3Ar%2Ca%3Aall%2Cp%3Afrom20200712to20200712&where=post&start=81\n",
      "\n",
      "1\n",
      "----------------------------------------------------------------------------------------------------\n",
      "통영맛집추천 제철회로 입이 즐거운 통영불곰횟집\n",
      "\n",
      "주말 친구생일이라 통영 나들이를 하였는데 비가 오지 않아 다행이였어요 요즘 장마라 워낙 비가오락가락해서 불안하였는데 히루종일 좋았어요 우리가 간곳은 통영맛집추천 받은 통영불곰횟집이예요 통영불곰횟집은 마리나호텔리조트 안에 위치해 있어요 통영불곰횟집은 인테이어도 아주 세련되고 고급스러워서 들어서는 순간 마음에 들었어요 클린하이친환경 인증업소라 신뢰가 가는 음식점이예요 랍스터와 제털회를 동시에 맛볼수 있는 곳이예요 밑반찬도 아주 잘나오고 맛있었어요 통영불곰횟집에서 제철회와 매운탕을 먹었어요 제철회는 신선하고 식감도 좋고 맛도 좋아 아주 만족스러웠어요 굵기도 적당하여 아주 먹기 좋았어요 매운탕도 많이 자극적이지 않고 비리지 않아서 아주 맛있게 잘 먹었어요 ​\n",
      "https://blog.naver.com/PostView.nhn?blogId=jjiny1017&logNo=222028987110&from=search&redirect=Log&widgetTypeCall=true&topReferer=https%3A%2F%2Fsearch.naver.com%2Fsearch.naver%3Fwhere%3Dpost%26query%3D%25ED%2586%25B5%25EC%2598%2581%2520%25EB%25A7%259B%25EC%25A7%2591%2520-%25EC%259E%25A5%25EB%25A1%2580%25EC%258B%259D%25EC%259E%25A5%2520-%25EA%25B2%25BD%25EC%25A3%25BC%2520-%25EB%25B6%2580%25EC%2582%25B0%2520-%25EC%25B0%25BD%25EC%259B%2590%25EC%25B9%2598%25ED%2582%25A8%2520-%25EC%25A3%25BC%25EB%25AC%25B8%25EB%25AC%25B8%25EC%259D%2598%2520-%25EA%25B0%2595%25EC%259B%2590%25EB%258F%2584%26st%3Dsim%26sm%3Dtab_opt%26date_from%3D20200712%26date_to%3D20200712%26date_option%3D8%26srchby%3Dall%26dup_remove%3D1%26post_blogurl%3D%26post_blogurl_without%3D%26nso%3Dso%253Ar%252Ca%253Aall%252Cp%253Afrom20200712to20200712%26where%3Dpost%26start%3D81&directAccess=True\n",
      "\n",
      "https://search.naver.com/search.naver?where=post&query=%ED%86%B5%EC%98%81%20%EB%A7%9B%EC%A7%91%20-%EC%9E%A5%EB%A1%80%EC%8B%9D%EC%9E%A5%20-%EA%B2%BD%EC%A3%BC%20-%EB%B6%80%EC%82%B0%20-%EC%B0%BD%EC%9B%90%EC%B9%98%ED%82%A8%20-%EC%A3%BC%EB%AC%B8%EB%AC%B8%EC%9D%98%20-%EA%B0%95%EC%9B%90%EB%8F%84&st=sim&sm=tab_opt&date_from=20200712&date_to=20200712&date_option=8&srchby=all&dup_remove=1&post_blogurl=&post_blogurl_without=&nso=so%3Ar%2Ca%3Aall%2Cp%3Afrom20200712to20200712&where=post&start=81\n",
      "\n",
      "6\n",
      "----------------------------------------------------------------------------------------------------\n",
      "\n",
      "                            \n",
      "\n",
      "대풍관 휴무이니 운영하며 참고하세요. 일요일은 매주 식사 사라지고 마셔주기에도 맛집에서 지속되니 완벽했답니다. 통영 개운함이 개운하게 된장의 마무리로 텁텁함은 통영 맛집  맛집 대풍관 먹을 때는 굴 희열감까지 생각보단 꺼내 먹으면 되는데 발라내고 통영 쉬웠고 생긴답니다ㅋ 맛집에서 이렇게 껍질을 넓은 따로 주차장도 구비되어 있었어요. 대풍관 주문이 들어가자마자 바로 밑반찬들을 갖다 주셨어요. 구이로 먹었을 때보다 훨씬 달짝지근함이 느껴졌어요. 사람이 많아 자연스레 눈길이 가는 식당이라 발견했어요 대풍관 차 사이의 꼬돌함과 단무지와 양파를 한 접시씩 더 시켜서 메뉴가 나오기 전에 허기진 배를 채우네요. 통영 맛집\n",
      "https://blog.naver.com/PostView.nhn?blogId=amanda6lmragas&logNo=222028268308&from=search&redirect=Log&widgetTypeCall=true&topReferer=https%3A%2F%2Fsearch.naver.com%2Fsearch.naver%3Fwhere%3Dpost%26query%3D%25ED%2586%25B5%25EC%2598%2581%2520%25EB%25A7%259B%25EC%25A7%2591%2520-%25EC%259E%25A5%25EB%25A1%2580%25EC%258B%259D%25EC%259E%25A5%2520-%25EA%25B2%25BD%25EC%25A3%25BC%2520-%25EB%25B6%2580%25EC%2582%25B0%2520-%25EC%25B0%25BD%25EC%259B%2590%25EC%25B9%2598%25ED%2582%25A8%2520-%25EC%25A3%25BC%25EB%25AC%25B8%25EB%25AC%25B8%25EC%259D%2598%2520-%25EA%25B0%2595%25EC%259B%2590%25EB%258F%2584%26st%3Dsim%26sm%3Dtab_opt%26date_from%3D20200712%26date_to%3D20200712%26date_option%3D8%26srchby%3Dall%26dup_remove%3D1%26post_blogurl%3D%26post_blogurl_without%3D%26nso%3Dso%253Ar%252Ca%253Aall%252Cp%253Afrom20200712to20200712%26where%3Dpost%26start%3D81&directAccess=True\n",
      "\n",
      "https://search.naver.com/search.naver?where=post&query=%ED%86%B5%EC%98%81%20%EB%A7%9B%EC%A7%91%20-%EC%9E%A5%EB%A1%80%EC%8B%9D%EC%9E%A5%20-%EA%B2%BD%EC%A3%BC%20-%EB%B6%80%EC%82%B0%20-%EC%B0%BD%EC%9B%90%EC%B9%98%ED%82%A8%20-%EC%A3%BC%EB%AC%B8%EB%AC%B8%EC%9D%98%20-%EA%B0%95%EC%9B%90%EB%8F%84&st=sim&sm=tab_opt&date_from=20200712&date_to=20200712&date_option=8&srchby=all&dup_remove=1&post_blogurl=&post_blogurl_without=&nso=so%3Ar%2Ca%3Aall%2Cp%3Afrom20200712to20200712&where=post&start=81\n",
      "\n",
      "2\n",
      "----------------------------------------------------------------------------------------------------\n",
      "통영맛집 동피랑기와집&해물찜,파전맛집\n",
      "\n",
      "통영맛집 동피랑기와집&해물찜,파전맛집 안녕하세요  시골애 정장군 입니당~~^^  토요일은  5년전 병원에서 인연이된 부부 모임이 있었어요. 새로운 마음과 몸으로 다시 태어났던 그때.... 같은 길을 걸으며 함께 울고 함께 웃으며 함께 기도한  서로에 힘이 되어주었던 그 인연들 그분들을 만나러 통영으로 달려갔습니다. 만남의 장소는 통영 동피랑기와집  해물파전과 해물찜이 유명하다는 그집 주차를 하고  골목길을 따라 올라가면 만날수 있는 동피랑기와집 입구에 들어서니 아늑한 분위기가 좋았어요 주말이라 손님들도 많았구요. 그리고 이집 사장님 아들이 아이돌그룹 멤버라 일부러 찾아오시는 분들도 많다고 합니다. 그래서 더 유명해진 이곳 저희가 주문한 음식은 이곳 인기메뉴인 \" 문아새와 해물파전\" 양도 푸짐하고 맛도 참 좋았어요. 일단 오징어가 듬뿍 뿌려진 파전 바삭하면서 느끼하지 않고  듬뿍 들어간오징어의 고소한 맛에 젓가락이 멈추질 않았어요 ​ 그리고 문어가 통째로 올라간 비쥬얼부터 대박인 문아새 문어, 아구, 새우 좋아하는 분들이라면 꼭 추천하고 싶은 메뉴입니다. 해물도 푸짐하게 들어있고 맛 또한 일품 조금 아쉬었던건 막걸리 파전에는 막걸리한잔 해줬어야 하는데 ㅠㅠ 하지만 건강을 위해서라면. . . .  ​ 토요일 하루 정말 소중한 인연과 너무 좋은시간을 보내며 시간 가는줄 모르고 웃고 떠들다 왔네요\n",
      "https://blog.naver.com/PostView.nhn?blogId=audfkr1313&logNo=222028442630&from=search&redirect=Log&widgetTypeCall=true&topReferer=https%3A%2F%2Fsearch.naver.com%2Fsearch.naver%3Fwhere%3Dpost%26query%3D%25ED%2586%25B5%25EC%2598%2581%2520%25EB%25A7%259B%25EC%25A7%2591%2520-%25EC%259E%25A5%25EB%25A1%2580%25EC%258B%259D%25EC%259E%25A5%2520-%25EA%25B2%25BD%25EC%25A3%25BC%2520-%25EB%25B6%2580%25EC%2582%25B0%2520-%25EC%25B0%25BD%25EC%259B%2590%25EC%25B9%2598%25ED%2582%25A8%2520-%25EC%25A3%25BC%25EB%25AC%25B8%25EB%25AC%25B8%25EC%259D%2598%2520-%25EA%25B0%2595%25EC%259B%2590%25EB%258F%2584%26st%3Dsim%26sm%3Dtab_opt%26date_from%3D20200712%26date_to%3D20200712%26date_option%3D8%26srchby%3Dall%26dup_remove%3D1%26post_blogurl%3D%26post_blogurl_without%3D%26nso%3Dso%253Ar%252Ca%253Aall%252Cp%253Afrom20200712to20200712%26where%3Dpost%26start%3D81&directAccess=True\n",
      "\n",
      "https://search.naver.com/search.naver?where=post&query=%ED%86%B5%EC%98%81%20%EB%A7%9B%EC%A7%91%20-%EC%9E%A5%EB%A1%80%EC%8B%9D%EC%9E%A5%20-%EA%B2%BD%EC%A3%BC%20-%EB%B6%80%EC%82%B0%20-%EC%B0%BD%EC%9B%90%EC%B9%98%ED%82%A8%20-%EC%A3%BC%EB%AC%B8%EB%AC%B8%EC%9D%98%20-%EA%B0%95%EC%9B%90%EB%8F%84&st=sim&sm=tab_opt&date_from=20200712&date_to=20200712&date_option=8&srchby=all&dup_remove=1&post_blogurl=&post_blogurl_without=&nso=so%3Ar%2Ca%3Aall%2Cp%3Afrom20200712to20200712&where=post&start=81\n",
      "\n",
      "10\n",
      "----------------------------------------------------------------------------------------------------\n",
      "통영맛집추천 통영불곰횟집 리조트 내에 있어 깔끔하게 먹을수 있어요\n",
      "\n",
      "게시글\n",
      "https://blog.naver.com/PostView.nhn?blogId=sjskwkfgo007&logNo=222028850841&from=search&redirect=Log&widgetTypeCall=true&topReferer=https%3A%2F%2Fsearch.naver.com%2Fsearch.naver%3Fwhere%3Dpost%26query%3D%25ED%2586%25B5%25EC%2598%2581%2520%25EB%25A7%259B%25EC%25A7%2591%2520-%25EC%259E%25A5%25EB%25A1%2580%25EC%258B%259D%25EC%259E%25A5%2520-%25EA%25B2%25BD%25EC%25A3%25BC%2520-%25EB%25B6%2580%25EC%2582%25B0%2520-%25EC%25B0%25BD%25EC%259B%2590%25EC%25B9%2598%25ED%2582%25A8%2520-%25EC%25A3%25BC%25EB%25AC%25B8%25EB%25AC%25B8%25EC%259D%2598%2520-%25EA%25B0%2595%25EC%259B%2590%25EB%258F%2584%26st%3Dsim%26sm%3Dtab_opt%26date_from%3D20200712%26date_to%3D20200712%26date_option%3D8%26srchby%3Dall%26dup_remove%3D1%26post_blogurl%3D%26post_blogurl_without%3D%26nso%3Dso%253Ar%252Ca%253Aall%252Cp%253Afrom20200712to20200712%26where%3Dpost%26start%3D81&directAccess=True\n",
      "\n",
      "https://search.naver.com/search.naver?where=post&query=%ED%86%B5%EC%98%81%20%EB%A7%9B%EC%A7%91%20-%EC%9E%A5%EB%A1%80%EC%8B%9D%EC%9E%A5%20-%EA%B2%BD%EC%A3%BC%20-%EB%B6%80%EC%82%B0%20-%EC%B0%BD%EC%9B%90%EC%B9%98%ED%82%A8%20-%EC%A3%BC%EB%AC%B8%EB%AC%B8%EC%9D%98%20-%EA%B0%95%EC%9B%90%EB%8F%84&st=sim&sm=tab_opt&date_from=20200712&date_to=20200712&date_option=8&srchby=all&dup_remove=1&post_blogurl=&post_blogurl_without=&nso=so%3Ar%2Ca%3Aall%2Cp%3Afrom20200712to20200712&where=post&start=81\n",
      "\n",
      "8\n",
      "----------------------------------------------------------------------------------------------------\n",
      "통영맛집_ 풍성함에 눈이 번쩍, 맛에 놀라는 통영나폴리해물탕\n",
      "\n",
      "통영맛집_ 풍성함에 눈이 번쩍, 맛에 놀라는 통영나폴리해물탕 ^ 게시글\n",
      "https://blog.naver.com/PostView.nhn?blogId=cksook76&logNo=222028989939&from=search&redirect=Log&widgetTypeCall=true&topReferer=https%3A%2F%2Fsearch.naver.com%2Fsearch.naver%3Fwhere%3Dpost%26query%3D%25ED%2586%25B5%25EC%2598%2581%2520%25EB%25A7%259B%25EC%25A7%2591%2520-%25EC%259E%25A5%25EB%25A1%2580%25EC%258B%259D%25EC%259E%25A5%2520-%25EA%25B2%25BD%25EC%25A3%25BC%2520-%25EB%25B6%2580%25EC%2582%25B0%2520-%25EC%25B0%25BD%25EC%259B%2590%25EC%25B9%2598%25ED%2582%25A8%2520-%25EC%25A3%25BC%25EB%25AC%25B8%25EB%25AC%25B8%25EC%259D%2598%2520-%25EA%25B0%2595%25EC%259B%2590%25EB%258F%2584%26st%3Dsim%26sm%3Dtab_opt%26date_from%3D20200712%26date_to%3D20200712%26date_option%3D8%26srchby%3Dall%26dup_remove%3D1%26post_blogurl%3D%26post_blogurl_without%3D%26nso%3Dso%253Ar%252Ca%253Aall%252Cp%253Afrom20200712to20200712%26where%3Dpost%26start%3D81&directAccess=True\n",
      "\n",
      "https://search.naver.com/search.naver?where=post&query=%ED%86%B5%EC%98%81%20%EB%A7%9B%EC%A7%91%20-%EC%9E%A5%EB%A1%80%EC%8B%9D%EC%9E%A5%20-%EA%B2%BD%EC%A3%BC%20-%EB%B6%80%EC%82%B0%20-%EC%B0%BD%EC%9B%90%EC%B9%98%ED%82%A8%20-%EC%A3%BC%EB%AC%B8%EB%AC%B8%EC%9D%98%20-%EA%B0%95%EC%9B%90%EB%8F%84&st=sim&sm=tab_opt&date_from=20200712&date_to=20200712&date_option=8&srchby=all&dup_remove=1&post_blogurl=&post_blogurl_without=&nso=so%3Ar%2Ca%3Aall%2Cp%3Afrom20200712to20200712&where=post&start=81\n",
      "\n",
      "9\n",
      "----------------------------------------------------------------------------------------------------\n",
      "\n",
      "                            \n",
      "\n",
      "통영에 자부심이 많은 음식점인 듯, 통영을 빛낸 예술가들 현수막이 걸려있다. 고소하고 감칠맛까지 나면서 밥 한 공기는 순식간에 비벼 먹었네요 덜어내고 뽀얀 국물이 보였어요~ 나오자마자 신랑이 쓱싹쓱싹! 바로 한입 먹었는데 세상에!!!!!!!!!!!!!! 오마이갓! 정말 정말 맛있는 성게비빔밥이었다. 한쪽에는 주방이 보이고 통영을 빛낸 예술가들이 걸려있다.\n",
      "https://blog.naver.com/PostView.nhn?blogId=i28w7_utvah5_a9a01&logNo=222028236830&from=search&redirect=Log&widgetTypeCall=true&topReferer=https%3A%2F%2Fsearch.naver.com%2Fsearch.naver%3Fwhere%3Dpost%26query%3D%25ED%2586%25B5%25EC%2598%2581%2520%25EB%25A7%259B%25EC%25A7%2591%2520-%25EC%259E%25A5%25EB%25A1%2580%25EC%258B%259D%25EC%259E%25A5%2520-%25EA%25B2%25BD%25EC%25A3%25BC%2520-%25EB%25B6%2580%25EC%2582%25B0%2520-%25EC%25B0%25BD%25EC%259B%2590%25EC%25B9%2598%25ED%2582%25A8%2520-%25EC%25A3%25BC%25EB%25AC%25B8%25EB%25AC%25B8%25EC%259D%2598%2520-%25EA%25B0%2595%25EC%259B%2590%25EB%258F%2584%26st%3Dsim%26sm%3Dtab_opt%26date_from%3D20200712%26date_to%3D20200712%26date_option%3D8%26srchby%3Dall%26dup_remove%3D1%26post_blogurl%3D%26post_blogurl_without%3D%26nso%3Dso%253Ar%252Ca%253Aall%252Cp%253Afrom20200712to20200712%26where%3Dpost%26start%3D81&directAccess=True\n",
      "\n",
      "https://search.naver.com/search.naver?where=post&query=%ED%86%B5%EC%98%81%20%EB%A7%9B%EC%A7%91%20-%EC%9E%A5%EB%A1%80%EC%8B%9D%EC%9E%A5%20-%EA%B2%BD%EC%A3%BC%20-%EB%B6%80%EC%82%B0%20-%EC%B0%BD%EC%9B%90%EC%B9%98%ED%82%A8%20-%EC%A3%BC%EB%AC%B8%EB%AC%B8%EC%9D%98%20-%EA%B0%95%EC%9B%90%EB%8F%84&st=sim&sm=tab_opt&date_from=20200712&date_to=20200712&date_option=8&srchby=all&dup_remove=1&post_blogurl=&post_blogurl_without=&nso=so%3Ar%2Ca%3Aall%2Cp%3Afrom20200712to20200712&where=post&start=81\n",
      "\n",
      "5\n",
      "----------------------------------------------------------------------------------------------------\n",
      "\n",
      "                            \n",
      "\n",
      "여러분 정말 오랜만이에요! 제가 어제 저녁에 통영으로 여행을 왔어여! 그리고 저녁을 먹으러 리조트 1층에 있는 바비큐 식당을 갔는데요 그 순간 얼음이 됐다는...  바로 앞에서 목살 삼겹살 닭꼬치 소시지 새우 오징어 접복 이 저를 기다리고 있었어요! 캬... 직접 안 먹어보면 알 수 없는 맛... 저는 목살 삽겹살 닭꼬치 소시지가 제일 맛있었어요! 부드러운 삼겹살과 목살 달콤한 닭꼬치 짭잘한 소시지!!!! 그래도 배가 안 차서 물냉면 된장찌개 공기밥도 추가로 시켜서 먹었어요!!! 완전 인생맛집♡ 그리고 좀 아쉬워서 달콤한 핫초코도 한잔... 여러분 이 식당 진심 완전 진짜 엄첨 맛있었어요♡ 그렇게 통영여행의 하루가 끝났습니다! 2차는 저녁먹고 올릴게요~ 그럼 안녕!\n",
      "https://blog.naver.com/PostView.nhn?blogId=yunjinlove08&logNo=222028784671&from=search&redirect=Log&widgetTypeCall=true&topReferer=https%3A%2F%2Fsearch.naver.com%2Fsearch.naver%3Fwhere%3Dpost%26query%3D%25ED%2586%25B5%25EC%2598%2581%2520%25EB%25A7%259B%25EC%25A7%2591%2520-%25EC%259E%25A5%25EB%25A1%2580%25EC%258B%259D%25EC%259E%25A5%2520-%25EA%25B2%25BD%25EC%25A3%25BC%2520-%25EB%25B6%2580%25EC%2582%25B0%2520-%25EC%25B0%25BD%25EC%259B%2590%25EC%25B9%2598%25ED%2582%25A8%2520-%25EC%25A3%25BC%25EB%25AC%25B8%25EB%25AC%25B8%25EC%259D%2598%2520-%25EA%25B0%2595%25EC%259B%2590%25EB%258F%2584%26st%3Dsim%26sm%3Dtab_opt%26date_from%3D20200712%26date_to%3D20200712%26date_option%3D8%26srchby%3Dall%26dup_remove%3D1%26post_blogurl%3D%26post_blogurl_without%3D%26nso%3Dso%253Ar%252Ca%253Aall%252Cp%253Afrom20200712to20200712%26where%3Dpost%26start%3D41&directAccess=True\n",
      "\n",
      "https://search.naver.com/search.naver?where=post&query=%ED%86%B5%EC%98%81%20%EB%A7%9B%EC%A7%91%20-%EC%9E%A5%EB%A1%80%EC%8B%9D%EC%9E%A5%20-%EA%B2%BD%EC%A3%BC%20-%EB%B6%80%EC%82%B0%20-%EC%B0%BD%EC%9B%90%EC%B9%98%ED%82%A8%20-%EC%A3%BC%EB%AC%B8%EB%AC%B8%EC%9D%98%20-%EA%B0%95%EC%9B%90%EB%8F%84&st=sim&sm=tab_opt&date_from=20200712&date_to=20200712&date_option=8&srchby=all&dup_remove=1&post_blogurl=&post_blogurl_without=&nso=so%3Ar%2Ca%3Aall%2Cp%3Afrom20200712to20200712&where=post&start=41\n",
      "\n",
      "1\n",
      "----------------------------------------------------------------------------------------------------\n",
      "\n",
      "                            \n",
      "\n",
      "그 외에도 다른 프로그램에도 출연하셨네요! 통영맛집 바로 이곳이   통영식도락 백반집, 집 반찬처럼 맛있다! 통영식도락 통영식도락 이순신 공원은 통영맛집 장 보고 나서 배가 좀 고프길래 1층에 있는 분식집에서 떡볶이 먹음ㅋㅋ 통영맛집 지금까지의 모든 고민 옆에서 제가 도와드리겠습니다.\n",
      "https://blog.naver.com/PostView.nhn?blogId=ellisen_marlingas&logNo=222028226030&from=search&redirect=Log&widgetTypeCall=true&topReferer=https%3A%2F%2Fsearch.naver.com%2Fsearch.naver%3Fwhere%3Dpost%26query%3D%25ED%2586%25B5%25EC%2598%2581%2520%25EB%25A7%259B%25EC%25A7%2591%2520-%25EC%259E%25A5%25EB%25A1%2580%25EC%258B%259D%25EC%259E%25A5%2520-%25EA%25B2%25BD%25EC%25A3%25BC%2520-%25EB%25B6%2580%25EC%2582%25B0%2520-%25EC%25B0%25BD%25EC%259B%2590%25EC%25B9%2598%25ED%2582%25A8%2520-%25EC%25A3%25BC%25EB%25AC%25B8%25EB%25AC%25B8%25EC%259D%2598%2520-%25EA%25B0%2595%25EC%259B%2590%25EB%258F%2584%26st%3Dsim%26sm%3Dtab_opt%26date_from%3D20200712%26date_to%3D20200712%26date_option%3D8%26srchby%3Dall%26dup_remove%3D1%26post_blogurl%3D%26post_blogurl_without%3D%26nso%3Dso%253Ar%252Ca%253Aall%252Cp%253Afrom20200712to20200712%26where%3Dpost%26start%3D81&directAccess=True\n",
      "\n",
      "https://search.naver.com/search.naver?where=post&query=%ED%86%B5%EC%98%81%20%EB%A7%9B%EC%A7%91%20-%EC%9E%A5%EB%A1%80%EC%8B%9D%EC%9E%A5%20-%EA%B2%BD%EC%A3%BC%20-%EB%B6%80%EC%82%B0%20-%EC%B0%BD%EC%9B%90%EC%B9%98%ED%82%A8%20-%EC%A3%BC%EB%AC%B8%EB%AC%B8%EC%9D%98%20-%EA%B0%95%EC%9B%90%EB%8F%84&st=sim&sm=tab_opt&date_from=20200712&date_to=20200712&date_option=8&srchby=all&dup_remove=1&post_blogurl=&post_blogurl_without=&nso=so%3Ar%2Ca%3Aall%2Cp%3Afrom20200712to20200712&where=post&start=81\n",
      "\n",
      "3\n",
      "----------------------------------------------------------------------------------------------------\n"
     ]
    }
   ],
   "source": [
    "d =0\n",
    "for i in df['context'][:10]:\n",
    "    print(df.loc[d,'title'])\n",
    "    print()\n",
    "    print(i)\n",
    "    print(df.loc[d,'link'])\n",
    "    print()\n",
    "    print(df.loc[d,'pageurl'])\n",
    "    print()\n",
    "    print(df.loc[d,'index'])\n",
    "    print('-'*100)\n",
    "    d+=1"
   ]
  },
  {
   "cell_type": "code",
   "execution_count": null,
   "metadata": {},
   "outputs": [],
   "source": []
  }
 ],
 "metadata": {
  "kernelspec": {
   "display_name": "Python 3",
   "language": "python",
   "name": "python3"
  },
  "language_info": {
   "codemirror_mode": {
    "name": "ipython",
    "version": 3
   },
   "file_extension": ".py",
   "mimetype": "text/x-python",
   "name": "python",
   "nbconvert_exporter": "python",
   "pygments_lexer": "ipython3",
   "version": "3.7.6"
  }
 },
 "nbformat": 4,
 "nbformat_minor": 4
}
