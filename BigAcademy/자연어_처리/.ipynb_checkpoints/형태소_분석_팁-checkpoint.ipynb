{
 "cells": [
  {
   "cell_type": "markdown",
   "metadata": {},
   "source": [
    "#### arguement\n",
    "- combineN : 결합명사(전문용어)의 정보량을 보존\n",
    "        o NNG, NNP를 분리시키지 않는다.\n",
    "- xtVvv : 어근을 일반동사로 만들겠다. \n",
    "\n",
    "#### 형태소 분석의 목적 \n",
    "- 문장을 ***의미 있는 단위***로 분리하는 목적 , 반드시 ***최소 의미 단위***로의 분리가 아님\n",
    "- 영어의 Part of Speech(POS) tagger 는 단어 -> 어절 단위\n",
    "    우리가 한국어인데 영어와 비교되는 이유 : 데이터 분석 기술이 영어 기반으로 만들어지기 때문임 \n",
    "- 한국어는 단어 단위는 기대하는 단위 이상일 때가 많으므로 단어 이하의 단위로 분리해야 하며, 이것이 곧 형태소 단위가 된다.  \n",
    "        여기서 단어는 자립할 수 있는 것을 말한다.  \n",
    "        문제인 놈 - 조사 \n",
    "            조사는 단어에 속한다. 단, 조사는 예외로 띄어쓰지 않는다.\n",
    "        그러나, 복합명사에는 ***형태소 단위***가 아닌, 의미있는 단위가 중요하므로 반드시 형태소 분리가 되게 할 것이 아니라, 목적에 적합한 단위로 나오면 된다.\n",
    "        ex) 장거리탄도미사일 X, 중거리탄도미사일 O, 단거리탄도미사일 X -> 중거리탄도미사일을 자주 사용하여 사전에 등재됨\n",
    "        "
   ]
  },
  {
   "cell_type": "markdown",
   "metadata": {},
   "source": [
    "#### 불용어 목록\n",
    "- 빈도가 높아야하고, 그것을 사용할 때 분류상의 이득이 없을 때\n",
    "- 기호류 \n",
    "- 실질형태소 중 불용어 \n",
    "        수사, 숫자, 명사추정범주(NF), 기타기호, 용언추정법주(NV) ex) 하, 있, 되, 않, 없\n",
    "        영어 - 구글이 제시(검색해보자)\n"
   ]
  },
  {
   "cell_type": "markdown",
   "metadata": {},
   "source": [
    "\n",
    "\n",
    "#### pos\n",
    "<img src= './img/형태소.png'>"
   ]
  }
 ],
 "metadata": {
  "kernelspec": {
   "display_name": "Python 3",
   "language": "python",
   "name": "python3"
  },
  "language_info": {
   "codemirror_mode": {
    "name": "ipython",
    "version": 3
   },
   "file_extension": ".py",
   "mimetype": "text/x-python",
   "name": "python",
   "nbconvert_exporter": "python",
   "pygments_lexer": "ipython3",
   "version": "3.7.6"
  }
 },
 "nbformat": 4,
 "nbformat_minor": 4
}
