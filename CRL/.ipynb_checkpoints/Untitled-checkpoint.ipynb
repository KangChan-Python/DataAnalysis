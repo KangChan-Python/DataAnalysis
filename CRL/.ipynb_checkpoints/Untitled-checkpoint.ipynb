{
 "cells": [
  {
   "cell_type": "markdown",
   "metadata": {},
   "source": [
    "# 네이버 블로그 크롤링 \n",
    "\n",
    "    o 네이버 블로그는 한번에 1000건이 제한됨\n",
    "    o 기간 설정을 한 후 512건 검색 후에도 451건 후부터 반복 시작\n",
    "    o 기간을 하루만 설정해보자\n",
    "        마지막 페이지는 볼수 없음\n",
    "        대략 한자리수의 데이터 로스 -> 최선이라고 판단\n",
    "    https://search.naver.com/search.naver?date_from={시작 날짜}&date_option=8&date_to={마지막 날짜 }&post_blogurl=&post_blogurl_without=&query={검색어}&sm=tab_pge&srchby=all&st=date&where=post&start=1\n",
    "    \n",
    "    "
   ]
  },
  {
   "cell_type": "code",
   "execution_count": null,
   "metadata": {},
   "outputs": [],
   "source": []
  }
 ],
 "metadata": {
  "kernelspec": {
   "display_name": "Python 3",
   "language": "python",
   "name": "python3"
  },
  "language_info": {
   "codemirror_mode": {
    "name": "ipython",
    "version": 3
   },
   "file_extension": ".py",
   "mimetype": "text/x-python",
   "name": "python",
   "nbconvert_exporter": "python",
   "pygments_lexer": "ipython3",
   "version": "3.7.6"
  }
 },
 "nbformat": 4,
 "nbformat_minor": 4
}
