{
 "cells": [
  {
   "cell_type": "code",
   "execution_count": 2,
   "metadata": {},
   "outputs": [
    {
     "name": "stdout",
     "output_type": "stream",
     "text": [
      "Created spider 'Blog' using template 'basic' in module:\n",
      "  naverBlog.spiders.Blog\n"
     ]
    }
   ],
   "source": [
    "!scrapy genspider Blog \"www.search.naver.com/search.naver?date_from={시작 날짜}&date_option=8&date_to={마지막 날짜 }&post_blogurl=&post_blogurl_without=&query={검색어}&sm=tab_pge&srchby=all&st=date&where=post&start=1\""
   ]
  },
  {
   "cell_type": "code",
   "execution_count": null,
   "metadata": {},
   "outputs": [],
   "source": []
  }
 ],
 "metadata": {
  "kernelspec": {
   "display_name": "Python 3",
   "language": "python",
   "name": "python3"
  },
  "language_info": {
   "codemirror_mode": {
    "name": "ipython",
    "version": 3
   },
   "file_extension": ".py",
   "mimetype": "text/x-python",
   "name": "python",
   "nbconvert_exporter": "python",
   "pygments_lexer": "ipython3",
   "version": "3.7.6"
  }
 },
 "nbformat": 4,
 "nbformat_minor": 4
}
